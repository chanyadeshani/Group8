{
 "cells": [
  {
   "cell_type": "code",
   "execution_count": 311,
   "metadata": {},
   "outputs": [],
   "source": [
    "# Importing the important libraries needed for Data Manipulation, classification and Analysis\n",
    "\n",
    "import pandas as pd\n",
    "import numpy as np\n",
    "import re\n",
    "from math import isnan\n",
    "import matplotlib.pyplot as plt\n",
    "%matplotlib inline \n",
    "import seaborn as sns \n",
    "from sklearn.datasets import load_digits \n",
    "digits = load_digits() \n",
    "from sklearn.model_selection import train_test_split \n",
    "from sklearn.linear_model import LogisticRegression \n",
    "from sklearn import metrics\n",
    "\n",
    "from sklearn.impute import SimpleImputer\n",
    "from sklearn.ensemble import RandomForestClassifier\n",
    "from sklearn.preprocessing import StandardScaler, MinMaxScaler\n",
    "from sklearn.metrics import accuracy_score"
   ]
  },
  {
   "cell_type": "markdown",
   "metadata": {},
   "source": [
    "# Importing and merging data"
   ]
  },
  {
   "cell_type": "code",
   "execution_count": 312,
   "metadata": {},
   "outputs": [],
   "source": [
    "# Import data using predefined file path\n",
    "data_file1 = 'train.csv' \n",
    "df_train= pd.read_csv(data_file1)\n",
    "# Importing data using user defined file path\n",
    "df_test = pd.read_csv('test.csv')\n",
    "df_gender_submission = pd.read_csv('gender_submission.csv')\n",
    "\n",
    "# Merge the dataset using PassengerId as a key and using right join \n",
    "# (all the rows from df_gender_submission and only matching rows from df_test)\n",
    "result = pd.merge(df_gender_submission, df_test, how = 'right', on = ['PassengerId'])\n",
    "# Concatenating df_train and result dataframe\n",
    "train_df = pd.concat([df_train, result], ignore_index=True)"
   ]
  },
  {
   "cell_type": "markdown",
   "metadata": {},
   "source": [
    "# Initial exploration"
   ]
  },
  {
   "cell_type": "code",
   "execution_count": 313,
   "metadata": {},
   "outputs": [
    {
     "data": {
      "text/html": [
       "<div>\n",
       "<style scoped>\n",
       "    .dataframe tbody tr th:only-of-type {\n",
       "        vertical-align: middle;\n",
       "    }\n",
       "\n",
       "    .dataframe tbody tr th {\n",
       "        vertical-align: top;\n",
       "    }\n",
       "\n",
       "    .dataframe thead th {\n",
       "        text-align: right;\n",
       "    }\n",
       "</style>\n",
       "<table border=\"1\" class=\"dataframe\">\n",
       "  <thead>\n",
       "    <tr style=\"text-align: right;\">\n",
       "      <th></th>\n",
       "      <th>PassengerId</th>\n",
       "      <th>Survived</th>\n",
       "      <th>Pclass</th>\n",
       "      <th>Name</th>\n",
       "      <th>Sex</th>\n",
       "      <th>Age</th>\n",
       "      <th>SibSp</th>\n",
       "      <th>Parch</th>\n",
       "      <th>Ticket</th>\n",
       "      <th>Fare</th>\n",
       "      <th>Cabin</th>\n",
       "      <th>Embarked</th>\n",
       "    </tr>\n",
       "  </thead>\n",
       "  <tbody>\n",
       "    <tr>\n",
       "      <th>0</th>\n",
       "      <td>1</td>\n",
       "      <td>0</td>\n",
       "      <td>3</td>\n",
       "      <td>Braund, Mr. Owen Harris</td>\n",
       "      <td>male</td>\n",
       "      <td>22.0</td>\n",
       "      <td>1</td>\n",
       "      <td>0</td>\n",
       "      <td>A/5 21171</td>\n",
       "      <td>7.2500</td>\n",
       "      <td>NaN</td>\n",
       "      <td>S</td>\n",
       "    </tr>\n",
       "    <tr>\n",
       "      <th>1</th>\n",
       "      <td>2</td>\n",
       "      <td>1</td>\n",
       "      <td>1</td>\n",
       "      <td>Cumings, Mrs. John Bradley (Florence Briggs Th...</td>\n",
       "      <td>female</td>\n",
       "      <td>38.0</td>\n",
       "      <td>1</td>\n",
       "      <td>0</td>\n",
       "      <td>PC 17599</td>\n",
       "      <td>71.2833</td>\n",
       "      <td>C85</td>\n",
       "      <td>C</td>\n",
       "    </tr>\n",
       "    <tr>\n",
       "      <th>2</th>\n",
       "      <td>3</td>\n",
       "      <td>1</td>\n",
       "      <td>3</td>\n",
       "      <td>Heikkinen, Miss. Laina</td>\n",
       "      <td>female</td>\n",
       "      <td>26.0</td>\n",
       "      <td>0</td>\n",
       "      <td>0</td>\n",
       "      <td>STON/O2. 3101282</td>\n",
       "      <td>7.9250</td>\n",
       "      <td>NaN</td>\n",
       "      <td>S</td>\n",
       "    </tr>\n",
       "  </tbody>\n",
       "</table>\n",
       "</div>"
      ],
      "text/plain": [
       "   PassengerId  Survived  Pclass  \\\n",
       "0            1         0       3   \n",
       "1            2         1       1   \n",
       "2            3         1       3   \n",
       "\n",
       "                                                Name     Sex   Age  SibSp  \\\n",
       "0                            Braund, Mr. Owen Harris    male  22.0      1   \n",
       "1  Cumings, Mrs. John Bradley (Florence Briggs Th...  female  38.0      1   \n",
       "2                             Heikkinen, Miss. Laina  female  26.0      0   \n",
       "\n",
       "   Parch            Ticket     Fare Cabin Embarked  \n",
       "0      0         A/5 21171   7.2500   NaN        S  \n",
       "1      0          PC 17599  71.2833   C85        C  \n",
       "2      0  STON/O2. 3101282   7.9250   NaN        S  "
      ]
     },
     "execution_count": 313,
     "metadata": {},
     "output_type": "execute_result"
    }
   ],
   "source": [
    "# Check first 3 rows of the data\n",
    "train_df.head(3) "
   ]
  },
  {
   "cell_type": "code",
   "execution_count": 314,
   "metadata": {},
   "outputs": [
    {
     "data": {
      "text/html": [
       "<div>\n",
       "<style scoped>\n",
       "    .dataframe tbody tr th:only-of-type {\n",
       "        vertical-align: middle;\n",
       "    }\n",
       "\n",
       "    .dataframe tbody tr th {\n",
       "        vertical-align: top;\n",
       "    }\n",
       "\n",
       "    .dataframe thead th {\n",
       "        text-align: right;\n",
       "    }\n",
       "</style>\n",
       "<table border=\"1\" class=\"dataframe\">\n",
       "  <thead>\n",
       "    <tr style=\"text-align: right;\">\n",
       "      <th></th>\n",
       "      <th>PassengerId</th>\n",
       "      <th>Survived</th>\n",
       "      <th>Pclass</th>\n",
       "      <th>Name</th>\n",
       "      <th>Sex</th>\n",
       "      <th>Age</th>\n",
       "      <th>SibSp</th>\n",
       "      <th>Parch</th>\n",
       "      <th>Ticket</th>\n",
       "      <th>Fare</th>\n",
       "      <th>Cabin</th>\n",
       "      <th>Embarked</th>\n",
       "    </tr>\n",
       "  </thead>\n",
       "  <tbody>\n",
       "    <tr>\n",
       "      <th>0</th>\n",
       "      <td>1</td>\n",
       "      <td>0</td>\n",
       "      <td>3</td>\n",
       "      <td>Braund, Mr. Owen Harris</td>\n",
       "      <td>male</td>\n",
       "      <td>22.0</td>\n",
       "      <td>1</td>\n",
       "      <td>0</td>\n",
       "      <td>A/5 21171</td>\n",
       "      <td>7.2500</td>\n",
       "      <td>NaN</td>\n",
       "      <td>S</td>\n",
       "    </tr>\n",
       "    <tr>\n",
       "      <th>1</th>\n",
       "      <td>2</td>\n",
       "      <td>1</td>\n",
       "      <td>1</td>\n",
       "      <td>Cumings, Mrs. John Bradley (Florence Briggs Th...</td>\n",
       "      <td>female</td>\n",
       "      <td>38.0</td>\n",
       "      <td>1</td>\n",
       "      <td>0</td>\n",
       "      <td>PC 17599</td>\n",
       "      <td>71.2833</td>\n",
       "      <td>C85</td>\n",
       "      <td>C</td>\n",
       "    </tr>\n",
       "    <tr>\n",
       "      <th>2</th>\n",
       "      <td>3</td>\n",
       "      <td>1</td>\n",
       "      <td>3</td>\n",
       "      <td>Heikkinen, Miss. Laina</td>\n",
       "      <td>female</td>\n",
       "      <td>26.0</td>\n",
       "      <td>0</td>\n",
       "      <td>0</td>\n",
       "      <td>STON/O2. 3101282</td>\n",
       "      <td>7.9250</td>\n",
       "      <td>NaN</td>\n",
       "      <td>S</td>\n",
       "    </tr>\n",
       "    <tr>\n",
       "      <th>3</th>\n",
       "      <td>4</td>\n",
       "      <td>1</td>\n",
       "      <td>1</td>\n",
       "      <td>Futrelle, Mrs. Jacques Heath (Lily May Peel)</td>\n",
       "      <td>female</td>\n",
       "      <td>35.0</td>\n",
       "      <td>1</td>\n",
       "      <td>0</td>\n",
       "      <td>113803</td>\n",
       "      <td>53.1000</td>\n",
       "      <td>C123</td>\n",
       "      <td>S</td>\n",
       "    </tr>\n",
       "    <tr>\n",
       "      <th>4</th>\n",
       "      <td>5</td>\n",
       "      <td>0</td>\n",
       "      <td>3</td>\n",
       "      <td>Allen, Mr. William Henry</td>\n",
       "      <td>male</td>\n",
       "      <td>35.0</td>\n",
       "      <td>0</td>\n",
       "      <td>0</td>\n",
       "      <td>373450</td>\n",
       "      <td>8.0500</td>\n",
       "      <td>NaN</td>\n",
       "      <td>S</td>\n",
       "    </tr>\n",
       "    <tr>\n",
       "      <th>...</th>\n",
       "      <td>...</td>\n",
       "      <td>...</td>\n",
       "      <td>...</td>\n",
       "      <td>...</td>\n",
       "      <td>...</td>\n",
       "      <td>...</td>\n",
       "      <td>...</td>\n",
       "      <td>...</td>\n",
       "      <td>...</td>\n",
       "      <td>...</td>\n",
       "      <td>...</td>\n",
       "      <td>...</td>\n",
       "    </tr>\n",
       "    <tr>\n",
       "      <th>1304</th>\n",
       "      <td>1305</td>\n",
       "      <td>0</td>\n",
       "      <td>3</td>\n",
       "      <td>Spector, Mr. Woolf</td>\n",
       "      <td>male</td>\n",
       "      <td>NaN</td>\n",
       "      <td>0</td>\n",
       "      <td>0</td>\n",
       "      <td>A.5. 3236</td>\n",
       "      <td>8.0500</td>\n",
       "      <td>NaN</td>\n",
       "      <td>S</td>\n",
       "    </tr>\n",
       "    <tr>\n",
       "      <th>1305</th>\n",
       "      <td>1306</td>\n",
       "      <td>1</td>\n",
       "      <td>1</td>\n",
       "      <td>Oliva y Ocana, Dona. Fermina</td>\n",
       "      <td>female</td>\n",
       "      <td>39.0</td>\n",
       "      <td>0</td>\n",
       "      <td>0</td>\n",
       "      <td>PC 17758</td>\n",
       "      <td>108.9000</td>\n",
       "      <td>C105</td>\n",
       "      <td>C</td>\n",
       "    </tr>\n",
       "    <tr>\n",
       "      <th>1306</th>\n",
       "      <td>1307</td>\n",
       "      <td>0</td>\n",
       "      <td>3</td>\n",
       "      <td>Saether, Mr. Simon Sivertsen</td>\n",
       "      <td>male</td>\n",
       "      <td>38.5</td>\n",
       "      <td>0</td>\n",
       "      <td>0</td>\n",
       "      <td>SOTON/O.Q. 3101262</td>\n",
       "      <td>7.2500</td>\n",
       "      <td>NaN</td>\n",
       "      <td>S</td>\n",
       "    </tr>\n",
       "    <tr>\n",
       "      <th>1307</th>\n",
       "      <td>1308</td>\n",
       "      <td>0</td>\n",
       "      <td>3</td>\n",
       "      <td>Ware, Mr. Frederick</td>\n",
       "      <td>male</td>\n",
       "      <td>NaN</td>\n",
       "      <td>0</td>\n",
       "      <td>0</td>\n",
       "      <td>359309</td>\n",
       "      <td>8.0500</td>\n",
       "      <td>NaN</td>\n",
       "      <td>S</td>\n",
       "    </tr>\n",
       "    <tr>\n",
       "      <th>1308</th>\n",
       "      <td>1309</td>\n",
       "      <td>0</td>\n",
       "      <td>3</td>\n",
       "      <td>Peter, Master. Michael J</td>\n",
       "      <td>male</td>\n",
       "      <td>NaN</td>\n",
       "      <td>1</td>\n",
       "      <td>1</td>\n",
       "      <td>2668</td>\n",
       "      <td>22.3583</td>\n",
       "      <td>NaN</td>\n",
       "      <td>C</td>\n",
       "    </tr>\n",
       "  </tbody>\n",
       "</table>\n",
       "<p>1309 rows × 12 columns</p>\n",
       "</div>"
      ],
      "text/plain": [
       "      PassengerId  Survived  Pclass  \\\n",
       "0               1         0       3   \n",
       "1               2         1       1   \n",
       "2               3         1       3   \n",
       "3               4         1       1   \n",
       "4               5         0       3   \n",
       "...           ...       ...     ...   \n",
       "1304         1305         0       3   \n",
       "1305         1306         1       1   \n",
       "1306         1307         0       3   \n",
       "1307         1308         0       3   \n",
       "1308         1309         0       3   \n",
       "\n",
       "                                                   Name     Sex   Age  SibSp  \\\n",
       "0                               Braund, Mr. Owen Harris    male  22.0      1   \n",
       "1     Cumings, Mrs. John Bradley (Florence Briggs Th...  female  38.0      1   \n",
       "2                                Heikkinen, Miss. Laina  female  26.0      0   \n",
       "3          Futrelle, Mrs. Jacques Heath (Lily May Peel)  female  35.0      1   \n",
       "4                              Allen, Mr. William Henry    male  35.0      0   \n",
       "...                                                 ...     ...   ...    ...   \n",
       "1304                                 Spector, Mr. Woolf    male   NaN      0   \n",
       "1305                       Oliva y Ocana, Dona. Fermina  female  39.0      0   \n",
       "1306                       Saether, Mr. Simon Sivertsen    male  38.5      0   \n",
       "1307                                Ware, Mr. Frederick    male   NaN      0   \n",
       "1308                           Peter, Master. Michael J    male   NaN      1   \n",
       "\n",
       "      Parch              Ticket      Fare Cabin Embarked  \n",
       "0         0           A/5 21171    7.2500   NaN        S  \n",
       "1         0            PC 17599   71.2833   C85        C  \n",
       "2         0    STON/O2. 3101282    7.9250   NaN        S  \n",
       "3         0              113803   53.1000  C123        S  \n",
       "4         0              373450    8.0500   NaN        S  \n",
       "...     ...                 ...       ...   ...      ...  \n",
       "1304      0           A.5. 3236    8.0500   NaN        S  \n",
       "1305      0            PC 17758  108.9000  C105        C  \n",
       "1306      0  SOTON/O.Q. 3101262    7.2500   NaN        S  \n",
       "1307      0              359309    8.0500   NaN        S  \n",
       "1308      1                2668   22.3583   NaN        C  \n",
       "\n",
       "[1309 rows x 12 columns]"
      ]
     },
     "execution_count": 314,
     "metadata": {},
     "output_type": "execute_result"
    }
   ],
   "source": [
    "# Print first few rows and last few rows\n",
    "train_df"
   ]
  },
  {
   "cell_type": "code",
   "execution_count": 315,
   "metadata": {},
   "outputs": [
    {
     "data": {
      "text/plain": [
       "PassengerId      int64\n",
       "Survived         int64\n",
       "Pclass           int64\n",
       "Name            object\n",
       "Sex             object\n",
       "Age            float64\n",
       "SibSp            int64\n",
       "Parch            int64\n",
       "Ticket          object\n",
       "Fare           float64\n",
       "Cabin           object\n",
       "Embarked        object\n",
       "dtype: object"
      ]
     },
     "execution_count": 315,
     "metadata": {},
     "output_type": "execute_result"
    }
   ],
   "source": [
    "# Check data types\n",
    "train_df.dtypes"
   ]
  },
  {
   "cell_type": "markdown",
   "metadata": {},
   "source": [
    "Combining the result from the previous step, when using *head* method of the Dataframe class,\n",
    "it is clear that all the *object* data types are *Strings*"
   ]
  },
  {
   "cell_type": "code",
   "execution_count": 316,
   "metadata": {},
   "outputs": [
    {
     "data": {
      "text/plain": [
       "(1309, 12)"
      ]
     },
     "execution_count": 316,
     "metadata": {},
     "output_type": "execute_result"
    }
   ],
   "source": [
    "# Print number of rows and columns\n",
    "train_df.shape"
   ]
  },
  {
   "cell_type": "code",
   "execution_count": 317,
   "metadata": {},
   "outputs": [
    {
     "name": "stdout",
     "output_type": "stream",
     "text": [
      "\tData description\n",
      "*****************************************\n",
      "•\tPassengerId: Id of every passenger.\n",
      "•\tSurvived: This feature have value 0 and 1. 0 for not survived and 1 for survived.\n",
      "•\tPclass: There are 3 classes: Class 1, Class 2 and Class 3.\n",
      "•\tName: Name of passenger.\n",
      "•\tSex: Gender of passenger.\n",
      "•\tAge: Age of passenger.\n",
      "•\tSibSp: Indication that passenger have siblings and spouse.\n",
      "•\tParch: Whether a passenger is alone or have family.\n",
      "•\tTicket: Ticket number of passenger.\n",
      "•\tFare: Indicating the fare.\n",
      "•\tCabin: The cabin of passenger.\n",
      "•\tEmbarked: The embarked category\n"
     ]
    }
   ],
   "source": [
    "print('\\tData description') \n",
    "print('*****************************************') \n",
    "\n",
    "''' Within the three quatition (i.e ''' '''), it is posible to display a pragraph as it is.\n",
    "Therefore new line can be enter typing a sentence in a new line or using \\n'''\n",
    "print('''•\\tPassengerId: Id of every passenger.\\n•\\tSurvived: This feature have value 0 and 1. 0 for not survived and 1 for survived.\n",
    "•\\tPclass: There are 3 classes: Class 1, Class 2 and Class 3.\\n•\\tName: Name of passenger.\\n•\\tSex: Gender of passenger.\n",
    "•\\tAge: Age of passenger.\\n•\\tSibSp: Indication that passenger have siblings and spouse.\\n•\\tParch: Whether a passenger is alone or have family.\n",
    "•\\tTicket: Ticket number of passenger.\\n•\\tFare: Indicating the fare.\\n•\\tCabin: The cabin of passenger.\\n•\\tEmbarked: The embarked category''')"
   ]
  },
  {
   "cell_type": "markdown",
   "metadata": {},
   "source": [
    "## Exploring data to identify Anomalies/ Missing Data\n"
   ]
  },
  {
   "cell_type": "code",
   "execution_count": 318,
   "metadata": {},
   "outputs": [
    {
     "name": "stdout",
     "output_type": "stream",
     "text": [
      "Number of unique values in each columns\n",
      "PassengerId   1309\n",
      "Survived   2\n",
      "Pclass   3\n",
      "Name   1307\n",
      "Sex   2\n",
      "Age   98\n",
      "SibSp   7\n",
      "Parch   8\n",
      "Ticket   929\n",
      "Fare   281\n",
      "Cabin   186\n",
      "Embarked   3\n",
      "It is clear when look at the number of unique values, that there are 1309 unique values in the PassengerId column. However, only 1309 unique values in the Name column. This raise the suspision that there may be duplicate entry in the data set\n"
     ]
    }
   ],
   "source": [
    "# check the unique values count\n",
    "print('Number of unique values in each columns')\n",
    "for col in train_df.columns:\n",
    "    print(str(col)+ '   ' + str(train_df[col].nunique()))\n",
    "print(f'It is clear when look at the number of unique values, that there are {train_df.PassengerId.nunique()} unique values in the PassengerId column. However, only {train_df.PassengerId.nunique()} unique values in the Name column. This raise the suspision that there may be duplicate entry in the data set')"
   ]
  },
  {
   "cell_type": "code",
   "execution_count": 319,
   "metadata": {},
   "outputs": [],
   "source": [
    "#TODO %%%%%%%%%%%%%% Need to write code to check and remove duplicate values"
   ]
  },
  {
   "cell_type": "code",
   "execution_count": 320,
   "metadata": {},
   "outputs": [
    {
     "data": {
      "image/png": "[encoded data removed]",
      "text/plain": [
       "<Figure size 720x432 with 1 Axes>"
      ]
     },
     "metadata": {
      "needs_background": "light"
     },
     "output_type": "display_data"
    }
   ],
   "source": [
    "###insert this plot at the begining of the data when we still had missing values, this is a graphical presentation of the variable where there is missing data in the data set\n",
    "\n",
    "plt.subplots(figsize=(10,6)) #the figsize help zoom our plot to give a better visible view\n",
    "sns.heatmap(train_df.isnull(), cbar=False, cmap=\"YlGnBu_r\")\n",
    "\n",
    "categorical_variable = ['Survived', 'Sex', 'Pclass', 'SibSp', 'Parch', 'Embarked']\n"
   ]
  },
  {
   "cell_type": "code",
   "execution_count": 321,
   "metadata": {},
   "outputs": [
    {
     "name": "stdout",
     "output_type": "stream",
     "text": [
      "PassengerId: 0.0%\n",
      "Survived: 0.0%\n",
      "Pclass: 0.0%\n",
      "Name: 0.0%\n",
      "Sex: 0.0%\n",
      "Age: 20.0917%\n",
      "SibSp: 0.0%\n",
      "Parch: 0.0%\n",
      "Ticket: 0.0%\n",
      "Fare: 0.0764%\n",
      "Cabin: 77.4637%\n",
      "Embarked: 0.1528%\n"
     ]
    }
   ],
   "source": [
    "# Percentage of rows missing in each column\n",
    "for column in train_df.columns:\n",
    "    percentage = train_df[column].isnull().mean()\n",
    "    print(f'{column}: {round(percentage*100,4)}%')"
   ]
  },
  {
   "cell_type": "code",
   "execution_count": 322,
   "metadata": {},
   "outputs": [
    {
     "name": "stderr",
     "output_type": "stream",
     "text": [
      "/Users/prasad/opt/anaconda3/envs/HelloWorld/lib/python3.9/site-packages/seaborn/_decorators.py:36: FutureWarning: Pass the following variable as a keyword arg: x. From version 0.12, the only valid positional argument will be `data`, and passing other arguments without an explicit keyword will result in an error or misinterpretation.\n",
      "  warnings.warn(\n",
      "/Users/prasad/opt/anaconda3/envs/HelloWorld/lib/python3.9/site-packages/seaborn/_decorators.py:36: FutureWarning: Pass the following variable as a keyword arg: x. From version 0.12, the only valid positional argument will be `data`, and passing other arguments without an explicit keyword will result in an error or misinterpretation.\n",
      "  warnings.warn(\n",
      "/Users/prasad/opt/anaconda3/envs/HelloWorld/lib/python3.9/site-packages/seaborn/_decorators.py:36: FutureWarning: Pass the following variable as a keyword arg: x. From version 0.12, the only valid positional argument will be `data`, and passing other arguments without an explicit keyword will result in an error or misinterpretation.\n",
      "  warnings.warn(\n",
      "/Users/prasad/opt/anaconda3/envs/HelloWorld/lib/python3.9/site-packages/seaborn/_decorators.py:36: FutureWarning: Pass the following variable as a keyword arg: x. From version 0.12, the only valid positional argument will be `data`, and passing other arguments without an explicit keyword will result in an error or misinterpretation.\n",
      "  warnings.warn(\n",
      "/Users/prasad/opt/anaconda3/envs/HelloWorld/lib/python3.9/site-packages/seaborn/_decorators.py:36: FutureWarning: Pass the following variable as a keyword arg: x. From version 0.12, the only valid positional argument will be `data`, and passing other arguments without an explicit keyword will result in an error or misinterpretation.\n",
      "  warnings.warn(\n",
      "/Users/prasad/opt/anaconda3/envs/HelloWorld/lib/python3.9/site-packages/seaborn/_decorators.py:36: FutureWarning: Pass the following variable as a keyword arg: x. From version 0.12, the only valid positional argument will be `data`, and passing other arguments without an explicit keyword will result in an error or misinterpretation.\n",
      "  warnings.warn(\n"
     ]
    },
    {
     "data": {
      "image/png": "[encoded data removed]",
      "text/plain": [
       "<Figure size 756x432 with 6 Axes>"
      ]
     },
     "metadata": {
      "needs_background": "light"
     },
     "output_type": "display_data"
    }
   ],
   "source": [
    "'Our desired number of plot row and column size'\n",
    "categorical_plot_nrows = 2\n",
    "categorical_plot_ncols = 3\n",
    "\n",
    "fig, axs = plt.subplots(categorical_plot_nrows, categorical_plot_ncols, figsize = (categorical_plot_ncols*3.5, categorical_plot_nrows*3))\n",
    "\n",
    "for r in range(0, categorical_plot_nrows):\n",
    "    for c in range(0, categorical_plot_ncols):\n",
    "        i = r*categorical_plot_ncols+c\n",
    "        ax = axs[r][c]\n",
    "        sns.countplot(train_df[categorical_variable[i]], hue=train_df[\"Survived\"], ax=ax)\n",
    "        ax.set_title(categorical_variable[i], fontsize=12, fontweight=\"bold\")\n",
    "        ax.legend(title=\"Survived\", loc='upper center')\n",
    "\n",
    "plt.tight_layout()"
   ]
  },
  {
   "cell_type": "markdown",
   "metadata": {},
   "source": [
    "## Transforming the column values\n",
    "### Transforming Survived and Pclass columns from integer to String\n",
    "Values are transformed form numerical values to categotical values as it is easier to understand the data in the exploratary analysis.\n",
    "Also, after the transformation, graph lables become more discriptive and easier to understand.\n",
    "\n",
    "### Renaming Embarked column values to their proper Embarcation port\n",
    "This will make data more understandable in data exploration.\n"
   ]
  },
  {
   "cell_type": "code",
   "execution_count": 323,
   "metadata": {},
   "outputs": [
    {
     "data": {
      "text/plain": [
       "0    Deceased\n",
       "1    Survived\n",
       "2    Survived\n",
       "3    Survived\n",
       "4    Deceased\n",
       "Name: Survived, dtype: object"
      ]
     },
     "execution_count": 323,
     "metadata": {},
     "output_type": "execute_result"
    }
   ],
   "source": [
    "# Survived column values: maped 1 -> Survived and 0 -> Deceased\n",
    "train_df.loc[train_df['Survived'] == 0, 'Survived'] = 'Deceased' \n",
    "train_df.loc[train_df['Survived'] == 1, 'Survived'] = 'Survived' \n",
    "train_df['Survived'].head()"
   ]
  },
  {
   "cell_type": "code",
   "execution_count": 324,
   "metadata": {},
   "outputs": [
    {
     "data": {
      "text/plain": [
       "0    Third Class\n",
       "1    First Class\n",
       "2    Third Class\n",
       "3    First Class\n",
       "4    Third Class\n",
       "Name: Pclass, dtype: object"
      ]
     },
     "execution_count": 324,
     "metadata": {},
     "output_type": "execute_result"
    }
   ],
   "source": [
    "# Pclass column values: maped 1 -> First Class, 2 -> Second Class and 3 -> Third Class\n",
    "train_df.loc[train_df['Pclass'] == 1, 'Pclass'] = 'First Class' \n",
    "train_df.loc[train_df['Pclass'] == 2, 'Pclass'] = 'Second Class' \n",
    "train_df.loc[train_df['Pclass'] == 3, 'Pclass'] = 'Third Class' \n",
    "train_df['Pclass'].head()"
   ]
  },
  {
   "cell_type": "code",
   "execution_count": 325,
   "metadata": {},
   "outputs": [
    {
     "data": {
      "text/html": [
       "<div>\n",
       "<style scoped>\n",
       "    .dataframe tbody tr th:only-of-type {\n",
       "        vertical-align: middle;\n",
       "    }\n",
       "\n",
       "    .dataframe tbody tr th {\n",
       "        vertical-align: top;\n",
       "    }\n",
       "\n",
       "    .dataframe thead th {\n",
       "        text-align: right;\n",
       "    }\n",
       "</style>\n",
       "<table border=\"1\" class=\"dataframe\">\n",
       "  <thead>\n",
       "    <tr style=\"text-align: right;\">\n",
       "      <th></th>\n",
       "      <th>PassengerId</th>\n",
       "      <th>Survived</th>\n",
       "      <th>Pclass</th>\n",
       "      <th>Name</th>\n",
       "      <th>Sex</th>\n",
       "      <th>Age</th>\n",
       "      <th>SibSp</th>\n",
       "      <th>Parch</th>\n",
       "      <th>Ticket</th>\n",
       "      <th>Fare</th>\n",
       "      <th>Cabin</th>\n",
       "      <th>Embarked</th>\n",
       "    </tr>\n",
       "  </thead>\n",
       "  <tbody>\n",
       "    <tr>\n",
       "      <th>0</th>\n",
       "      <td>1</td>\n",
       "      <td>Deceased</td>\n",
       "      <td>Third Class</td>\n",
       "      <td>Braund, Mr. Owen Harris</td>\n",
       "      <td>male</td>\n",
       "      <td>22.0</td>\n",
       "      <td>1</td>\n",
       "      <td>0</td>\n",
       "      <td>A/5 21171</td>\n",
       "      <td>7.2500</td>\n",
       "      <td>NaN</td>\n",
       "      <td>Southampton</td>\n",
       "    </tr>\n",
       "    <tr>\n",
       "      <th>1</th>\n",
       "      <td>2</td>\n",
       "      <td>Survived</td>\n",
       "      <td>First Class</td>\n",
       "      <td>Cumings, Mrs. John Bradley (Florence Briggs Th...</td>\n",
       "      <td>female</td>\n",
       "      <td>38.0</td>\n",
       "      <td>1</td>\n",
       "      <td>0</td>\n",
       "      <td>PC 17599</td>\n",
       "      <td>71.2833</td>\n",
       "      <td>C85</td>\n",
       "      <td>Cherbourg</td>\n",
       "    </tr>\n",
       "    <tr>\n",
       "      <th>2</th>\n",
       "      <td>3</td>\n",
       "      <td>Survived</td>\n",
       "      <td>Third Class</td>\n",
       "      <td>Heikkinen, Miss. Laina</td>\n",
       "      <td>female</td>\n",
       "      <td>26.0</td>\n",
       "      <td>0</td>\n",
       "      <td>0</td>\n",
       "      <td>STON/O2. 3101282</td>\n",
       "      <td>7.9250</td>\n",
       "      <td>NaN</td>\n",
       "      <td>Southampton</td>\n",
       "    </tr>\n",
       "    <tr>\n",
       "      <th>3</th>\n",
       "      <td>4</td>\n",
       "      <td>Survived</td>\n",
       "      <td>First Class</td>\n",
       "      <td>Futrelle, Mrs. Jacques Heath (Lily May Peel)</td>\n",
       "      <td>female</td>\n",
       "      <td>35.0</td>\n",
       "      <td>1</td>\n",
       "      <td>0</td>\n",
       "      <td>113803</td>\n",
       "      <td>53.1000</td>\n",
       "      <td>C123</td>\n",
       "      <td>Southampton</td>\n",
       "    </tr>\n",
       "    <tr>\n",
       "      <th>4</th>\n",
       "      <td>5</td>\n",
       "      <td>Deceased</td>\n",
       "      <td>Third Class</td>\n",
       "      <td>Allen, Mr. William Henry</td>\n",
       "      <td>male</td>\n",
       "      <td>35.0</td>\n",
       "      <td>0</td>\n",
       "      <td>0</td>\n",
       "      <td>373450</td>\n",
       "      <td>8.0500</td>\n",
       "      <td>NaN</td>\n",
       "      <td>Southampton</td>\n",
       "    </tr>\n",
       "  </tbody>\n",
       "</table>\n",
       "</div>"
      ],
      "text/plain": [
       "   PassengerId  Survived       Pclass  \\\n",
       "0            1  Deceased  Third Class   \n",
       "1            2  Survived  First Class   \n",
       "2            3  Survived  Third Class   \n",
       "3            4  Survived  First Class   \n",
       "4            5  Deceased  Third Class   \n",
       "\n",
       "                                                Name     Sex   Age  SibSp  \\\n",
       "0                            Braund, Mr. Owen Harris    male  22.0      1   \n",
       "1  Cumings, Mrs. John Bradley (Florence Briggs Th...  female  38.0      1   \n",
       "2                             Heikkinen, Miss. Laina  female  26.0      0   \n",
       "3       Futrelle, Mrs. Jacques Heath (Lily May Peel)  female  35.0      1   \n",
       "4                           Allen, Mr. William Henry    male  35.0      0   \n",
       "\n",
       "   Parch            Ticket     Fare Cabin     Embarked  \n",
       "0      0         A/5 21171   7.2500   NaN  Southampton  \n",
       "1      0          PC 17599  71.2833   C85    Cherbourg  \n",
       "2      0  STON/O2. 3101282   7.9250   NaN  Southampton  \n",
       "3      0            113803  53.1000  C123  Southampton  \n",
       "4      0            373450   8.0500   NaN  Southampton  "
      ]
     },
     "execution_count": 325,
     "metadata": {},
     "output_type": "execute_result"
    }
   ],
   "source": [
    "# Embarked column values: maped C -> Cherbourg, Q -> Queenstown and S -> Southampton\n",
    "train_df.loc[train_df['Embarked'] == 'C', 'Embarked'] = 'Cherbourg' \n",
    "train_df.loc[train_df['Embarked'] == 'Q', 'Embarked'] = 'Queenstown' \n",
    "train_df.loc[train_df['Embarked'] == 'S', 'Embarked'] = 'Southampton'\n",
    "train_df.head()"
   ]
  },
  {
   "cell_type": "code",
   "execution_count": 326,
   "metadata": {},
   "outputs": [
    {
     "data": {
      "text/html": [
       "<div>\n",
       "<style scoped>\n",
       "    .dataframe tbody tr th:only-of-type {\n",
       "        vertical-align: middle;\n",
       "    }\n",
       "\n",
       "    .dataframe tbody tr th {\n",
       "        vertical-align: top;\n",
       "    }\n",
       "\n",
       "    .dataframe thead th {\n",
       "        text-align: right;\n",
       "    }\n",
       "</style>\n",
       "<table border=\"1\" class=\"dataframe\">\n",
       "  <thead>\n",
       "    <tr style=\"text-align: right;\">\n",
       "      <th></th>\n",
       "      <th>Survived</th>\n",
       "      <th>Pclass</th>\n",
       "      <th>Name</th>\n",
       "      <th>Sex</th>\n",
       "      <th>Age</th>\n",
       "      <th>SibSp</th>\n",
       "      <th>Parch</th>\n",
       "      <th>Ticket</th>\n",
       "      <th>Fare</th>\n",
       "      <th>Cabin</th>\n",
       "      <th>Embarked</th>\n",
       "    </tr>\n",
       "  </thead>\n",
       "  <tbody>\n",
       "    <tr>\n",
       "      <th>0</th>\n",
       "      <td>Deceased</td>\n",
       "      <td>Third Class</td>\n",
       "      <td>Braund, Mr. Owen Harris</td>\n",
       "      <td>male</td>\n",
       "      <td>22.0</td>\n",
       "      <td>1</td>\n",
       "      <td>0</td>\n",
       "      <td>A/5 21171</td>\n",
       "      <td>7.2500</td>\n",
       "      <td>NaN</td>\n",
       "      <td>Southampton</td>\n",
       "    </tr>\n",
       "    <tr>\n",
       "      <th>1</th>\n",
       "      <td>Survived</td>\n",
       "      <td>First Class</td>\n",
       "      <td>Cumings, Mrs. John Bradley (Florence Briggs Th...</td>\n",
       "      <td>female</td>\n",
       "      <td>38.0</td>\n",
       "      <td>1</td>\n",
       "      <td>0</td>\n",
       "      <td>PC 17599</td>\n",
       "      <td>71.2833</td>\n",
       "      <td>C85</td>\n",
       "      <td>Cherbourg</td>\n",
       "    </tr>\n",
       "    <tr>\n",
       "      <th>2</th>\n",
       "      <td>Survived</td>\n",
       "      <td>Third Class</td>\n",
       "      <td>Heikkinen, Miss. Laina</td>\n",
       "      <td>female</td>\n",
       "      <td>26.0</td>\n",
       "      <td>0</td>\n",
       "      <td>0</td>\n",
       "      <td>STON/O2. 3101282</td>\n",
       "      <td>7.9250</td>\n",
       "      <td>NaN</td>\n",
       "      <td>Southampton</td>\n",
       "    </tr>\n",
       "    <tr>\n",
       "      <th>3</th>\n",
       "      <td>Survived</td>\n",
       "      <td>First Class</td>\n",
       "      <td>Futrelle, Mrs. Jacques Heath (Lily May Peel)</td>\n",
       "      <td>female</td>\n",
       "      <td>35.0</td>\n",
       "      <td>1</td>\n",
       "      <td>0</td>\n",
       "      <td>113803</td>\n",
       "      <td>53.1000</td>\n",
       "      <td>C123</td>\n",
       "      <td>Southampton</td>\n",
       "    </tr>\n",
       "    <tr>\n",
       "      <th>4</th>\n",
       "      <td>Deceased</td>\n",
       "      <td>Third Class</td>\n",
       "      <td>Allen, Mr. William Henry</td>\n",
       "      <td>male</td>\n",
       "      <td>35.0</td>\n",
       "      <td>0</td>\n",
       "      <td>0</td>\n",
       "      <td>373450</td>\n",
       "      <td>8.0500</td>\n",
       "      <td>NaN</td>\n",
       "      <td>Southampton</td>\n",
       "    </tr>\n",
       "    <tr>\n",
       "      <th>...</th>\n",
       "      <td>...</td>\n",
       "      <td>...</td>\n",
       "      <td>...</td>\n",
       "      <td>...</td>\n",
       "      <td>...</td>\n",
       "      <td>...</td>\n",
       "      <td>...</td>\n",
       "      <td>...</td>\n",
       "      <td>...</td>\n",
       "      <td>...</td>\n",
       "      <td>...</td>\n",
       "    </tr>\n",
       "    <tr>\n",
       "      <th>1304</th>\n",
       "      <td>Deceased</td>\n",
       "      <td>Third Class</td>\n",
       "      <td>Spector, Mr. Woolf</td>\n",
       "      <td>male</td>\n",
       "      <td>NaN</td>\n",
       "      <td>0</td>\n",
       "      <td>0</td>\n",
       "      <td>A.5. 3236</td>\n",
       "      <td>8.0500</td>\n",
       "      <td>NaN</td>\n",
       "      <td>Southampton</td>\n",
       "    </tr>\n",
       "    <tr>\n",
       "      <th>1305</th>\n",
       "      <td>Survived</td>\n",
       "      <td>First Class</td>\n",
       "      <td>Oliva y Ocana, Dona. Fermina</td>\n",
       "      <td>female</td>\n",
       "      <td>39.0</td>\n",
       "      <td>0</td>\n",
       "      <td>0</td>\n",
       "      <td>PC 17758</td>\n",
       "      <td>108.9000</td>\n",
       "      <td>C105</td>\n",
       "      <td>Cherbourg</td>\n",
       "    </tr>\n",
       "    <tr>\n",
       "      <th>1306</th>\n",
       "      <td>Deceased</td>\n",
       "      <td>Third Class</td>\n",
       "      <td>Saether, Mr. Simon Sivertsen</td>\n",
       "      <td>male</td>\n",
       "      <td>38.5</td>\n",
       "      <td>0</td>\n",
       "      <td>0</td>\n",
       "      <td>SOTON/O.Q. 3101262</td>\n",
       "      <td>7.2500</td>\n",
       "      <td>NaN</td>\n",
       "      <td>Southampton</td>\n",
       "    </tr>\n",
       "    <tr>\n",
       "      <th>1307</th>\n",
       "      <td>Deceased</td>\n",
       "      <td>Third Class</td>\n",
       "      <td>Ware, Mr. Frederick</td>\n",
       "      <td>male</td>\n",
       "      <td>NaN</td>\n",
       "      <td>0</td>\n",
       "      <td>0</td>\n",
       "      <td>359309</td>\n",
       "      <td>8.0500</td>\n",
       "      <td>NaN</td>\n",
       "      <td>Southampton</td>\n",
       "    </tr>\n",
       "    <tr>\n",
       "      <th>1308</th>\n",
       "      <td>Deceased</td>\n",
       "      <td>Third Class</td>\n",
       "      <td>Peter, Master. Michael J</td>\n",
       "      <td>male</td>\n",
       "      <td>NaN</td>\n",
       "      <td>1</td>\n",
       "      <td>1</td>\n",
       "      <td>2668</td>\n",
       "      <td>22.3583</td>\n",
       "      <td>NaN</td>\n",
       "      <td>Cherbourg</td>\n",
       "    </tr>\n",
       "  </tbody>\n",
       "</table>\n",
       "<p>1309 rows × 11 columns</p>\n",
       "</div>"
      ],
      "text/plain": [
       "      Survived       Pclass  \\\n",
       "0     Deceased  Third Class   \n",
       "1     Survived  First Class   \n",
       "2     Survived  Third Class   \n",
       "3     Survived  First Class   \n",
       "4     Deceased  Third Class   \n",
       "...        ...          ...   \n",
       "1304  Deceased  Third Class   \n",
       "1305  Survived  First Class   \n",
       "1306  Deceased  Third Class   \n",
       "1307  Deceased  Third Class   \n",
       "1308  Deceased  Third Class   \n",
       "\n",
       "                                                   Name     Sex   Age  SibSp  \\\n",
       "0                               Braund, Mr. Owen Harris    male  22.0      1   \n",
       "1     Cumings, Mrs. John Bradley (Florence Briggs Th...  female  38.0      1   \n",
       "2                                Heikkinen, Miss. Laina  female  26.0      0   \n",
       "3          Futrelle, Mrs. Jacques Heath (Lily May Peel)  female  35.0      1   \n",
       "4                              Allen, Mr. William Henry    male  35.0      0   \n",
       "...                                                 ...     ...   ...    ...   \n",
       "1304                                 Spector, Mr. Woolf    male   NaN      0   \n",
       "1305                       Oliva y Ocana, Dona. Fermina  female  39.0      0   \n",
       "1306                       Saether, Mr. Simon Sivertsen    male  38.5      0   \n",
       "1307                                Ware, Mr. Frederick    male   NaN      0   \n",
       "1308                           Peter, Master. Michael J    male   NaN      1   \n",
       "\n",
       "      Parch              Ticket      Fare Cabin     Embarked  \n",
       "0         0           A/5 21171    7.2500   NaN  Southampton  \n",
       "1         0            PC 17599   71.2833   C85    Cherbourg  \n",
       "2         0    STON/O2. 3101282    7.9250   NaN  Southampton  \n",
       "3         0              113803   53.1000  C123  Southampton  \n",
       "4         0              373450    8.0500   NaN  Southampton  \n",
       "...     ...                 ...       ...   ...          ...  \n",
       "1304      0           A.5. 3236    8.0500   NaN  Southampton  \n",
       "1305      0            PC 17758  108.9000  C105    Cherbourg  \n",
       "1306      0  SOTON/O.Q. 3101262    7.2500   NaN  Southampton  \n",
       "1307      0              359309    8.0500   NaN  Southampton  \n",
       "1308      1                2668   22.3583   NaN    Cherbourg  \n",
       "\n",
       "[1309 rows x 11 columns]"
      ]
     },
     "execution_count": 326,
     "metadata": {},
     "output_type": "execute_result"
    }
   ],
   "source": [
    "# Can drop PasengerId column as it does not hold valuble information for the analysis\n",
    "train_df.drop('PassengerId',axis=1)"
   ]
  },
  {
   "cell_type": "markdown",
   "metadata": {},
   "source": [
    "## Basic statistics before fixing data for missing values"
   ]
  },
  {
   "cell_type": "code",
   "execution_count": 327,
   "metadata": {},
   "outputs": [
    {
     "data": {
      "text/plain": [
       "29.881137667304014"
      ]
     },
     "execution_count": 327,
     "metadata": {},
     "output_type": "execute_result"
    }
   ],
   "source": [
    "#The average age of passengers? \n",
    "train_df['Age'].mean()"
   ]
  },
  {
   "cell_type": "code",
   "execution_count": 328,
   "metadata": {},
   "outputs": [
    {
     "data": {
      "text/html": [
       "<div>\n",
       "<style scoped>\n",
       "    .dataframe tbody tr th:only-of-type {\n",
       "        vertical-align: middle;\n",
       "    }\n",
       "\n",
       "    .dataframe tbody tr th {\n",
       "        vertical-align: top;\n",
       "    }\n",
       "\n",
       "    .dataframe thead th {\n",
       "        text-align: right;\n",
       "    }\n",
       "</style>\n",
       "<table border=\"1\" class=\"dataframe\">\n",
       "  <thead>\n",
       "    <tr style=\"text-align: right;\">\n",
       "      <th></th>\n",
       "      <th>Age</th>\n",
       "      <th>Fare</th>\n",
       "    </tr>\n",
       "  </thead>\n",
       "  <tbody>\n",
       "    <tr>\n",
       "      <th>min</th>\n",
       "      <td>0.170000</td>\n",
       "      <td>0.000000</td>\n",
       "    </tr>\n",
       "    <tr>\n",
       "      <th>max</th>\n",
       "      <td>80.000000</td>\n",
       "      <td>512.329200</td>\n",
       "    </tr>\n",
       "    <tr>\n",
       "      <th>mean</th>\n",
       "      <td>29.881138</td>\n",
       "      <td>33.295479</td>\n",
       "    </tr>\n",
       "    <tr>\n",
       "      <th>median</th>\n",
       "      <td>28.000000</td>\n",
       "      <td>14.454200</td>\n",
       "    </tr>\n",
       "    <tr>\n",
       "      <th>skew</th>\n",
       "      <td>0.407675</td>\n",
       "      <td>4.367709</td>\n",
       "    </tr>\n",
       "  </tbody>\n",
       "</table>\n",
       "</div>"
      ],
      "text/plain": [
       "              Age        Fare\n",
       "min      0.170000    0.000000\n",
       "max     80.000000  512.329200\n",
       "mean    29.881138   33.295479\n",
       "median  28.000000   14.454200\n",
       "skew     0.407675    4.367709"
      ]
     },
     "execution_count": 328,
     "metadata": {},
     "output_type": "execute_result"
    }
   ],
   "source": [
    "#TODO%%%%%%%%%%%% WE NEED CHECH THIS @Bassey\n",
    "# Median Age and Ticket fare price of Pax\n",
    "#train_df[['Age', 'Fare']].median()\n",
    "#train_df.describe(include='all')\n",
    "\n",
    "#instead of using above predifined 'describe function' we can combined aggregating statistics \n",
    "train_df.agg( \n",
    "    { \n",
    "        'Age': ['min', 'max', 'mean', 'median', 'skew'], \n",
    "        'Fare': ['min', 'max', 'mean', 'median', 'skew'], \n",
    "    } )"
   ]
  },
  {
   "cell_type": "code",
   "execution_count": 329,
   "metadata": {},
   "outputs": [
    {
     "data": {
      "text/plain": [
       "Pclass\n",
       "First Class     323\n",
       "Second Class    277\n",
       "Third Class     709\n",
       "Name: Pclass, dtype: int64"
      ]
     },
     "execution_count": 329,
     "metadata": {},
     "output_type": "execute_result"
    }
   ],
   "source": [
    "#counting by group\n",
    "train_df.groupby('Pclass')['Pclass'].count()"
   ]
  },
  {
   "cell_type": "code",
   "execution_count": 330,
   "metadata": {},
   "outputs": [
    {
     "name": "stdout",
     "output_type": "stream",
     "text": [
      "maximum null values in a row :  2 . \n",
      "Therefore, dropping rows containing missing values are disadvantageous\n",
      "\n"
     ]
    }
   ],
   "source": [
    "# TODO Do we want all of the below code for our final report@ Bassey\n",
    "train_df.isnull()  # is any missing values in dataframe\n",
    "train_df.isnull().any()  # is any missing values across columns\n",
    "train_df.isnull().sum().sum()   # count of missing values of the entire dataframe\n",
    "count_NAN = len(train_df) - train_df.count() # count of missing values across columns\n",
    "count_NAN\n",
    "\n",
    "max_missing = 0\n",
    "for i in range(len(train_df.index)):  # count of missing values across rows\n",
    "    #print('NAN in row ', i , ' : ', train_df.iloc[i].isnull().sum())\n",
    "    missing_current_row = train_df.iloc[i].isnull().sum()\n",
    "    if(max_missing < missing_current_row):\n",
    "        max_missing = missing_current_row\n",
    "\n",
    "print('maximum null values in a row : ', max_missing, '.','\\nTherefore, dropping rows containing missing values are disadvantageous')\n",
    "print()\n"
   ]
  },
  {
   "cell_type": "code",
   "execution_count": 331,
   "metadata": {},
   "outputs": [
    {
     "data": {
      "text/plain": [
       "263"
      ]
     },
     "execution_count": 331,
     "metadata": {},
     "output_type": "execute_result"
    }
   ],
   "source": [
    "#counting of missing values of a particular column\n",
    "train_df.Age.isnull().sum()"
   ]
  },
  {
   "cell_type": "code",
   "execution_count": 332,
   "metadata": {},
   "outputs": [
    {
     "data": {
      "text/plain": [
       "Sex\n",
       "female     78\n",
       "male      185\n",
       "Name: Age, dtype: int64"
      ]
     },
     "execution_count": 332,
     "metadata": {},
     "output_type": "execute_result"
    }
   ],
   "source": [
    "# count of missing values of column by group\n",
    "'''count of missing values of column by group\n",
    " Because we dont havve missing values in sex all the missing values is coming from Age'''\n",
    "train_df.groupby(['Sex'])['Age'].apply(lambda x: x.isnull().sum())"
   ]
  },
  {
   "cell_type": "markdown",
   "metadata": {},
   "source": [
    "## Fixing missing values"
   ]
  },
  {
   "cell_type": "code",
   "execution_count": 333,
   "metadata": {},
   "outputs": [
    {
     "name": "stdout",
     "output_type": "stream",
     "text": [
      "Number of missing values remaining in Age column is 0\n",
      "Number of missing values remaining in Fare column is 0\n"
     ]
    }
   ],
   "source": [
    "# Replacing the na in age and Fare column with mean\n",
    "train_df['Age'] = train_df['Age'].fillna(round(train_df['Age'].mean()))\n",
    "train_df['Fare'] = train_df['Fare'].fillna(round(train_df['Fare'].mean()))\n",
    "\n",
    "# Round Age values of the age column\n",
    "train_df[['Age']] = train_df[['Age']].round()\n",
    "\n",
    "#checking if there are any remaining missing value\n",
    "print('Number of missing values remaining in Age column is' ,train_df.Age.isnull().sum())\n",
    "print('Number of missing values remaining in Fare column is' ,train_df.Fare.isnull().sum())\n"
   ]
  },
  {
   "cell_type": "code",
   "execution_count": 334,
   "metadata": {},
   "outputs": [
    {
     "name": "stdout",
     "output_type": "stream",
     "text": [
      "Number of missing values remaining in Embarked column is 0\n"
     ]
    }
   ],
   "source": [
    "# Replace missing values with mode of the Embarked column\n",
    "train_df['Embarked'] = train_df['Embarked'].fillna(train_df['Embarked'].mode()[0])\n",
    "print('Number of missing values remaining in Embarked column is' ,train_df.Fare.isnull().sum())"
   ]
  },
  {
   "cell_type": "code",
   "execution_count": 335,
   "metadata": {},
   "outputs": [
    {
     "name": "stdout",
     "output_type": "stream",
     "text": [
      "Missing value remaining in the dataset 1014\n",
      "Missing values of the Cabin column 1014\n",
      "IT is clear that all the remaining missing values are from Cabin column. At his point, not going to impute missing values in Cabin variable as there are more than 60% of the values are missing.\n"
     ]
    }
   ],
   "source": [
    "# See if there is still any missing data in train dataset\n",
    "print('Missing value remaining in the dataset', train_df.isna().sum().max())\n",
    "print('Missing values of the Cabin column', train_df.Cabin.isnull().sum())\n",
    "print('IT is clear that all the remaining missing values are from Cabin column. At his point, not going to impute missing values in Cabin variable as there are more than 60% of the values are missing.')"
   ]
  },
  {
   "cell_type": "markdown",
   "metadata": {},
   "source": [
    "## Data visualisation"
   ]
  },
  {
   "cell_type": "code",
   "execution_count": 336,
   "metadata": {},
   "outputs": [
    {
     "data": {
      "image/png": "[encoded data removed]",
      "text/plain": [
       "<Figure size 360x360 with 1 Axes>"
      ]
     },
     "metadata": {
      "needs_background": "light"
     },
     "output_type": "display_data"
    }
   ],
   "source": [
    "plt.figure(figsize=(5, 5))\n",
    "survival_labels = [\"Survived\", \"Deceased\"]\n",
    "survival_counts = [train_df.Survived.value_counts()[1], train_df.Survived.value_counts()[0]]\n",
    "sns.barplot(x= survival_labels, y = survival_counts)\n",
    "plt.show()"
   ]
  },
  {
   "cell_type": "code",
   "execution_count": 337,
   "metadata": {},
   "outputs": [],
   "source": [
    "# data transformation on Age column\n",
    "# Grouping age values\n",
    "\n",
    "train_df.loc[train_df['Age'] <= 1, 'age_group'] = 'baby'\n",
    "train_df.loc[train_df['Age'].between(1,3), 'age_group'] = 'todlers'\n",
    "train_df.loc[train_df['Age'].between(4,10), 'age_group'] = 'children'\n",
    "train_df.loc[train_df['Age'].between(11,19), 'age_group'] = 'teenage'\n",
    "train_df.loc[train_df['Age'].between(20,35), 'age_group'] = 'yadult'\n",
    "train_df.loc[train_df['Age'].between(36,60), 'age_group'] = 'adult'\n",
    "train_df.loc[train_df['Age']>60, 'age_group'] = 'elder'\n",
    "\n",
    "# Age grouping to two groups Child or Adult\n",
    "train_df.loc[train_df['Age'] <= 18, 'child_adult'] = 'child'\n",
    "train_df.loc[train_df['Age'] > 18, 'child_adult'] = 'adult'\n",
    "\n",
    "# Age grouping using mean values\n",
    "train_df.loc[train_df['Age'].round() <= 10, 'mean_age'] = 5\n",
    "train_df.loc[train_df['Age'].round().between(11,20), 'mean_age'] = 15\n",
    "train_df.loc[train_df['Age'].round().between(21,30), 'mean_age'] = 25\n",
    "train_df.loc[train_df['Age'].round().between(31,40), 'mean_age'] = 35\n",
    "train_df.loc[train_df['Age'].round().between(41,50), 'mean_age'] = 45\n",
    "train_df.loc[train_df['Age'].round().between(51,60), 'mean_age'] = 55\n",
    "train_df.loc[train_df['Age'].round().between(61,70), 'mean_age'] = 65\n",
    "train_df.loc[train_df['Age'] > 70, 'mean_age'] = 75"
   ]
  },
  {
   "cell_type": "code",
   "execution_count": 338,
   "metadata": {},
   "outputs": [],
   "source": [
    "# Calculate variance using a function\n",
    "\n",
    "def variance_calculator(df_variable):\n",
    "    sum_variable = 0\n",
    "    for value in df_variable:\n",
    "        if (isnan(value) != True):\n",
    "            sum_variable += value\n",
    "    mean = sum_variable/len(df_variable)\n",
    "\n",
    " \n",
    "    sum_of_squares = 0\n",
    "    for value in df_variable:\n",
    "        if (isnan(value) != True):\n",
    "            sum_of_squares += value **2\n",
    "    mean_squares = sum_of_squares/len(df_variable)\n",
    "\n",
    "\n",
    "    return mean_squares - mean**2\n",
    "\n",
    "# The above calculation can also be done using the method numpy.var\n",
    "# np.var(df_variable)"
   ]
  },
  {
   "cell_type": "code",
   "execution_count": 339,
   "metadata": {},
   "outputs": [
    {
     "name": "stdout",
     "output_type": "stream",
     "text": [
      "Variance of Fare calculated using the defined function 2674.87\n",
      "Variance of Fare calculated using numpy function 2674.87\n"
     ]
    }
   ],
   "source": [
    "print(f'Variance of Fare calculated using the defined function {round(variance_calculator(train_df.Fare),2)}')\n",
    "print(f'Variance of Fare calculated using numpy function {round(np.var(train_df.Fare),2)}')"
   ]
  },
  {
   "cell_type": "markdown",
   "metadata": {},
   "source": [
    "Family class with parent and children\n",
    "\n",
    "SibSp: number of siblings/spouse\n",
    "\n",
    "Parch: number of childre/parents\n",
    "\n",
    "With the number of siblings or spouse and the number of children or parents we can create new class called Family."
   ]
  },
  {
   "cell_type": "code",
   "execution_count": 340,
   "metadata": {},
   "outputs": [
    {
     "data": {
      "text/html": [
       "<div>\n",
       "<style scoped>\n",
       "    .dataframe tbody tr th:only-of-type {\n",
       "        vertical-align: middle;\n",
       "    }\n",
       "\n",
       "    .dataframe tbody tr th {\n",
       "        vertical-align: top;\n",
       "    }\n",
       "\n",
       "    .dataframe thead th {\n",
       "        text-align: right;\n",
       "    }\n",
       "</style>\n",
       "<table border=\"1\" class=\"dataframe\">\n",
       "  <thead>\n",
       "    <tr style=\"text-align: right;\">\n",
       "      <th></th>\n",
       "      <th>Survived</th>\n",
       "      <th>Name</th>\n",
       "      <th>Sex</th>\n",
       "      <th>Age</th>\n",
       "      <th>Ticket</th>\n",
       "      <th>Pclass</th>\n",
       "    </tr>\n",
       "  </thead>\n",
       "  <tbody>\n",
       "    <tr>\n",
       "      <th>0</th>\n",
       "      <td>Deceased</td>\n",
       "      <td>Braund, Mr. Owen Harris</td>\n",
       "      <td>male</td>\n",
       "      <td>22.0</td>\n",
       "      <td>A/5 21171</td>\n",
       "      <td>Third Class</td>\n",
       "    </tr>\n",
       "    <tr>\n",
       "      <th>1</th>\n",
       "      <td>Survived</td>\n",
       "      <td>Cumings, Mrs. John Bradley (Florence Briggs Th...</td>\n",
       "      <td>female</td>\n",
       "      <td>38.0</td>\n",
       "      <td>PC 17599</td>\n",
       "      <td>First Class</td>\n",
       "    </tr>\n",
       "    <tr>\n",
       "      <th>3</th>\n",
       "      <td>Survived</td>\n",
       "      <td>Futrelle, Mrs. Jacques Heath (Lily May Peel)</td>\n",
       "      <td>female</td>\n",
       "      <td>35.0</td>\n",
       "      <td>113803</td>\n",
       "      <td>First Class</td>\n",
       "    </tr>\n",
       "    <tr>\n",
       "      <th>7</th>\n",
       "      <td>Deceased</td>\n",
       "      <td>Palsson, Master. Gosta Leonard</td>\n",
       "      <td>male</td>\n",
       "      <td>2.0</td>\n",
       "      <td>349909</td>\n",
       "      <td>Third Class</td>\n",
       "    </tr>\n",
       "    <tr>\n",
       "      <th>8</th>\n",
       "      <td>Survived</td>\n",
       "      <td>Johnson, Mrs. Oscar W (Elisabeth Vilhelmina Berg)</td>\n",
       "      <td>female</td>\n",
       "      <td>27.0</td>\n",
       "      <td>347742</td>\n",
       "      <td>Third Class</td>\n",
       "    </tr>\n",
       "    <tr>\n",
       "      <th>...</th>\n",
       "      <td>...</td>\n",
       "      <td>...</td>\n",
       "      <td>...</td>\n",
       "      <td>...</td>\n",
       "      <td>...</td>\n",
       "      <td>...</td>\n",
       "    </tr>\n",
       "    <tr>\n",
       "      <th>1297</th>\n",
       "      <td>Deceased</td>\n",
       "      <td>Ware, Mr. William Jeffery</td>\n",
       "      <td>male</td>\n",
       "      <td>23.0</td>\n",
       "      <td>28666</td>\n",
       "      <td>Second Class</td>\n",
       "    </tr>\n",
       "    <tr>\n",
       "      <th>1298</th>\n",
       "      <td>Deceased</td>\n",
       "      <td>Widener, Mr. George Dunton</td>\n",
       "      <td>male</td>\n",
       "      <td>50.0</td>\n",
       "      <td>113503</td>\n",
       "      <td>First Class</td>\n",
       "    </tr>\n",
       "    <tr>\n",
       "      <th>1300</th>\n",
       "      <td>Survived</td>\n",
       "      <td>Peacock, Miss. Treasteall</td>\n",
       "      <td>female</td>\n",
       "      <td>3.0</td>\n",
       "      <td>SOTON/O.Q. 3101315</td>\n",
       "      <td>Third Class</td>\n",
       "    </tr>\n",
       "    <tr>\n",
       "      <th>1302</th>\n",
       "      <td>Survived</td>\n",
       "      <td>Minahan, Mrs. William Edward (Lillian E Thorpe)</td>\n",
       "      <td>female</td>\n",
       "      <td>37.0</td>\n",
       "      <td>19928</td>\n",
       "      <td>First Class</td>\n",
       "    </tr>\n",
       "    <tr>\n",
       "      <th>1308</th>\n",
       "      <td>Deceased</td>\n",
       "      <td>Peter, Master. Michael J</td>\n",
       "      <td>male</td>\n",
       "      <td>30.0</td>\n",
       "      <td>2668</td>\n",
       "      <td>Third Class</td>\n",
       "    </tr>\n",
       "  </tbody>\n",
       "</table>\n",
       "<p>519 rows × 6 columns</p>\n",
       "</div>"
      ],
      "text/plain": [
       "      Survived                                               Name     Sex  \\\n",
       "0     Deceased                            Braund, Mr. Owen Harris    male   \n",
       "1     Survived  Cumings, Mrs. John Bradley (Florence Briggs Th...  female   \n",
       "3     Survived       Futrelle, Mrs. Jacques Heath (Lily May Peel)  female   \n",
       "7     Deceased                     Palsson, Master. Gosta Leonard    male   \n",
       "8     Survived  Johnson, Mrs. Oscar W (Elisabeth Vilhelmina Berg)  female   \n",
       "...        ...                                                ...     ...   \n",
       "1297  Deceased                          Ware, Mr. William Jeffery    male   \n",
       "1298  Deceased                         Widener, Mr. George Dunton    male   \n",
       "1300  Survived                          Peacock, Miss. Treasteall  female   \n",
       "1302  Survived    Minahan, Mrs. William Edward (Lillian E Thorpe)  female   \n",
       "1308  Deceased                           Peter, Master. Michael J    male   \n",
       "\n",
       "       Age              Ticket        Pclass  \n",
       "0     22.0           A/5 21171   Third Class  \n",
       "1     38.0            PC 17599   First Class  \n",
       "3     35.0              113803   First Class  \n",
       "7      2.0              349909   Third Class  \n",
       "8     27.0              347742   Third Class  \n",
       "...    ...                 ...           ...  \n",
       "1297  23.0               28666  Second Class  \n",
       "1298  50.0              113503   First Class  \n",
       "1300   3.0  SOTON/O.Q. 3101315   Third Class  \n",
       "1302  37.0               19928   First Class  \n",
       "1308  30.0                2668   Third Class  \n",
       "\n",
       "[519 rows x 6 columns]"
      ]
     },
     "execution_count": 340,
     "metadata": {},
     "output_type": "execute_result"
    }
   ],
   "source": [
    "# Get pasengers who travel with family (either siblings,spouse, childre or parents)\n",
    "# Copy rows which has values for either SibSp column or Parch\n",
    "train_data_families = train_df.loc[(train_df['SibSp'] > 0) | (train_df['Parch'] > 0)][['Survived', 'Name', 'Sex','Age','Ticket','Pclass']]\n",
    "train_data_families"
   ]
  },
  {
   "cell_type": "code",
   "execution_count": 341,
   "metadata": {},
   "outputs": [],
   "source": [
    "def extract_last_name(x):\n",
    "    # String x will split by ',' and take the first element in the resulting list. \n",
    "    # Then any whitespaces at the front and end of the first element will be truncated and returned\n",
    "    return x.split(\",\")[0].strip() "
   ]
  },
  {
   "cell_type": "code",
   "execution_count": 342,
   "metadata": {},
   "outputs": [],
   "source": [
    "train_data_families['LastName'] = train_data_families.Name.apply(extract_last_name)\n",
    "train_data_families.to_csv('family.csv')"
   ]
  },
  {
   "cell_type": "markdown",
   "metadata": {},
   "source": [
    "### Person Class\n",
    "\n",
    "Creating a Person class to store pasengers traveling with family.Using the dataset created by filtering rows with non-zero values for variables SibSp(number of siblings/spouse) and Parch(number of childre/parents)."
   ]
  },
  {
   "cell_type": "code",
   "execution_count": 343,
   "metadata": {},
   "outputs": [],
   "source": [
    "class Person:\n",
    "    \n",
    "    def __init__(self, survival, full_name, sex, age, ticket, last_name):\n",
    "        self.last_name = last_name\n",
    "        self.ticket = ticket\n",
    "        self.full_name = full_name\n",
    "        self.survival = survival\n",
    "        self.age = age\n",
    "        self.sex = sex"
   ]
  },
  {
   "cell_type": "code",
   "execution_count": 344,
   "metadata": {},
   "outputs": [
    {
     "name": "stdout",
     "output_type": "stream",
     "text": [
      "Third Class\n",
      "Sandstrom, Miss. Marguerite Rut\n",
      "PP 9549\n",
      "Survived\n",
      "female\n",
      "4.0\n"
     ]
    }
   ],
   "source": [
    "# Create a list to hold person objects\n",
    "list_of_pasengers = []\n",
    "'''\n",
    "This code is written by us. However, as DataFrame object alredy has a similar method, desided to use it to improve performance.\n",
    "# Create list of tuples with selected column data\n",
    "with_family_list = list(zip(train_data_families[\"Survived\"], train_data_families[\"Name\"], train_data_families[\"Sex\"],\n",
    "train_data_families[\"Age\"], train_data_families[\"Ticket\"], train_data_families[\"LastName\"]))\n",
    "\n",
    "for item in with_family_list:\n",
    "    p = Person(item[0], item[1], item[2], item[3], item[4], item[5])\n",
    "    list_of_pasengers.append(p)\n",
    "'''\n",
    "\n",
    "for row in train_data_families.itertuples():\n",
    "    p = Person(row[1], row[2], row[3], row[4], row[5], row[6])\n",
    "    list_of_pasengers.append(p)\n",
    "\n",
    "# Just a test\n",
    "print(list_of_pasengers[6].last_name)\n",
    "print(list_of_pasengers[6].full_name)\n",
    "print(list_of_pasengers[6].ticket)\n",
    "print(list_of_pasengers[6].survival)\n",
    "print(list_of_pasengers[6].sex)\n",
    "print(list_of_pasengers[6].age)"
   ]
  },
  {
   "cell_type": "code",
   "execution_count": 345,
   "metadata": {},
   "outputs": [
    {
     "name": "stdout",
     "output_type": "stream",
     "text": [
      "519\n"
     ]
    }
   ],
   "source": [
    "print(len(list_of_pasengers))"
   ]
  },
  {
   "cell_type": "markdown",
   "metadata": {},
   "source": [
    "When only last names are match to group families, there can be different families with same last names.\n",
    "Therefore, a variable created with ticket number  and last name used to identify families traveling together."
   ]
  },
  {
   "cell_type": "code",
   "execution_count": 346,
   "metadata": {},
   "outputs": [],
   "source": [
    "# Creating a dictionary to store family members\n",
    "families_dict = {}\n",
    "for p in list_of_pasengers:\n",
    "    # variable containing lastname and ticket number passed as key to the dictionary\n",
    "    key = f'{p.last_name}_{p.ticket}'\n",
    "    # If there is already an entry for a family person object will append to the family members list\n",
    "    # Otherwise new list created with the person object\n",
    "    if (key in families_dict):\n",
    "        families_dict[key].append(p)\n",
    "    else:    \n",
    "        families_dict[key] = [p]"
   ]
  },
  {
   "cell_type": "code",
   "execution_count": 347,
   "metadata": {},
   "outputs": [
    {
     "name": "stdout",
     "output_type": "stream",
     "text": [
      "Number of members traveled with family is 230\n"
     ]
    }
   ],
   "source": [
    "print(f'Number of members traveled with family is {len(families_dict)}')"
   ]
  },
  {
   "cell_type": "code",
   "execution_count": 348,
   "metadata": {},
   "outputs": [
    {
     "name": "stdout",
     "output_type": "stream",
     "text": [
      "Number of families traveled together is 178\n"
     ]
    }
   ],
   "source": [
    "# create a dictionary for family who traveled as a group\n",
    "family_group_dict = {}\n",
    "# If the family has more than one member they are added to another dictionary\n",
    "for key,value in families_dict.items():\n",
    "    if len(value) > 1:\n",
    "        family_group_dict[key] = value\n",
    "\n",
    "print(f'Number of families traveled together is {len(family_group_dict)}')"
   ]
  },
  {
   "cell_type": "markdown",
   "metadata": {},
   "source": [
    "Calculate the percentage of adult males and females survived in families"
   ]
  },
  {
   "cell_type": "code",
   "execution_count": 349,
   "metadata": {},
   "outputs": [
    {
     "name": "stdout",
     "output_type": "stream",
     "text": [
      "When a pasenger traveled as a family\n",
      "percentage of females survived 83%\n",
      "percentage of males survived 13%\n",
      "percentage of children survived 55%\n"
     ]
    }
   ],
   "source": [
    "total_male = 0\n",
    "total_female = 0\n",
    "total_children = 0\n",
    "number_f_adult_s = 0\n",
    "number_m_adult_s = 0\n",
    "number_child_s = 0\n",
    "# Each key value pair represent a family\n",
    "# Each value in the families_dict is a list family members\n",
    "for key in family_group_dict:\n",
    "    #family_mem_list = family_group_dict[key]\n",
    "    for person in family_group_dict[key]:\n",
    "        if person.age < 18:\n",
    "            total_children += 1\n",
    "            if person.survival == 'Survived':\n",
    "                number_child_s += 1\n",
    "        else:\n",
    "            if (person.sex == \"male\"):\n",
    "                total_male += 1\n",
    "                if(person.survival == 'Survived'):\n",
    "                    number_m_adult_s += 1\n",
    "            else:\n",
    "                total_female +=1\n",
    "                if(person.survival == 'Survived'):\n",
    "                    number_f_adult_s += 1\n",
    "\n",
    "print('When a pasenger traveled as a family')\n",
    "print(\"percentage of females survived \" + str(round(100 * number_f_adult_s/total_female)) + '%')\n",
    "print(\"percentage of males survived \" + str(round(100 * number_m_adult_s/total_male)) + '%')\n",
    "print(\"percentage of children survived \" + str(round(100 * number_child_s/total_children)) + '%')\n"
   ]
  },
  {
   "cell_type": "markdown",
   "metadata": {},
   "source": [
    "## Building the Random Forest Classifier\n",
    "Reference: https://www.freecodecamp.org/news/how-to-use-the-tree-based-algorithm-for-machine-learning/"
   ]
  },
  {
   "cell_type": "markdown",
   "metadata": {},
   "source": [
    "### Random Forest Classifier with variables\n",
    "- Pclass\n",
    "- Sex\n",
    "- SibSp\n",
    "- Parch\n",
    "- mean_age"
   ]
  },
  {
   "cell_type": "code",
   "execution_count": 350,
   "metadata": {},
   "outputs": [],
   "source": [
    "# Create a copy of the dataset because some columns are transforming to numeric\n",
    "rf_df = train_df\n",
    "# Convert variables to numeric values\n",
    "rf_df['Sex'] = rf_df['Sex'].replace(['female','male'],[0,1])\n",
    "\n",
    "train_df.loc[train_df['Survived'] == 'Deceased', 'Survived'] = 0 \n",
    "train_df.loc[train_df['Survived'] == 'Survived', 'Survived'] = 1\n",
    "\n",
    "train_df.loc[train_df['Pclass'] == 'First Class', 'Pclass'] = 1\n",
    "train_df.loc[train_df['Pclass'] == 'Second Class', 'Pclass'] = 2 \n",
    "train_df.loc[train_df['Pclass'] == 'Third Class' , 'Pclass'] = 3\n",
    "\n",
    "rf_df['Survived'] = rf_df['Survived'].astype('int')\n",
    "rf_df['Pclass'] = rf_df['Pclass'].astype('int')\n",
    "rf_df['mean_age'] = rf_df['mean_age'].astype('int')"
   ]
  },
  {
   "cell_type": "code",
   "execution_count": 351,
   "metadata": {},
   "outputs": [
    {
     "data": {
      "text/html": [
       "<div>\n",
       "<style scoped>\n",
       "    .dataframe tbody tr th:only-of-type {\n",
       "        vertical-align: middle;\n",
       "    }\n",
       "\n",
       "    .dataframe tbody tr th {\n",
       "        vertical-align: top;\n",
       "    }\n",
       "\n",
       "    .dataframe thead th {\n",
       "        text-align: right;\n",
       "    }\n",
       "</style>\n",
       "<table border=\"1\" class=\"dataframe\">\n",
       "  <thead>\n",
       "    <tr style=\"text-align: right;\">\n",
       "      <th></th>\n",
       "      <th>Pclass</th>\n",
       "      <th>Sex</th>\n",
       "      <th>SibSp</th>\n",
       "      <th>Parch</th>\n",
       "      <th>mean_age</th>\n",
       "    </tr>\n",
       "  </thead>\n",
       "  <tbody>\n",
       "    <tr>\n",
       "      <th>0</th>\n",
       "      <td>3</td>\n",
       "      <td>1</td>\n",
       "      <td>1</td>\n",
       "      <td>0</td>\n",
       "      <td>25</td>\n",
       "    </tr>\n",
       "    <tr>\n",
       "      <th>1</th>\n",
       "      <td>1</td>\n",
       "      <td>0</td>\n",
       "      <td>1</td>\n",
       "      <td>0</td>\n",
       "      <td>35</td>\n",
       "    </tr>\n",
       "    <tr>\n",
       "      <th>2</th>\n",
       "      <td>3</td>\n",
       "      <td>0</td>\n",
       "      <td>0</td>\n",
       "      <td>0</td>\n",
       "      <td>25</td>\n",
       "    </tr>\n",
       "    <tr>\n",
       "      <th>3</th>\n",
       "      <td>1</td>\n",
       "      <td>0</td>\n",
       "      <td>1</td>\n",
       "      <td>0</td>\n",
       "      <td>35</td>\n",
       "    </tr>\n",
       "    <tr>\n",
       "      <th>4</th>\n",
       "      <td>3</td>\n",
       "      <td>1</td>\n",
       "      <td>0</td>\n",
       "      <td>0</td>\n",
       "      <td>35</td>\n",
       "    </tr>\n",
       "    <tr>\n",
       "      <th>...</th>\n",
       "      <td>...</td>\n",
       "      <td>...</td>\n",
       "      <td>...</td>\n",
       "      <td>...</td>\n",
       "      <td>...</td>\n",
       "    </tr>\n",
       "    <tr>\n",
       "      <th>1304</th>\n",
       "      <td>3</td>\n",
       "      <td>1</td>\n",
       "      <td>0</td>\n",
       "      <td>0</td>\n",
       "      <td>25</td>\n",
       "    </tr>\n",
       "    <tr>\n",
       "      <th>1305</th>\n",
       "      <td>1</td>\n",
       "      <td>0</td>\n",
       "      <td>0</td>\n",
       "      <td>0</td>\n",
       "      <td>35</td>\n",
       "    </tr>\n",
       "    <tr>\n",
       "      <th>1306</th>\n",
       "      <td>3</td>\n",
       "      <td>1</td>\n",
       "      <td>0</td>\n",
       "      <td>0</td>\n",
       "      <td>35</td>\n",
       "    </tr>\n",
       "    <tr>\n",
       "      <th>1307</th>\n",
       "      <td>3</td>\n",
       "      <td>1</td>\n",
       "      <td>0</td>\n",
       "      <td>0</td>\n",
       "      <td>25</td>\n",
       "    </tr>\n",
       "    <tr>\n",
       "      <th>1308</th>\n",
       "      <td>3</td>\n",
       "      <td>1</td>\n",
       "      <td>1</td>\n",
       "      <td>1</td>\n",
       "      <td>25</td>\n",
       "    </tr>\n",
       "  </tbody>\n",
       "</table>\n",
       "<p>1309 rows × 5 columns</p>\n",
       "</div>"
      ],
      "text/plain": [
       "      Pclass  Sex  SibSp  Parch  mean_age\n",
       "0          3    1      1      0        25\n",
       "1          1    0      1      0        35\n",
       "2          3    0      0      0        25\n",
       "3          1    0      1      0        35\n",
       "4          3    1      0      0        35\n",
       "...      ...  ...    ...    ...       ...\n",
       "1304       3    1      0      0        25\n",
       "1305       1    0      0      0        35\n",
       "1306       3    1      0      0        35\n",
       "1307       3    1      0      0        25\n",
       "1308       3    1      1      1        25\n",
       "\n",
       "[1309 rows x 5 columns]"
      ]
     },
     "execution_count": 351,
     "metadata": {},
     "output_type": "execute_result"
    }
   ],
   "source": [
    "# split data into input and taget variable(s)\n",
    "X = rf_df.drop([\"Survived\", 'Name', 'Age', 'Ticket', 'Fare', 'PassengerId', 'Cabin', 'Embarked', 'age_group', 'child_adult'], axis = 1)\n",
    "y = rf_df[\"Survived\"]\n",
    "X"
   ]
  },
  {
   "cell_type": "code",
   "execution_count": 352,
   "metadata": {},
   "outputs": [],
   "source": [
    "# standardize the dataset\n",
    "scaler = StandardScaler()\n",
    "X_scaled = scaler.fit_transform(X)"
   ]
  },
  {
   "cell_type": "code",
   "execution_count": 353,
   "metadata": {},
   "outputs": [],
   "source": [
    "# split into train and test set\n",
    "X_train, X_test, y_train, y_test = train_test_split(\n",
    "    X_scaled, y, stratify=y, test_size=0.10, random_state=42\n",
    ")"
   ]
  },
  {
   "cell_type": "code",
   "execution_count": 354,
   "metadata": {},
   "outputs": [
    {
     "data": {
      "text/plain": [
       "RandomForestClassifier()"
      ]
     },
     "execution_count": 354,
     "metadata": {},
     "output_type": "execute_result"
    }
   ],
   "source": [
    "# create the classifier\n",
    "classifier = RandomForestClassifier(n_estimators=100)\n",
    "\n",
    "# Train the model using the training sets\n",
    "classifier.fit(X_train, y_train)"
   ]
  },
  {
   "cell_type": "code",
   "execution_count": 355,
   "metadata": {},
   "outputs": [],
   "source": [
    "# predictin on the test set\n",
    "y_pred = classifier.predict(X_test)"
   ]
  },
  {
   "cell_type": "code",
   "execution_count": 356,
   "metadata": {},
   "outputs": [
    {
     "name": "stdout",
     "output_type": "stream",
     "text": [
      "Accuracy: 0.8244274809160306\n"
     ]
    }
   ],
   "source": [
    "# Calculate Model Accuracy\n",
    "print(\"Accuracy:\", accuracy_score(y_test, y_pred))"
   ]
  }
 ],
 "metadata": {
  "interpreter": {
   "hash": "024b0ec20e0d15234e64dcdb6e92be1c0d04982ef803d66a55eaacbdf0b91525"
  },
  "kernelspec": {
   "display_name": "Python 3.9.7 ('HelloWorld': conda)",
   "language": "python",
   "name": "python3"
  },
  "language_info": {
   "codemirror_mode": {
    "name": "ipython",
    "version": 3
   },
   "file_extension": ".py",
   "mimetype": "text/x-python",
   "name": "python",
   "nbconvert_exporter": "python",
   "pygments_lexer": "ipython3",
   "version": "3.9.7"
  },
  "orig_nbformat": 4
 },
 "nbformat": 4,
 "nbformat_minor": 2
}
