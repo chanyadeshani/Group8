{
 "cells": [
  {
   "cell_type": "code",
   "execution_count": 518,
   "metadata": {},
   "outputs": [],
   "source": [
    "# Importing the important libraries needed for Data Manipulation, classification and Analysis\n",
    "from sklearn.preprocessing import LabelEncoder\n",
    "from sklearn import metrics\n",
    "from sklearn.impute import SimpleImputer\n",
    "from sklearn import set_config\n",
    "from sklearn.compose import make_column_transformer\n",
    "from sklearn.pipeline import make_pipeline\n",
    "from sklearn.neighbors import KNeighborsClassifier\n",
    "from sklearn.ensemble import RandomForestClassifier\n",
    "from sklearn.preprocessing import StandardScaler, MinMaxScaler\n",
    "from sklearn.preprocessing import StandardScaler\n",
    "import seaborn as sns\n",
    "from sklearn.datasets import load_digits\n",
    "from sklearn.model_selection import train_test_split\n",
    "from sklearn.linear_model import LogisticRegression\n",
    "from sklearn.metrics import accuracy_score\n",
    "import pandas as pd\n",
    "import numpy as np\n",
    "import re\n",
    "from math import isnan\n",
    "import matplotlib.pyplot as plt\n",
    "\n",
    "%matplotlib inline\n",
    "\n",
    "digits = load_digits()\n"
   ]
  },
  {
   "cell_type": "markdown",
   "metadata": {},
   "source": [
    "# Importing and merging data"
   ]
  },
  {
   "cell_type": "code",
   "execution_count": 519,
   "metadata": {},
   "outputs": [],
   "source": [
    "# Importing data from github repository\n",
    "# From pandas, read_csv method is used and url to the file in git repository is provided.\n",
    "# Index = 1 is used so the dataframe will have a index column\n",
    "url_test = 'https://raw.githubusercontent.com/chanyadeshani/data/main/test.csv'\n",
    "df_test = pd.read_csv(url_test, index_col=0)\n",
    "url_target = 'https://raw.githubusercontent.com/chanyadeshani/data/main/gender_submission.csv'\n",
    "df_target = pd.read_csv(url_target, index_col=0)\n",
    "url_train = 'https://raw.githubusercontent.com/chanyadeshani/data/main/train.csv'\n",
    "df_train = pd.read_csv(url_train, index_col=0)\n"
   ]
  },
  {
   "cell_type": "code",
   "execution_count": 520,
   "metadata": {},
   "outputs": [],
   "source": [
    "# Merge the dataset using PassengerId as a key and using right join\n",
    "# (all the rows from df_gender_submission and only matching rows from df_test)\n",
    "result = pd.merge(df_target, df_test, how='right', on=['PassengerId'])\n",
    "# Concatenating df_train and result dataframe\n",
    "train_df = pd.concat([df_train, result], ignore_index=True)\n"
   ]
  },
  {
   "cell_type": "code",
   "execution_count": 521,
   "metadata": {},
   "outputs": [
    {
     "data": {
      "text/html": [
       "<div>\n",
       "<style scoped>\n",
       "    .dataframe tbody tr th:only-of-type {\n",
       "        vertical-align: middle;\n",
       "    }\n",
       "\n",
       "    .dataframe tbody tr th {\n",
       "        vertical-align: top;\n",
       "    }\n",
       "\n",
       "    .dataframe thead th {\n",
       "        text-align: right;\n",
       "    }\n",
       "</style>\n",
       "<table border=\"1\" class=\"dataframe\">\n",
       "  <thead>\n",
       "    <tr style=\"text-align: right;\">\n",
       "      <th></th>\n",
       "      <th>Survived</th>\n",
       "      <th>Pclass</th>\n",
       "      <th>Name</th>\n",
       "      <th>Sex</th>\n",
       "      <th>Age</th>\n",
       "      <th>SibSp</th>\n",
       "      <th>Parch</th>\n",
       "      <th>Ticket</th>\n",
       "      <th>Fare</th>\n",
       "      <th>Cabin</th>\n",
       "      <th>Embarked</th>\n",
       "    </tr>\n",
       "  </thead>\n",
       "  <tbody>\n",
       "    <tr>\n",
       "      <th>0</th>\n",
       "      <td>0</td>\n",
       "      <td>3</td>\n",
       "      <td>Braund, Mr. Owen Harris</td>\n",
       "      <td>male</td>\n",
       "      <td>22.0</td>\n",
       "      <td>1</td>\n",
       "      <td>0</td>\n",
       "      <td>A/5 21171</td>\n",
       "      <td>7.2500</td>\n",
       "      <td>NaN</td>\n",
       "      <td>S</td>\n",
       "    </tr>\n",
       "    <tr>\n",
       "      <th>1</th>\n",
       "      <td>1</td>\n",
       "      <td>1</td>\n",
       "      <td>Cumings, Mrs. John Bradley (Florence Briggs Th...</td>\n",
       "      <td>female</td>\n",
       "      <td>38.0</td>\n",
       "      <td>1</td>\n",
       "      <td>0</td>\n",
       "      <td>PC 17599</td>\n",
       "      <td>71.2833</td>\n",
       "      <td>C85</td>\n",
       "      <td>C</td>\n",
       "    </tr>\n",
       "    <tr>\n",
       "      <th>2</th>\n",
       "      <td>1</td>\n",
       "      <td>3</td>\n",
       "      <td>Heikkinen, Miss. Laina</td>\n",
       "      <td>female</td>\n",
       "      <td>26.0</td>\n",
       "      <td>0</td>\n",
       "      <td>0</td>\n",
       "      <td>STON/O2. 3101282</td>\n",
       "      <td>7.9250</td>\n",
       "      <td>NaN</td>\n",
       "      <td>S</td>\n",
       "    </tr>\n",
       "    <tr>\n",
       "      <th>3</th>\n",
       "      <td>1</td>\n",
       "      <td>1</td>\n",
       "      <td>Futrelle, Mrs. Jacques Heath (Lily May Peel)</td>\n",
       "      <td>female</td>\n",
       "      <td>35.0</td>\n",
       "      <td>1</td>\n",
       "      <td>0</td>\n",
       "      <td>113803</td>\n",
       "      <td>53.1000</td>\n",
       "      <td>C123</td>\n",
       "      <td>S</td>\n",
       "    </tr>\n",
       "    <tr>\n",
       "      <th>4</th>\n",
       "      <td>0</td>\n",
       "      <td>3</td>\n",
       "      <td>Allen, Mr. William Henry</td>\n",
       "      <td>male</td>\n",
       "      <td>35.0</td>\n",
       "      <td>0</td>\n",
       "      <td>0</td>\n",
       "      <td>373450</td>\n",
       "      <td>8.0500</td>\n",
       "      <td>NaN</td>\n",
       "      <td>S</td>\n",
       "    </tr>\n",
       "    <tr>\n",
       "      <th>...</th>\n",
       "      <td>...</td>\n",
       "      <td>...</td>\n",
       "      <td>...</td>\n",
       "      <td>...</td>\n",
       "      <td>...</td>\n",
       "      <td>...</td>\n",
       "      <td>...</td>\n",
       "      <td>...</td>\n",
       "      <td>...</td>\n",
       "      <td>...</td>\n",
       "      <td>...</td>\n",
       "    </tr>\n",
       "    <tr>\n",
       "      <th>1304</th>\n",
       "      <td>0</td>\n",
       "      <td>3</td>\n",
       "      <td>Spector, Mr. Woolf</td>\n",
       "      <td>male</td>\n",
       "      <td>NaN</td>\n",
       "      <td>0</td>\n",
       "      <td>0</td>\n",
       "      <td>A.5. 3236</td>\n",
       "      <td>8.0500</td>\n",
       "      <td>NaN</td>\n",
       "      <td>S</td>\n",
       "    </tr>\n",
       "    <tr>\n",
       "      <th>1305</th>\n",
       "      <td>1</td>\n",
       "      <td>1</td>\n",
       "      <td>Oliva y Ocana, Dona. Fermina</td>\n",
       "      <td>female</td>\n",
       "      <td>39.0</td>\n",
       "      <td>0</td>\n",
       "      <td>0</td>\n",
       "      <td>PC 17758</td>\n",
       "      <td>108.9000</td>\n",
       "      <td>C105</td>\n",
       "      <td>C</td>\n",
       "    </tr>\n",
       "    <tr>\n",
       "      <th>1306</th>\n",
       "      <td>0</td>\n",
       "      <td>3</td>\n",
       "      <td>Saether, Mr. Simon Sivertsen</td>\n",
       "      <td>male</td>\n",
       "      <td>38.5</td>\n",
       "      <td>0</td>\n",
       "      <td>0</td>\n",
       "      <td>SOTON/O.Q. 3101262</td>\n",
       "      <td>7.2500</td>\n",
       "      <td>NaN</td>\n",
       "      <td>S</td>\n",
       "    </tr>\n",
       "    <tr>\n",
       "      <th>1307</th>\n",
       "      <td>0</td>\n",
       "      <td>3</td>\n",
       "      <td>Ware, Mr. Frederick</td>\n",
       "      <td>male</td>\n",
       "      <td>NaN</td>\n",
       "      <td>0</td>\n",
       "      <td>0</td>\n",
       "      <td>359309</td>\n",
       "      <td>8.0500</td>\n",
       "      <td>NaN</td>\n",
       "      <td>S</td>\n",
       "    </tr>\n",
       "    <tr>\n",
       "      <th>1308</th>\n",
       "      <td>0</td>\n",
       "      <td>3</td>\n",
       "      <td>Peter, Master. Michael J</td>\n",
       "      <td>male</td>\n",
       "      <td>NaN</td>\n",
       "      <td>1</td>\n",
       "      <td>1</td>\n",
       "      <td>2668</td>\n",
       "      <td>22.3583</td>\n",
       "      <td>NaN</td>\n",
       "      <td>C</td>\n",
       "    </tr>\n",
       "  </tbody>\n",
       "</table>\n",
       "<p>1309 rows × 11 columns</p>\n",
       "</div>"
      ],
      "text/plain": [
       "      Survived  Pclass                                               Name  \\\n",
       "0            0       3                            Braund, Mr. Owen Harris   \n",
       "1            1       1  Cumings, Mrs. John Bradley (Florence Briggs Th...   \n",
       "2            1       3                             Heikkinen, Miss. Laina   \n",
       "3            1       1       Futrelle, Mrs. Jacques Heath (Lily May Peel)   \n",
       "4            0       3                           Allen, Mr. William Henry   \n",
       "...        ...     ...                                                ...   \n",
       "1304         0       3                                 Spector, Mr. Woolf   \n",
       "1305         1       1                       Oliva y Ocana, Dona. Fermina   \n",
       "1306         0       3                       Saether, Mr. Simon Sivertsen   \n",
       "1307         0       3                                Ware, Mr. Frederick   \n",
       "1308         0       3                           Peter, Master. Michael J   \n",
       "\n",
       "         Sex   Age  SibSp  Parch              Ticket      Fare Cabin Embarked  \n",
       "0       male  22.0      1      0           A/5 21171    7.2500   NaN        S  \n",
       "1     female  38.0      1      0            PC 17599   71.2833   C85        C  \n",
       "2     female  26.0      0      0    STON/O2. 3101282    7.9250   NaN        S  \n",
       "3     female  35.0      1      0              113803   53.1000  C123        S  \n",
       "4       male  35.0      0      0              373450    8.0500   NaN        S  \n",
       "...      ...   ...    ...    ...                 ...       ...   ...      ...  \n",
       "1304    male   NaN      0      0           A.5. 3236    8.0500   NaN        S  \n",
       "1305  female  39.0      0      0            PC 17758  108.9000  C105        C  \n",
       "1306    male  38.5      0      0  SOTON/O.Q. 3101262    7.2500   NaN        S  \n",
       "1307    male   NaN      0      0              359309    8.0500   NaN        S  \n",
       "1308    male   NaN      1      1                2668   22.3583   NaN        C  \n",
       "\n",
       "[1309 rows x 11 columns]"
      ]
     },
     "execution_count": 521,
     "metadata": {},
     "output_type": "execute_result"
    }
   ],
   "source": [
    "train_df\n"
   ]
  },
  {
   "cell_type": "markdown",
   "metadata": {},
   "source": [
    "# Initial exploration"
   ]
  },
  {
   "cell_type": "code",
   "execution_count": 522,
   "metadata": {},
   "outputs": [
    {
     "data": {
      "text/html": [
       "<div>\n",
       "<style scoped>\n",
       "    .dataframe tbody tr th:only-of-type {\n",
       "        vertical-align: middle;\n",
       "    }\n",
       "\n",
       "    .dataframe tbody tr th {\n",
       "        vertical-align: top;\n",
       "    }\n",
       "\n",
       "    .dataframe thead th {\n",
       "        text-align: right;\n",
       "    }\n",
       "</style>\n",
       "<table border=\"1\" class=\"dataframe\">\n",
       "  <thead>\n",
       "    <tr style=\"text-align: right;\">\n",
       "      <th></th>\n",
       "      <th>Survived</th>\n",
       "      <th>Pclass</th>\n",
       "      <th>Name</th>\n",
       "      <th>Sex</th>\n",
       "      <th>Age</th>\n",
       "      <th>SibSp</th>\n",
       "      <th>Parch</th>\n",
       "      <th>Ticket</th>\n",
       "      <th>Fare</th>\n",
       "      <th>Cabin</th>\n",
       "      <th>Embarked</th>\n",
       "    </tr>\n",
       "  </thead>\n",
       "  <tbody>\n",
       "    <tr>\n",
       "      <th>0</th>\n",
       "      <td>0</td>\n",
       "      <td>3</td>\n",
       "      <td>Braund, Mr. Owen Harris</td>\n",
       "      <td>male</td>\n",
       "      <td>22.0</td>\n",
       "      <td>1</td>\n",
       "      <td>0</td>\n",
       "      <td>A/5 21171</td>\n",
       "      <td>7.2500</td>\n",
       "      <td>NaN</td>\n",
       "      <td>S</td>\n",
       "    </tr>\n",
       "    <tr>\n",
       "      <th>1</th>\n",
       "      <td>1</td>\n",
       "      <td>1</td>\n",
       "      <td>Cumings, Mrs. John Bradley (Florence Briggs Th...</td>\n",
       "      <td>female</td>\n",
       "      <td>38.0</td>\n",
       "      <td>1</td>\n",
       "      <td>0</td>\n",
       "      <td>PC 17599</td>\n",
       "      <td>71.2833</td>\n",
       "      <td>C85</td>\n",
       "      <td>C</td>\n",
       "    </tr>\n",
       "    <tr>\n",
       "      <th>2</th>\n",
       "      <td>1</td>\n",
       "      <td>3</td>\n",
       "      <td>Heikkinen, Miss. Laina</td>\n",
       "      <td>female</td>\n",
       "      <td>26.0</td>\n",
       "      <td>0</td>\n",
       "      <td>0</td>\n",
       "      <td>STON/O2. 3101282</td>\n",
       "      <td>7.9250</td>\n",
       "      <td>NaN</td>\n",
       "      <td>S</td>\n",
       "    </tr>\n",
       "  </tbody>\n",
       "</table>\n",
       "</div>"
      ],
      "text/plain": [
       "   Survived  Pclass                                               Name  \\\n",
       "0         0       3                            Braund, Mr. Owen Harris   \n",
       "1         1       1  Cumings, Mrs. John Bradley (Florence Briggs Th...   \n",
       "2         1       3                             Heikkinen, Miss. Laina   \n",
       "\n",
       "      Sex   Age  SibSp  Parch            Ticket     Fare Cabin Embarked  \n",
       "0    male  22.0      1      0         A/5 21171   7.2500   NaN        S  \n",
       "1  female  38.0      1      0          PC 17599  71.2833   C85        C  \n",
       "2  female  26.0      0      0  STON/O2. 3101282   7.9250   NaN        S  "
      ]
     },
     "execution_count": 522,
     "metadata": {},
     "output_type": "execute_result"
    }
   ],
   "source": [
    "# Check first 3 rows of the data\n",
    "train_df.head(3)\n"
   ]
  },
  {
   "cell_type": "code",
   "execution_count": 523,
   "metadata": {},
   "outputs": [
    {
     "data": {
      "text/html": [
       "<div>\n",
       "<style scoped>\n",
       "    .dataframe tbody tr th:only-of-type {\n",
       "        vertical-align: middle;\n",
       "    }\n",
       "\n",
       "    .dataframe tbody tr th {\n",
       "        vertical-align: top;\n",
       "    }\n",
       "\n",
       "    .dataframe thead th {\n",
       "        text-align: right;\n",
       "    }\n",
       "</style>\n",
       "<table border=\"1\" class=\"dataframe\">\n",
       "  <thead>\n",
       "    <tr style=\"text-align: right;\">\n",
       "      <th></th>\n",
       "      <th>Survived</th>\n",
       "      <th>Pclass</th>\n",
       "      <th>Name</th>\n",
       "      <th>Sex</th>\n",
       "      <th>Age</th>\n",
       "      <th>SibSp</th>\n",
       "      <th>Parch</th>\n",
       "      <th>Ticket</th>\n",
       "      <th>Fare</th>\n",
       "      <th>Cabin</th>\n",
       "      <th>Embarked</th>\n",
       "    </tr>\n",
       "  </thead>\n",
       "  <tbody>\n",
       "    <tr>\n",
       "      <th>0</th>\n",
       "      <td>0</td>\n",
       "      <td>3</td>\n",
       "      <td>Braund, Mr. Owen Harris</td>\n",
       "      <td>male</td>\n",
       "      <td>22.0</td>\n",
       "      <td>1</td>\n",
       "      <td>0</td>\n",
       "      <td>A/5 21171</td>\n",
       "      <td>7.2500</td>\n",
       "      <td>NaN</td>\n",
       "      <td>S</td>\n",
       "    </tr>\n",
       "    <tr>\n",
       "      <th>1</th>\n",
       "      <td>1</td>\n",
       "      <td>1</td>\n",
       "      <td>Cumings, Mrs. John Bradley (Florence Briggs Th...</td>\n",
       "      <td>female</td>\n",
       "      <td>38.0</td>\n",
       "      <td>1</td>\n",
       "      <td>0</td>\n",
       "      <td>PC 17599</td>\n",
       "      <td>71.2833</td>\n",
       "      <td>C85</td>\n",
       "      <td>C</td>\n",
       "    </tr>\n",
       "    <tr>\n",
       "      <th>2</th>\n",
       "      <td>1</td>\n",
       "      <td>3</td>\n",
       "      <td>Heikkinen, Miss. Laina</td>\n",
       "      <td>female</td>\n",
       "      <td>26.0</td>\n",
       "      <td>0</td>\n",
       "      <td>0</td>\n",
       "      <td>STON/O2. 3101282</td>\n",
       "      <td>7.9250</td>\n",
       "      <td>NaN</td>\n",
       "      <td>S</td>\n",
       "    </tr>\n",
       "    <tr>\n",
       "      <th>3</th>\n",
       "      <td>1</td>\n",
       "      <td>1</td>\n",
       "      <td>Futrelle, Mrs. Jacques Heath (Lily May Peel)</td>\n",
       "      <td>female</td>\n",
       "      <td>35.0</td>\n",
       "      <td>1</td>\n",
       "      <td>0</td>\n",
       "      <td>113803</td>\n",
       "      <td>53.1000</td>\n",
       "      <td>C123</td>\n",
       "      <td>S</td>\n",
       "    </tr>\n",
       "    <tr>\n",
       "      <th>4</th>\n",
       "      <td>0</td>\n",
       "      <td>3</td>\n",
       "      <td>Allen, Mr. William Henry</td>\n",
       "      <td>male</td>\n",
       "      <td>35.0</td>\n",
       "      <td>0</td>\n",
       "      <td>0</td>\n",
       "      <td>373450</td>\n",
       "      <td>8.0500</td>\n",
       "      <td>NaN</td>\n",
       "      <td>S</td>\n",
       "    </tr>\n",
       "    <tr>\n",
       "      <th>...</th>\n",
       "      <td>...</td>\n",
       "      <td>...</td>\n",
       "      <td>...</td>\n",
       "      <td>...</td>\n",
       "      <td>...</td>\n",
       "      <td>...</td>\n",
       "      <td>...</td>\n",
       "      <td>...</td>\n",
       "      <td>...</td>\n",
       "      <td>...</td>\n",
       "      <td>...</td>\n",
       "    </tr>\n",
       "    <tr>\n",
       "      <th>1304</th>\n",
       "      <td>0</td>\n",
       "      <td>3</td>\n",
       "      <td>Spector, Mr. Woolf</td>\n",
       "      <td>male</td>\n",
       "      <td>NaN</td>\n",
       "      <td>0</td>\n",
       "      <td>0</td>\n",
       "      <td>A.5. 3236</td>\n",
       "      <td>8.0500</td>\n",
       "      <td>NaN</td>\n",
       "      <td>S</td>\n",
       "    </tr>\n",
       "    <tr>\n",
       "      <th>1305</th>\n",
       "      <td>1</td>\n",
       "      <td>1</td>\n",
       "      <td>Oliva y Ocana, Dona. Fermina</td>\n",
       "      <td>female</td>\n",
       "      <td>39.0</td>\n",
       "      <td>0</td>\n",
       "      <td>0</td>\n",
       "      <td>PC 17758</td>\n",
       "      <td>108.9000</td>\n",
       "      <td>C105</td>\n",
       "      <td>C</td>\n",
       "    </tr>\n",
       "    <tr>\n",
       "      <th>1306</th>\n",
       "      <td>0</td>\n",
       "      <td>3</td>\n",
       "      <td>Saether, Mr. Simon Sivertsen</td>\n",
       "      <td>male</td>\n",
       "      <td>38.5</td>\n",
       "      <td>0</td>\n",
       "      <td>0</td>\n",
       "      <td>SOTON/O.Q. 3101262</td>\n",
       "      <td>7.2500</td>\n",
       "      <td>NaN</td>\n",
       "      <td>S</td>\n",
       "    </tr>\n",
       "    <tr>\n",
       "      <th>1307</th>\n",
       "      <td>0</td>\n",
       "      <td>3</td>\n",
       "      <td>Ware, Mr. Frederick</td>\n",
       "      <td>male</td>\n",
       "      <td>NaN</td>\n",
       "      <td>0</td>\n",
       "      <td>0</td>\n",
       "      <td>359309</td>\n",
       "      <td>8.0500</td>\n",
       "      <td>NaN</td>\n",
       "      <td>S</td>\n",
       "    </tr>\n",
       "    <tr>\n",
       "      <th>1308</th>\n",
       "      <td>0</td>\n",
       "      <td>3</td>\n",
       "      <td>Peter, Master. Michael J</td>\n",
       "      <td>male</td>\n",
       "      <td>NaN</td>\n",
       "      <td>1</td>\n",
       "      <td>1</td>\n",
       "      <td>2668</td>\n",
       "      <td>22.3583</td>\n",
       "      <td>NaN</td>\n",
       "      <td>C</td>\n",
       "    </tr>\n",
       "  </tbody>\n",
       "</table>\n",
       "<p>1309 rows × 11 columns</p>\n",
       "</div>"
      ],
      "text/plain": [
       "      Survived  Pclass                                               Name  \\\n",
       "0            0       3                            Braund, Mr. Owen Harris   \n",
       "1            1       1  Cumings, Mrs. John Bradley (Florence Briggs Th...   \n",
       "2            1       3                             Heikkinen, Miss. Laina   \n",
       "3            1       1       Futrelle, Mrs. Jacques Heath (Lily May Peel)   \n",
       "4            0       3                           Allen, Mr. William Henry   \n",
       "...        ...     ...                                                ...   \n",
       "1304         0       3                                 Spector, Mr. Woolf   \n",
       "1305         1       1                       Oliva y Ocana, Dona. Fermina   \n",
       "1306         0       3                       Saether, Mr. Simon Sivertsen   \n",
       "1307         0       3                                Ware, Mr. Frederick   \n",
       "1308         0       3                           Peter, Master. Michael J   \n",
       "\n",
       "         Sex   Age  SibSp  Parch              Ticket      Fare Cabin Embarked  \n",
       "0       male  22.0      1      0           A/5 21171    7.2500   NaN        S  \n",
       "1     female  38.0      1      0            PC 17599   71.2833   C85        C  \n",
       "2     female  26.0      0      0    STON/O2. 3101282    7.9250   NaN        S  \n",
       "3     female  35.0      1      0              113803   53.1000  C123        S  \n",
       "4       male  35.0      0      0              373450    8.0500   NaN        S  \n",
       "...      ...   ...    ...    ...                 ...       ...   ...      ...  \n",
       "1304    male   NaN      0      0           A.5. 3236    8.0500   NaN        S  \n",
       "1305  female  39.0      0      0            PC 17758  108.9000  C105        C  \n",
       "1306    male  38.5      0      0  SOTON/O.Q. 3101262    7.2500   NaN        S  \n",
       "1307    male   NaN      0      0              359309    8.0500   NaN        S  \n",
       "1308    male   NaN      1      1                2668   22.3583   NaN        C  \n",
       "\n",
       "[1309 rows x 11 columns]"
      ]
     },
     "execution_count": 523,
     "metadata": {},
     "output_type": "execute_result"
    }
   ],
   "source": [
    "# Print first few rows and last few rows\n",
    "train_df\n"
   ]
  },
  {
   "cell_type": "code",
   "execution_count": 524,
   "metadata": {},
   "outputs": [
    {
     "data": {
      "text/plain": [
       "Survived      int64\n",
       "Pclass        int64\n",
       "Name         object\n",
       "Sex          object\n",
       "Age         float64\n",
       "SibSp         int64\n",
       "Parch         int64\n",
       "Ticket       object\n",
       "Fare        float64\n",
       "Cabin        object\n",
       "Embarked     object\n",
       "dtype: object"
      ]
     },
     "execution_count": 524,
     "metadata": {},
     "output_type": "execute_result"
    }
   ],
   "source": [
    "# Check data types\n",
    "train_df.dtypes\n"
   ]
  },
  {
   "cell_type": "markdown",
   "metadata": {},
   "source": [
    "Combining the result from the previous step, when using *head* method of the Dataframe class,\n",
    "it is clear that all the *object* data types are *Strings*"
   ]
  },
  {
   "cell_type": "code",
   "execution_count": 525,
   "metadata": {},
   "outputs": [
    {
     "data": {
      "text/plain": [
       "(1309, 11)"
      ]
     },
     "execution_count": 525,
     "metadata": {},
     "output_type": "execute_result"
    }
   ],
   "source": [
    "# Print number of rows and columns\n",
    "train_df.shape\n"
   ]
  },
  {
   "cell_type": "code",
   "execution_count": 526,
   "metadata": {},
   "outputs": [
    {
     "name": "stdout",
     "output_type": "stream",
     "text": [
      "\tData description\n",
      "*****************************************\n",
      "•\tPassengerId: Id of every passenger.\n",
      "•\tSurvived: This feature have value 0 and 1. 0 for not survived and 1 for survived.\n",
      "•\tPclass: There are 3 classes: Class 1, Class 2 and Class 3.\n",
      "•\tName: Name of passenger.\n",
      "•\tSex: Gender of passenger.\n",
      "•\tAge: Age of passenger.\n",
      "•\tSibSp: Indication that passenger have siblings and spouse.\n",
      "•\tParch: Whether a passenger is alone or have family.\n",
      "•\tTicket: Ticket number of passenger.\n",
      "•\tFare: Indicating the fare.\n",
      "•\tCabin: The cabin of passenger.\n",
      "•\tEmbarked: The embarked category\n"
     ]
    }
   ],
   "source": [
    "print('\\tData description')\n",
    "print('*****************************************')\n",
    "\n",
    "''' Within the three quatition (i.e ''' '''), it is posible to display a pragraph as it is.\n",
    "Therefore new line can be enter typing a sentence in a new line or using \\n'''\n",
    "print('''•\\tPassengerId: Id of every passenger.\\n•\\tSurvived: This feature have value 0 and 1. 0 for not survived and 1 for survived.\n",
    "•\\tPclass: There are 3 classes: Class 1, Class 2 and Class 3.\\n•\\tName: Name of passenger.\\n•\\tSex: Gender of passenger.\n",
    "•\\tAge: Age of passenger.\\n•\\tSibSp: Indication that passenger have siblings and spouse.\\n•\\tParch: Whether a passenger is alone or have family.\n",
    "•\\tTicket: Ticket number of passenger.\\n•\\tFare: Indicating the fare.\\n•\\tCabin: The cabin of passenger.\\n•\\tEmbarked: The embarked category''')\n"
   ]
  },
  {
   "cell_type": "markdown",
   "metadata": {},
   "source": [
    "## Exploring data to identify Anomalies/ Missing Data\n"
   ]
  },
  {
   "cell_type": "code",
   "execution_count": 527,
   "metadata": {},
   "outputs": [
    {
     "name": "stdout",
     "output_type": "stream",
     "text": [
      "Number of unique values in each columns\n",
      "Survived   2\n",
      "Pclass   3\n",
      "Name   1307\n",
      "Sex   2\n",
      "Age   98\n",
      "SibSp   7\n",
      "Parch   8\n",
      "Ticket   929\n",
      "Fare   281\n",
      "Cabin   186\n",
      "Embarked   3\n",
      "It is clear when look at the number of unique values, that there are 1309 rows in the dataframe. However, only 1307 unique values in the Name column. This raise the suspision that there may be duplicate entries in the data set\n"
     ]
    }
   ],
   "source": [
    "# check the unique values count\n",
    "print('Number of unique values in each columns')\n",
    "for col in train_df.columns:\n",
    "    print(str(col) + '   ' + str(train_df[col].nunique()))\n",
    "print(\n",
    "    f'It is clear when look at the number of unique values, that there are {len(train_df)} rows in the dataframe. However, only {train_df.Name.nunique()} unique values in the Name column. This raise the suspision that there may be duplicate entries in the data set')\n"
   ]
  },
  {
   "cell_type": "code",
   "execution_count": 528,
   "metadata": {},
   "outputs": [
    {
     "name": "stdout",
     "output_type": "stream",
     "text": [
      "Empty DataFrame\n",
      "Columns: [Survived, Pclass, Name, Sex, Age, SibSp, Parch, Ticket, Fare, Cabin, Embarked]\n",
      "Index: []\n",
      "The empty data frame shows that there are no duplicate rows\n"
     ]
    }
   ],
   "source": [
    "# Print if there is any duplicated entries\n",
    "print(train_df[train_df.duplicated()])\n",
    "print(\"The empty data frame shows that there are no duplicate rows\")"
   ]
  },
  {
   "cell_type": "code",
   "execution_count": 529,
   "metadata": {},
   "outputs": [
    {
     "data": {
      "image/png": "[encoded data removed]",
      "text/plain": [
       "<Figure size 720x432 with 1 Axes>"
      ]
     },
     "metadata": {
      "needs_background": "light"
     },
     "output_type": "display_data"
    }
   ],
   "source": [
    "# This is a graphical presentation of the variable where there is missing data in the data set\n",
    "\n",
    "# the figsize help zoom our plot to give a better visible view\n",
    "plt.subplots(figsize=(10, 6))\n",
    "sns.heatmap(train_df.isnull(), cbar=False, cmap=\"YlGnBu_r\")\n",
    "\n",
    "categorical_variable = ['Survived', 'Sex',\n",
    "                        'Pclass', 'SibSp', 'Parch', 'Embarked']\n"
   ]
  },
  {
   "cell_type": "code",
   "execution_count": 530,
   "metadata": {},
   "outputs": [
    {
     "data": {
      "image/png": "[encoded data removed]",
      "text/plain": [
       "<Figure size 576x432 with 1 Axes>"
      ]
     },
     "metadata": {
      "needs_background": "light"
     },
     "output_type": "display_data"
    }
   ],
   "source": [
    "# Plotting the missing values of the Title column\n",
    "# Can use semicolan to avoid printing unnecessry lines in the output\n",
    "total = df_train.isnull().sum().sort_values(ascending=False)\n",
    "percent = (df_train.isnull().sum()/df_train.isnull().count()\n",
    "           ).sort_values(ascending=False)\n",
    "missing_data = pd.concat([total, percent], axis=1, keys=['Total', 'Percent'])\n",
    "percent_data = percent.head(20)\n",
    "percent_data.plot(kind=\"bar\", figsize=(8, 6), fontsize=10)\n",
    "plt.xlabel(\"\", fontsize=20)\n",
    "plt.ylabel(\"\", fontsize=20)\n",
    "plt.title(\"Total Missing Value (%)\", fontsize=20);\n"
   ]
  },
  {
   "cell_type": "code",
   "execution_count": 531,
   "metadata": {},
   "outputs": [
    {
     "name": "stdout",
     "output_type": "stream",
     "text": [
      "Survived: 0.0%\n",
      "Pclass: 0.0%\n",
      "Name: 0.0%\n",
      "Sex: 0.0%\n",
      "Age: 20.0917%\n",
      "SibSp: 0.0%\n",
      "Parch: 0.0%\n",
      "Ticket: 0.0%\n",
      "Fare: 0.0764%\n",
      "Cabin: 77.4637%\n",
      "Embarked: 0.1528%\n"
     ]
    }
   ],
   "source": [
    "# Percentage of rows missing in each column\n",
    "for column in train_df.columns:\n",
    "    percentage = train_df[column].isnull().mean()\n",
    "    print(f'{column}: {round(percentage*100,4)}%')\n"
   ]
  },
  {
   "cell_type": "code",
   "execution_count": 532,
   "metadata": {},
   "outputs": [
    {
     "data": {
      "image/png": "[encoded data removed]",
      "text/plain": [
       "<Figure size 756x432 with 6 Axes>"
      ]
     },
     "metadata": {
      "needs_background": "light"
     },
     "output_type": "display_data"
    }
   ],
   "source": [
    "'Our desired number of plot row and column size'\n",
    "categorical_plot_nrows = 2\n",
    "categorical_plot_ncols = 3\n",
    "\n",
    "fig, axs = plt.subplots(categorical_plot_nrows, categorical_plot_ncols, figsize=(\n",
    "    categorical_plot_ncols*3.5, categorical_plot_nrows*3))\n",
    "\n",
    "for r in range(0, categorical_plot_nrows):\n",
    "    for c in range(0, categorical_plot_ncols):\n",
    "        i = r*categorical_plot_ncols+c\n",
    "        ax = axs[r][c]\n",
    "        sns.countplot(x=train_df[categorical_variable[i]],\n",
    "                      hue=train_df[\"Survived\"], ax=ax)\n",
    "        ax.set_title(categorical_variable[i], fontsize=12, fontweight=\"bold\")\n",
    "        ax.legend(title=\"Survived\", loc='upper center')\n",
    "\n",
    "plt.tight_layout()\n"
   ]
  },
  {
   "cell_type": "code",
   "execution_count": 533,
   "metadata": {},
   "outputs": [
    {
     "data": {
      "image/png": "[encoded data removed]",
      "text/plain": [
       "<Figure size 360x360 with 1 Axes>"
      ]
     },
     "metadata": {
      "needs_background": "light"
     },
     "output_type": "display_data"
    }
   ],
   "source": [
    "sns.displot(train_df['Age'], kde=False, bins=10).set(\n",
    "    title=\"Distribution of Age\");\n"
   ]
  },
  {
   "cell_type": "code",
   "execution_count": 534,
   "metadata": {},
   "outputs": [
    {
     "data": {
      "image/png": "[encoded data removed]",
      "text/plain": [
       "<Figure size 432x288 with 1 Axes>"
      ]
     },
     "metadata": {
      "needs_background": "light"
     },
     "output_type": "display_data"
    }
   ],
   "source": [
    "sns.barplot(x='Pclass', y='Survived', data=train_df)\n",
    "plt.ylabel(\"Survival Rate\")\n",
    "plt.title(\"Survival as function of Pclass\")\n",
    "plt.show()\n"
   ]
  },
  {
   "cell_type": "code",
   "execution_count": 535,
   "metadata": {},
   "outputs": [
    {
     "data": {
      "image/png": "[encoded data removed]",
      "text/plain": [
       "<Figure size 1008x504 with 1 Axes>"
      ]
     },
     "metadata": {
      "needs_background": "light"
     },
     "output_type": "display_data"
    }
   ],
   "source": [
    "swarm_color = [\"red\", \"green\"]\n",
    "fig, ax = plt.subplots(figsize=(14, 7))\n",
    "sns.swarmplot(x='Pclass', y='Age', hue='Survived', dodge=True,\n",
    "              data=train_df, palette=swarm_color, size=5, ax=ax)\n",
    "plt.title('Survivals for Age and Pclass ')\n",
    "plt.show()\n"
   ]
  },
  {
   "cell_type": "code",
   "execution_count": 536,
   "metadata": {},
   "outputs": [
    {
     "data": {
      "image/png": "[encoded data removed]",
      "text/plain": [
       "<Figure size 936x504 with 1 Axes>"
      ]
     },
     "metadata": {
      "needs_background": "light"
     },
     "output_type": "display_data"
    }
   ],
   "source": [
    "\n",
    "fig, ax = plt.subplots(figsize=(13, 7))\n",
    "sns.violinplot(x=\"Pclass\", y=\"Age\", hue='Survived', data=train_df,\n",
    "               split=True, bw=0.05, palette=swarm_color, ax=ax)\n",
    "plt.title('Survivals for Age and Pclass ')\n",
    "plt.show()\n"
   ]
  },
  {
   "cell_type": "code",
   "execution_count": 537,
   "metadata": {},
   "outputs": [
    {
     "data": {
      "image/png": "[encoded data removed]",
      "text/plain": [
       "<Figure size 959.075x504 with 2 Axes>"
      ]
     },
     "metadata": {
      "needs_background": "light"
     },
     "output_type": "display_data"
    }
   ],
   "source": [
    "g = sns.catplot(x=\"Pclass\", y=\"Age\", hue=\"Survived\", col=\"Sex\", data=train_df,\n",
    "                   kind=\"swarm\", dodge=True, palette=swarm_color, height=7, aspect=.9, s=3)\n",
    "plt.title('Survivals for Age and Pclass ')\n",
    "plt.show()\n"
   ]
  },
  {
   "cell_type": "code",
   "execution_count": 538,
   "metadata": {},
   "outputs": [
    {
     "data": {
      "image/png": "[encoded data removed]",
      "text/plain": [
       "<Figure size 936x504 with 1 Axes>"
      ]
     },
     "metadata": {
      "needs_background": "light"
     },
     "output_type": "display_data"
    }
   ],
   "source": [
    "# TODO Check with Bassey\n",
    "fig, ax = plt.subplots(figsize=(13, 7))\n",
    "sns.violinplot(y=\"Age\", hue=\"Survived\", col=\"Sex\", data=train_df, kind=\"violin\",\n",
    "               split=True, bw=0.05, palette=swarm_color, size=7, aspect=.9, s=7);\n",
    "plt.title('Survivals for Age and Sex ')\n",
    "plt.show()"
   ]
  },
  {
   "cell_type": "code",
   "execution_count": 539,
   "metadata": {},
   "outputs": [
    {
     "data": {
      "image/png": "[encoded data removed]",
      "text/plain": [
       "<Figure size 432x288 with 1 Axes>"
      ]
     },
     "metadata": {
      "needs_background": "light"
     },
     "output_type": "display_data"
    }
   ],
   "source": [
    "sns.boxplot(x='Embarked', y='Fare', data=train_df)\n",
    "plt.title(\"Fare distribution as function of Embarked Port\")\n",
    "plt.show()\n"
   ]
  },
  {
   "cell_type": "code",
   "execution_count": 540,
   "metadata": {},
   "outputs": [
    {
     "data": {
      "image/png": "[encoded data removed]",
      "text/plain": [
       "<Figure size 432x288 with 1 Axes>"
      ]
     },
     "metadata": {
      "needs_background": "light"
     },
     "output_type": "display_data"
    }
   ],
   "source": [
    "sns.boxplot(x='Embarked', y='Fare', data=train_df)\n",
    "plt.title(\"Fare distribution as function of Embarked Port\")\n",
    "plt.show()\n"
   ]
  },
  {
   "cell_type": "code",
   "execution_count": 541,
   "metadata": {},
   "outputs": [
    {
     "data": {
      "image/png": "[encoded data removed]",
      "text/plain": [
       "<Figure size 432x288 with 1 Axes>"
      ]
     },
     "metadata": {
      "needs_background": "light"
     },
     "output_type": "display_data"
    }
   ],
   "source": [
    "sns.boxplot(x='Embarked', y='Age', data=train_df)\n",
    "plt.title(\"Age distribution as function of Embarked Port\")\n",
    "plt.show()\n"
   ]
  },
  {
   "cell_type": "code",
   "execution_count": 542,
   "metadata": {},
   "outputs": [
    {
     "data": {
      "image/png": "[encoded data removed]",
      "text/plain": [
       "<Figure size 432x288 with 1 Axes>"
      ]
     },
     "metadata": {
      "needs_background": "light"
     },
     "output_type": "display_data"
    }
   ],
   "source": [
    "sns.countplot(x='Embarked', hue='Pclass', data=train_df)\n",
    "plt.title(\"Count of Passengers as function of Embarked Port\")\n",
    "plt.show()\n"
   ]
  },
  {
   "cell_type": "code",
   "execution_count": 543,
   "metadata": {},
   "outputs": [
    {
     "data": {
      "image/png": "[encoded data removed]",
      "text/plain": [
       "<Figure size 432x288 with 1 Axes>"
      ]
     },
     "metadata": {
      "needs_background": "light"
     },
     "output_type": "display_data"
    }
   ],
   "source": [
    "sns.barplot(x='Embarked', y='Survived', hue='Pclass', data=df_train)\n",
    "plt.ylabel(\"Survival Rate\")\n",
    "plt.title(\"Survival as function of Embarked Port & Class\")\n",
    "plt.show()\n"
   ]
  },
  {
   "cell_type": "code",
   "execution_count": 544,
   "metadata": {},
   "outputs": [
    {
     "data": {
      "image/png": "[encoded data removed]",
      "text/plain": [
       "<Figure size 432x288 with 1 Axes>"
      ]
     },
     "metadata": {
      "needs_background": "light"
     },
     "output_type": "display_data"
    }
   ],
   "source": [
    "sns.barplot(x='Embarked', y='Survived', data=df_train)\n",
    "plt.ylabel(\"Survival Rate\")\n",
    "plt.title(\"Survival as function of Embarked Port\")\n",
    "plt.show()\n"
   ]
  },
  {
   "cell_type": "code",
   "execution_count": 545,
   "metadata": {},
   "outputs": [
    {
     "data": {
      "image/png": "[encoded data removed]",
      "text/plain": [
       "<Figure size 432x288 with 1 Axes>"
      ]
     },
     "metadata": {
      "needs_background": "light"
     },
     "output_type": "display_data"
    }
   ],
   "source": [
    "sns.barplot(x='Sex', y='Survived', hue='Pclass', data=df_train)\n",
    "plt.ylabel(\"Survival Rate\")\n",
    "plt.title(\"Survival as function of Pclass and Sex\")\n",
    "plt.show()\n"
   ]
  },
  {
   "cell_type": "markdown",
   "metadata": {},
   "source": [
    "## Basic statistics before fixing data for missing values"
   ]
  },
  {
   "cell_type": "code",
   "execution_count": 546,
   "metadata": {},
   "outputs": [
    {
     "data": {
      "text/plain": [
       "29.881137667304014"
      ]
     },
     "execution_count": 546,
     "metadata": {},
     "output_type": "execute_result"
    }
   ],
   "source": [
    "# The average age of passengers?\n",
    "train_df['Age'].mean()\n"
   ]
  },
  {
   "cell_type": "code",
   "execution_count": 547,
   "metadata": {},
   "outputs": [
    {
     "data": {
      "text/html": [
       "<div>\n",
       "<style scoped>\n",
       "    .dataframe tbody tr th:only-of-type {\n",
       "        vertical-align: middle;\n",
       "    }\n",
       "\n",
       "    .dataframe tbody tr th {\n",
       "        vertical-align: top;\n",
       "    }\n",
       "\n",
       "    .dataframe thead th {\n",
       "        text-align: right;\n",
       "    }\n",
       "</style>\n",
       "<table border=\"1\" class=\"dataframe\">\n",
       "  <thead>\n",
       "    <tr style=\"text-align: right;\">\n",
       "      <th></th>\n",
       "      <th>Age</th>\n",
       "      <th>Fare</th>\n",
       "    </tr>\n",
       "  </thead>\n",
       "  <tbody>\n",
       "    <tr>\n",
       "      <th>min</th>\n",
       "      <td>0.170000</td>\n",
       "      <td>0.000000</td>\n",
       "    </tr>\n",
       "    <tr>\n",
       "      <th>max</th>\n",
       "      <td>80.000000</td>\n",
       "      <td>512.329200</td>\n",
       "    </tr>\n",
       "    <tr>\n",
       "      <th>mean</th>\n",
       "      <td>29.881138</td>\n",
       "      <td>33.295479</td>\n",
       "    </tr>\n",
       "    <tr>\n",
       "      <th>median</th>\n",
       "      <td>28.000000</td>\n",
       "      <td>14.454200</td>\n",
       "    </tr>\n",
       "    <tr>\n",
       "      <th>skew</th>\n",
       "      <td>0.407675</td>\n",
       "      <td>4.367709</td>\n",
       "    </tr>\n",
       "  </tbody>\n",
       "</table>\n",
       "</div>"
      ],
      "text/plain": [
       "              Age        Fare\n",
       "min      0.170000    0.000000\n",
       "max     80.000000  512.329200\n",
       "mean    29.881138   33.295479\n",
       "median  28.000000   14.454200\n",
       "skew     0.407675    4.367709"
      ]
     },
     "execution_count": 547,
     "metadata": {},
     "output_type": "execute_result"
    }
   ],
   "source": [
    "# TODO%%%%%%%%%%%% WE NEED CHECH THIS @Bassey\n",
    "# Median Age and Ticket fare price of Pax\n",
    "#train_df[['Age', 'Fare']].median()\n",
    "# train_df.describe(include='all')\n",
    "\n",
    "# instead of using above predifined 'describe function' we can combined aggregating statistics\n",
    "train_df.agg(\n",
    "    {\n",
    "        'Age': ['min', 'max', 'mean', 'median', 'skew'],\n",
    "        'Fare': ['min', 'max', 'mean', 'median', 'skew'],\n",
    "    })\n"
   ]
  },
  {
   "cell_type": "code",
   "execution_count": 548,
   "metadata": {},
   "outputs": [
    {
     "data": {
      "text/plain": [
       "Pclass\n",
       "1    323\n",
       "2    277\n",
       "3    709\n",
       "Name: Pclass, dtype: int64"
      ]
     },
     "execution_count": 548,
     "metadata": {},
     "output_type": "execute_result"
    }
   ],
   "source": [
    "# counting by group\n",
    "train_df.groupby('Pclass')['Pclass'].count()\n"
   ]
  },
  {
   "cell_type": "code",
   "execution_count": 549,
   "metadata": {},
   "outputs": [
    {
     "name": "stdout",
     "output_type": "stream",
     "text": [
      "maximum null values in a row :  2 . \n",
      "Therefore, dropping rows containing missing values are disadvantageous\n",
      "\n"
     ]
    }
   ],
   "source": [
    "# TODO Do we want all of the below code for our final report@ Bassey\n",
    "train_df.isnull()  # is any missing values in dataframe\n",
    "train_df.isnull().any()  # is any missing values across columns\n",
    "train_df.isnull().sum().sum()   # count of missing values of the entire dataframe\n",
    "# count of missing values across columns\n",
    "count_NAN = len(train_df) - train_df.count()\n",
    "count_NAN\n",
    "\n",
    "max_missing = 0\n",
    "for i in range(len(train_df.index)):  # count of missing values across rows\n",
    "    #print('NAN in row ', i , ' : ', train_df.iloc[i].isnull().sum())\n",
    "    missing_current_row = train_df.iloc[i].isnull().sum()\n",
    "    if(max_missing < missing_current_row):\n",
    "        max_missing = missing_current_row\n",
    "\n",
    "print('maximum null values in a row : ', max_missing, '.',\n",
    "      '\\nTherefore, dropping rows containing missing values are disadvantageous')\n",
    "print()\n"
   ]
  },
  {
   "cell_type": "code",
   "execution_count": 550,
   "metadata": {},
   "outputs": [
    {
     "data": {
      "text/plain": [
       "263"
      ]
     },
     "execution_count": 550,
     "metadata": {},
     "output_type": "execute_result"
    }
   ],
   "source": [
    "# Counting of missing values of a particular column\n",
    "train_df.Age.isnull().sum()\n"
   ]
  },
  {
   "cell_type": "code",
   "execution_count": 552,
   "metadata": {},
   "outputs": [
    {
     "data": {
      "text/plain": [
       "Sex\n",
       "female     78\n",
       "male      185\n",
       "Name: Age, dtype: int64"
      ]
     },
     "execution_count": 552,
     "metadata": {},
     "output_type": "execute_result"
    }
   ],
   "source": [
    "# Count of missing values of column by group\n",
    "'''count of missing values of column by group\n",
    " Because we dont havve missing values in sex all the missing values is coming from Age'''\n",
    "train_df.groupby(['Sex'])['Age'].apply(lambda x: x.isnull().sum())\n"
   ]
  },
  {
   "cell_type": "markdown",
   "metadata": {},
   "source": [
    "## Fixing missing values"
   ]
  },
  {
   "cell_type": "code",
   "execution_count": 554,
   "metadata": {},
   "outputs": [
    {
     "name": "stdout",
     "output_type": "stream",
     "text": [
      "Number of missing values remaining in Age column is 0\n",
      "Number of missing values remaining in Fare column is 0\n"
     ]
    }
   ],
   "source": [
    "# Replacing the na in age and Fare column with mean\n",
    "train_df['Age'] = train_df['Age'].fillna(round(train_df['Age'].mean()))\n",
    "train_df['Fare'] = train_df['Fare'].fillna(round(train_df['Fare'].mean()))\n",
    "\n",
    "# checking if there are any remaining missing value\n",
    "print('Number of missing values remaining in Age column is',\n",
    "      train_df.Age.isnull().sum())\n",
    "print('Number of missing values remaining in Fare column is',\n",
    "      train_df.Fare.isnull().sum())\n"
   ]
  },
  {
   "cell_type": "code",
   "execution_count": 555,
   "metadata": {},
   "outputs": [
    {
     "data": {
      "text/plain": [
       "array([28.907, 30.457])"
      ]
     },
     "execution_count": 555,
     "metadata": {},
     "output_type": "execute_result"
    }
   ],
   "source": [
    "train_df.groupby(['Sex'])['Age'].mean().round(3).values"
   ]
  },
  {
   "cell_type": "code",
   "execution_count": 556,
   "metadata": {},
   "outputs": [
    {
     "name": "stdout",
     "output_type": "stream",
     "text": [
      "Number of missing values remaining in Embarked column is 0\n"
     ]
    }
   ],
   "source": [
    "# Replace missing values with mode of the Embarked column\n",
    "train_df['Embarked'] = train_df['Embarked'].fillna(\n",
    "    train_df['Embarked'].mode()[0])\n",
    "print('Number of missing values remaining in Embarked column is',\n",
    "      train_df.Fare.isnull().sum())\n"
   ]
  },
  {
   "cell_type": "code",
   "execution_count": 557,
   "metadata": {},
   "outputs": [
    {
     "name": "stdout",
     "output_type": "stream",
     "text": [
      "Missing value remaining in the dataset 1014\n",
      "Missing values of the Cabin column 1014\n",
      "It is clear that all the remaining missing values are from Cabin column. At his point, not going to impute missing values in Cabin variable as there are more than 60% of the values are missing.\n"
     ]
    }
   ],
   "source": [
    "# See if there is still any missing data in train dataset\n",
    "print('Missing value remaining in the dataset', train_df.isna().sum().max())\n",
    "print('Missing values of the Cabin column', train_df.Cabin.isnull().sum())\n",
    "print('It is clear that all the remaining missing values are from Cabin column. At his point, not going to impute missing values in Cabin variable as there are more than 60% of the values are missing.')\n"
   ]
  },
  {
   "cell_type": "markdown",
   "metadata": {},
   "source": [
    "## Transforming the column values\n",
    "### Transforming Survived and Pclass columns from integer to String\n",
    "Values are transformed form numerical values to categotical values as it is easier to understand the data in the exploratary analysis.\n",
    "Also, after the transformation, graph lables become more discriptive and easier to understand.\n",
    "\n",
    "### Renaming Embarked column values to their proper Embarcation port\n",
    "This will make data more understandable in data exploration."
   ]
  },
  {
   "cell_type": "code",
   "execution_count": 558,
   "metadata": {},
   "outputs": [
    {
     "data": {
      "text/html": [
       "<div>\n",
       "<style scoped>\n",
       "    .dataframe tbody tr th:only-of-type {\n",
       "        vertical-align: middle;\n",
       "    }\n",
       "\n",
       "    .dataframe tbody tr th {\n",
       "        vertical-align: top;\n",
       "    }\n",
       "\n",
       "    .dataframe thead th {\n",
       "        text-align: right;\n",
       "    }\n",
       "</style>\n",
       "<table border=\"1\" class=\"dataframe\">\n",
       "  <thead>\n",
       "    <tr style=\"text-align: right;\">\n",
       "      <th></th>\n",
       "      <th>Survived</th>\n",
       "      <th>Pclass</th>\n",
       "      <th>Name</th>\n",
       "      <th>Sex</th>\n",
       "      <th>Age</th>\n",
       "      <th>SibSp</th>\n",
       "      <th>Parch</th>\n",
       "      <th>Ticket</th>\n",
       "      <th>Fare</th>\n",
       "      <th>Cabin</th>\n",
       "      <th>Embarked</th>\n",
       "    </tr>\n",
       "  </thead>\n",
       "  <tbody>\n",
       "    <tr>\n",
       "      <th>0</th>\n",
       "      <td>0</td>\n",
       "      <td>3</td>\n",
       "      <td>Braund, Mr. Owen Harris</td>\n",
       "      <td>male</td>\n",
       "      <td>22.0</td>\n",
       "      <td>1</td>\n",
       "      <td>0</td>\n",
       "      <td>A/5 21171</td>\n",
       "      <td>7.2500</td>\n",
       "      <td>NaN</td>\n",
       "      <td>Southampton</td>\n",
       "    </tr>\n",
       "    <tr>\n",
       "      <th>1</th>\n",
       "      <td>1</td>\n",
       "      <td>1</td>\n",
       "      <td>Cumings, Mrs. John Bradley (Florence Briggs Th...</td>\n",
       "      <td>female</td>\n",
       "      <td>38.0</td>\n",
       "      <td>1</td>\n",
       "      <td>0</td>\n",
       "      <td>PC 17599</td>\n",
       "      <td>71.2833</td>\n",
       "      <td>C85</td>\n",
       "      <td>Cherbourg</td>\n",
       "    </tr>\n",
       "    <tr>\n",
       "      <th>2</th>\n",
       "      <td>1</td>\n",
       "      <td>3</td>\n",
       "      <td>Heikkinen, Miss. Laina</td>\n",
       "      <td>female</td>\n",
       "      <td>26.0</td>\n",
       "      <td>0</td>\n",
       "      <td>0</td>\n",
       "      <td>STON/O2. 3101282</td>\n",
       "      <td>7.9250</td>\n",
       "      <td>NaN</td>\n",
       "      <td>Southampton</td>\n",
       "    </tr>\n",
       "    <tr>\n",
       "      <th>3</th>\n",
       "      <td>1</td>\n",
       "      <td>1</td>\n",
       "      <td>Futrelle, Mrs. Jacques Heath (Lily May Peel)</td>\n",
       "      <td>female</td>\n",
       "      <td>35.0</td>\n",
       "      <td>1</td>\n",
       "      <td>0</td>\n",
       "      <td>113803</td>\n",
       "      <td>53.1000</td>\n",
       "      <td>C123</td>\n",
       "      <td>Southampton</td>\n",
       "    </tr>\n",
       "    <tr>\n",
       "      <th>4</th>\n",
       "      <td>0</td>\n",
       "      <td>3</td>\n",
       "      <td>Allen, Mr. William Henry</td>\n",
       "      <td>male</td>\n",
       "      <td>35.0</td>\n",
       "      <td>0</td>\n",
       "      <td>0</td>\n",
       "      <td>373450</td>\n",
       "      <td>8.0500</td>\n",
       "      <td>NaN</td>\n",
       "      <td>Southampton</td>\n",
       "    </tr>\n",
       "  </tbody>\n",
       "</table>\n",
       "</div>"
      ],
      "text/plain": [
       "   Survived  Pclass                                               Name  \\\n",
       "0         0       3                            Braund, Mr. Owen Harris   \n",
       "1         1       1  Cumings, Mrs. John Bradley (Florence Briggs Th...   \n",
       "2         1       3                             Heikkinen, Miss. Laina   \n",
       "3         1       1       Futrelle, Mrs. Jacques Heath (Lily May Peel)   \n",
       "4         0       3                           Allen, Mr. William Henry   \n",
       "\n",
       "      Sex   Age  SibSp  Parch            Ticket     Fare Cabin     Embarked  \n",
       "0    male  22.0      1      0         A/5 21171   7.2500   NaN  Southampton  \n",
       "1  female  38.0      1      0          PC 17599  71.2833   C85    Cherbourg  \n",
       "2  female  26.0      0      0  STON/O2. 3101282   7.9250   NaN  Southampton  \n",
       "3  female  35.0      1      0            113803  53.1000  C123  Southampton  \n",
       "4    male  35.0      0      0            373450   8.0500   NaN  Southampton  "
      ]
     },
     "execution_count": 558,
     "metadata": {},
     "output_type": "execute_result"
    }
   ],
   "source": [
    "# Embarked column values: maped C -> Cherbourg, Q -> Queenstown and S -> Southampton\n",
    "train_df.loc[train_df['Embarked'] == 'C', 'Embarked'] = 'Cherbourg'\n",
    "train_df.loc[train_df['Embarked'] == 'Q', 'Embarked'] = 'Queenstown'\n",
    "train_df.loc[train_df['Embarked'] == 'S', 'Embarked'] = 'Southampton'\n",
    "train_df.head()\n"
   ]
  },
  {
   "cell_type": "code",
   "execution_count": 559,
   "metadata": {},
   "outputs": [],
   "source": [
    "# Create copies of dataframe before transforming numeric values to categorical values\n",
    "df_train = train_df.copy()\n",
    "data = train_df.copy()\n"
   ]
  },
  {
   "cell_type": "code",
   "execution_count": 560,
   "metadata": {},
   "outputs": [
    {
     "data": {
      "text/plain": [
       "0    Deceased\n",
       "1    Survived\n",
       "2    Survived\n",
       "3    Survived\n",
       "4    Deceased\n",
       "Name: Survived, dtype: object"
      ]
     },
     "execution_count": 560,
     "metadata": {},
     "output_type": "execute_result"
    }
   ],
   "source": [
    "# Survived column values: maped 1 -> Survived and 0 -> Deceased\n",
    "train_df.loc[train_df['Survived'] == 0, 'Survived'] = 'Deceased'\n",
    "train_df.loc[train_df['Survived'] == 1, 'Survived'] = 'Survived'\n",
    "train_df['Survived'].head()\n"
   ]
  },
  {
   "cell_type": "code",
   "execution_count": 561,
   "metadata": {},
   "outputs": [
    {
     "data": {
      "text/plain": [
       "0    Third Class\n",
       "1    First Class\n",
       "2    Third Class\n",
       "3    First Class\n",
       "4    Third Class\n",
       "Name: Pclass, dtype: object"
      ]
     },
     "execution_count": 561,
     "metadata": {},
     "output_type": "execute_result"
    }
   ],
   "source": [
    "# Pclass column values: maped 1 -> First Class, 2 -> Second Class and 3 -> Third Class\n",
    "train_df.loc[train_df['Pclass'] == 1, 'Pclass'] = 'First Class'\n",
    "train_df.loc[train_df['Pclass'] == 2, 'Pclass'] = 'Second Class'\n",
    "train_df.loc[train_df['Pclass'] == 3, 'Pclass'] = 'Third Class'\n",
    "train_df['Pclass'].head()\n"
   ]
  },
  {
   "cell_type": "markdown",
   "metadata": {},
   "source": [
    "## Data visualisation"
   ]
  },
  {
   "cell_type": "code",
   "execution_count": 562,
   "metadata": {},
   "outputs": [
    {
     "data": {
      "image/png": "[encoded data removed]",
      "text/plain": [
       "<Figure size 360x360 with 1 Axes>"
      ]
     },
     "metadata": {
      "needs_background": "light"
     },
     "output_type": "display_data"
    }
   ],
   "source": [
    "plt.figure(figsize=(5, 5))\n",
    "survival_labels = [\"Survived\", \"Deceased\"]\n",
    "survival_counts = [train_df.Survived.value_counts(\n",
    ")[1], train_df.Survived.value_counts()[0]]\n",
    "sns.barplot(x=survival_labels, y=survival_counts)\n",
    "plt.show()\n"
   ]
  },
  {
   "cell_type": "code",
   "execution_count": 603,
   "metadata": {},
   "outputs": [
    {
     "data": {
      "image/png": "[encoded data removed]",
      "text/plain": [
       "<Figure size 432x288 with 1 Axes>"
      ]
     },
     "metadata": {
      "needs_background": "light"
     },
     "output_type": "display_data"
    }
   ],
   "source": [
    "sns.barplot(x='Survived', y='Fare', data=train_df, palette='pastel');\n"
   ]
  },
  {
   "cell_type": "code",
   "execution_count": 563,
   "metadata": {},
   "outputs": [
    {
     "data": {
      "image/png": "[encoded data removed]",
      "text/plain": [
       "<Figure size 432x288 with 1 Axes>"
      ]
     },
     "metadata": {
      "needs_background": "light"
     },
     "output_type": "display_data"
    }
   ],
   "source": [
    "sns.countplot(x='Survived', hue='Sex', data=df_train).set(\n",
    "    title=\"Passengers Survived based on Sex\", ylabel=\"Count\");\n"
   ]
  },
  {
   "cell_type": "code",
   "execution_count": 564,
   "metadata": {},
   "outputs": [
    {
     "data": {
      "image/png": "[encoded data removed]",
      "text/plain": [
       "<Figure size 1008x432 with 2 Axes>"
      ]
     },
     "metadata": {
      "needs_background": "light"
     },
     "output_type": "display_data"
    }
   ],
   "source": [
    "train_data_clean_embarked = df_train.dropna(subset=['Embarked'])\n",
    "embarked = train_data_clean_embarked.groupby('Embarked').mean()\n",
    "embarked['Count'] = train_data_clean_embarked['Embarked'].value_counts()\n",
    "embarked\n",
    "\n",
    "fig, (axis1, axis2) = plt.subplots(1, 2, figsize=(14, 6))\n",
    "\n",
    "sns.countplot(x='Embarked', data=train_data_clean_embarked, order=[\n",
    "              'Southampton', 'Cherbourg', 'Queenstown'], ax=axis1)\n",
    "sns.barplot(x=embarked.index, y='Survived', data=embarked, order=[\n",
    "            'Southampton', 'Cherbourg', 'Queenstown'], ax=axis2);\n"
   ]
  },
  {
   "cell_type": "code",
   "execution_count": 565,
   "metadata": {},
   "outputs": [
    {
     "data": {
      "text/html": [
       "<div>\n",
       "<style scoped>\n",
       "    .dataframe tbody tr th:only-of-type {\n",
       "        vertical-align: middle;\n",
       "    }\n",
       "\n",
       "    .dataframe tbody tr th {\n",
       "        vertical-align: top;\n",
       "    }\n",
       "\n",
       "    .dataframe thead th {\n",
       "        text-align: right;\n",
       "    }\n",
       "</style>\n",
       "<table border=\"1\" class=\"dataframe\">\n",
       "  <thead>\n",
       "    <tr style=\"text-align: right;\">\n",
       "      <th></th>\n",
       "      <th>Survived</th>\n",
       "      <th>Pclass</th>\n",
       "      <th>Name</th>\n",
       "      <th>Sex</th>\n",
       "      <th>Age</th>\n",
       "      <th>SibSp</th>\n",
       "      <th>Parch</th>\n",
       "      <th>Ticket</th>\n",
       "      <th>Fare</th>\n",
       "      <th>Cabin</th>\n",
       "      <th>Embarked</th>\n",
       "    </tr>\n",
       "  </thead>\n",
       "  <tbody>\n",
       "    <tr>\n",
       "      <th>0</th>\n",
       "      <td>0</td>\n",
       "      <td>3</td>\n",
       "      <td>Braund, Mr. Owen Harris</td>\n",
       "      <td>male</td>\n",
       "      <td>22.0</td>\n",
       "      <td>1</td>\n",
       "      <td>0</td>\n",
       "      <td>A/5 21171</td>\n",
       "      <td>7.2500</td>\n",
       "      <td>NaN</td>\n",
       "      <td>Southampton</td>\n",
       "    </tr>\n",
       "    <tr>\n",
       "      <th>1</th>\n",
       "      <td>1</td>\n",
       "      <td>1</td>\n",
       "      <td>Cumings, Mrs. John Bradley (Florence Briggs Th...</td>\n",
       "      <td>female</td>\n",
       "      <td>38.0</td>\n",
       "      <td>1</td>\n",
       "      <td>0</td>\n",
       "      <td>PC 17599</td>\n",
       "      <td>71.2833</td>\n",
       "      <td>C85</td>\n",
       "      <td>Cherbourg</td>\n",
       "    </tr>\n",
       "    <tr>\n",
       "      <th>2</th>\n",
       "      <td>1</td>\n",
       "      <td>3</td>\n",
       "      <td>Heikkinen, Miss. Laina</td>\n",
       "      <td>female</td>\n",
       "      <td>26.0</td>\n",
       "      <td>0</td>\n",
       "      <td>0</td>\n",
       "      <td>STON/O2. 3101282</td>\n",
       "      <td>7.9250</td>\n",
       "      <td>NaN</td>\n",
       "      <td>Southampton</td>\n",
       "    </tr>\n",
       "    <tr>\n",
       "      <th>3</th>\n",
       "      <td>1</td>\n",
       "      <td>1</td>\n",
       "      <td>Futrelle, Mrs. Jacques Heath (Lily May Peel)</td>\n",
       "      <td>female</td>\n",
       "      <td>35.0</td>\n",
       "      <td>1</td>\n",
       "      <td>0</td>\n",
       "      <td>113803</td>\n",
       "      <td>53.1000</td>\n",
       "      <td>C123</td>\n",
       "      <td>Southampton</td>\n",
       "    </tr>\n",
       "    <tr>\n",
       "      <th>4</th>\n",
       "      <td>0</td>\n",
       "      <td>3</td>\n",
       "      <td>Allen, Mr. William Henry</td>\n",
       "      <td>male</td>\n",
       "      <td>35.0</td>\n",
       "      <td>0</td>\n",
       "      <td>0</td>\n",
       "      <td>373450</td>\n",
       "      <td>8.0500</td>\n",
       "      <td>NaN</td>\n",
       "      <td>Southampton</td>\n",
       "    </tr>\n",
       "    <tr>\n",
       "      <th>...</th>\n",
       "      <td>...</td>\n",
       "      <td>...</td>\n",
       "      <td>...</td>\n",
       "      <td>...</td>\n",
       "      <td>...</td>\n",
       "      <td>...</td>\n",
       "      <td>...</td>\n",
       "      <td>...</td>\n",
       "      <td>...</td>\n",
       "      <td>...</td>\n",
       "      <td>...</td>\n",
       "    </tr>\n",
       "    <tr>\n",
       "      <th>1304</th>\n",
       "      <td>0</td>\n",
       "      <td>3</td>\n",
       "      <td>Spector, Mr. Woolf</td>\n",
       "      <td>male</td>\n",
       "      <td>30.0</td>\n",
       "      <td>0</td>\n",
       "      <td>0</td>\n",
       "      <td>A.5. 3236</td>\n",
       "      <td>8.0500</td>\n",
       "      <td>NaN</td>\n",
       "      <td>Southampton</td>\n",
       "    </tr>\n",
       "    <tr>\n",
       "      <th>1305</th>\n",
       "      <td>1</td>\n",
       "      <td>1</td>\n",
       "      <td>Oliva y Ocana, Dona. Fermina</td>\n",
       "      <td>female</td>\n",
       "      <td>39.0</td>\n",
       "      <td>0</td>\n",
       "      <td>0</td>\n",
       "      <td>PC 17758</td>\n",
       "      <td>108.9000</td>\n",
       "      <td>C105</td>\n",
       "      <td>Cherbourg</td>\n",
       "    </tr>\n",
       "    <tr>\n",
       "      <th>1306</th>\n",
       "      <td>0</td>\n",
       "      <td>3</td>\n",
       "      <td>Saether, Mr. Simon Sivertsen</td>\n",
       "      <td>male</td>\n",
       "      <td>38.5</td>\n",
       "      <td>0</td>\n",
       "      <td>0</td>\n",
       "      <td>SOTON/O.Q. 3101262</td>\n",
       "      <td>7.2500</td>\n",
       "      <td>NaN</td>\n",
       "      <td>Southampton</td>\n",
       "    </tr>\n",
       "    <tr>\n",
       "      <th>1307</th>\n",
       "      <td>0</td>\n",
       "      <td>3</td>\n",
       "      <td>Ware, Mr. Frederick</td>\n",
       "      <td>male</td>\n",
       "      <td>30.0</td>\n",
       "      <td>0</td>\n",
       "      <td>0</td>\n",
       "      <td>359309</td>\n",
       "      <td>8.0500</td>\n",
       "      <td>NaN</td>\n",
       "      <td>Southampton</td>\n",
       "    </tr>\n",
       "    <tr>\n",
       "      <th>1308</th>\n",
       "      <td>0</td>\n",
       "      <td>3</td>\n",
       "      <td>Peter, Master. Michael J</td>\n",
       "      <td>male</td>\n",
       "      <td>30.0</td>\n",
       "      <td>1</td>\n",
       "      <td>1</td>\n",
       "      <td>2668</td>\n",
       "      <td>22.3583</td>\n",
       "      <td>NaN</td>\n",
       "      <td>Cherbourg</td>\n",
       "    </tr>\n",
       "  </tbody>\n",
       "</table>\n",
       "<p>1309 rows × 11 columns</p>\n",
       "</div>"
      ],
      "text/plain": [
       "      Survived  Pclass                                               Name  \\\n",
       "0            0       3                            Braund, Mr. Owen Harris   \n",
       "1            1       1  Cumings, Mrs. John Bradley (Florence Briggs Th...   \n",
       "2            1       3                             Heikkinen, Miss. Laina   \n",
       "3            1       1       Futrelle, Mrs. Jacques Heath (Lily May Peel)   \n",
       "4            0       3                           Allen, Mr. William Henry   \n",
       "...        ...     ...                                                ...   \n",
       "1304         0       3                                 Spector, Mr. Woolf   \n",
       "1305         1       1                       Oliva y Ocana, Dona. Fermina   \n",
       "1306         0       3                       Saether, Mr. Simon Sivertsen   \n",
       "1307         0       3                                Ware, Mr. Frederick   \n",
       "1308         0       3                           Peter, Master. Michael J   \n",
       "\n",
       "         Sex   Age  SibSp  Parch              Ticket      Fare Cabin  \\\n",
       "0       male  22.0      1      0           A/5 21171    7.2500   NaN   \n",
       "1     female  38.0      1      0            PC 17599   71.2833   C85   \n",
       "2     female  26.0      0      0    STON/O2. 3101282    7.9250   NaN   \n",
       "3     female  35.0      1      0              113803   53.1000  C123   \n",
       "4       male  35.0      0      0              373450    8.0500   NaN   \n",
       "...      ...   ...    ...    ...                 ...       ...   ...   \n",
       "1304    male  30.0      0      0           A.5. 3236    8.0500   NaN   \n",
       "1305  female  39.0      0      0            PC 17758  108.9000  C105   \n",
       "1306    male  38.5      0      0  SOTON/O.Q. 3101262    7.2500   NaN   \n",
       "1307    male  30.0      0      0              359309    8.0500   NaN   \n",
       "1308    male  30.0      1      1                2668   22.3583   NaN   \n",
       "\n",
       "         Embarked  \n",
       "0     Southampton  \n",
       "1       Cherbourg  \n",
       "2     Southampton  \n",
       "3     Southampton  \n",
       "4     Southampton  \n",
       "...           ...  \n",
       "1304  Southampton  \n",
       "1305    Cherbourg  \n",
       "1306  Southampton  \n",
       "1307  Southampton  \n",
       "1308    Cherbourg  \n",
       "\n",
       "[1309 rows x 11 columns]"
      ]
     },
     "execution_count": 565,
     "metadata": {},
     "output_type": "execute_result"
    }
   ],
   "source": [
    "train_data_clean_embarked\n",
    "df_train\n",
    "data\n"
   ]
  },
  {
   "cell_type": "markdown",
   "metadata": {},
   "source": [
    "## Analysing familysize\n",
    "\n",
    "### Visusalise surviving families using title"
   ]
  },
  {
   "cell_type": "code",
   "execution_count": 566,
   "metadata": {},
   "outputs": [
    {
     "data": {
      "text/html": [
       "<div>\n",
       "<style scoped>\n",
       "    .dataframe tbody tr th:only-of-type {\n",
       "        vertical-align: middle;\n",
       "    }\n",
       "\n",
       "    .dataframe tbody tr th {\n",
       "        vertical-align: top;\n",
       "    }\n",
       "\n",
       "    .dataframe thead th {\n",
       "        text-align: right;\n",
       "    }\n",
       "</style>\n",
       "<table border=\"1\" class=\"dataframe\">\n",
       "  <thead>\n",
       "    <tr style=\"text-align: right;\">\n",
       "      <th></th>\n",
       "      <th>Survived</th>\n",
       "      <th>Pclass</th>\n",
       "      <th>Sex</th>\n",
       "      <th>Age</th>\n",
       "      <th>SibSp</th>\n",
       "      <th>Parch</th>\n",
       "      <th>Fare</th>\n",
       "      <th>Embarked</th>\n",
       "    </tr>\n",
       "  </thead>\n",
       "  <tbody>\n",
       "    <tr>\n",
       "      <th>1304</th>\n",
       "      <td>0</td>\n",
       "      <td>3</td>\n",
       "      <td>male</td>\n",
       "      <td>30.0</td>\n",
       "      <td>0</td>\n",
       "      <td>0</td>\n",
       "      <td>8.0500</td>\n",
       "      <td>Southampton</td>\n",
       "    </tr>\n",
       "    <tr>\n",
       "      <th>1305</th>\n",
       "      <td>1</td>\n",
       "      <td>1</td>\n",
       "      <td>female</td>\n",
       "      <td>39.0</td>\n",
       "      <td>0</td>\n",
       "      <td>0</td>\n",
       "      <td>108.9000</td>\n",
       "      <td>Cherbourg</td>\n",
       "    </tr>\n",
       "    <tr>\n",
       "      <th>1306</th>\n",
       "      <td>0</td>\n",
       "      <td>3</td>\n",
       "      <td>male</td>\n",
       "      <td>38.5</td>\n",
       "      <td>0</td>\n",
       "      <td>0</td>\n",
       "      <td>7.2500</td>\n",
       "      <td>Southampton</td>\n",
       "    </tr>\n",
       "    <tr>\n",
       "      <th>1307</th>\n",
       "      <td>0</td>\n",
       "      <td>3</td>\n",
       "      <td>male</td>\n",
       "      <td>30.0</td>\n",
       "      <td>0</td>\n",
       "      <td>0</td>\n",
       "      <td>8.0500</td>\n",
       "      <td>Southampton</td>\n",
       "    </tr>\n",
       "    <tr>\n",
       "      <th>1308</th>\n",
       "      <td>0</td>\n",
       "      <td>3</td>\n",
       "      <td>male</td>\n",
       "      <td>30.0</td>\n",
       "      <td>1</td>\n",
       "      <td>1</td>\n",
       "      <td>22.3583</td>\n",
       "      <td>Cherbourg</td>\n",
       "    </tr>\n",
       "  </tbody>\n",
       "</table>\n",
       "</div>"
      ],
      "text/plain": [
       "      Survived  Pclass     Sex   Age  SibSp  Parch      Fare     Embarked\n",
       "1304         0       3    male  30.0      0      0    8.0500  Southampton\n",
       "1305         1       1  female  39.0      0      0  108.9000    Cherbourg\n",
       "1306         0       3    male  38.5      0      0    7.2500  Southampton\n",
       "1307         0       3    male  30.0      0      0    8.0500  Southampton\n",
       "1308         0       3    male  30.0      1      1   22.3583    Cherbourg"
      ]
     },
     "execution_count": 566,
     "metadata": {},
     "output_type": "execute_result"
    }
   ],
   "source": [
    "data = data.drop(columns=['Name', 'Ticket', 'Cabin'])\n",
    "data.tail()\n"
   ]
  },
  {
   "cell_type": "code",
   "execution_count": 567,
   "metadata": {},
   "outputs": [],
   "source": [
    "data['Sex'].replace('female', 0, inplace=True)\n",
    "data['Sex'].replace('male', 1, inplace=True)\n",
    "\n",
    "data['Embarked_S'] = data['Embarked'].replace(\n",
    "    'Queenstown', 0).replace('Cherbourg', 0).replace('Southampton', 1)\n",
    "data['Embarked_C'] = data['Embarked'].replace(\n",
    "    'Queenstown', 0).replace('Southampton', 0).replace('Cherbourg', 1)\n",
    "data['Embarked_Q'] = data['Embarked'].replace(\n",
    "    'Southampton', 0).replace('Cherbourg', 0).replace('Queenstown', 1)\n"
   ]
  },
  {
   "cell_type": "code",
   "execution_count": 568,
   "metadata": {},
   "outputs": [],
   "source": [
    "data = data.drop(columns=['Embarked'])\n"
   ]
  },
  {
   "cell_type": "code",
   "execution_count": 569,
   "metadata": {},
   "outputs": [],
   "source": [
    "x = data.iloc[:, 0:12]\n"
   ]
  },
  {
   "cell_type": "code",
   "execution_count": 570,
   "metadata": {},
   "outputs": [
    {
     "data": {
      "text/html": [
       "<div>\n",
       "<style scoped>\n",
       "    .dataframe tbody tr th:only-of-type {\n",
       "        vertical-align: middle;\n",
       "    }\n",
       "\n",
       "    .dataframe tbody tr th {\n",
       "        vertical-align: top;\n",
       "    }\n",
       "\n",
       "    .dataframe thead th {\n",
       "        text-align: right;\n",
       "    }\n",
       "</style>\n",
       "<table border=\"1\" class=\"dataframe\">\n",
       "  <thead>\n",
       "    <tr style=\"text-align: right;\">\n",
       "      <th></th>\n",
       "      <th>Pclass</th>\n",
       "      <th>Sex</th>\n",
       "      <th>Age</th>\n",
       "      <th>SibSp</th>\n",
       "      <th>Parch</th>\n",
       "      <th>Fare</th>\n",
       "      <th>Embarked_S</th>\n",
       "      <th>Embarked_C</th>\n",
       "      <th>Embarked_Q</th>\n",
       "    </tr>\n",
       "  </thead>\n",
       "  <tbody>\n",
       "    <tr>\n",
       "      <th>0</th>\n",
       "      <td>3</td>\n",
       "      <td>1</td>\n",
       "      <td>22.0</td>\n",
       "      <td>1</td>\n",
       "      <td>0</td>\n",
       "      <td>7.2500</td>\n",
       "      <td>1</td>\n",
       "      <td>0</td>\n",
       "      <td>0</td>\n",
       "    </tr>\n",
       "    <tr>\n",
       "      <th>1</th>\n",
       "      <td>1</td>\n",
       "      <td>0</td>\n",
       "      <td>38.0</td>\n",
       "      <td>1</td>\n",
       "      <td>0</td>\n",
       "      <td>71.2833</td>\n",
       "      <td>0</td>\n",
       "      <td>1</td>\n",
       "      <td>0</td>\n",
       "    </tr>\n",
       "    <tr>\n",
       "      <th>2</th>\n",
       "      <td>3</td>\n",
       "      <td>0</td>\n",
       "      <td>26.0</td>\n",
       "      <td>0</td>\n",
       "      <td>0</td>\n",
       "      <td>7.9250</td>\n",
       "      <td>1</td>\n",
       "      <td>0</td>\n",
       "      <td>0</td>\n",
       "    </tr>\n",
       "    <tr>\n",
       "      <th>3</th>\n",
       "      <td>1</td>\n",
       "      <td>0</td>\n",
       "      <td>35.0</td>\n",
       "      <td>1</td>\n",
       "      <td>0</td>\n",
       "      <td>53.1000</td>\n",
       "      <td>1</td>\n",
       "      <td>0</td>\n",
       "      <td>0</td>\n",
       "    </tr>\n",
       "    <tr>\n",
       "      <th>4</th>\n",
       "      <td>3</td>\n",
       "      <td>1</td>\n",
       "      <td>35.0</td>\n",
       "      <td>0</td>\n",
       "      <td>0</td>\n",
       "      <td>8.0500</td>\n",
       "      <td>1</td>\n",
       "      <td>0</td>\n",
       "      <td>0</td>\n",
       "    </tr>\n",
       "    <tr>\n",
       "      <th>...</th>\n",
       "      <td>...</td>\n",
       "      <td>...</td>\n",
       "      <td>...</td>\n",
       "      <td>...</td>\n",
       "      <td>...</td>\n",
       "      <td>...</td>\n",
       "      <td>...</td>\n",
       "      <td>...</td>\n",
       "      <td>...</td>\n",
       "    </tr>\n",
       "    <tr>\n",
       "      <th>1304</th>\n",
       "      <td>3</td>\n",
       "      <td>1</td>\n",
       "      <td>30.0</td>\n",
       "      <td>0</td>\n",
       "      <td>0</td>\n",
       "      <td>8.0500</td>\n",
       "      <td>1</td>\n",
       "      <td>0</td>\n",
       "      <td>0</td>\n",
       "    </tr>\n",
       "    <tr>\n",
       "      <th>1305</th>\n",
       "      <td>1</td>\n",
       "      <td>0</td>\n",
       "      <td>39.0</td>\n",
       "      <td>0</td>\n",
       "      <td>0</td>\n",
       "      <td>108.9000</td>\n",
       "      <td>0</td>\n",
       "      <td>1</td>\n",
       "      <td>0</td>\n",
       "    </tr>\n",
       "    <tr>\n",
       "      <th>1306</th>\n",
       "      <td>3</td>\n",
       "      <td>1</td>\n",
       "      <td>38.5</td>\n",
       "      <td>0</td>\n",
       "      <td>0</td>\n",
       "      <td>7.2500</td>\n",
       "      <td>1</td>\n",
       "      <td>0</td>\n",
       "      <td>0</td>\n",
       "    </tr>\n",
       "    <tr>\n",
       "      <th>1307</th>\n",
       "      <td>3</td>\n",
       "      <td>1</td>\n",
       "      <td>30.0</td>\n",
       "      <td>0</td>\n",
       "      <td>0</td>\n",
       "      <td>8.0500</td>\n",
       "      <td>1</td>\n",
       "      <td>0</td>\n",
       "      <td>0</td>\n",
       "    </tr>\n",
       "    <tr>\n",
       "      <th>1308</th>\n",
       "      <td>3</td>\n",
       "      <td>1</td>\n",
       "      <td>30.0</td>\n",
       "      <td>1</td>\n",
       "      <td>1</td>\n",
       "      <td>22.3583</td>\n",
       "      <td>0</td>\n",
       "      <td>1</td>\n",
       "      <td>0</td>\n",
       "    </tr>\n",
       "  </tbody>\n",
       "</table>\n",
       "<p>1309 rows × 9 columns</p>\n",
       "</div>"
      ],
      "text/plain": [
       "      Pclass  Sex   Age  SibSp  Parch      Fare  Embarked_S  Embarked_C  \\\n",
       "0          3    1  22.0      1      0    7.2500           1           0   \n",
       "1          1    0  38.0      1      0   71.2833           0           1   \n",
       "2          3    0  26.0      0      0    7.9250           1           0   \n",
       "3          1    0  35.0      1      0   53.1000           1           0   \n",
       "4          3    1  35.0      0      0    8.0500           1           0   \n",
       "...      ...  ...   ...    ...    ...       ...         ...         ...   \n",
       "1304       3    1  30.0      0      0    8.0500           1           0   \n",
       "1305       1    0  39.0      0      0  108.9000           0           1   \n",
       "1306       3    1  38.5      0      0    7.2500           1           0   \n",
       "1307       3    1  30.0      0      0    8.0500           1           0   \n",
       "1308       3    1  30.0      1      1   22.3583           0           1   \n",
       "\n",
       "      Embarked_Q  \n",
       "0              0  \n",
       "1              0  \n",
       "2              0  \n",
       "3              0  \n",
       "4              0  \n",
       "...          ...  \n",
       "1304           0  \n",
       "1305           0  \n",
       "1306           0  \n",
       "1307           0  \n",
       "1308           0  \n",
       "\n",
       "[1309 rows x 9 columns]"
      ]
     },
     "execution_count": 570,
     "metadata": {},
     "output_type": "execute_result"
    }
   ],
   "source": [
    "x = data.drop(columns=['Survived'])\n",
    "y = data['Survived']\n",
    "x\n"
   ]
  },
  {
   "cell_type": "code",
   "execution_count": 571,
   "metadata": {},
   "outputs": [],
   "source": [
    "x_train, x_test, y_train, y_test = train_test_split(x, y, test_size=0.3)\n"
   ]
  },
  {
   "cell_type": "code",
   "execution_count": 572,
   "metadata": {},
   "outputs": [],
   "source": [
    "num_col = [0, 1, 2, 3, 4, 5, 6, 7, 8]\n"
   ]
  },
  {
   "cell_type": "code",
   "execution_count": 573,
   "metadata": {},
   "outputs": [
    {
     "data": {
      "text/html": [
       "<style>#sk-030139dd-945e-472d-b5f3-8d6462e2feca {color: black;background-color: white;}#sk-030139dd-945e-472d-b5f3-8d6462e2feca pre{padding: 0;}#sk-030139dd-945e-472d-b5f3-8d6462e2feca div.sk-toggleable {background-color: white;}#sk-030139dd-945e-472d-b5f3-8d6462e2feca label.sk-toggleable__label {cursor: pointer;display: block;width: 100%;margin-bottom: 0;padding: 0.3em;box-sizing: border-box;text-align: center;}#sk-030139dd-945e-472d-b5f3-8d6462e2feca label.sk-toggleable__label-arrow:before {content: \"▸\";float: left;margin-right: 0.25em;color: #696969;}#sk-030139dd-945e-472d-b5f3-8d6462e2feca label.sk-toggleable__label-arrow:hover:before {color: black;}#sk-030139dd-945e-472d-b5f3-8d6462e2feca div.sk-estimator:hover label.sk-toggleable__label-arrow:before {color: black;}#sk-030139dd-945e-472d-b5f3-8d6462e2feca div.sk-toggleable__content {max-height: 0;max-width: 0;overflow: hidden;text-align: left;background-color: #f0f8ff;}#sk-030139dd-945e-472d-b5f3-8d6462e2feca div.sk-toggleable__content pre {margin: 0.2em;color: black;border-radius: 0.25em;background-color: #f0f8ff;}#sk-030139dd-945e-472d-b5f3-8d6462e2feca input.sk-toggleable__control:checked~div.sk-toggleable__content {max-height: 200px;max-width: 100%;overflow: auto;}#sk-030139dd-945e-472d-b5f3-8d6462e2feca input.sk-toggleable__control:checked~label.sk-toggleable__label-arrow:before {content: \"▾\";}#sk-030139dd-945e-472d-b5f3-8d6462e2feca div.sk-estimator input.sk-toggleable__control:checked~label.sk-toggleable__label {background-color: #d4ebff;}#sk-030139dd-945e-472d-b5f3-8d6462e2feca div.sk-label input.sk-toggleable__control:checked~label.sk-toggleable__label {background-color: #d4ebff;}#sk-030139dd-945e-472d-b5f3-8d6462e2feca input.sk-hidden--visually {border: 0;clip: rect(1px 1px 1px 1px);clip: rect(1px, 1px, 1px, 1px);height: 1px;margin: -1px;overflow: hidden;padding: 0;position: absolute;width: 1px;}#sk-030139dd-945e-472d-b5f3-8d6462e2feca div.sk-estimator {font-family: monospace;background-color: #f0f8ff;border: 1px dotted black;border-radius: 0.25em;box-sizing: border-box;margin-bottom: 0.5em;}#sk-030139dd-945e-472d-b5f3-8d6462e2feca div.sk-estimator:hover {background-color: #d4ebff;}#sk-030139dd-945e-472d-b5f3-8d6462e2feca div.sk-parallel-item::after {content: \"\";width: 100%;border-bottom: 1px solid gray;flex-grow: 1;}#sk-030139dd-945e-472d-b5f3-8d6462e2feca div.sk-label:hover label.sk-toggleable__label {background-color: #d4ebff;}#sk-030139dd-945e-472d-b5f3-8d6462e2feca div.sk-serial::before {content: \"\";position: absolute;border-left: 1px solid gray;box-sizing: border-box;top: 2em;bottom: 0;left: 50%;}#sk-030139dd-945e-472d-b5f3-8d6462e2feca div.sk-serial {display: flex;flex-direction: column;align-items: center;background-color: white;padding-right: 0.2em;padding-left: 0.2em;}#sk-030139dd-945e-472d-b5f3-8d6462e2feca div.sk-item {z-index: 1;}#sk-030139dd-945e-472d-b5f3-8d6462e2feca div.sk-parallel {display: flex;align-items: stretch;justify-content: center;background-color: white;}#sk-030139dd-945e-472d-b5f3-8d6462e2feca div.sk-parallel::before {content: \"\";position: absolute;border-left: 1px solid gray;box-sizing: border-box;top: 2em;bottom: 0;left: 50%;}#sk-030139dd-945e-472d-b5f3-8d6462e2feca div.sk-parallel-item {display: flex;flex-direction: column;position: relative;background-color: white;}#sk-030139dd-945e-472d-b5f3-8d6462e2feca div.sk-parallel-item:first-child::after {align-self: flex-end;width: 50%;}#sk-030139dd-945e-472d-b5f3-8d6462e2feca div.sk-parallel-item:last-child::after {align-self: flex-start;width: 50%;}#sk-030139dd-945e-472d-b5f3-8d6462e2feca div.sk-parallel-item:only-child::after {width: 0;}#sk-030139dd-945e-472d-b5f3-8d6462e2feca div.sk-dashed-wrapped {border: 1px dashed gray;margin: 0 0.4em 0.5em 0.4em;box-sizing: border-box;padding-bottom: 0.4em;background-color: white;position: relative;}#sk-030139dd-945e-472d-b5f3-8d6462e2feca div.sk-label label {font-family: monospace;font-weight: bold;background-color: white;display: inline-block;line-height: 1.2em;}#sk-030139dd-945e-472d-b5f3-8d6462e2feca div.sk-label-container {position: relative;z-index: 2;text-align: center;}#sk-030139dd-945e-472d-b5f3-8d6462e2feca div.sk-container {/* jupyter's `normalize.less` sets `[hidden] { display: none; }` but bootstrap.min.css set `[hidden] { display: none !important; }` so we also need the `!important` here to be able to override the default hidden behavior on the sphinx rendered scikit-learn.org. See: https://github.com/scikit-learn/scikit-learn/issues/21755 */display: inline-block !important;position: relative;}#sk-030139dd-945e-472d-b5f3-8d6462e2feca div.sk-text-repr-fallback {display: none;}</style><div id=\"sk-030139dd-945e-472d-b5f3-8d6462e2feca\" class=\"sk-top-container\"><div class=\"sk-text-repr-fallback\"><pre>ColumnTransformer(remainder=&#x27;passthrough&#x27;,\n",
       "                  transformers=[(&#x27;standardscaler&#x27;, StandardScaler(),\n",
       "                                 [0, 1, 2, 3, 4, 5, 6, 7, 8])])</pre><b>Please rerun this cell to show the HTML repr or trust the notebook.</b></div><div class=\"sk-container\" hidden><div class=\"sk-item sk-dashed-wrapped\"><div class=\"sk-label-container\"><div class=\"sk-label sk-toggleable\"><input class=\"sk-toggleable__control sk-hidden--visually\" id=\"a0416d88-235e-4ac6-b305-10961b10c620\" type=\"checkbox\" ><label for=\"a0416d88-235e-4ac6-b305-10961b10c620\" class=\"sk-toggleable__label sk-toggleable__label-arrow\">ColumnTransformer</label><div class=\"sk-toggleable__content\"><pre>ColumnTransformer(remainder=&#x27;passthrough&#x27;,\n",
       "                  transformers=[(&#x27;standardscaler&#x27;, StandardScaler(),\n",
       "                                 [0, 1, 2, 3, 4, 5, 6, 7, 8])])</pre></div></div></div><div class=\"sk-parallel\"><div class=\"sk-parallel-item\"><div class=\"sk-item\"><div class=\"sk-label-container\"><div class=\"sk-label sk-toggleable\"><input class=\"sk-toggleable__control sk-hidden--visually\" id=\"b8b8d2e3-26cf-4b96-8270-f61ba3c7fe1e\" type=\"checkbox\" ><label for=\"b8b8d2e3-26cf-4b96-8270-f61ba3c7fe1e\" class=\"sk-toggleable__label sk-toggleable__label-arrow\">standardscaler</label><div class=\"sk-toggleable__content\"><pre>[0, 1, 2, 3, 4, 5, 6, 7, 8]</pre></div></div></div><div class=\"sk-serial\"><div class=\"sk-item\"><div class=\"sk-estimator sk-toggleable\"><input class=\"sk-toggleable__control sk-hidden--visually\" id=\"1cda3de7-3a66-443d-b67a-a1d3cfa87884\" type=\"checkbox\" ><label for=\"1cda3de7-3a66-443d-b67a-a1d3cfa87884\" class=\"sk-toggleable__label sk-toggleable__label-arrow\">StandardScaler</label><div class=\"sk-toggleable__content\"><pre>StandardScaler()</pre></div></div></div></div></div></div><div class=\"sk-parallel-item\"><div class=\"sk-item\"><div class=\"sk-label-container\"><div class=\"sk-label sk-toggleable\"><input class=\"sk-toggleable__control sk-hidden--visually\" id=\"77ffd63c-e091-4592-b914-211decb7e9a3\" type=\"checkbox\" ><label for=\"77ffd63c-e091-4592-b914-211decb7e9a3\" class=\"sk-toggleable__label sk-toggleable__label-arrow\">remainder</label><div class=\"sk-toggleable__content\"><pre></pre></div></div></div><div class=\"sk-serial\"><div class=\"sk-item\"><div class=\"sk-estimator sk-toggleable\"><input class=\"sk-toggleable__control sk-hidden--visually\" id=\"f8d0e554-b195-4950-ad1a-51292116f2df\" type=\"checkbox\" ><label for=\"f8d0e554-b195-4950-ad1a-51292116f2df\" class=\"sk-toggleable__label sk-toggleable__label-arrow\">passthrough</label><div class=\"sk-toggleable__content\"><pre>passthrough</pre></div></div></div></div></div></div></div></div></div></div>"
      ],
      "text/plain": [
       "ColumnTransformer(remainder='passthrough',\n",
       "                  transformers=[('standardscaler', StandardScaler(),\n",
       "                                 [0, 1, 2, 3, 4, 5, 6, 7, 8])])"
      ]
     },
     "execution_count": 573,
     "metadata": {},
     "output_type": "execute_result"
    }
   ],
   "source": [
    "trans = make_column_transformer((StandardScaler(), num_col),\n",
    "                                remainder='passthrough')\n",
    "set_config(display='diagram')\n",
    "trans\n"
   ]
  },
  {
   "cell_type": "code",
   "execution_count": 574,
   "metadata": {},
   "outputs": [
    {
     "data": {
      "text/html": [
       "<style>#sk-eba2ffff-14de-48fa-a613-95a204214d6d {color: black;background-color: white;}#sk-eba2ffff-14de-48fa-a613-95a204214d6d pre{padding: 0;}#sk-eba2ffff-14de-48fa-a613-95a204214d6d div.sk-toggleable {background-color: white;}#sk-eba2ffff-14de-48fa-a613-95a204214d6d label.sk-toggleable__label {cursor: pointer;display: block;width: 100%;margin-bottom: 0;padding: 0.3em;box-sizing: border-box;text-align: center;}#sk-eba2ffff-14de-48fa-a613-95a204214d6d label.sk-toggleable__label-arrow:before {content: \"▸\";float: left;margin-right: 0.25em;color: #696969;}#sk-eba2ffff-14de-48fa-a613-95a204214d6d label.sk-toggleable__label-arrow:hover:before {color: black;}#sk-eba2ffff-14de-48fa-a613-95a204214d6d div.sk-estimator:hover label.sk-toggleable__label-arrow:before {color: black;}#sk-eba2ffff-14de-48fa-a613-95a204214d6d div.sk-toggleable__content {max-height: 0;max-width: 0;overflow: hidden;text-align: left;background-color: #f0f8ff;}#sk-eba2ffff-14de-48fa-a613-95a204214d6d div.sk-toggleable__content pre {margin: 0.2em;color: black;border-radius: 0.25em;background-color: #f0f8ff;}#sk-eba2ffff-14de-48fa-a613-95a204214d6d input.sk-toggleable__control:checked~div.sk-toggleable__content {max-height: 200px;max-width: 100%;overflow: auto;}#sk-eba2ffff-14de-48fa-a613-95a204214d6d input.sk-toggleable__control:checked~label.sk-toggleable__label-arrow:before {content: \"▾\";}#sk-eba2ffff-14de-48fa-a613-95a204214d6d div.sk-estimator input.sk-toggleable__control:checked~label.sk-toggleable__label {background-color: #d4ebff;}#sk-eba2ffff-14de-48fa-a613-95a204214d6d div.sk-label input.sk-toggleable__control:checked~label.sk-toggleable__label {background-color: #d4ebff;}#sk-eba2ffff-14de-48fa-a613-95a204214d6d input.sk-hidden--visually {border: 0;clip: rect(1px 1px 1px 1px);clip: rect(1px, 1px, 1px, 1px);height: 1px;margin: -1px;overflow: hidden;padding: 0;position: absolute;width: 1px;}#sk-eba2ffff-14de-48fa-a613-95a204214d6d div.sk-estimator {font-family: monospace;background-color: #f0f8ff;border: 1px dotted black;border-radius: 0.25em;box-sizing: border-box;margin-bottom: 0.5em;}#sk-eba2ffff-14de-48fa-a613-95a204214d6d div.sk-estimator:hover {background-color: #d4ebff;}#sk-eba2ffff-14de-48fa-a613-95a204214d6d div.sk-parallel-item::after {content: \"\";width: 100%;border-bottom: 1px solid gray;flex-grow: 1;}#sk-eba2ffff-14de-48fa-a613-95a204214d6d div.sk-label:hover label.sk-toggleable__label {background-color: #d4ebff;}#sk-eba2ffff-14de-48fa-a613-95a204214d6d div.sk-serial::before {content: \"\";position: absolute;border-left: 1px solid gray;box-sizing: border-box;top: 2em;bottom: 0;left: 50%;}#sk-eba2ffff-14de-48fa-a613-95a204214d6d div.sk-serial {display: flex;flex-direction: column;align-items: center;background-color: white;padding-right: 0.2em;padding-left: 0.2em;}#sk-eba2ffff-14de-48fa-a613-95a204214d6d div.sk-item {z-index: 1;}#sk-eba2ffff-14de-48fa-a613-95a204214d6d div.sk-parallel {display: flex;align-items: stretch;justify-content: center;background-color: white;}#sk-eba2ffff-14de-48fa-a613-95a204214d6d div.sk-parallel::before {content: \"\";position: absolute;border-left: 1px solid gray;box-sizing: border-box;top: 2em;bottom: 0;left: 50%;}#sk-eba2ffff-14de-48fa-a613-95a204214d6d div.sk-parallel-item {display: flex;flex-direction: column;position: relative;background-color: white;}#sk-eba2ffff-14de-48fa-a613-95a204214d6d div.sk-parallel-item:first-child::after {align-self: flex-end;width: 50%;}#sk-eba2ffff-14de-48fa-a613-95a204214d6d div.sk-parallel-item:last-child::after {align-self: flex-start;width: 50%;}#sk-eba2ffff-14de-48fa-a613-95a204214d6d div.sk-parallel-item:only-child::after {width: 0;}#sk-eba2ffff-14de-48fa-a613-95a204214d6d div.sk-dashed-wrapped {border: 1px dashed gray;margin: 0 0.4em 0.5em 0.4em;box-sizing: border-box;padding-bottom: 0.4em;background-color: white;position: relative;}#sk-eba2ffff-14de-48fa-a613-95a204214d6d div.sk-label label {font-family: monospace;font-weight: bold;background-color: white;display: inline-block;line-height: 1.2em;}#sk-eba2ffff-14de-48fa-a613-95a204214d6d div.sk-label-container {position: relative;z-index: 2;text-align: center;}#sk-eba2ffff-14de-48fa-a613-95a204214d6d div.sk-container {/* jupyter's `normalize.less` sets `[hidden] { display: none; }` but bootstrap.min.css set `[hidden] { display: none !important; }` so we also need the `!important` here to be able to override the default hidden behavior on the sphinx rendered scikit-learn.org. See: https://github.com/scikit-learn/scikit-learn/issues/21755 */display: inline-block !important;position: relative;}#sk-eba2ffff-14de-48fa-a613-95a204214d6d div.sk-text-repr-fallback {display: none;}</style><div id=\"sk-eba2ffff-14de-48fa-a613-95a204214d6d\" class=\"sk-top-container\"><div class=\"sk-text-repr-fallback\"><pre>Pipeline(steps=[(&#x27;columntransformer&#x27;,\n",
       "                 ColumnTransformer(remainder=&#x27;passthrough&#x27;,\n",
       "                                   transformers=[(&#x27;standardscaler&#x27;,\n",
       "                                                  StandardScaler(),\n",
       "                                                  [0, 1, 2, 3, 4, 5, 6, 7,\n",
       "                                                   8])])),\n",
       "                (&#x27;kneighborsclassifier&#x27;, KNeighborsClassifier(n_neighbors=11))])</pre><b>Please rerun this cell to show the HTML repr or trust the notebook.</b></div><div class=\"sk-container\" hidden><div class=\"sk-item sk-dashed-wrapped\"><div class=\"sk-label-container\"><div class=\"sk-label sk-toggleable\"><input class=\"sk-toggleable__control sk-hidden--visually\" id=\"1c7c2c98-629f-41b7-b52c-15bbe1fb892a\" type=\"checkbox\" ><label for=\"1c7c2c98-629f-41b7-b52c-15bbe1fb892a\" class=\"sk-toggleable__label sk-toggleable__label-arrow\">Pipeline</label><div class=\"sk-toggleable__content\"><pre>Pipeline(steps=[(&#x27;columntransformer&#x27;,\n",
       "                 ColumnTransformer(remainder=&#x27;passthrough&#x27;,\n",
       "                                   transformers=[(&#x27;standardscaler&#x27;,\n",
       "                                                  StandardScaler(),\n",
       "                                                  [0, 1, 2, 3, 4, 5, 6, 7,\n",
       "                                                   8])])),\n",
       "                (&#x27;kneighborsclassifier&#x27;, KNeighborsClassifier(n_neighbors=11))])</pre></div></div></div><div class=\"sk-serial\"><div class=\"sk-item sk-dashed-wrapped\"><div class=\"sk-label-container\"><div class=\"sk-label sk-toggleable\"><input class=\"sk-toggleable__control sk-hidden--visually\" id=\"e9daf3d4-b636-49a6-b67e-5e87303aecd1\" type=\"checkbox\" ><label for=\"e9daf3d4-b636-49a6-b67e-5e87303aecd1\" class=\"sk-toggleable__label sk-toggleable__label-arrow\">columntransformer: ColumnTransformer</label><div class=\"sk-toggleable__content\"><pre>ColumnTransformer(remainder=&#x27;passthrough&#x27;,\n",
       "                  transformers=[(&#x27;standardscaler&#x27;, StandardScaler(),\n",
       "                                 [0, 1, 2, 3, 4, 5, 6, 7, 8])])</pre></div></div></div><div class=\"sk-parallel\"><div class=\"sk-parallel-item\"><div class=\"sk-item\"><div class=\"sk-label-container\"><div class=\"sk-label sk-toggleable\"><input class=\"sk-toggleable__control sk-hidden--visually\" id=\"c012dfe7-255e-4d5e-abdc-103f25214701\" type=\"checkbox\" ><label for=\"c012dfe7-255e-4d5e-abdc-103f25214701\" class=\"sk-toggleable__label sk-toggleable__label-arrow\">standardscaler</label><div class=\"sk-toggleable__content\"><pre>[0, 1, 2, 3, 4, 5, 6, 7, 8]</pre></div></div></div><div class=\"sk-serial\"><div class=\"sk-item\"><div class=\"sk-estimator sk-toggleable\"><input class=\"sk-toggleable__control sk-hidden--visually\" id=\"08be30d5-df80-44a1-b7e2-1fe5d2225f78\" type=\"checkbox\" ><label for=\"08be30d5-df80-44a1-b7e2-1fe5d2225f78\" class=\"sk-toggleable__label sk-toggleable__label-arrow\">StandardScaler</label><div class=\"sk-toggleable__content\"><pre>StandardScaler()</pre></div></div></div></div></div></div><div class=\"sk-parallel-item\"><div class=\"sk-item\"><div class=\"sk-label-container\"><div class=\"sk-label sk-toggleable\"><input class=\"sk-toggleable__control sk-hidden--visually\" id=\"bda7e9d2-1e2c-46de-ab8b-1d9fe82c076b\" type=\"checkbox\" ><label for=\"bda7e9d2-1e2c-46de-ab8b-1d9fe82c076b\" class=\"sk-toggleable__label sk-toggleable__label-arrow\">remainder</label><div class=\"sk-toggleable__content\"><pre></pre></div></div></div><div class=\"sk-serial\"><div class=\"sk-item\"><div class=\"sk-estimator sk-toggleable\"><input class=\"sk-toggleable__control sk-hidden--visually\" id=\"408c9280-e705-46d4-8ad8-4c761c542490\" type=\"checkbox\" ><label for=\"408c9280-e705-46d4-8ad8-4c761c542490\" class=\"sk-toggleable__label sk-toggleable__label-arrow\">passthrough</label><div class=\"sk-toggleable__content\"><pre>passthrough</pre></div></div></div></div></div></div></div></div><div class=\"sk-item\"><div class=\"sk-estimator sk-toggleable\"><input class=\"sk-toggleable__control sk-hidden--visually\" id=\"f4261d07-c0ef-42ae-9da5-90466562bae9\" type=\"checkbox\" ><label for=\"f4261d07-c0ef-42ae-9da5-90466562bae9\" class=\"sk-toggleable__label sk-toggleable__label-arrow\">KNeighborsClassifier</label><div class=\"sk-toggleable__content\"><pre>KNeighborsClassifier(n_neighbors=11)</pre></div></div></div></div></div></div></div>"
      ],
      "text/plain": [
       "Pipeline(steps=[('columntransformer',\n",
       "                 ColumnTransformer(remainder='passthrough',\n",
       "                                   transformers=[('standardscaler',\n",
       "                                                  StandardScaler(),\n",
       "                                                  [0, 1, 2, 3, 4, 5, 6, 7,\n",
       "                                                   8])])),\n",
       "                ('kneighborsclassifier', KNeighborsClassifier(n_neighbors=11))])"
      ]
     },
     "execution_count": 574,
     "metadata": {},
     "output_type": "execute_result"
    }
   ],
   "source": [
    "model = KNeighborsClassifier(11)\n",
    "pipe = make_pipeline(trans, model)\n",
    "pipe\n"
   ]
  },
  {
   "cell_type": "code",
   "execution_count": 575,
   "metadata": {},
   "outputs": [
    {
     "data": {
      "text/html": [
       "<style>#sk-4eab3c89-91d0-4936-8a5e-01c702514cce {color: black;background-color: white;}#sk-4eab3c89-91d0-4936-8a5e-01c702514cce pre{padding: 0;}#sk-4eab3c89-91d0-4936-8a5e-01c702514cce div.sk-toggleable {background-color: white;}#sk-4eab3c89-91d0-4936-8a5e-01c702514cce label.sk-toggleable__label {cursor: pointer;display: block;width: 100%;margin-bottom: 0;padding: 0.3em;box-sizing: border-box;text-align: center;}#sk-4eab3c89-91d0-4936-8a5e-01c702514cce label.sk-toggleable__label-arrow:before {content: \"▸\";float: left;margin-right: 0.25em;color: #696969;}#sk-4eab3c89-91d0-4936-8a5e-01c702514cce label.sk-toggleable__label-arrow:hover:before {color: black;}#sk-4eab3c89-91d0-4936-8a5e-01c702514cce div.sk-estimator:hover label.sk-toggleable__label-arrow:before {color: black;}#sk-4eab3c89-91d0-4936-8a5e-01c702514cce div.sk-toggleable__content {max-height: 0;max-width: 0;overflow: hidden;text-align: left;background-color: #f0f8ff;}#sk-4eab3c89-91d0-4936-8a5e-01c702514cce div.sk-toggleable__content pre {margin: 0.2em;color: black;border-radius: 0.25em;background-color: #f0f8ff;}#sk-4eab3c89-91d0-4936-8a5e-01c702514cce input.sk-toggleable__control:checked~div.sk-toggleable__content {max-height: 200px;max-width: 100%;overflow: auto;}#sk-4eab3c89-91d0-4936-8a5e-01c702514cce input.sk-toggleable__control:checked~label.sk-toggleable__label-arrow:before {content: \"▾\";}#sk-4eab3c89-91d0-4936-8a5e-01c702514cce div.sk-estimator input.sk-toggleable__control:checked~label.sk-toggleable__label {background-color: #d4ebff;}#sk-4eab3c89-91d0-4936-8a5e-01c702514cce div.sk-label input.sk-toggleable__control:checked~label.sk-toggleable__label {background-color: #d4ebff;}#sk-4eab3c89-91d0-4936-8a5e-01c702514cce input.sk-hidden--visually {border: 0;clip: rect(1px 1px 1px 1px);clip: rect(1px, 1px, 1px, 1px);height: 1px;margin: -1px;overflow: hidden;padding: 0;position: absolute;width: 1px;}#sk-4eab3c89-91d0-4936-8a5e-01c702514cce div.sk-estimator {font-family: monospace;background-color: #f0f8ff;border: 1px dotted black;border-radius: 0.25em;box-sizing: border-box;margin-bottom: 0.5em;}#sk-4eab3c89-91d0-4936-8a5e-01c702514cce div.sk-estimator:hover {background-color: #d4ebff;}#sk-4eab3c89-91d0-4936-8a5e-01c702514cce div.sk-parallel-item::after {content: \"\";width: 100%;border-bottom: 1px solid gray;flex-grow: 1;}#sk-4eab3c89-91d0-4936-8a5e-01c702514cce div.sk-label:hover label.sk-toggleable__label {background-color: #d4ebff;}#sk-4eab3c89-91d0-4936-8a5e-01c702514cce div.sk-serial::before {content: \"\";position: absolute;border-left: 1px solid gray;box-sizing: border-box;top: 2em;bottom: 0;left: 50%;}#sk-4eab3c89-91d0-4936-8a5e-01c702514cce div.sk-serial {display: flex;flex-direction: column;align-items: center;background-color: white;padding-right: 0.2em;padding-left: 0.2em;}#sk-4eab3c89-91d0-4936-8a5e-01c702514cce div.sk-item {z-index: 1;}#sk-4eab3c89-91d0-4936-8a5e-01c702514cce div.sk-parallel {display: flex;align-items: stretch;justify-content: center;background-color: white;}#sk-4eab3c89-91d0-4936-8a5e-01c702514cce div.sk-parallel::before {content: \"\";position: absolute;border-left: 1px solid gray;box-sizing: border-box;top: 2em;bottom: 0;left: 50%;}#sk-4eab3c89-91d0-4936-8a5e-01c702514cce div.sk-parallel-item {display: flex;flex-direction: column;position: relative;background-color: white;}#sk-4eab3c89-91d0-4936-8a5e-01c702514cce div.sk-parallel-item:first-child::after {align-self: flex-end;width: 50%;}#sk-4eab3c89-91d0-4936-8a5e-01c702514cce div.sk-parallel-item:last-child::after {align-self: flex-start;width: 50%;}#sk-4eab3c89-91d0-4936-8a5e-01c702514cce div.sk-parallel-item:only-child::after {width: 0;}#sk-4eab3c89-91d0-4936-8a5e-01c702514cce div.sk-dashed-wrapped {border: 1px dashed gray;margin: 0 0.4em 0.5em 0.4em;box-sizing: border-box;padding-bottom: 0.4em;background-color: white;position: relative;}#sk-4eab3c89-91d0-4936-8a5e-01c702514cce div.sk-label label {font-family: monospace;font-weight: bold;background-color: white;display: inline-block;line-height: 1.2em;}#sk-4eab3c89-91d0-4936-8a5e-01c702514cce div.sk-label-container {position: relative;z-index: 2;text-align: center;}#sk-4eab3c89-91d0-4936-8a5e-01c702514cce div.sk-container {/* jupyter's `normalize.less` sets `[hidden] { display: none; }` but bootstrap.min.css set `[hidden] { display: none !important; }` so we also need the `!important` here to be able to override the default hidden behavior on the sphinx rendered scikit-learn.org. See: https://github.com/scikit-learn/scikit-learn/issues/21755 */display: inline-block !important;position: relative;}#sk-4eab3c89-91d0-4936-8a5e-01c702514cce div.sk-text-repr-fallback {display: none;}</style><div id=\"sk-4eab3c89-91d0-4936-8a5e-01c702514cce\" class=\"sk-top-container\"><div class=\"sk-text-repr-fallback\"><pre>KNeighborsClassifier(n_neighbors=11)</pre><b>Please rerun this cell to show the HTML repr or trust the notebook.</b></div><div class=\"sk-container\" hidden><div class=\"sk-item\"><div class=\"sk-estimator sk-toggleable\"><input class=\"sk-toggleable__control sk-hidden--visually\" id=\"bc8408e0-e1c4-4954-952b-040793943483\" type=\"checkbox\" checked><label for=\"bc8408e0-e1c4-4954-952b-040793943483\" class=\"sk-toggleable__label sk-toggleable__label-arrow\">KNeighborsClassifier</label><div class=\"sk-toggleable__content\"><pre>KNeighborsClassifier(n_neighbors=11)</pre></div></div></div></div></div>"
      ],
      "text/plain": [
       "KNeighborsClassifier(n_neighbors=11)"
      ]
     },
     "execution_count": 575,
     "metadata": {},
     "output_type": "execute_result"
    }
   ],
   "source": [
    "model\n"
   ]
  },
  {
   "cell_type": "code",
   "execution_count": 576,
   "metadata": {},
   "outputs": [
    {
     "data": {
      "text/html": [
       "<style>#sk-be1a7d0c-25de-4eb8-bd37-542a3263a713 {color: black;background-color: white;}#sk-be1a7d0c-25de-4eb8-bd37-542a3263a713 pre{padding: 0;}#sk-be1a7d0c-25de-4eb8-bd37-542a3263a713 div.sk-toggleable {background-color: white;}#sk-be1a7d0c-25de-4eb8-bd37-542a3263a713 label.sk-toggleable__label {cursor: pointer;display: block;width: 100%;margin-bottom: 0;padding: 0.3em;box-sizing: border-box;text-align: center;}#sk-be1a7d0c-25de-4eb8-bd37-542a3263a713 label.sk-toggleable__label-arrow:before {content: \"▸\";float: left;margin-right: 0.25em;color: #696969;}#sk-be1a7d0c-25de-4eb8-bd37-542a3263a713 label.sk-toggleable__label-arrow:hover:before {color: black;}#sk-be1a7d0c-25de-4eb8-bd37-542a3263a713 div.sk-estimator:hover label.sk-toggleable__label-arrow:before {color: black;}#sk-be1a7d0c-25de-4eb8-bd37-542a3263a713 div.sk-toggleable__content {max-height: 0;max-width: 0;overflow: hidden;text-align: left;background-color: #f0f8ff;}#sk-be1a7d0c-25de-4eb8-bd37-542a3263a713 div.sk-toggleable__content pre {margin: 0.2em;color: black;border-radius: 0.25em;background-color: #f0f8ff;}#sk-be1a7d0c-25de-4eb8-bd37-542a3263a713 input.sk-toggleable__control:checked~div.sk-toggleable__content {max-height: 200px;max-width: 100%;overflow: auto;}#sk-be1a7d0c-25de-4eb8-bd37-542a3263a713 input.sk-toggleable__control:checked~label.sk-toggleable__label-arrow:before {content: \"▾\";}#sk-be1a7d0c-25de-4eb8-bd37-542a3263a713 div.sk-estimator input.sk-toggleable__control:checked~label.sk-toggleable__label {background-color: #d4ebff;}#sk-be1a7d0c-25de-4eb8-bd37-542a3263a713 div.sk-label input.sk-toggleable__control:checked~label.sk-toggleable__label {background-color: #d4ebff;}#sk-be1a7d0c-25de-4eb8-bd37-542a3263a713 input.sk-hidden--visually {border: 0;clip: rect(1px 1px 1px 1px);clip: rect(1px, 1px, 1px, 1px);height: 1px;margin: -1px;overflow: hidden;padding: 0;position: absolute;width: 1px;}#sk-be1a7d0c-25de-4eb8-bd37-542a3263a713 div.sk-estimator {font-family: monospace;background-color: #f0f8ff;border: 1px dotted black;border-radius: 0.25em;box-sizing: border-box;margin-bottom: 0.5em;}#sk-be1a7d0c-25de-4eb8-bd37-542a3263a713 div.sk-estimator:hover {background-color: #d4ebff;}#sk-be1a7d0c-25de-4eb8-bd37-542a3263a713 div.sk-parallel-item::after {content: \"\";width: 100%;border-bottom: 1px solid gray;flex-grow: 1;}#sk-be1a7d0c-25de-4eb8-bd37-542a3263a713 div.sk-label:hover label.sk-toggleable__label {background-color: #d4ebff;}#sk-be1a7d0c-25de-4eb8-bd37-542a3263a713 div.sk-serial::before {content: \"\";position: absolute;border-left: 1px solid gray;box-sizing: border-box;top: 2em;bottom: 0;left: 50%;}#sk-be1a7d0c-25de-4eb8-bd37-542a3263a713 div.sk-serial {display: flex;flex-direction: column;align-items: center;background-color: white;padding-right: 0.2em;padding-left: 0.2em;}#sk-be1a7d0c-25de-4eb8-bd37-542a3263a713 div.sk-item {z-index: 1;}#sk-be1a7d0c-25de-4eb8-bd37-542a3263a713 div.sk-parallel {display: flex;align-items: stretch;justify-content: center;background-color: white;}#sk-be1a7d0c-25de-4eb8-bd37-542a3263a713 div.sk-parallel::before {content: \"\";position: absolute;border-left: 1px solid gray;box-sizing: border-box;top: 2em;bottom: 0;left: 50%;}#sk-be1a7d0c-25de-4eb8-bd37-542a3263a713 div.sk-parallel-item {display: flex;flex-direction: column;position: relative;background-color: white;}#sk-be1a7d0c-25de-4eb8-bd37-542a3263a713 div.sk-parallel-item:first-child::after {align-self: flex-end;width: 50%;}#sk-be1a7d0c-25de-4eb8-bd37-542a3263a713 div.sk-parallel-item:last-child::after {align-self: flex-start;width: 50%;}#sk-be1a7d0c-25de-4eb8-bd37-542a3263a713 div.sk-parallel-item:only-child::after {width: 0;}#sk-be1a7d0c-25de-4eb8-bd37-542a3263a713 div.sk-dashed-wrapped {border: 1px dashed gray;margin: 0 0.4em 0.5em 0.4em;box-sizing: border-box;padding-bottom: 0.4em;background-color: white;position: relative;}#sk-be1a7d0c-25de-4eb8-bd37-542a3263a713 div.sk-label label {font-family: monospace;font-weight: bold;background-color: white;display: inline-block;line-height: 1.2em;}#sk-be1a7d0c-25de-4eb8-bd37-542a3263a713 div.sk-label-container {position: relative;z-index: 2;text-align: center;}#sk-be1a7d0c-25de-4eb8-bd37-542a3263a713 div.sk-container {/* jupyter's `normalize.less` sets `[hidden] { display: none; }` but bootstrap.min.css set `[hidden] { display: none !important; }` so we also need the `!important` here to be able to override the default hidden behavior on the sphinx rendered scikit-learn.org. See: https://github.com/scikit-learn/scikit-learn/issues/21755 */display: inline-block !important;position: relative;}#sk-be1a7d0c-25de-4eb8-bd37-542a3263a713 div.sk-text-repr-fallback {display: none;}</style><div id=\"sk-be1a7d0c-25de-4eb8-bd37-542a3263a713\" class=\"sk-top-container\"><div class=\"sk-text-repr-fallback\"><pre>Pipeline(steps=[(&#x27;columntransformer&#x27;,\n",
       "                 ColumnTransformer(remainder=&#x27;passthrough&#x27;,\n",
       "                                   transformers=[(&#x27;standardscaler&#x27;,\n",
       "                                                  StandardScaler(),\n",
       "                                                  [0, 1, 2, 3, 4, 5, 6, 7,\n",
       "                                                   8])])),\n",
       "                (&#x27;kneighborsclassifier&#x27;, KNeighborsClassifier(n_neighbors=11))])</pre><b>Please rerun this cell to show the HTML repr or trust the notebook.</b></div><div class=\"sk-container\" hidden><div class=\"sk-item sk-dashed-wrapped\"><div class=\"sk-label-container\"><div class=\"sk-label sk-toggleable\"><input class=\"sk-toggleable__control sk-hidden--visually\" id=\"caaa667b-272a-4f7f-9229-e79eccb5b375\" type=\"checkbox\" ><label for=\"caaa667b-272a-4f7f-9229-e79eccb5b375\" class=\"sk-toggleable__label sk-toggleable__label-arrow\">Pipeline</label><div class=\"sk-toggleable__content\"><pre>Pipeline(steps=[(&#x27;columntransformer&#x27;,\n",
       "                 ColumnTransformer(remainder=&#x27;passthrough&#x27;,\n",
       "                                   transformers=[(&#x27;standardscaler&#x27;,\n",
       "                                                  StandardScaler(),\n",
       "                                                  [0, 1, 2, 3, 4, 5, 6, 7,\n",
       "                                                   8])])),\n",
       "                (&#x27;kneighborsclassifier&#x27;, KNeighborsClassifier(n_neighbors=11))])</pre></div></div></div><div class=\"sk-serial\"><div class=\"sk-item sk-dashed-wrapped\"><div class=\"sk-label-container\"><div class=\"sk-label sk-toggleable\"><input class=\"sk-toggleable__control sk-hidden--visually\" id=\"1b71db5f-c61a-4022-a569-f6c9397341f8\" type=\"checkbox\" ><label for=\"1b71db5f-c61a-4022-a569-f6c9397341f8\" class=\"sk-toggleable__label sk-toggleable__label-arrow\">columntransformer: ColumnTransformer</label><div class=\"sk-toggleable__content\"><pre>ColumnTransformer(remainder=&#x27;passthrough&#x27;,\n",
       "                  transformers=[(&#x27;standardscaler&#x27;, StandardScaler(),\n",
       "                                 [0, 1, 2, 3, 4, 5, 6, 7, 8])])</pre></div></div></div><div class=\"sk-parallel\"><div class=\"sk-parallel-item\"><div class=\"sk-item\"><div class=\"sk-label-container\"><div class=\"sk-label sk-toggleable\"><input class=\"sk-toggleable__control sk-hidden--visually\" id=\"e099443f-917f-4b35-a2bf-ee5ac31d4108\" type=\"checkbox\" ><label for=\"e099443f-917f-4b35-a2bf-ee5ac31d4108\" class=\"sk-toggleable__label sk-toggleable__label-arrow\">standardscaler</label><div class=\"sk-toggleable__content\"><pre>[0, 1, 2, 3, 4, 5, 6, 7, 8]</pre></div></div></div><div class=\"sk-serial\"><div class=\"sk-item\"><div class=\"sk-estimator sk-toggleable\"><input class=\"sk-toggleable__control sk-hidden--visually\" id=\"712c6c58-dc09-48a3-af0b-f44e313de9f1\" type=\"checkbox\" ><label for=\"712c6c58-dc09-48a3-af0b-f44e313de9f1\" class=\"sk-toggleable__label sk-toggleable__label-arrow\">StandardScaler</label><div class=\"sk-toggleable__content\"><pre>StandardScaler()</pre></div></div></div></div></div></div><div class=\"sk-parallel-item\"><div class=\"sk-item\"><div class=\"sk-label-container\"><div class=\"sk-label sk-toggleable\"><input class=\"sk-toggleable__control sk-hidden--visually\" id=\"532bca79-b6f3-41a4-969c-e294a5db4d32\" type=\"checkbox\" ><label for=\"532bca79-b6f3-41a4-969c-e294a5db4d32\" class=\"sk-toggleable__label sk-toggleable__label-arrow\">remainder</label><div class=\"sk-toggleable__content\"><pre></pre></div></div></div><div class=\"sk-serial\"><div class=\"sk-item\"><div class=\"sk-estimator sk-toggleable\"><input class=\"sk-toggleable__control sk-hidden--visually\" id=\"d9339be9-0905-4983-a34a-238a85010196\" type=\"checkbox\" ><label for=\"d9339be9-0905-4983-a34a-238a85010196\" class=\"sk-toggleable__label sk-toggleable__label-arrow\">passthrough</label><div class=\"sk-toggleable__content\"><pre>passthrough</pre></div></div></div></div></div></div></div></div><div class=\"sk-item\"><div class=\"sk-estimator sk-toggleable\"><input class=\"sk-toggleable__control sk-hidden--visually\" id=\"0b5b889a-d760-4249-8593-741dbee1f305\" type=\"checkbox\" ><label for=\"0b5b889a-d760-4249-8593-741dbee1f305\" class=\"sk-toggleable__label sk-toggleable__label-arrow\">KNeighborsClassifier</label><div class=\"sk-toggleable__content\"><pre>KNeighborsClassifier(n_neighbors=11)</pre></div></div></div></div></div></div></div>"
      ],
      "text/plain": [
       "Pipeline(steps=[('columntransformer',\n",
       "                 ColumnTransformer(remainder='passthrough',\n",
       "                                   transformers=[('standardscaler',\n",
       "                                                  StandardScaler(),\n",
       "                                                  [0, 1, 2, 3, 4, 5, 6, 7,\n",
       "                                                   8])])),\n",
       "                ('kneighborsclassifier', KNeighborsClassifier(n_neighbors=11))])"
      ]
     },
     "execution_count": 576,
     "metadata": {},
     "output_type": "execute_result"
    }
   ],
   "source": [
    "pipe\n"
   ]
  },
  {
   "cell_type": "code",
   "execution_count": 577,
   "metadata": {},
   "outputs": [
    {
     "data": {
      "text/html": [
       "<style>#sk-107fb595-1844-4823-9842-74d0b170e319 {color: black;background-color: white;}#sk-107fb595-1844-4823-9842-74d0b170e319 pre{padding: 0;}#sk-107fb595-1844-4823-9842-74d0b170e319 div.sk-toggleable {background-color: white;}#sk-107fb595-1844-4823-9842-74d0b170e319 label.sk-toggleable__label {cursor: pointer;display: block;width: 100%;margin-bottom: 0;padding: 0.3em;box-sizing: border-box;text-align: center;}#sk-107fb595-1844-4823-9842-74d0b170e319 label.sk-toggleable__label-arrow:before {content: \"▸\";float: left;margin-right: 0.25em;color: #696969;}#sk-107fb595-1844-4823-9842-74d0b170e319 label.sk-toggleable__label-arrow:hover:before {color: black;}#sk-107fb595-1844-4823-9842-74d0b170e319 div.sk-estimator:hover label.sk-toggleable__label-arrow:before {color: black;}#sk-107fb595-1844-4823-9842-74d0b170e319 div.sk-toggleable__content {max-height: 0;max-width: 0;overflow: hidden;text-align: left;background-color: #f0f8ff;}#sk-107fb595-1844-4823-9842-74d0b170e319 div.sk-toggleable__content pre {margin: 0.2em;color: black;border-radius: 0.25em;background-color: #f0f8ff;}#sk-107fb595-1844-4823-9842-74d0b170e319 input.sk-toggleable__control:checked~div.sk-toggleable__content {max-height: 200px;max-width: 100%;overflow: auto;}#sk-107fb595-1844-4823-9842-74d0b170e319 input.sk-toggleable__control:checked~label.sk-toggleable__label-arrow:before {content: \"▾\";}#sk-107fb595-1844-4823-9842-74d0b170e319 div.sk-estimator input.sk-toggleable__control:checked~label.sk-toggleable__label {background-color: #d4ebff;}#sk-107fb595-1844-4823-9842-74d0b170e319 div.sk-label input.sk-toggleable__control:checked~label.sk-toggleable__label {background-color: #d4ebff;}#sk-107fb595-1844-4823-9842-74d0b170e319 input.sk-hidden--visually {border: 0;clip: rect(1px 1px 1px 1px);clip: rect(1px, 1px, 1px, 1px);height: 1px;margin: -1px;overflow: hidden;padding: 0;position: absolute;width: 1px;}#sk-107fb595-1844-4823-9842-74d0b170e319 div.sk-estimator {font-family: monospace;background-color: #f0f8ff;border: 1px dotted black;border-radius: 0.25em;box-sizing: border-box;margin-bottom: 0.5em;}#sk-107fb595-1844-4823-9842-74d0b170e319 div.sk-estimator:hover {background-color: #d4ebff;}#sk-107fb595-1844-4823-9842-74d0b170e319 div.sk-parallel-item::after {content: \"\";width: 100%;border-bottom: 1px solid gray;flex-grow: 1;}#sk-107fb595-1844-4823-9842-74d0b170e319 div.sk-label:hover label.sk-toggleable__label {background-color: #d4ebff;}#sk-107fb595-1844-4823-9842-74d0b170e319 div.sk-serial::before {content: \"\";position: absolute;border-left: 1px solid gray;box-sizing: border-box;top: 2em;bottom: 0;left: 50%;}#sk-107fb595-1844-4823-9842-74d0b170e319 div.sk-serial {display: flex;flex-direction: column;align-items: center;background-color: white;padding-right: 0.2em;padding-left: 0.2em;}#sk-107fb595-1844-4823-9842-74d0b170e319 div.sk-item {z-index: 1;}#sk-107fb595-1844-4823-9842-74d0b170e319 div.sk-parallel {display: flex;align-items: stretch;justify-content: center;background-color: white;}#sk-107fb595-1844-4823-9842-74d0b170e319 div.sk-parallel::before {content: \"\";position: absolute;border-left: 1px solid gray;box-sizing: border-box;top: 2em;bottom: 0;left: 50%;}#sk-107fb595-1844-4823-9842-74d0b170e319 div.sk-parallel-item {display: flex;flex-direction: column;position: relative;background-color: white;}#sk-107fb595-1844-4823-9842-74d0b170e319 div.sk-parallel-item:first-child::after {align-self: flex-end;width: 50%;}#sk-107fb595-1844-4823-9842-74d0b170e319 div.sk-parallel-item:last-child::after {align-self: flex-start;width: 50%;}#sk-107fb595-1844-4823-9842-74d0b170e319 div.sk-parallel-item:only-child::after {width: 0;}#sk-107fb595-1844-4823-9842-74d0b170e319 div.sk-dashed-wrapped {border: 1px dashed gray;margin: 0 0.4em 0.5em 0.4em;box-sizing: border-box;padding-bottom: 0.4em;background-color: white;position: relative;}#sk-107fb595-1844-4823-9842-74d0b170e319 div.sk-label label {font-family: monospace;font-weight: bold;background-color: white;display: inline-block;line-height: 1.2em;}#sk-107fb595-1844-4823-9842-74d0b170e319 div.sk-label-container {position: relative;z-index: 2;text-align: center;}#sk-107fb595-1844-4823-9842-74d0b170e319 div.sk-container {/* jupyter's `normalize.less` sets `[hidden] { display: none; }` but bootstrap.min.css set `[hidden] { display: none !important; }` so we also need the `!important` here to be able to override the default hidden behavior on the sphinx rendered scikit-learn.org. See: https://github.com/scikit-learn/scikit-learn/issues/21755 */display: inline-block !important;position: relative;}#sk-107fb595-1844-4823-9842-74d0b170e319 div.sk-text-repr-fallback {display: none;}</style><div id=\"sk-107fb595-1844-4823-9842-74d0b170e319\" class=\"sk-top-container\"><div class=\"sk-text-repr-fallback\"><pre>Pipeline(steps=[(&#x27;columntransformer&#x27;,\n",
       "                 ColumnTransformer(remainder=&#x27;passthrough&#x27;,\n",
       "                                   transformers=[(&#x27;standardscaler&#x27;,\n",
       "                                                  StandardScaler(),\n",
       "                                                  [0, 1, 2, 3, 4, 5, 6, 7,\n",
       "                                                   8])])),\n",
       "                (&#x27;kneighborsclassifier&#x27;, KNeighborsClassifier(n_neighbors=11))])</pre><b>Please rerun this cell to show the HTML repr or trust the notebook.</b></div><div class=\"sk-container\" hidden><div class=\"sk-item sk-dashed-wrapped\"><div class=\"sk-label-container\"><div class=\"sk-label sk-toggleable\"><input class=\"sk-toggleable__control sk-hidden--visually\" id=\"e92ffbd0-5f68-4486-bcf7-b7f76a7b0083\" type=\"checkbox\" ><label for=\"e92ffbd0-5f68-4486-bcf7-b7f76a7b0083\" class=\"sk-toggleable__label sk-toggleable__label-arrow\">Pipeline</label><div class=\"sk-toggleable__content\"><pre>Pipeline(steps=[(&#x27;columntransformer&#x27;,\n",
       "                 ColumnTransformer(remainder=&#x27;passthrough&#x27;,\n",
       "                                   transformers=[(&#x27;standardscaler&#x27;,\n",
       "                                                  StandardScaler(),\n",
       "                                                  [0, 1, 2, 3, 4, 5, 6, 7,\n",
       "                                                   8])])),\n",
       "                (&#x27;kneighborsclassifier&#x27;, KNeighborsClassifier(n_neighbors=11))])</pre></div></div></div><div class=\"sk-serial\"><div class=\"sk-item sk-dashed-wrapped\"><div class=\"sk-label-container\"><div class=\"sk-label sk-toggleable\"><input class=\"sk-toggleable__control sk-hidden--visually\" id=\"349e29cc-432d-4aeb-9cc3-b457baf5119d\" type=\"checkbox\" ><label for=\"349e29cc-432d-4aeb-9cc3-b457baf5119d\" class=\"sk-toggleable__label sk-toggleable__label-arrow\">columntransformer: ColumnTransformer</label><div class=\"sk-toggleable__content\"><pre>ColumnTransformer(remainder=&#x27;passthrough&#x27;,\n",
       "                  transformers=[(&#x27;standardscaler&#x27;, StandardScaler(),\n",
       "                                 [0, 1, 2, 3, 4, 5, 6, 7, 8])])</pre></div></div></div><div class=\"sk-parallel\"><div class=\"sk-parallel-item\"><div class=\"sk-item\"><div class=\"sk-label-container\"><div class=\"sk-label sk-toggleable\"><input class=\"sk-toggleable__control sk-hidden--visually\" id=\"780ce373-c478-4260-a04e-4701d4aa19b5\" type=\"checkbox\" ><label for=\"780ce373-c478-4260-a04e-4701d4aa19b5\" class=\"sk-toggleable__label sk-toggleable__label-arrow\">standardscaler</label><div class=\"sk-toggleable__content\"><pre>[0, 1, 2, 3, 4, 5, 6, 7, 8]</pre></div></div></div><div class=\"sk-serial\"><div class=\"sk-item\"><div class=\"sk-estimator sk-toggleable\"><input class=\"sk-toggleable__control sk-hidden--visually\" id=\"049e31d1-c8e9-4d95-8ea1-a11478c549c2\" type=\"checkbox\" ><label for=\"049e31d1-c8e9-4d95-8ea1-a11478c549c2\" class=\"sk-toggleable__label sk-toggleable__label-arrow\">StandardScaler</label><div class=\"sk-toggleable__content\"><pre>StandardScaler()</pre></div></div></div></div></div></div><div class=\"sk-parallel-item\"><div class=\"sk-item\"><div class=\"sk-label-container\"><div class=\"sk-label sk-toggleable\"><input class=\"sk-toggleable__control sk-hidden--visually\" id=\"d2017cbb-7623-48b5-8401-f4ab166281cf\" type=\"checkbox\" ><label for=\"d2017cbb-7623-48b5-8401-f4ab166281cf\" class=\"sk-toggleable__label sk-toggleable__label-arrow\">remainder</label><div class=\"sk-toggleable__content\"><pre>[]</pre></div></div></div><div class=\"sk-serial\"><div class=\"sk-item\"><div class=\"sk-estimator sk-toggleable\"><input class=\"sk-toggleable__control sk-hidden--visually\" id=\"b2a68990-d5e0-4d6b-8a05-940cfc8d5cc1\" type=\"checkbox\" ><label for=\"b2a68990-d5e0-4d6b-8a05-940cfc8d5cc1\" class=\"sk-toggleable__label sk-toggleable__label-arrow\">passthrough</label><div class=\"sk-toggleable__content\"><pre>passthrough</pre></div></div></div></div></div></div></div></div><div class=\"sk-item\"><div class=\"sk-estimator sk-toggleable\"><input class=\"sk-toggleable__control sk-hidden--visually\" id=\"130d729f-ca7c-490f-a7ea-4bf35f1d6ec1\" type=\"checkbox\" ><label for=\"130d729f-ca7c-490f-a7ea-4bf35f1d6ec1\" class=\"sk-toggleable__label sk-toggleable__label-arrow\">KNeighborsClassifier</label><div class=\"sk-toggleable__content\"><pre>KNeighborsClassifier(n_neighbors=11)</pre></div></div></div></div></div></div></div>"
      ],
      "text/plain": [
       "Pipeline(steps=[('columntransformer',\n",
       "                 ColumnTransformer(remainder='passthrough',\n",
       "                                   transformers=[('standardscaler',\n",
       "                                                  StandardScaler(),\n",
       "                                                  [0, 1, 2, 3, 4, 5, 6, 7,\n",
       "                                                   8])])),\n",
       "                ('kneighborsclassifier', KNeighborsClassifier(n_neighbors=11))])"
      ]
     },
     "execution_count": 577,
     "metadata": {},
     "output_type": "execute_result"
    }
   ],
   "source": [
    "pipe.fit(x_train, y_train)\n"
   ]
  },
  {
   "cell_type": "code",
   "execution_count": 578,
   "metadata": {},
   "outputs": [
    {
     "data": {
      "text/plain": [
       "88.80407124681933"
      ]
     },
     "execution_count": 578,
     "metadata": {},
     "output_type": "execute_result"
    }
   ],
   "source": [
    "pred = pipe.predict(x_test)\n",
    "accuracy_score(pred, y_test)*100\n"
   ]
  },
  {
   "cell_type": "markdown",
   "metadata": {},
   "source": [
    "### Extract title from name"
   ]
  },
  {
   "cell_type": "code",
   "execution_count": 579,
   "metadata": {},
   "outputs": [
    {
     "name": "stderr",
     "output_type": "stream",
     "text": [
      "/Users/prasad/opt/anaconda3/envs/HelloWorld/lib/python3.9/site-packages/seaborn/categorical.py:3717: UserWarning: The `factorplot` function has been renamed to `catplot`. The original name will be removed in a future release. Please update your code. Note that the default `kind` in `factorplot` (`'point'`) has changed `'strip'` in `catplot`.\n",
      "  warnings.warn(msg)\n"
     ]
    },
    {
     "data": {
      "image/png": "[encoded data removed]",
      "text/plain": [
       "<Figure size 360x360 with 1 Axes>"
      ]
     },
     "metadata": {
      "needs_background": "light"
     },
     "output_type": "display_data"
    }
   ],
   "source": [
    "df_train['Family_Size'] = df_train['SibSp']+df_train['Parch']+1\n",
    "g = sns.factorplot(data=df_train, x='Family_Size', y='Survived')\n"
   ]
  },
  {
   "cell_type": "code",
   "execution_count": 580,
   "metadata": {},
   "outputs": [
    {
     "data": {
      "text/html": [
       "<div>\n",
       "<style scoped>\n",
       "    .dataframe tbody tr th:only-of-type {\n",
       "        vertical-align: middle;\n",
       "    }\n",
       "\n",
       "    .dataframe tbody tr th {\n",
       "        vertical-align: top;\n",
       "    }\n",
       "\n",
       "    .dataframe thead th {\n",
       "        text-align: right;\n",
       "    }\n",
       "</style>\n",
       "<table border=\"1\" class=\"dataframe\">\n",
       "  <thead>\n",
       "    <tr style=\"text-align: right;\">\n",
       "      <th></th>\n",
       "      <th>Survived</th>\n",
       "      <th>Pclass</th>\n",
       "      <th>Name</th>\n",
       "      <th>Sex</th>\n",
       "      <th>Age</th>\n",
       "      <th>SibSp</th>\n",
       "      <th>Parch</th>\n",
       "      <th>Ticket</th>\n",
       "      <th>Fare</th>\n",
       "      <th>Cabin</th>\n",
       "      <th>Embarked</th>\n",
       "      <th>Family_Size</th>\n",
       "    </tr>\n",
       "  </thead>\n",
       "  <tbody>\n",
       "    <tr>\n",
       "      <th>0</th>\n",
       "      <td>0</td>\n",
       "      <td>3</td>\n",
       "      <td>Braund, Mr. Owen Harris</td>\n",
       "      <td>male</td>\n",
       "      <td>22.0</td>\n",
       "      <td>1</td>\n",
       "      <td>0</td>\n",
       "      <td>A/5 21171</td>\n",
       "      <td>7.2500</td>\n",
       "      <td>NaN</td>\n",
       "      <td>Southampton</td>\n",
       "      <td>2</td>\n",
       "    </tr>\n",
       "    <tr>\n",
       "      <th>1</th>\n",
       "      <td>1</td>\n",
       "      <td>1</td>\n",
       "      <td>Cumings, Mrs. John Bradley (Florence Briggs Th...</td>\n",
       "      <td>female</td>\n",
       "      <td>38.0</td>\n",
       "      <td>1</td>\n",
       "      <td>0</td>\n",
       "      <td>PC 17599</td>\n",
       "      <td>71.2833</td>\n",
       "      <td>C85</td>\n",
       "      <td>Cherbourg</td>\n",
       "      <td>2</td>\n",
       "    </tr>\n",
       "    <tr>\n",
       "      <th>2</th>\n",
       "      <td>1</td>\n",
       "      <td>3</td>\n",
       "      <td>Heikkinen, Miss. Laina</td>\n",
       "      <td>female</td>\n",
       "      <td>26.0</td>\n",
       "      <td>0</td>\n",
       "      <td>0</td>\n",
       "      <td>STON/O2. 3101282</td>\n",
       "      <td>7.9250</td>\n",
       "      <td>NaN</td>\n",
       "      <td>Southampton</td>\n",
       "      <td>1</td>\n",
       "    </tr>\n",
       "    <tr>\n",
       "      <th>3</th>\n",
       "      <td>1</td>\n",
       "      <td>1</td>\n",
       "      <td>Futrelle, Mrs. Jacques Heath (Lily May Peel)</td>\n",
       "      <td>female</td>\n",
       "      <td>35.0</td>\n",
       "      <td>1</td>\n",
       "      <td>0</td>\n",
       "      <td>113803</td>\n",
       "      <td>53.1000</td>\n",
       "      <td>C123</td>\n",
       "      <td>Southampton</td>\n",
       "      <td>2</td>\n",
       "    </tr>\n",
       "    <tr>\n",
       "      <th>4</th>\n",
       "      <td>0</td>\n",
       "      <td>3</td>\n",
       "      <td>Allen, Mr. William Henry</td>\n",
       "      <td>male</td>\n",
       "      <td>35.0</td>\n",
       "      <td>0</td>\n",
       "      <td>0</td>\n",
       "      <td>373450</td>\n",
       "      <td>8.0500</td>\n",
       "      <td>NaN</td>\n",
       "      <td>Southampton</td>\n",
       "      <td>1</td>\n",
       "    </tr>\n",
       "    <tr>\n",
       "      <th>...</th>\n",
       "      <td>...</td>\n",
       "      <td>...</td>\n",
       "      <td>...</td>\n",
       "      <td>...</td>\n",
       "      <td>...</td>\n",
       "      <td>...</td>\n",
       "      <td>...</td>\n",
       "      <td>...</td>\n",
       "      <td>...</td>\n",
       "      <td>...</td>\n",
       "      <td>...</td>\n",
       "      <td>...</td>\n",
       "    </tr>\n",
       "    <tr>\n",
       "      <th>1304</th>\n",
       "      <td>0</td>\n",
       "      <td>3</td>\n",
       "      <td>Spector, Mr. Woolf</td>\n",
       "      <td>male</td>\n",
       "      <td>30.0</td>\n",
       "      <td>0</td>\n",
       "      <td>0</td>\n",
       "      <td>A.5. 3236</td>\n",
       "      <td>8.0500</td>\n",
       "      <td>NaN</td>\n",
       "      <td>Southampton</td>\n",
       "      <td>1</td>\n",
       "    </tr>\n",
       "    <tr>\n",
       "      <th>1305</th>\n",
       "      <td>1</td>\n",
       "      <td>1</td>\n",
       "      <td>Oliva y Ocana, Dona. Fermina</td>\n",
       "      <td>female</td>\n",
       "      <td>39.0</td>\n",
       "      <td>0</td>\n",
       "      <td>0</td>\n",
       "      <td>PC 17758</td>\n",
       "      <td>108.9000</td>\n",
       "      <td>C105</td>\n",
       "      <td>Cherbourg</td>\n",
       "      <td>1</td>\n",
       "    </tr>\n",
       "    <tr>\n",
       "      <th>1306</th>\n",
       "      <td>0</td>\n",
       "      <td>3</td>\n",
       "      <td>Saether, Mr. Simon Sivertsen</td>\n",
       "      <td>male</td>\n",
       "      <td>38.5</td>\n",
       "      <td>0</td>\n",
       "      <td>0</td>\n",
       "      <td>SOTON/O.Q. 3101262</td>\n",
       "      <td>7.2500</td>\n",
       "      <td>NaN</td>\n",
       "      <td>Southampton</td>\n",
       "      <td>1</td>\n",
       "    </tr>\n",
       "    <tr>\n",
       "      <th>1307</th>\n",
       "      <td>0</td>\n",
       "      <td>3</td>\n",
       "      <td>Ware, Mr. Frederick</td>\n",
       "      <td>male</td>\n",
       "      <td>30.0</td>\n",
       "      <td>0</td>\n",
       "      <td>0</td>\n",
       "      <td>359309</td>\n",
       "      <td>8.0500</td>\n",
       "      <td>NaN</td>\n",
       "      <td>Southampton</td>\n",
       "      <td>1</td>\n",
       "    </tr>\n",
       "    <tr>\n",
       "      <th>1308</th>\n",
       "      <td>0</td>\n",
       "      <td>3</td>\n",
       "      <td>Peter, Master. Michael J</td>\n",
       "      <td>male</td>\n",
       "      <td>30.0</td>\n",
       "      <td>1</td>\n",
       "      <td>1</td>\n",
       "      <td>2668</td>\n",
       "      <td>22.3583</td>\n",
       "      <td>NaN</td>\n",
       "      <td>Cherbourg</td>\n",
       "      <td>3</td>\n",
       "    </tr>\n",
       "  </tbody>\n",
       "</table>\n",
       "<p>1309 rows × 12 columns</p>\n",
       "</div>"
      ],
      "text/plain": [
       "      Survived  Pclass                                               Name  \\\n",
       "0            0       3                            Braund, Mr. Owen Harris   \n",
       "1            1       1  Cumings, Mrs. John Bradley (Florence Briggs Th...   \n",
       "2            1       3                             Heikkinen, Miss. Laina   \n",
       "3            1       1       Futrelle, Mrs. Jacques Heath (Lily May Peel)   \n",
       "4            0       3                           Allen, Mr. William Henry   \n",
       "...        ...     ...                                                ...   \n",
       "1304         0       3                                 Spector, Mr. Woolf   \n",
       "1305         1       1                       Oliva y Ocana, Dona. Fermina   \n",
       "1306         0       3                       Saether, Mr. Simon Sivertsen   \n",
       "1307         0       3                                Ware, Mr. Frederick   \n",
       "1308         0       3                           Peter, Master. Michael J   \n",
       "\n",
       "         Sex   Age  SibSp  Parch              Ticket      Fare Cabin  \\\n",
       "0       male  22.0      1      0           A/5 21171    7.2500   NaN   \n",
       "1     female  38.0      1      0            PC 17599   71.2833   C85   \n",
       "2     female  26.0      0      0    STON/O2. 3101282    7.9250   NaN   \n",
       "3     female  35.0      1      0              113803   53.1000  C123   \n",
       "4       male  35.0      0      0              373450    8.0500   NaN   \n",
       "...      ...   ...    ...    ...                 ...       ...   ...   \n",
       "1304    male  30.0      0      0           A.5. 3236    8.0500   NaN   \n",
       "1305  female  39.0      0      0            PC 17758  108.9000  C105   \n",
       "1306    male  38.5      0      0  SOTON/O.Q. 3101262    7.2500   NaN   \n",
       "1307    male  30.0      0      0              359309    8.0500   NaN   \n",
       "1308    male  30.0      1      1                2668   22.3583   NaN   \n",
       "\n",
       "         Embarked  Family_Size  \n",
       "0     Southampton            2  \n",
       "1       Cherbourg            2  \n",
       "2     Southampton            1  \n",
       "3     Southampton            2  \n",
       "4     Southampton            1  \n",
       "...           ...          ...  \n",
       "1304  Southampton            1  \n",
       "1305    Cherbourg            1  \n",
       "1306  Southampton            1  \n",
       "1307  Southampton            1  \n",
       "1308    Cherbourg            3  \n",
       "\n",
       "[1309 rows x 12 columns]"
      ]
     },
     "execution_count": 580,
     "metadata": {},
     "output_type": "execute_result"
    }
   ],
   "source": [
    "df_data = df_train.copy()\n",
    "df_data\n"
   ]
  },
  {
   "cell_type": "code",
   "execution_count": 581,
   "metadata": {},
   "outputs": [
    {
     "data": {
      "text/html": [
       "<div>\n",
       "<style scoped>\n",
       "    .dataframe tbody tr th:only-of-type {\n",
       "        vertical-align: middle;\n",
       "    }\n",
       "\n",
       "    .dataframe tbody tr th {\n",
       "        vertical-align: top;\n",
       "    }\n",
       "\n",
       "    .dataframe thead th {\n",
       "        text-align: right;\n",
       "    }\n",
       "</style>\n",
       "<table border=\"1\" class=\"dataframe\">\n",
       "  <thead>\n",
       "    <tr style=\"text-align: right;\">\n",
       "      <th>Title</th>\n",
       "      <th>Capt</th>\n",
       "      <th>Col</th>\n",
       "      <th>Countess</th>\n",
       "      <th>Don</th>\n",
       "      <th>Dona</th>\n",
       "      <th>Dr</th>\n",
       "      <th>Jonkheer</th>\n",
       "      <th>Lady</th>\n",
       "      <th>Major</th>\n",
       "      <th>Master</th>\n",
       "      <th>Miss</th>\n",
       "      <th>Mlle</th>\n",
       "      <th>Mme</th>\n",
       "      <th>Mr</th>\n",
       "      <th>Mrs</th>\n",
       "      <th>Ms</th>\n",
       "      <th>Rev</th>\n",
       "      <th>Sir</th>\n",
       "    </tr>\n",
       "    <tr>\n",
       "      <th>Sex</th>\n",
       "      <th></th>\n",
       "      <th></th>\n",
       "      <th></th>\n",
       "      <th></th>\n",
       "      <th></th>\n",
       "      <th></th>\n",
       "      <th></th>\n",
       "      <th></th>\n",
       "      <th></th>\n",
       "      <th></th>\n",
       "      <th></th>\n",
       "      <th></th>\n",
       "      <th></th>\n",
       "      <th></th>\n",
       "      <th></th>\n",
       "      <th></th>\n",
       "      <th></th>\n",
       "      <th></th>\n",
       "    </tr>\n",
       "  </thead>\n",
       "  <tbody>\n",
       "    <tr>\n",
       "      <th>female</th>\n",
       "      <td>0</td>\n",
       "      <td>0</td>\n",
       "      <td>1</td>\n",
       "      <td>0</td>\n",
       "      <td>1</td>\n",
       "      <td>1</td>\n",
       "      <td>0</td>\n",
       "      <td>1</td>\n",
       "      <td>0</td>\n",
       "      <td>0</td>\n",
       "      <td>260</td>\n",
       "      <td>2</td>\n",
       "      <td>1</td>\n",
       "      <td>0</td>\n",
       "      <td>197</td>\n",
       "      <td>2</td>\n",
       "      <td>0</td>\n",
       "      <td>0</td>\n",
       "    </tr>\n",
       "    <tr>\n",
       "      <th>male</th>\n",
       "      <td>1</td>\n",
       "      <td>4</td>\n",
       "      <td>0</td>\n",
       "      <td>1</td>\n",
       "      <td>0</td>\n",
       "      <td>7</td>\n",
       "      <td>1</td>\n",
       "      <td>0</td>\n",
       "      <td>2</td>\n",
       "      <td>61</td>\n",
       "      <td>0</td>\n",
       "      <td>0</td>\n",
       "      <td>0</td>\n",
       "      <td>757</td>\n",
       "      <td>0</td>\n",
       "      <td>0</td>\n",
       "      <td>8</td>\n",
       "      <td>1</td>\n",
       "    </tr>\n",
       "  </tbody>\n",
       "</table>\n",
       "</div>"
      ],
      "text/plain": [
       "Title   Capt  Col  Countess  Don  Dona  Dr  Jonkheer  Lady  Major  Master  \\\n",
       "Sex                                                                         \n",
       "female     0    0         1    0     1   1         0     1      0       0   \n",
       "male       1    4         0    1     0   7         1     0      2      61   \n",
       "\n",
       "Title   Miss  Mlle  Mme   Mr  Mrs  Ms  Rev  Sir  \n",
       "Sex                                              \n",
       "female   260     2    1    0  197   2    0    0  \n",
       "male       0     0    0  757    0   0    8    1  "
      ]
     },
     "execution_count": 581,
     "metadata": {},
     "output_type": "execute_result"
    }
   ],
   "source": [
    "df_data['Title'] = df_data.Name.str.extract(' ([A-Za-z]+)\\.', expand=False)\n",
    "pd.crosstab(df_data['Title'], df_data['Sex']).T\n"
   ]
  },
  {
   "cell_type": "code",
   "execution_count": 582,
   "metadata": {},
   "outputs": [
    {
     "data": {
      "text/html": [
       "<div>\n",
       "<style scoped>\n",
       "    .dataframe tbody tr th:only-of-type {\n",
       "        vertical-align: middle;\n",
       "    }\n",
       "\n",
       "    .dataframe tbody tr th {\n",
       "        vertical-align: top;\n",
       "    }\n",
       "\n",
       "    .dataframe thead th {\n",
       "        text-align: right;\n",
       "    }\n",
       "</style>\n",
       "<table border=\"1\" class=\"dataframe\">\n",
       "  <thead>\n",
       "    <tr style=\"text-align: right;\">\n",
       "      <th></th>\n",
       "      <th>Title</th>\n",
       "      <th>Survived</th>\n",
       "    </tr>\n",
       "  </thead>\n",
       "  <tbody>\n",
       "    <tr>\n",
       "      <th>0</th>\n",
       "      <td>Master</td>\n",
       "      <td>0.377</td>\n",
       "    </tr>\n",
       "    <tr>\n",
       "      <th>1</th>\n",
       "      <td>Miss</td>\n",
       "      <td>0.788</td>\n",
       "    </tr>\n",
       "    <tr>\n",
       "      <th>2</th>\n",
       "      <td>Mr</td>\n",
       "      <td>0.107</td>\n",
       "    </tr>\n",
       "    <tr>\n",
       "      <th>3</th>\n",
       "      <td>Mrs</td>\n",
       "      <td>0.868</td>\n",
       "    </tr>\n",
       "    <tr>\n",
       "      <th>4</th>\n",
       "      <td>Rare</td>\n",
       "      <td>0.412</td>\n",
       "    </tr>\n",
       "  </tbody>\n",
       "</table>\n",
       "</div>"
      ],
      "text/plain": [
       "    Title  Survived\n",
       "0  Master     0.377\n",
       "1    Miss     0.788\n",
       "2      Mr     0.107\n",
       "3     Mrs     0.868\n",
       "4    Rare     0.412"
      ]
     },
     "execution_count": 582,
     "metadata": {},
     "output_type": "execute_result"
    }
   ],
   "source": [
    "df_data['Title'] = df_data['Title'].replace(['Mlle', 'Mme', 'Ms', 'Dr', 'Major', 'Lady',\n",
    "                                             'Countess', 'Jonkheer', 'Col', 'Rev', 'Capt', 'Sir', 'Don', 'Dona'], 'Rare')\n",
    "\n",
    "df_data[['Title', 'Survived']].groupby(\n",
    "    ['Title'], as_index=False).mean().round(3)\n"
   ]
  },
  {
   "cell_type": "code",
   "execution_count": 583,
   "metadata": {},
   "outputs": [
    {
     "data": {
      "text/plain": [
       "array([ 8.698, 23.356, 31.729, 36.036, 41.912])"
      ]
     },
     "execution_count": 583,
     "metadata": {},
     "output_type": "execute_result"
    }
   ],
   "source": [
    "T = df_data.groupby(['Title'])['Age'].mean().round(3).values\n",
    "T\n"
   ]
  },
  {
   "cell_type": "code",
   "execution_count": 584,
   "metadata": {},
   "outputs": [
    {
     "data": {
      "text/html": [
       "<div>\n",
       "<style scoped>\n",
       "    .dataframe tbody tr th:only-of-type {\n",
       "        vertical-align: middle;\n",
       "    }\n",
       "\n",
       "    .dataframe tbody tr th {\n",
       "        vertical-align: top;\n",
       "    }\n",
       "\n",
       "    .dataframe thead th {\n",
       "        text-align: right;\n",
       "    }\n",
       "</style>\n",
       "<table border=\"1\" class=\"dataframe\">\n",
       "  <thead>\n",
       "    <tr style=\"text-align: right;\">\n",
       "      <th></th>\n",
       "      <th>Title</th>\n",
       "      <th>Survived</th>\n",
       "    </tr>\n",
       "  </thead>\n",
       "  <tbody>\n",
       "    <tr>\n",
       "      <th>0</th>\n",
       "      <td>Master</td>\n",
       "      <td>0.377</td>\n",
       "    </tr>\n",
       "    <tr>\n",
       "      <th>1</th>\n",
       "      <td>Miss</td>\n",
       "      <td>0.788</td>\n",
       "    </tr>\n",
       "    <tr>\n",
       "      <th>2</th>\n",
       "      <td>Mr</td>\n",
       "      <td>0.107</td>\n",
       "    </tr>\n",
       "    <tr>\n",
       "      <th>3</th>\n",
       "      <td>Mrs</td>\n",
       "      <td>0.868</td>\n",
       "    </tr>\n",
       "    <tr>\n",
       "      <th>4</th>\n",
       "      <td>Rare</td>\n",
       "      <td>0.412</td>\n",
       "    </tr>\n",
       "  </tbody>\n",
       "</table>\n",
       "</div>"
      ],
      "text/plain": [
       "    Title  Survived\n",
       "0  Master     0.377\n",
       "1    Miss     0.788\n",
       "2      Mr     0.107\n",
       "3     Mrs     0.868\n",
       "4    Rare     0.412"
      ]
     },
     "execution_count": 584,
     "metadata": {},
     "output_type": "execute_result"
    }
   ],
   "source": [
    "df_data['Title'] = df_data['Title'].replace(['Mlle', 'Mme', 'Ms', 'Dr', 'Major', 'Lady',\n",
    "                                             'Countess', 'Jonkheer', 'Col', 'Rev', 'Capt', 'Sir', 'Don', 'Dona'], 'Rare')\n",
    "\n",
    "df_data[['Title', 'Survived']].groupby(\n",
    "    ['Title'], as_index=False).mean().round(3)\n"
   ]
  },
  {
   "cell_type": "code",
   "execution_count": 585,
   "metadata": {},
   "outputs": [],
   "source": [
    "df_data['Title_Code'] = df_data['Title'].astype('category').cat.codes\n"
   ]
  },
  {
   "cell_type": "code",
   "execution_count": 586,
   "metadata": {},
   "outputs": [],
   "source": [
    "Ti_pred = df_data.groupby('Title')['Age'].mean().values\n",
    "df_data['Ti_Age'] = df_data['Age']\n",
    "\n",
    "for i in range(len(df_data['Title_Code'].unique())):\n",
    "    df_data.loc[(df_data.Age.isnull()) & (\n",
    "        df_data.Title_Code == i), 'Ti_Age'] = Ti_pred[i]\n",
    "\n",
    "df_data['Ti_Age'] = df_data['Ti_Age'].astype('int')\n",
    "\n",
    "df_data['Ti_Minor'] = ((df_data['Ti_Age']) < 18.0) * 1\n"
   ]
  },
  {
   "cell_type": "markdown",
   "metadata": {},
   "source": [
    "Interprit the graph"
   ]
  },
  {
   "cell_type": "markdown",
   "metadata": {},
   "source": [
    "### Random Classifier for family size\n"
   ]
  },
  {
   "cell_type": "code",
   "execution_count": 587,
   "metadata": {},
   "outputs": [
    {
     "data": {
      "text/html": [
       "<div>\n",
       "<style scoped>\n",
       "    .dataframe tbody tr th:only-of-type {\n",
       "        vertical-align: middle;\n",
       "    }\n",
       "\n",
       "    .dataframe tbody tr th {\n",
       "        vertical-align: top;\n",
       "    }\n",
       "\n",
       "    .dataframe thead th {\n",
       "        text-align: right;\n",
       "    }\n",
       "</style>\n",
       "<table border=\"1\" class=\"dataframe\">\n",
       "  <thead>\n",
       "    <tr style=\"text-align: right;\">\n",
       "      <th></th>\n",
       "      <th>Survived</th>\n",
       "      <th>Pclass</th>\n",
       "      <th>Name</th>\n",
       "      <th>Sex</th>\n",
       "      <th>Age</th>\n",
       "      <th>SibSp</th>\n",
       "      <th>Parch</th>\n",
       "      <th>Ticket</th>\n",
       "      <th>Fare</th>\n",
       "      <th>Cabin</th>\n",
       "      <th>Embarked</th>\n",
       "      <th>Family_Size</th>\n",
       "      <th>Title</th>\n",
       "      <th>Title_Code</th>\n",
       "      <th>Ti_Age</th>\n",
       "      <th>Ti_Minor</th>\n",
       "    </tr>\n",
       "  </thead>\n",
       "  <tbody>\n",
       "    <tr>\n",
       "      <th>0</th>\n",
       "      <td>0</td>\n",
       "      <td>3</td>\n",
       "      <td>Braund, Mr. Owen Harris</td>\n",
       "      <td>1</td>\n",
       "      <td>22.0</td>\n",
       "      <td>1</td>\n",
       "      <td>0</td>\n",
       "      <td>A/5 21171</td>\n",
       "      <td>7.2500</td>\n",
       "      <td>NaN</td>\n",
       "      <td>Southampton</td>\n",
       "      <td>2</td>\n",
       "      <td>Mr</td>\n",
       "      <td>2</td>\n",
       "      <td>22</td>\n",
       "      <td>0</td>\n",
       "    </tr>\n",
       "    <tr>\n",
       "      <th>1</th>\n",
       "      <td>1</td>\n",
       "      <td>1</td>\n",
       "      <td>Cumings, Mrs. John Bradley (Florence Briggs Th...</td>\n",
       "      <td>0</td>\n",
       "      <td>38.0</td>\n",
       "      <td>1</td>\n",
       "      <td>0</td>\n",
       "      <td>PC 17599</td>\n",
       "      <td>71.2833</td>\n",
       "      <td>C85</td>\n",
       "      <td>Cherbourg</td>\n",
       "      <td>2</td>\n",
       "      <td>Mrs</td>\n",
       "      <td>3</td>\n",
       "      <td>38</td>\n",
       "      <td>0</td>\n",
       "    </tr>\n",
       "    <tr>\n",
       "      <th>2</th>\n",
       "      <td>1</td>\n",
       "      <td>3</td>\n",
       "      <td>Heikkinen, Miss. Laina</td>\n",
       "      <td>0</td>\n",
       "      <td>26.0</td>\n",
       "      <td>0</td>\n",
       "      <td>0</td>\n",
       "      <td>STON/O2. 3101282</td>\n",
       "      <td>7.9250</td>\n",
       "      <td>NaN</td>\n",
       "      <td>Southampton</td>\n",
       "      <td>1</td>\n",
       "      <td>Miss</td>\n",
       "      <td>1</td>\n",
       "      <td>26</td>\n",
       "      <td>0</td>\n",
       "    </tr>\n",
       "    <tr>\n",
       "      <th>3</th>\n",
       "      <td>1</td>\n",
       "      <td>1</td>\n",
       "      <td>Futrelle, Mrs. Jacques Heath (Lily May Peel)</td>\n",
       "      <td>0</td>\n",
       "      <td>35.0</td>\n",
       "      <td>1</td>\n",
       "      <td>0</td>\n",
       "      <td>113803</td>\n",
       "      <td>53.1000</td>\n",
       "      <td>C123</td>\n",
       "      <td>Southampton</td>\n",
       "      <td>2</td>\n",
       "      <td>Mrs</td>\n",
       "      <td>3</td>\n",
       "      <td>35</td>\n",
       "      <td>0</td>\n",
       "    </tr>\n",
       "    <tr>\n",
       "      <th>4</th>\n",
       "      <td>0</td>\n",
       "      <td>3</td>\n",
       "      <td>Allen, Mr. William Henry</td>\n",
       "      <td>1</td>\n",
       "      <td>35.0</td>\n",
       "      <td>0</td>\n",
       "      <td>0</td>\n",
       "      <td>373450</td>\n",
       "      <td>8.0500</td>\n",
       "      <td>NaN</td>\n",
       "      <td>Southampton</td>\n",
       "      <td>1</td>\n",
       "      <td>Mr</td>\n",
       "      <td>2</td>\n",
       "      <td>35</td>\n",
       "      <td>0</td>\n",
       "    </tr>\n",
       "    <tr>\n",
       "      <th>...</th>\n",
       "      <td>...</td>\n",
       "      <td>...</td>\n",
       "      <td>...</td>\n",
       "      <td>...</td>\n",
       "      <td>...</td>\n",
       "      <td>...</td>\n",
       "      <td>...</td>\n",
       "      <td>...</td>\n",
       "      <td>...</td>\n",
       "      <td>...</td>\n",
       "      <td>...</td>\n",
       "      <td>...</td>\n",
       "      <td>...</td>\n",
       "      <td>...</td>\n",
       "      <td>...</td>\n",
       "      <td>...</td>\n",
       "    </tr>\n",
       "    <tr>\n",
       "      <th>1304</th>\n",
       "      <td>0</td>\n",
       "      <td>3</td>\n",
       "      <td>Spector, Mr. Woolf</td>\n",
       "      <td>1</td>\n",
       "      <td>30.0</td>\n",
       "      <td>0</td>\n",
       "      <td>0</td>\n",
       "      <td>A.5. 3236</td>\n",
       "      <td>8.0500</td>\n",
       "      <td>NaN</td>\n",
       "      <td>Southampton</td>\n",
       "      <td>1</td>\n",
       "      <td>Mr</td>\n",
       "      <td>2</td>\n",
       "      <td>30</td>\n",
       "      <td>0</td>\n",
       "    </tr>\n",
       "    <tr>\n",
       "      <th>1305</th>\n",
       "      <td>1</td>\n",
       "      <td>1</td>\n",
       "      <td>Oliva y Ocana, Dona. Fermina</td>\n",
       "      <td>0</td>\n",
       "      <td>39.0</td>\n",
       "      <td>0</td>\n",
       "      <td>0</td>\n",
       "      <td>PC 17758</td>\n",
       "      <td>108.9000</td>\n",
       "      <td>C105</td>\n",
       "      <td>Cherbourg</td>\n",
       "      <td>1</td>\n",
       "      <td>Rare</td>\n",
       "      <td>4</td>\n",
       "      <td>39</td>\n",
       "      <td>0</td>\n",
       "    </tr>\n",
       "    <tr>\n",
       "      <th>1306</th>\n",
       "      <td>0</td>\n",
       "      <td>3</td>\n",
       "      <td>Saether, Mr. Simon Sivertsen</td>\n",
       "      <td>1</td>\n",
       "      <td>38.5</td>\n",
       "      <td>0</td>\n",
       "      <td>0</td>\n",
       "      <td>SOTON/O.Q. 3101262</td>\n",
       "      <td>7.2500</td>\n",
       "      <td>NaN</td>\n",
       "      <td>Southampton</td>\n",
       "      <td>1</td>\n",
       "      <td>Mr</td>\n",
       "      <td>2</td>\n",
       "      <td>38</td>\n",
       "      <td>0</td>\n",
       "    </tr>\n",
       "    <tr>\n",
       "      <th>1307</th>\n",
       "      <td>0</td>\n",
       "      <td>3</td>\n",
       "      <td>Ware, Mr. Frederick</td>\n",
       "      <td>1</td>\n",
       "      <td>30.0</td>\n",
       "      <td>0</td>\n",
       "      <td>0</td>\n",
       "      <td>359309</td>\n",
       "      <td>8.0500</td>\n",
       "      <td>NaN</td>\n",
       "      <td>Southampton</td>\n",
       "      <td>1</td>\n",
       "      <td>Mr</td>\n",
       "      <td>2</td>\n",
       "      <td>30</td>\n",
       "      <td>0</td>\n",
       "    </tr>\n",
       "    <tr>\n",
       "      <th>1308</th>\n",
       "      <td>0</td>\n",
       "      <td>3</td>\n",
       "      <td>Peter, Master. Michael J</td>\n",
       "      <td>1</td>\n",
       "      <td>30.0</td>\n",
       "      <td>1</td>\n",
       "      <td>1</td>\n",
       "      <td>2668</td>\n",
       "      <td>22.3583</td>\n",
       "      <td>NaN</td>\n",
       "      <td>Cherbourg</td>\n",
       "      <td>3</td>\n",
       "      <td>Master</td>\n",
       "      <td>0</td>\n",
       "      <td>30</td>\n",
       "      <td>0</td>\n",
       "    </tr>\n",
       "  </tbody>\n",
       "</table>\n",
       "<p>1309 rows × 16 columns</p>\n",
       "</div>"
      ],
      "text/plain": [
       "      Survived  Pclass                                               Name  \\\n",
       "0            0       3                            Braund, Mr. Owen Harris   \n",
       "1            1       1  Cumings, Mrs. John Bradley (Florence Briggs Th...   \n",
       "2            1       3                             Heikkinen, Miss. Laina   \n",
       "3            1       1       Futrelle, Mrs. Jacques Heath (Lily May Peel)   \n",
       "4            0       3                           Allen, Mr. William Henry   \n",
       "...        ...     ...                                                ...   \n",
       "1304         0       3                                 Spector, Mr. Woolf   \n",
       "1305         1       1                       Oliva y Ocana, Dona. Fermina   \n",
       "1306         0       3                       Saether, Mr. Simon Sivertsen   \n",
       "1307         0       3                                Ware, Mr. Frederick   \n",
       "1308         0       3                           Peter, Master. Michael J   \n",
       "\n",
       "      Sex   Age  SibSp  Parch              Ticket      Fare Cabin  \\\n",
       "0       1  22.0      1      0           A/5 21171    7.2500   NaN   \n",
       "1       0  38.0      1      0            PC 17599   71.2833   C85   \n",
       "2       0  26.0      0      0    STON/O2. 3101282    7.9250   NaN   \n",
       "3       0  35.0      1      0              113803   53.1000  C123   \n",
       "4       1  35.0      0      0              373450    8.0500   NaN   \n",
       "...   ...   ...    ...    ...                 ...       ...   ...   \n",
       "1304    1  30.0      0      0           A.5. 3236    8.0500   NaN   \n",
       "1305    0  39.0      0      0            PC 17758  108.9000  C105   \n",
       "1306    1  38.5      0      0  SOTON/O.Q. 3101262    7.2500   NaN   \n",
       "1307    1  30.0      0      0              359309    8.0500   NaN   \n",
       "1308    1  30.0      1      1                2668   22.3583   NaN   \n",
       "\n",
       "         Embarked  Family_Size   Title  Title_Code  Ti_Age  Ti_Minor  \n",
       "0     Southampton            2      Mr           2      22         0  \n",
       "1       Cherbourg            2     Mrs           3      38         0  \n",
       "2     Southampton            1    Miss           1      26         0  \n",
       "3     Southampton            2     Mrs           3      35         0  \n",
       "4     Southampton            1      Mr           2      35         0  \n",
       "...           ...          ...     ...         ...     ...       ...  \n",
       "1304  Southampton            1      Mr           2      30         0  \n",
       "1305    Cherbourg            1    Rare           4      39         0  \n",
       "1306  Southampton            1      Mr           2      38         0  \n",
       "1307  Southampton            1      Mr           2      30         0  \n",
       "1308    Cherbourg            3  Master           0      30         0  \n",
       "\n",
       "[1309 rows x 16 columns]"
      ]
     },
     "execution_count": 587,
     "metadata": {},
     "output_type": "execute_result"
    }
   ],
   "source": [
    "df_data['Sex'].replace('female', 0, inplace=True)\n",
    "df_data['Sex'].replace('male', 1, inplace=True)\n",
    "df_data\n"
   ]
  },
  {
   "cell_type": "code",
   "execution_count": 588,
   "metadata": {},
   "outputs": [],
   "source": [
    "X1 = df_data.drop(labels=['Survived', 'Name', 'Ticket',\n",
    "                  'Cabin', 'Title', 'Embarked'], axis=1)\n",
    "Y1 = df_data['Survived']\n"
   ]
  },
  {
   "cell_type": "code",
   "execution_count": 589,
   "metadata": {},
   "outputs": [],
   "source": [
    "x1 = df_data.drop(['Survived', 'Name', 'Ticket',\n",
    "                  'Cabin', 'Title', 'Embarked'], axis=1)\n",
    "y1 = df_data['Survived']\n",
    "x1_train, x1_test, y1_train, y1_test = train_test_split(\n",
    "    x1, y1, test_size=0.33, random_state=3)\n"
   ]
  },
  {
   "cell_type": "code",
   "execution_count": 590,
   "metadata": {},
   "outputs": [],
   "source": [
    "num_col = [0, 1, 2, 3, 4, 5, 6, 7, 8]\n"
   ]
  },
  {
   "cell_type": "code",
   "execution_count": 591,
   "metadata": {},
   "outputs": [
    {
     "data": {
      "text/html": [
       "<style>#sk-4cd12281-a344-450d-9ab0-41eee66ad8b2 {color: black;background-color: white;}#sk-4cd12281-a344-450d-9ab0-41eee66ad8b2 pre{padding: 0;}#sk-4cd12281-a344-450d-9ab0-41eee66ad8b2 div.sk-toggleable {background-color: white;}#sk-4cd12281-a344-450d-9ab0-41eee66ad8b2 label.sk-toggleable__label {cursor: pointer;display: block;width: 100%;margin-bottom: 0;padding: 0.3em;box-sizing: border-box;text-align: center;}#sk-4cd12281-a344-450d-9ab0-41eee66ad8b2 label.sk-toggleable__label-arrow:before {content: \"▸\";float: left;margin-right: 0.25em;color: #696969;}#sk-4cd12281-a344-450d-9ab0-41eee66ad8b2 label.sk-toggleable__label-arrow:hover:before {color: black;}#sk-4cd12281-a344-450d-9ab0-41eee66ad8b2 div.sk-estimator:hover label.sk-toggleable__label-arrow:before {color: black;}#sk-4cd12281-a344-450d-9ab0-41eee66ad8b2 div.sk-toggleable__content {max-height: 0;max-width: 0;overflow: hidden;text-align: left;background-color: #f0f8ff;}#sk-4cd12281-a344-450d-9ab0-41eee66ad8b2 div.sk-toggleable__content pre {margin: 0.2em;color: black;border-radius: 0.25em;background-color: #f0f8ff;}#sk-4cd12281-a344-450d-9ab0-41eee66ad8b2 input.sk-toggleable__control:checked~div.sk-toggleable__content {max-height: 200px;max-width: 100%;overflow: auto;}#sk-4cd12281-a344-450d-9ab0-41eee66ad8b2 input.sk-toggleable__control:checked~label.sk-toggleable__label-arrow:before {content: \"▾\";}#sk-4cd12281-a344-450d-9ab0-41eee66ad8b2 div.sk-estimator input.sk-toggleable__control:checked~label.sk-toggleable__label {background-color: #d4ebff;}#sk-4cd12281-a344-450d-9ab0-41eee66ad8b2 div.sk-label input.sk-toggleable__control:checked~label.sk-toggleable__label {background-color: #d4ebff;}#sk-4cd12281-a344-450d-9ab0-41eee66ad8b2 input.sk-hidden--visually {border: 0;clip: rect(1px 1px 1px 1px);clip: rect(1px, 1px, 1px, 1px);height: 1px;margin: -1px;overflow: hidden;padding: 0;position: absolute;width: 1px;}#sk-4cd12281-a344-450d-9ab0-41eee66ad8b2 div.sk-estimator {font-family: monospace;background-color: #f0f8ff;border: 1px dotted black;border-radius: 0.25em;box-sizing: border-box;margin-bottom: 0.5em;}#sk-4cd12281-a344-450d-9ab0-41eee66ad8b2 div.sk-estimator:hover {background-color: #d4ebff;}#sk-4cd12281-a344-450d-9ab0-41eee66ad8b2 div.sk-parallel-item::after {content: \"\";width: 100%;border-bottom: 1px solid gray;flex-grow: 1;}#sk-4cd12281-a344-450d-9ab0-41eee66ad8b2 div.sk-label:hover label.sk-toggleable__label {background-color: #d4ebff;}#sk-4cd12281-a344-450d-9ab0-41eee66ad8b2 div.sk-serial::before {content: \"\";position: absolute;border-left: 1px solid gray;box-sizing: border-box;top: 2em;bottom: 0;left: 50%;}#sk-4cd12281-a344-450d-9ab0-41eee66ad8b2 div.sk-serial {display: flex;flex-direction: column;align-items: center;background-color: white;padding-right: 0.2em;padding-left: 0.2em;}#sk-4cd12281-a344-450d-9ab0-41eee66ad8b2 div.sk-item {z-index: 1;}#sk-4cd12281-a344-450d-9ab0-41eee66ad8b2 div.sk-parallel {display: flex;align-items: stretch;justify-content: center;background-color: white;}#sk-4cd12281-a344-450d-9ab0-41eee66ad8b2 div.sk-parallel::before {content: \"\";position: absolute;border-left: 1px solid gray;box-sizing: border-box;top: 2em;bottom: 0;left: 50%;}#sk-4cd12281-a344-450d-9ab0-41eee66ad8b2 div.sk-parallel-item {display: flex;flex-direction: column;position: relative;background-color: white;}#sk-4cd12281-a344-450d-9ab0-41eee66ad8b2 div.sk-parallel-item:first-child::after {align-self: flex-end;width: 50%;}#sk-4cd12281-a344-450d-9ab0-41eee66ad8b2 div.sk-parallel-item:last-child::after {align-self: flex-start;width: 50%;}#sk-4cd12281-a344-450d-9ab0-41eee66ad8b2 div.sk-parallel-item:only-child::after {width: 0;}#sk-4cd12281-a344-450d-9ab0-41eee66ad8b2 div.sk-dashed-wrapped {border: 1px dashed gray;margin: 0 0.4em 0.5em 0.4em;box-sizing: border-box;padding-bottom: 0.4em;background-color: white;position: relative;}#sk-4cd12281-a344-450d-9ab0-41eee66ad8b2 div.sk-label label {font-family: monospace;font-weight: bold;background-color: white;display: inline-block;line-height: 1.2em;}#sk-4cd12281-a344-450d-9ab0-41eee66ad8b2 div.sk-label-container {position: relative;z-index: 2;text-align: center;}#sk-4cd12281-a344-450d-9ab0-41eee66ad8b2 div.sk-container {/* jupyter's `normalize.less` sets `[hidden] { display: none; }` but bootstrap.min.css set `[hidden] { display: none !important; }` so we also need the `!important` here to be able to override the default hidden behavior on the sphinx rendered scikit-learn.org. See: https://github.com/scikit-learn/scikit-learn/issues/21755 */display: inline-block !important;position: relative;}#sk-4cd12281-a344-450d-9ab0-41eee66ad8b2 div.sk-text-repr-fallback {display: none;}</style><div id=\"sk-4cd12281-a344-450d-9ab0-41eee66ad8b2\" class=\"sk-top-container\"><div class=\"sk-text-repr-fallback\"><pre>ColumnTransformer(remainder=&#x27;passthrough&#x27;,\n",
       "                  transformers=[(&#x27;standardscaler&#x27;, StandardScaler(),\n",
       "                                 [0, 1, 2, 3, 4, 5, 6, 7, 8])])</pre><b>Please rerun this cell to show the HTML repr or trust the notebook.</b></div><div class=\"sk-container\" hidden><div class=\"sk-item sk-dashed-wrapped\"><div class=\"sk-label-container\"><div class=\"sk-label sk-toggleable\"><input class=\"sk-toggleable__control sk-hidden--visually\" id=\"4cb1f3f4-80ac-4aea-ae35-39f8d46415d6\" type=\"checkbox\" ><label for=\"4cb1f3f4-80ac-4aea-ae35-39f8d46415d6\" class=\"sk-toggleable__label sk-toggleable__label-arrow\">ColumnTransformer</label><div class=\"sk-toggleable__content\"><pre>ColumnTransformer(remainder=&#x27;passthrough&#x27;,\n",
       "                  transformers=[(&#x27;standardscaler&#x27;, StandardScaler(),\n",
       "                                 [0, 1, 2, 3, 4, 5, 6, 7, 8])])</pre></div></div></div><div class=\"sk-parallel\"><div class=\"sk-parallel-item\"><div class=\"sk-item\"><div class=\"sk-label-container\"><div class=\"sk-label sk-toggleable\"><input class=\"sk-toggleable__control sk-hidden--visually\" id=\"d7cc39b7-970a-4c14-90c5-2c0c68a56ae1\" type=\"checkbox\" ><label for=\"d7cc39b7-970a-4c14-90c5-2c0c68a56ae1\" class=\"sk-toggleable__label sk-toggleable__label-arrow\">standardscaler</label><div class=\"sk-toggleable__content\"><pre>[0, 1, 2, 3, 4, 5, 6, 7, 8]</pre></div></div></div><div class=\"sk-serial\"><div class=\"sk-item\"><div class=\"sk-estimator sk-toggleable\"><input class=\"sk-toggleable__control sk-hidden--visually\" id=\"6d8eb527-897f-4caa-9aac-7a86c0fec36b\" type=\"checkbox\" ><label for=\"6d8eb527-897f-4caa-9aac-7a86c0fec36b\" class=\"sk-toggleable__label sk-toggleable__label-arrow\">StandardScaler</label><div class=\"sk-toggleable__content\"><pre>StandardScaler()</pre></div></div></div></div></div></div><div class=\"sk-parallel-item\"><div class=\"sk-item\"><div class=\"sk-label-container\"><div class=\"sk-label sk-toggleable\"><input class=\"sk-toggleable__control sk-hidden--visually\" id=\"f296442f-c731-4bca-8030-e09834a3462a\" type=\"checkbox\" ><label for=\"f296442f-c731-4bca-8030-e09834a3462a\" class=\"sk-toggleable__label sk-toggleable__label-arrow\">remainder</label><div class=\"sk-toggleable__content\"><pre></pre></div></div></div><div class=\"sk-serial\"><div class=\"sk-item\"><div class=\"sk-estimator sk-toggleable\"><input class=\"sk-toggleable__control sk-hidden--visually\" id=\"e8cdcf27-6652-4da5-bc0d-4b97b9e22b3f\" type=\"checkbox\" ><label for=\"e8cdcf27-6652-4da5-bc0d-4b97b9e22b3f\" class=\"sk-toggleable__label sk-toggleable__label-arrow\">passthrough</label><div class=\"sk-toggleable__content\"><pre>passthrough</pre></div></div></div></div></div></div></div></div></div></div>"
      ],
      "text/plain": [
       "ColumnTransformer(remainder='passthrough',\n",
       "                  transformers=[('standardscaler', StandardScaler(),\n",
       "                                 [0, 1, 2, 3, 4, 5, 6, 7, 8])])"
      ]
     },
     "execution_count": 591,
     "metadata": {},
     "output_type": "execute_result"
    }
   ],
   "source": [
    "trans = make_column_transformer((StandardScaler(), num_col),\n",
    "                                remainder='passthrough')\n",
    "set_config(display='diagram')\n",
    "trans\n"
   ]
  },
  {
   "cell_type": "code",
   "execution_count": 592,
   "metadata": {},
   "outputs": [
    {
     "data": {
      "text/html": [
       "<style>#sk-b6695c4b-c5f5-400b-ab5a-c95c2d0edca4 {color: black;background-color: white;}#sk-b6695c4b-c5f5-400b-ab5a-c95c2d0edca4 pre{padding: 0;}#sk-b6695c4b-c5f5-400b-ab5a-c95c2d0edca4 div.sk-toggleable {background-color: white;}#sk-b6695c4b-c5f5-400b-ab5a-c95c2d0edca4 label.sk-toggleable__label {cursor: pointer;display: block;width: 100%;margin-bottom: 0;padding: 0.3em;box-sizing: border-box;text-align: center;}#sk-b6695c4b-c5f5-400b-ab5a-c95c2d0edca4 label.sk-toggleable__label-arrow:before {content: \"▸\";float: left;margin-right: 0.25em;color: #696969;}#sk-b6695c4b-c5f5-400b-ab5a-c95c2d0edca4 label.sk-toggleable__label-arrow:hover:before {color: black;}#sk-b6695c4b-c5f5-400b-ab5a-c95c2d0edca4 div.sk-estimator:hover label.sk-toggleable__label-arrow:before {color: black;}#sk-b6695c4b-c5f5-400b-ab5a-c95c2d0edca4 div.sk-toggleable__content {max-height: 0;max-width: 0;overflow: hidden;text-align: left;background-color: #f0f8ff;}#sk-b6695c4b-c5f5-400b-ab5a-c95c2d0edca4 div.sk-toggleable__content pre {margin: 0.2em;color: black;border-radius: 0.25em;background-color: #f0f8ff;}#sk-b6695c4b-c5f5-400b-ab5a-c95c2d0edca4 input.sk-toggleable__control:checked~div.sk-toggleable__content {max-height: 200px;max-width: 100%;overflow: auto;}#sk-b6695c4b-c5f5-400b-ab5a-c95c2d0edca4 input.sk-toggleable__control:checked~label.sk-toggleable__label-arrow:before {content: \"▾\";}#sk-b6695c4b-c5f5-400b-ab5a-c95c2d0edca4 div.sk-estimator input.sk-toggleable__control:checked~label.sk-toggleable__label {background-color: #d4ebff;}#sk-b6695c4b-c5f5-400b-ab5a-c95c2d0edca4 div.sk-label input.sk-toggleable__control:checked~label.sk-toggleable__label {background-color: #d4ebff;}#sk-b6695c4b-c5f5-400b-ab5a-c95c2d0edca4 input.sk-hidden--visually {border: 0;clip: rect(1px 1px 1px 1px);clip: rect(1px, 1px, 1px, 1px);height: 1px;margin: -1px;overflow: hidden;padding: 0;position: absolute;width: 1px;}#sk-b6695c4b-c5f5-400b-ab5a-c95c2d0edca4 div.sk-estimator {font-family: monospace;background-color: #f0f8ff;border: 1px dotted black;border-radius: 0.25em;box-sizing: border-box;margin-bottom: 0.5em;}#sk-b6695c4b-c5f5-400b-ab5a-c95c2d0edca4 div.sk-estimator:hover {background-color: #d4ebff;}#sk-b6695c4b-c5f5-400b-ab5a-c95c2d0edca4 div.sk-parallel-item::after {content: \"\";width: 100%;border-bottom: 1px solid gray;flex-grow: 1;}#sk-b6695c4b-c5f5-400b-ab5a-c95c2d0edca4 div.sk-label:hover label.sk-toggleable__label {background-color: #d4ebff;}#sk-b6695c4b-c5f5-400b-ab5a-c95c2d0edca4 div.sk-serial::before {content: \"\";position: absolute;border-left: 1px solid gray;box-sizing: border-box;top: 2em;bottom: 0;left: 50%;}#sk-b6695c4b-c5f5-400b-ab5a-c95c2d0edca4 div.sk-serial {display: flex;flex-direction: column;align-items: center;background-color: white;padding-right: 0.2em;padding-left: 0.2em;}#sk-b6695c4b-c5f5-400b-ab5a-c95c2d0edca4 div.sk-item {z-index: 1;}#sk-b6695c4b-c5f5-400b-ab5a-c95c2d0edca4 div.sk-parallel {display: flex;align-items: stretch;justify-content: center;background-color: white;}#sk-b6695c4b-c5f5-400b-ab5a-c95c2d0edca4 div.sk-parallel::before {content: \"\";position: absolute;border-left: 1px solid gray;box-sizing: border-box;top: 2em;bottom: 0;left: 50%;}#sk-b6695c4b-c5f5-400b-ab5a-c95c2d0edca4 div.sk-parallel-item {display: flex;flex-direction: column;position: relative;background-color: white;}#sk-b6695c4b-c5f5-400b-ab5a-c95c2d0edca4 div.sk-parallel-item:first-child::after {align-self: flex-end;width: 50%;}#sk-b6695c4b-c5f5-400b-ab5a-c95c2d0edca4 div.sk-parallel-item:last-child::after {align-self: flex-start;width: 50%;}#sk-b6695c4b-c5f5-400b-ab5a-c95c2d0edca4 div.sk-parallel-item:only-child::after {width: 0;}#sk-b6695c4b-c5f5-400b-ab5a-c95c2d0edca4 div.sk-dashed-wrapped {border: 1px dashed gray;margin: 0 0.4em 0.5em 0.4em;box-sizing: border-box;padding-bottom: 0.4em;background-color: white;position: relative;}#sk-b6695c4b-c5f5-400b-ab5a-c95c2d0edca4 div.sk-label label {font-family: monospace;font-weight: bold;background-color: white;display: inline-block;line-height: 1.2em;}#sk-b6695c4b-c5f5-400b-ab5a-c95c2d0edca4 div.sk-label-container {position: relative;z-index: 2;text-align: center;}#sk-b6695c4b-c5f5-400b-ab5a-c95c2d0edca4 div.sk-container {/* jupyter's `normalize.less` sets `[hidden] { display: none; }` but bootstrap.min.css set `[hidden] { display: none !important; }` so we also need the `!important` here to be able to override the default hidden behavior on the sphinx rendered scikit-learn.org. See: https://github.com/scikit-learn/scikit-learn/issues/21755 */display: inline-block !important;position: relative;}#sk-b6695c4b-c5f5-400b-ab5a-c95c2d0edca4 div.sk-text-repr-fallback {display: none;}</style><div id=\"sk-b6695c4b-c5f5-400b-ab5a-c95c2d0edca4\" class=\"sk-top-container\"><div class=\"sk-text-repr-fallback\"><pre>Pipeline(steps=[(&#x27;columntransformer&#x27;,\n",
       "                 ColumnTransformer(remainder=&#x27;passthrough&#x27;,\n",
       "                                   transformers=[(&#x27;standardscaler&#x27;,\n",
       "                                                  StandardScaler(),\n",
       "                                                  [0, 1, 2, 3, 4, 5, 6, 7,\n",
       "                                                   8])])),\n",
       "                (&#x27;kneighborsclassifier&#x27;, KNeighborsClassifier(n_neighbors=11))])</pre><b>Please rerun this cell to show the HTML repr or trust the notebook.</b></div><div class=\"sk-container\" hidden><div class=\"sk-item sk-dashed-wrapped\"><div class=\"sk-label-container\"><div class=\"sk-label sk-toggleable\"><input class=\"sk-toggleable__control sk-hidden--visually\" id=\"dff95204-335f-46c6-af21-a29612141e63\" type=\"checkbox\" ><label for=\"dff95204-335f-46c6-af21-a29612141e63\" class=\"sk-toggleable__label sk-toggleable__label-arrow\">Pipeline</label><div class=\"sk-toggleable__content\"><pre>Pipeline(steps=[(&#x27;columntransformer&#x27;,\n",
       "                 ColumnTransformer(remainder=&#x27;passthrough&#x27;,\n",
       "                                   transformers=[(&#x27;standardscaler&#x27;,\n",
       "                                                  StandardScaler(),\n",
       "                                                  [0, 1, 2, 3, 4, 5, 6, 7,\n",
       "                                                   8])])),\n",
       "                (&#x27;kneighborsclassifier&#x27;, KNeighborsClassifier(n_neighbors=11))])</pre></div></div></div><div class=\"sk-serial\"><div class=\"sk-item sk-dashed-wrapped\"><div class=\"sk-label-container\"><div class=\"sk-label sk-toggleable\"><input class=\"sk-toggleable__control sk-hidden--visually\" id=\"73572071-278c-40a7-a13c-6050194b36fb\" type=\"checkbox\" ><label for=\"73572071-278c-40a7-a13c-6050194b36fb\" class=\"sk-toggleable__label sk-toggleable__label-arrow\">columntransformer: ColumnTransformer</label><div class=\"sk-toggleable__content\"><pre>ColumnTransformer(remainder=&#x27;passthrough&#x27;,\n",
       "                  transformers=[(&#x27;standardscaler&#x27;, StandardScaler(),\n",
       "                                 [0, 1, 2, 3, 4, 5, 6, 7, 8])])</pre></div></div></div><div class=\"sk-parallel\"><div class=\"sk-parallel-item\"><div class=\"sk-item\"><div class=\"sk-label-container\"><div class=\"sk-label sk-toggleable\"><input class=\"sk-toggleable__control sk-hidden--visually\" id=\"7b045438-fe61-4f0c-9e6c-68bd118f4148\" type=\"checkbox\" ><label for=\"7b045438-fe61-4f0c-9e6c-68bd118f4148\" class=\"sk-toggleable__label sk-toggleable__label-arrow\">standardscaler</label><div class=\"sk-toggleable__content\"><pre>[0, 1, 2, 3, 4, 5, 6, 7, 8]</pre></div></div></div><div class=\"sk-serial\"><div class=\"sk-item\"><div class=\"sk-estimator sk-toggleable\"><input class=\"sk-toggleable__control sk-hidden--visually\" id=\"3906be2e-6de7-4a9e-ade8-d4f9a85166d0\" type=\"checkbox\" ><label for=\"3906be2e-6de7-4a9e-ade8-d4f9a85166d0\" class=\"sk-toggleable__label sk-toggleable__label-arrow\">StandardScaler</label><div class=\"sk-toggleable__content\"><pre>StandardScaler()</pre></div></div></div></div></div></div><div class=\"sk-parallel-item\"><div class=\"sk-item\"><div class=\"sk-label-container\"><div class=\"sk-label sk-toggleable\"><input class=\"sk-toggleable__control sk-hidden--visually\" id=\"baaa1e54-0a49-4977-9f53-c83e9939c026\" type=\"checkbox\" ><label for=\"baaa1e54-0a49-4977-9f53-c83e9939c026\" class=\"sk-toggleable__label sk-toggleable__label-arrow\">remainder</label><div class=\"sk-toggleable__content\"><pre></pre></div></div></div><div class=\"sk-serial\"><div class=\"sk-item\"><div class=\"sk-estimator sk-toggleable\"><input class=\"sk-toggleable__control sk-hidden--visually\" id=\"bd8646fd-a8a4-4602-99f2-9bc7e120096a\" type=\"checkbox\" ><label for=\"bd8646fd-a8a4-4602-99f2-9bc7e120096a\" class=\"sk-toggleable__label sk-toggleable__label-arrow\">passthrough</label><div class=\"sk-toggleable__content\"><pre>passthrough</pre></div></div></div></div></div></div></div></div><div class=\"sk-item\"><div class=\"sk-estimator sk-toggleable\"><input class=\"sk-toggleable__control sk-hidden--visually\" id=\"6da250ea-c707-4e49-9303-7e1a00caf19d\" type=\"checkbox\" ><label for=\"6da250ea-c707-4e49-9303-7e1a00caf19d\" class=\"sk-toggleable__label sk-toggleable__label-arrow\">KNeighborsClassifier</label><div class=\"sk-toggleable__content\"><pre>KNeighborsClassifier(n_neighbors=11)</pre></div></div></div></div></div></div></div>"
      ],
      "text/plain": [
       "Pipeline(steps=[('columntransformer',\n",
       "                 ColumnTransformer(remainder='passthrough',\n",
       "                                   transformers=[('standardscaler',\n",
       "                                                  StandardScaler(),\n",
       "                                                  [0, 1, 2, 3, 4, 5, 6, 7,\n",
       "                                                   8])])),\n",
       "                ('kneighborsclassifier', KNeighborsClassifier(n_neighbors=11))])"
      ]
     },
     "execution_count": 592,
     "metadata": {},
     "output_type": "execute_result"
    }
   ],
   "source": [
    "model = KNeighborsClassifier(11)\n",
    "pipe = make_pipeline(trans, model)\n",
    "pipe\n"
   ]
  },
  {
   "cell_type": "code",
   "execution_count": 593,
   "metadata": {},
   "outputs": [
    {
     "data": {
      "text/html": [
       "<style>#sk-d20daf3b-f924-481e-83fa-145af618bedb {color: black;background-color: white;}#sk-d20daf3b-f924-481e-83fa-145af618bedb pre{padding: 0;}#sk-d20daf3b-f924-481e-83fa-145af618bedb div.sk-toggleable {background-color: white;}#sk-d20daf3b-f924-481e-83fa-145af618bedb label.sk-toggleable__label {cursor: pointer;display: block;width: 100%;margin-bottom: 0;padding: 0.3em;box-sizing: border-box;text-align: center;}#sk-d20daf3b-f924-481e-83fa-145af618bedb label.sk-toggleable__label-arrow:before {content: \"▸\";float: left;margin-right: 0.25em;color: #696969;}#sk-d20daf3b-f924-481e-83fa-145af618bedb label.sk-toggleable__label-arrow:hover:before {color: black;}#sk-d20daf3b-f924-481e-83fa-145af618bedb div.sk-estimator:hover label.sk-toggleable__label-arrow:before {color: black;}#sk-d20daf3b-f924-481e-83fa-145af618bedb div.sk-toggleable__content {max-height: 0;max-width: 0;overflow: hidden;text-align: left;background-color: #f0f8ff;}#sk-d20daf3b-f924-481e-83fa-145af618bedb div.sk-toggleable__content pre {margin: 0.2em;color: black;border-radius: 0.25em;background-color: #f0f8ff;}#sk-d20daf3b-f924-481e-83fa-145af618bedb input.sk-toggleable__control:checked~div.sk-toggleable__content {max-height: 200px;max-width: 100%;overflow: auto;}#sk-d20daf3b-f924-481e-83fa-145af618bedb input.sk-toggleable__control:checked~label.sk-toggleable__label-arrow:before {content: \"▾\";}#sk-d20daf3b-f924-481e-83fa-145af618bedb div.sk-estimator input.sk-toggleable__control:checked~label.sk-toggleable__label {background-color: #d4ebff;}#sk-d20daf3b-f924-481e-83fa-145af618bedb div.sk-label input.sk-toggleable__control:checked~label.sk-toggleable__label {background-color: #d4ebff;}#sk-d20daf3b-f924-481e-83fa-145af618bedb input.sk-hidden--visually {border: 0;clip: rect(1px 1px 1px 1px);clip: rect(1px, 1px, 1px, 1px);height: 1px;margin: -1px;overflow: hidden;padding: 0;position: absolute;width: 1px;}#sk-d20daf3b-f924-481e-83fa-145af618bedb div.sk-estimator {font-family: monospace;background-color: #f0f8ff;border: 1px dotted black;border-radius: 0.25em;box-sizing: border-box;margin-bottom: 0.5em;}#sk-d20daf3b-f924-481e-83fa-145af618bedb div.sk-estimator:hover {background-color: #d4ebff;}#sk-d20daf3b-f924-481e-83fa-145af618bedb div.sk-parallel-item::after {content: \"\";width: 100%;border-bottom: 1px solid gray;flex-grow: 1;}#sk-d20daf3b-f924-481e-83fa-145af618bedb div.sk-label:hover label.sk-toggleable__label {background-color: #d4ebff;}#sk-d20daf3b-f924-481e-83fa-145af618bedb div.sk-serial::before {content: \"\";position: absolute;border-left: 1px solid gray;box-sizing: border-box;top: 2em;bottom: 0;left: 50%;}#sk-d20daf3b-f924-481e-83fa-145af618bedb div.sk-serial {display: flex;flex-direction: column;align-items: center;background-color: white;padding-right: 0.2em;padding-left: 0.2em;}#sk-d20daf3b-f924-481e-83fa-145af618bedb div.sk-item {z-index: 1;}#sk-d20daf3b-f924-481e-83fa-145af618bedb div.sk-parallel {display: flex;align-items: stretch;justify-content: center;background-color: white;}#sk-d20daf3b-f924-481e-83fa-145af618bedb div.sk-parallel::before {content: \"\";position: absolute;border-left: 1px solid gray;box-sizing: border-box;top: 2em;bottom: 0;left: 50%;}#sk-d20daf3b-f924-481e-83fa-145af618bedb div.sk-parallel-item {display: flex;flex-direction: column;position: relative;background-color: white;}#sk-d20daf3b-f924-481e-83fa-145af618bedb div.sk-parallel-item:first-child::after {align-self: flex-end;width: 50%;}#sk-d20daf3b-f924-481e-83fa-145af618bedb div.sk-parallel-item:last-child::after {align-self: flex-start;width: 50%;}#sk-d20daf3b-f924-481e-83fa-145af618bedb div.sk-parallel-item:only-child::after {width: 0;}#sk-d20daf3b-f924-481e-83fa-145af618bedb div.sk-dashed-wrapped {border: 1px dashed gray;margin: 0 0.4em 0.5em 0.4em;box-sizing: border-box;padding-bottom: 0.4em;background-color: white;position: relative;}#sk-d20daf3b-f924-481e-83fa-145af618bedb div.sk-label label {font-family: monospace;font-weight: bold;background-color: white;display: inline-block;line-height: 1.2em;}#sk-d20daf3b-f924-481e-83fa-145af618bedb div.sk-label-container {position: relative;z-index: 2;text-align: center;}#sk-d20daf3b-f924-481e-83fa-145af618bedb div.sk-container {/* jupyter's `normalize.less` sets `[hidden] { display: none; }` but bootstrap.min.css set `[hidden] { display: none !important; }` so we also need the `!important` here to be able to override the default hidden behavior on the sphinx rendered scikit-learn.org. See: https://github.com/scikit-learn/scikit-learn/issues/21755 */display: inline-block !important;position: relative;}#sk-d20daf3b-f924-481e-83fa-145af618bedb div.sk-text-repr-fallback {display: none;}</style><div id=\"sk-d20daf3b-f924-481e-83fa-145af618bedb\" class=\"sk-top-container\"><div class=\"sk-text-repr-fallback\"><pre>Pipeline(steps=[(&#x27;columntransformer&#x27;,\n",
       "                 ColumnTransformer(remainder=&#x27;passthrough&#x27;,\n",
       "                                   transformers=[(&#x27;standardscaler&#x27;,\n",
       "                                                  StandardScaler(),\n",
       "                                                  [0, 1, 2, 3, 4, 5, 6, 7,\n",
       "                                                   8])])),\n",
       "                (&#x27;kneighborsclassifier&#x27;, KNeighborsClassifier(n_neighbors=11))])</pre><b>Please rerun this cell to show the HTML repr or trust the notebook.</b></div><div class=\"sk-container\" hidden><div class=\"sk-item sk-dashed-wrapped\"><div class=\"sk-label-container\"><div class=\"sk-label sk-toggleable\"><input class=\"sk-toggleable__control sk-hidden--visually\" id=\"4c2406dd-b37b-4e22-b7ee-7517a8897552\" type=\"checkbox\" ><label for=\"4c2406dd-b37b-4e22-b7ee-7517a8897552\" class=\"sk-toggleable__label sk-toggleable__label-arrow\">Pipeline</label><div class=\"sk-toggleable__content\"><pre>Pipeline(steps=[(&#x27;columntransformer&#x27;,\n",
       "                 ColumnTransformer(remainder=&#x27;passthrough&#x27;,\n",
       "                                   transformers=[(&#x27;standardscaler&#x27;,\n",
       "                                                  StandardScaler(),\n",
       "                                                  [0, 1, 2, 3, 4, 5, 6, 7,\n",
       "                                                   8])])),\n",
       "                (&#x27;kneighborsclassifier&#x27;, KNeighborsClassifier(n_neighbors=11))])</pre></div></div></div><div class=\"sk-serial\"><div class=\"sk-item sk-dashed-wrapped\"><div class=\"sk-label-container\"><div class=\"sk-label sk-toggleable\"><input class=\"sk-toggleable__control sk-hidden--visually\" id=\"b89e9aa1-96ad-43d6-a88d-d24955bccf31\" type=\"checkbox\" ><label for=\"b89e9aa1-96ad-43d6-a88d-d24955bccf31\" class=\"sk-toggleable__label sk-toggleable__label-arrow\">columntransformer: ColumnTransformer</label><div class=\"sk-toggleable__content\"><pre>ColumnTransformer(remainder=&#x27;passthrough&#x27;,\n",
       "                  transformers=[(&#x27;standardscaler&#x27;, StandardScaler(),\n",
       "                                 [0, 1, 2, 3, 4, 5, 6, 7, 8])])</pre></div></div></div><div class=\"sk-parallel\"><div class=\"sk-parallel-item\"><div class=\"sk-item\"><div class=\"sk-label-container\"><div class=\"sk-label sk-toggleable\"><input class=\"sk-toggleable__control sk-hidden--visually\" id=\"9788e1ac-6a20-492b-94f9-0e9adc29243b\" type=\"checkbox\" ><label for=\"9788e1ac-6a20-492b-94f9-0e9adc29243b\" class=\"sk-toggleable__label sk-toggleable__label-arrow\">standardscaler</label><div class=\"sk-toggleable__content\"><pre>[0, 1, 2, 3, 4, 5, 6, 7, 8]</pre></div></div></div><div class=\"sk-serial\"><div class=\"sk-item\"><div class=\"sk-estimator sk-toggleable\"><input class=\"sk-toggleable__control sk-hidden--visually\" id=\"57c145ad-f6f8-4cba-8f03-c5dc17f13ce7\" type=\"checkbox\" ><label for=\"57c145ad-f6f8-4cba-8f03-c5dc17f13ce7\" class=\"sk-toggleable__label sk-toggleable__label-arrow\">StandardScaler</label><div class=\"sk-toggleable__content\"><pre>StandardScaler()</pre></div></div></div></div></div></div><div class=\"sk-parallel-item\"><div class=\"sk-item\"><div class=\"sk-label-container\"><div class=\"sk-label sk-toggleable\"><input class=\"sk-toggleable__control sk-hidden--visually\" id=\"668da31f-621d-49e2-b96c-1cfb20279255\" type=\"checkbox\" ><label for=\"668da31f-621d-49e2-b96c-1cfb20279255\" class=\"sk-toggleable__label sk-toggleable__label-arrow\">remainder</label><div class=\"sk-toggleable__content\"><pre>[&#x27;Ti_Minor&#x27;]</pre></div></div></div><div class=\"sk-serial\"><div class=\"sk-item\"><div class=\"sk-estimator sk-toggleable\"><input class=\"sk-toggleable__control sk-hidden--visually\" id=\"d73ce373-82bc-4ef1-b0e6-d02080aa8f99\" type=\"checkbox\" ><label for=\"d73ce373-82bc-4ef1-b0e6-d02080aa8f99\" class=\"sk-toggleable__label sk-toggleable__label-arrow\">passthrough</label><div class=\"sk-toggleable__content\"><pre>passthrough</pre></div></div></div></div></div></div></div></div><div class=\"sk-item\"><div class=\"sk-estimator sk-toggleable\"><input class=\"sk-toggleable__control sk-hidden--visually\" id=\"1bc4982e-6863-4f6f-82d2-a79bc391a697\" type=\"checkbox\" ><label for=\"1bc4982e-6863-4f6f-82d2-a79bc391a697\" class=\"sk-toggleable__label sk-toggleable__label-arrow\">KNeighborsClassifier</label><div class=\"sk-toggleable__content\"><pre>KNeighborsClassifier(n_neighbors=11)</pre></div></div></div></div></div></div></div>"
      ],
      "text/plain": [
       "Pipeline(steps=[('columntransformer',\n",
       "                 ColumnTransformer(remainder='passthrough',\n",
       "                                   transformers=[('standardscaler',\n",
       "                                                  StandardScaler(),\n",
       "                                                  [0, 1, 2, 3, 4, 5, 6, 7,\n",
       "                                                   8])])),\n",
       "                ('kneighborsclassifier', KNeighborsClassifier(n_neighbors=11))])"
      ]
     },
     "execution_count": 593,
     "metadata": {},
     "output_type": "execute_result"
    }
   ],
   "source": [
    "model = KNeighborsClassifier(11)\n",
    "pipe = make_pipeline(trans, model)\n",
    "pipe\n",
    "pipe.fit(x1_train, y1_train)\n"
   ]
  },
  {
   "cell_type": "code",
   "execution_count": 594,
   "metadata": {},
   "outputs": [],
   "source": [
    "df_train['Embarked_Code'] = df_train['Embarked'].astype('category').cat.codes\n"
   ]
  },
  {
   "cell_type": "code",
   "execution_count": 595,
   "metadata": {},
   "outputs": [],
   "source": [
    "df_train['Sex_Code'] = df_train['Sex'].astype('category').cat.codes\n"
   ]
  },
  {
   "cell_type": "code",
   "execution_count": 596,
   "metadata": {},
   "outputs": [
    {
     "data": {
      "text/html": [
       "<div>\n",
       "<style scoped>\n",
       "    .dataframe tbody tr th:only-of-type {\n",
       "        vertical-align: middle;\n",
       "    }\n",
       "\n",
       "    .dataframe tbody tr th {\n",
       "        vertical-align: top;\n",
       "    }\n",
       "\n",
       "    .dataframe thead th {\n",
       "        text-align: right;\n",
       "    }\n",
       "</style>\n",
       "<table border=\"1\" class=\"dataframe\">\n",
       "  <thead>\n",
       "    <tr style=\"text-align: right;\">\n",
       "      <th>Pclass</th>\n",
       "      <th>1</th>\n",
       "      <th>2</th>\n",
       "      <th>3</th>\n",
       "    </tr>\n",
       "    <tr>\n",
       "      <th>Fare_Code</th>\n",
       "      <th></th>\n",
       "      <th></th>\n",
       "      <th></th>\n",
       "    </tr>\n",
       "  </thead>\n",
       "  <tbody>\n",
       "    <tr>\n",
       "      <th>0</th>\n",
       "      <td>8</td>\n",
       "      <td>6</td>\n",
       "      <td>261</td>\n",
       "    </tr>\n",
       "    <tr>\n",
       "      <th>1</th>\n",
       "      <td>0</td>\n",
       "      <td>36</td>\n",
       "      <td>218</td>\n",
       "    </tr>\n",
       "    <tr>\n",
       "      <th>2</th>\n",
       "      <td>0</td>\n",
       "      <td>124</td>\n",
       "      <td>134</td>\n",
       "    </tr>\n",
       "    <tr>\n",
       "      <th>3</th>\n",
       "      <td>95</td>\n",
       "      <td>99</td>\n",
       "      <td>69</td>\n",
       "    </tr>\n",
       "    <tr>\n",
       "      <th>4</th>\n",
       "      <td>220</td>\n",
       "      <td>12</td>\n",
       "      <td>27</td>\n",
       "    </tr>\n",
       "  </tbody>\n",
       "</table>\n",
       "</div>"
      ],
      "text/plain": [
       "Pclass       1    2    3\n",
       "Fare_Code               \n",
       "0            8    6  261\n",
       "1            0   36  218\n",
       "2            0  124  134\n",
       "3           95   99   69\n",
       "4          220   12   27"
      ]
     },
     "execution_count": 596,
     "metadata": {},
     "output_type": "execute_result"
    }
   ],
   "source": [
    "df_train['Fare_Code'] = pd.qcut(df_train['Fare'], 5)\n",
    "label = LabelEncoder()\n",
    "df_train['Fare_Code'] = label.fit_transform(df_train['Fare_Code'])\n",
    "pd.crosstab(df_train['Fare_Code'], df_train['Pclass'])\n"
   ]
  },
  {
   "cell_type": "code",
   "execution_count": 597,
   "metadata": {},
   "outputs": [],
   "source": [
    "Ti_pred = df_data.groupby('Title')['Age'].mean().values\n",
    "df_train['Ti_Age'] = df_data['Age']\n",
    "\n",
    "for i in range(len(df_data['Title_Code'].unique())):\n",
    "    df_data.loc[(df_data.Age.isnull()) & (\n",
    "        df_data.Title_Code == i), 'Ti_Age'] = Ti_pred[i]\n",
    "\n",
    "df_train['Ti_Age'] = df_data['Ti_Age'].astype('int')\n",
    "\n",
    "df_train['Ti_Minor'] = ((df_data['Ti_Age']) < 18.0) * 1\n"
   ]
  },
  {
   "cell_type": "code",
   "execution_count": 599,
   "metadata": {},
   "outputs": [
    {
     "data": {
      "text/plain": [
       "Index(['Pclass', 'Name', 'Sex', 'Age', 'SibSp', 'Parch', 'Ticket', 'Fare',\n",
       "       'Cabin', 'Embarked', 'Family_Size', 'Embarked_Code', 'Sex_Code',\n",
       "       'Fare_Code', 'Ti_Age', 'Ti_Minor'],\n",
       "      dtype='object')"
      ]
     },
     "execution_count": 599,
     "metadata": {},
     "output_type": "execute_result"
    }
   ],
   "source": [
    "df_train = df_train[:len(df_train)]\n",
    "df_test = df_train[len(df_train):]\n",
    "X1 = df_train.drop(labels=['Survived'], axis=1)\n",
    "Y1 = df_train['Survived']\n",
    "X1.columns\n"
   ]
  },
  {
   "cell_type": "code",
   "execution_count": 600,
   "metadata": {},
   "outputs": [
    {
     "name": "stdout",
     "output_type": "stream",
     "text": [
      "oob_score: 0.86784\n"
     ]
    }
   ],
   "source": [
    "Features = ['Pclass', 'Sex_Code', 'Fare_Code', 'Embarked_Code', 'Ti_Minor']\n",
    "Model = RandomForestClassifier(\n",
    "    random_state=2, n_estimators=250, min_samples_split=20, oob_score=True)\n",
    "Model.fit(X1[Features], Y1)\n",
    "print(\"oob_score: %.5f\" % (Model.oob_score_))\n"
   ]
  },
  {
   "cell_type": "code",
   "execution_count": 604,
   "metadata": {},
   "outputs": [],
   "source": [
    "# data transformation on Age column\n",
    "# Grouping age values\n",
    "\n",
    "train_df.loc[train_df['Age'] <= 1, 'age_group'] = 'baby'\n",
    "train_df.loc[train_df['Age'].between(1, 3), 'age_group'] = 'todlers'\n",
    "train_df.loc[train_df['Age'].between(4, 10), 'age_group'] = 'children'\n",
    "train_df.loc[train_df['Age'].between(11, 19), 'age_group'] = 'teenage'\n",
    "train_df.loc[train_df['Age'].between(20, 35), 'age_group'] = 'yadult'\n",
    "train_df.loc[train_df['Age'].between(36, 60), 'age_group'] = 'adult'\n",
    "train_df.loc[train_df['Age'] > 60, 'age_group'] = 'elder'\n",
    "\n",
    "\n",
    "# Age grouping using mean values\n",
    "train_df.loc[train_df['Age'].round() <= 10, 'mean_age'] = 5\n",
    "train_df.loc[train_df['Age'].round().between(11, 20), 'mean_age'] = 15\n",
    "train_df.loc[train_df['Age'].round().between(21, 30), 'mean_age'] = 25\n",
    "train_df.loc[train_df['Age'].round().between(31, 40), 'mean_age'] = 35\n",
    "train_df.loc[train_df['Age'].round().between(41, 50), 'mean_age'] = 45\n",
    "train_df.loc[train_df['Age'].round().between(51, 60), 'mean_age'] = 55\n",
    "train_df.loc[train_df['Age'].round().between(61, 70), 'mean_age'] = 65\n",
    "train_df.loc[train_df['Age'] > 70, 'mean_age'] = 75\n"
   ]
  },
  {
   "cell_type": "code",
   "execution_count": 605,
   "metadata": {},
   "outputs": [
    {
     "name": "stdout",
     "output_type": "stream",
     "text": [
      "Maximum of Fare:  512.3292\n",
      "Minimum of Fare:  0.0\n",
      "Mean of the Fare:  33.29525355233006\n"
     ]
    }
   ],
   "source": [
    "print('Maximum of Fare: ', df_train['Fare'].max())\n",
    "print('Minimum of Fare: ', df_train['Fare'].min())\n",
    "print('Mean of the Fare: ', train_df['Fare'].mean())\n",
    "\n",
    "# Fare grouping using mean values of the range\n",
    "train_df.loc[train_df['Fare'].round() <= 100, 'binned_fare'] = 50\n",
    "train_df.loc[train_df['Fare'].round().between(101, 200), 'binned_fare'] = 150\n",
    "train_df.loc[train_df['Fare'].round().between(201, 300), 'binned_fare'] = 250\n",
    "train_df.loc[train_df['Fare'].round().between(301, 400), 'binned_fare'] = 350\n",
    "train_df.loc[train_df['Fare'].round().between(401, 500), 'binned_fare'] = 450\n",
    "train_df.loc[train_df['Fare'] > 500, 'binned_fare'] = 550\n"
   ]
  },
  {
   "cell_type": "code",
   "execution_count": 639,
   "metadata": {},
   "outputs": [
    {
     "data": {
      "text/html": [
       "<div>\n",
       "<style scoped>\n",
       "    .dataframe tbody tr th:only-of-type {\n",
       "        vertical-align: middle;\n",
       "    }\n",
       "\n",
       "    .dataframe tbody tr th {\n",
       "        vertical-align: top;\n",
       "    }\n",
       "\n",
       "    .dataframe thead th {\n",
       "        text-align: right;\n",
       "    }\n",
       "</style>\n",
       "<table border=\"1\" class=\"dataframe\">\n",
       "  <thead>\n",
       "    <tr style=\"text-align: right;\">\n",
       "      <th></th>\n",
       "      <th>Survived</th>\n",
       "      <th>Pclass</th>\n",
       "      <th>Name</th>\n",
       "      <th>Sex</th>\n",
       "      <th>Age</th>\n",
       "      <th>SibSp</th>\n",
       "      <th>Parch</th>\n",
       "      <th>Ticket</th>\n",
       "      <th>Fare</th>\n",
       "      <th>Cabin</th>\n",
       "      <th>Embarked</th>\n",
       "      <th>age_group</th>\n",
       "      <th>child_adult</th>\n",
       "      <th>mean_age</th>\n",
       "      <th>binned_fare</th>\n",
       "    </tr>\n",
       "  </thead>\n",
       "  <tbody>\n",
       "    <tr>\n",
       "      <th>0</th>\n",
       "      <td>Deceased</td>\n",
       "      <td>Third Class</td>\n",
       "      <td>Braund, Mr. Owen Harris</td>\n",
       "      <td>male</td>\n",
       "      <td>22.0</td>\n",
       "      <td>1</td>\n",
       "      <td>0</td>\n",
       "      <td>A/5 21171</td>\n",
       "      <td>7.2500</td>\n",
       "      <td>NaN</td>\n",
       "      <td>Southampton</td>\n",
       "      <td>yadult</td>\n",
       "      <td>adult</td>\n",
       "      <td>25.0</td>\n",
       "      <td>50.0</td>\n",
       "    </tr>\n",
       "    <tr>\n",
       "      <th>1</th>\n",
       "      <td>Survived</td>\n",
       "      <td>First Class</td>\n",
       "      <td>Cumings, Mrs. John Bradley (Florence Briggs Th...</td>\n",
       "      <td>female</td>\n",
       "      <td>38.0</td>\n",
       "      <td>1</td>\n",
       "      <td>0</td>\n",
       "      <td>PC 17599</td>\n",
       "      <td>71.2833</td>\n",
       "      <td>C85</td>\n",
       "      <td>Cherbourg</td>\n",
       "      <td>adult</td>\n",
       "      <td>adult</td>\n",
       "      <td>35.0</td>\n",
       "      <td>50.0</td>\n",
       "    </tr>\n",
       "    <tr>\n",
       "      <th>2</th>\n",
       "      <td>Survived</td>\n",
       "      <td>Third Class</td>\n",
       "      <td>Heikkinen, Miss. Laina</td>\n",
       "      <td>female</td>\n",
       "      <td>26.0</td>\n",
       "      <td>0</td>\n",
       "      <td>0</td>\n",
       "      <td>STON/O2. 3101282</td>\n",
       "      <td>7.9250</td>\n",
       "      <td>NaN</td>\n",
       "      <td>Southampton</td>\n",
       "      <td>yadult</td>\n",
       "      <td>adult</td>\n",
       "      <td>25.0</td>\n",
       "      <td>50.0</td>\n",
       "    </tr>\n",
       "    <tr>\n",
       "      <th>3</th>\n",
       "      <td>Survived</td>\n",
       "      <td>First Class</td>\n",
       "      <td>Futrelle, Mrs. Jacques Heath (Lily May Peel)</td>\n",
       "      <td>female</td>\n",
       "      <td>35.0</td>\n",
       "      <td>1</td>\n",
       "      <td>0</td>\n",
       "      <td>113803</td>\n",
       "      <td>53.1000</td>\n",
       "      <td>C123</td>\n",
       "      <td>Southampton</td>\n",
       "      <td>yadult</td>\n",
       "      <td>adult</td>\n",
       "      <td>35.0</td>\n",
       "      <td>50.0</td>\n",
       "    </tr>\n",
       "    <tr>\n",
       "      <th>4</th>\n",
       "      <td>Deceased</td>\n",
       "      <td>Third Class</td>\n",
       "      <td>Allen, Mr. William Henry</td>\n",
       "      <td>male</td>\n",
       "      <td>35.0</td>\n",
       "      <td>0</td>\n",
       "      <td>0</td>\n",
       "      <td>373450</td>\n",
       "      <td>8.0500</td>\n",
       "      <td>NaN</td>\n",
       "      <td>Southampton</td>\n",
       "      <td>yadult</td>\n",
       "      <td>adult</td>\n",
       "      <td>35.0</td>\n",
       "      <td>50.0</td>\n",
       "    </tr>\n",
       "    <tr>\n",
       "      <th>...</th>\n",
       "      <td>...</td>\n",
       "      <td>...</td>\n",
       "      <td>...</td>\n",
       "      <td>...</td>\n",
       "      <td>...</td>\n",
       "      <td>...</td>\n",
       "      <td>...</td>\n",
       "      <td>...</td>\n",
       "      <td>...</td>\n",
       "      <td>...</td>\n",
       "      <td>...</td>\n",
       "      <td>...</td>\n",
       "      <td>...</td>\n",
       "      <td>...</td>\n",
       "      <td>...</td>\n",
       "    </tr>\n",
       "    <tr>\n",
       "      <th>1304</th>\n",
       "      <td>Deceased</td>\n",
       "      <td>Third Class</td>\n",
       "      <td>Spector, Mr. Woolf</td>\n",
       "      <td>male</td>\n",
       "      <td>30.0</td>\n",
       "      <td>0</td>\n",
       "      <td>0</td>\n",
       "      <td>A.5. 3236</td>\n",
       "      <td>8.0500</td>\n",
       "      <td>NaN</td>\n",
       "      <td>Southampton</td>\n",
       "      <td>yadult</td>\n",
       "      <td>adult</td>\n",
       "      <td>25.0</td>\n",
       "      <td>50.0</td>\n",
       "    </tr>\n",
       "    <tr>\n",
       "      <th>1305</th>\n",
       "      <td>Survived</td>\n",
       "      <td>First Class</td>\n",
       "      <td>Oliva y Ocana, Dona. Fermina</td>\n",
       "      <td>female</td>\n",
       "      <td>39.0</td>\n",
       "      <td>0</td>\n",
       "      <td>0</td>\n",
       "      <td>PC 17758</td>\n",
       "      <td>108.9000</td>\n",
       "      <td>C105</td>\n",
       "      <td>Cherbourg</td>\n",
       "      <td>adult</td>\n",
       "      <td>adult</td>\n",
       "      <td>35.0</td>\n",
       "      <td>150.0</td>\n",
       "    </tr>\n",
       "    <tr>\n",
       "      <th>1306</th>\n",
       "      <td>Deceased</td>\n",
       "      <td>Third Class</td>\n",
       "      <td>Saether, Mr. Simon Sivertsen</td>\n",
       "      <td>male</td>\n",
       "      <td>38.5</td>\n",
       "      <td>0</td>\n",
       "      <td>0</td>\n",
       "      <td>SOTON/O.Q. 3101262</td>\n",
       "      <td>7.2500</td>\n",
       "      <td>NaN</td>\n",
       "      <td>Southampton</td>\n",
       "      <td>adult</td>\n",
       "      <td>adult</td>\n",
       "      <td>35.0</td>\n",
       "      <td>50.0</td>\n",
       "    </tr>\n",
       "    <tr>\n",
       "      <th>1307</th>\n",
       "      <td>Deceased</td>\n",
       "      <td>Third Class</td>\n",
       "      <td>Ware, Mr. Frederick</td>\n",
       "      <td>male</td>\n",
       "      <td>30.0</td>\n",
       "      <td>0</td>\n",
       "      <td>0</td>\n",
       "      <td>359309</td>\n",
       "      <td>8.0500</td>\n",
       "      <td>NaN</td>\n",
       "      <td>Southampton</td>\n",
       "      <td>yadult</td>\n",
       "      <td>adult</td>\n",
       "      <td>25.0</td>\n",
       "      <td>50.0</td>\n",
       "    </tr>\n",
       "    <tr>\n",
       "      <th>1308</th>\n",
       "      <td>Deceased</td>\n",
       "      <td>Third Class</td>\n",
       "      <td>Peter, Master. Michael J</td>\n",
       "      <td>male</td>\n",
       "      <td>30.0</td>\n",
       "      <td>1</td>\n",
       "      <td>1</td>\n",
       "      <td>2668</td>\n",
       "      <td>22.3583</td>\n",
       "      <td>NaN</td>\n",
       "      <td>Cherbourg</td>\n",
       "      <td>yadult</td>\n",
       "      <td>adult</td>\n",
       "      <td>25.0</td>\n",
       "      <td>50.0</td>\n",
       "    </tr>\n",
       "  </tbody>\n",
       "</table>\n",
       "<p>1309 rows × 15 columns</p>\n",
       "</div>"
      ],
      "text/plain": [
       "      Survived       Pclass  \\\n",
       "0     Deceased  Third Class   \n",
       "1     Survived  First Class   \n",
       "2     Survived  Third Class   \n",
       "3     Survived  First Class   \n",
       "4     Deceased  Third Class   \n",
       "...        ...          ...   \n",
       "1304  Deceased  Third Class   \n",
       "1305  Survived  First Class   \n",
       "1306  Deceased  Third Class   \n",
       "1307  Deceased  Third Class   \n",
       "1308  Deceased  Third Class   \n",
       "\n",
       "                                                   Name     Sex   Age  SibSp  \\\n",
       "0                               Braund, Mr. Owen Harris    male  22.0      1   \n",
       "1     Cumings, Mrs. John Bradley (Florence Briggs Th...  female  38.0      1   \n",
       "2                                Heikkinen, Miss. Laina  female  26.0      0   \n",
       "3          Futrelle, Mrs. Jacques Heath (Lily May Peel)  female  35.0      1   \n",
       "4                              Allen, Mr. William Henry    male  35.0      0   \n",
       "...                                                 ...     ...   ...    ...   \n",
       "1304                                 Spector, Mr. Woolf    male  30.0      0   \n",
       "1305                       Oliva y Ocana, Dona. Fermina  female  39.0      0   \n",
       "1306                       Saether, Mr. Simon Sivertsen    male  38.5      0   \n",
       "1307                                Ware, Mr. Frederick    male  30.0      0   \n",
       "1308                           Peter, Master. Michael J    male  30.0      1   \n",
       "\n",
       "      Parch              Ticket      Fare Cabin     Embarked age_group  \\\n",
       "0         0           A/5 21171    7.2500   NaN  Southampton    yadult   \n",
       "1         0            PC 17599   71.2833   C85    Cherbourg     adult   \n",
       "2         0    STON/O2. 3101282    7.9250   NaN  Southampton    yadult   \n",
       "3         0              113803   53.1000  C123  Southampton    yadult   \n",
       "4         0              373450    8.0500   NaN  Southampton    yadult   \n",
       "...     ...                 ...       ...   ...          ...       ...   \n",
       "1304      0           A.5. 3236    8.0500   NaN  Southampton    yadult   \n",
       "1305      0            PC 17758  108.9000  C105    Cherbourg     adult   \n",
       "1306      0  SOTON/O.Q. 3101262    7.2500   NaN  Southampton     adult   \n",
       "1307      0              359309    8.0500   NaN  Southampton    yadult   \n",
       "1308      1                2668   22.3583   NaN    Cherbourg    yadult   \n",
       "\n",
       "     child_adult  mean_age  binned_fare  \n",
       "0          adult      25.0         50.0  \n",
       "1          adult      35.0         50.0  \n",
       "2          adult      25.0         50.0  \n",
       "3          adult      35.0         50.0  \n",
       "4          adult      35.0         50.0  \n",
       "...          ...       ...          ...  \n",
       "1304       adult      25.0         50.0  \n",
       "1305       adult      35.0        150.0  \n",
       "1306       adult      35.0         50.0  \n",
       "1307       adult      25.0         50.0  \n",
       "1308       adult      25.0         50.0  \n",
       "\n",
       "[1309 rows x 15 columns]"
      ]
     },
     "execution_count": 639,
     "metadata": {},
     "output_type": "execute_result"
    }
   ],
   "source": [
    "train_df"
   ]
  },
  {
   "cell_type": "code",
   "execution_count": 606,
   "metadata": {},
   "outputs": [],
   "source": [
    "# Calculate variance using a function\n",
    "\n",
    "def variance_calculator(df_variable):\n",
    "    sum_variable = 0\n",
    "    for value in df_variable:\n",
    "        if (isnan(value) != True):\n",
    "            sum_variable += value\n",
    "    mean = sum_variable/len(df_variable)\n",
    "\n",
    "    sum_of_squares = 0\n",
    "    for value in df_variable:\n",
    "        if (isnan(value) != True):\n",
    "            sum_of_squares += value ** 2\n",
    "    mean_squares = sum_of_squares/len(df_variable)\n",
    "\n",
    "    return mean_squares - mean**2\n",
    "\n",
    "# The above calculation can also be done using the method numpy.var\n",
    "# np.var(df_variable)\n"
   ]
  },
  {
   "cell_type": "code",
   "execution_count": 607,
   "metadata": {},
   "outputs": [
    {
     "name": "stdout",
     "output_type": "stream",
     "text": [
      "Variance of Fare calculated using the defined function 2674.87\n",
      "Variance of Fare calculated using numpy function 2674.87\n"
     ]
    }
   ],
   "source": [
    "print(\n",
    "    f'Variance of Fare calculated using the defined function {round(variance_calculator(train_df.Fare),2)}')\n",
    "print(\n",
    "    f'Variance of Fare calculated using numpy function {round(np.var(train_df.Fare),2)}')\n"
   ]
  },
  {
   "cell_type": "markdown",
   "metadata": {},
   "source": [
    "Family class with parent and children\n",
    "\n",
    "SibSp: number of siblings/spouse\n",
    "\n",
    "Parch: number of childre/parents\n",
    "\n",
    "With the number of siblings or spouse and the number of children or parents we can create new class called Family."
   ]
  },
  {
   "cell_type": "code",
   "execution_count": 613,
   "metadata": {},
   "outputs": [
    {
     "data": {
      "text/html": [
       "<div>\n",
       "<style scoped>\n",
       "    .dataframe tbody tr th:only-of-type {\n",
       "        vertical-align: middle;\n",
       "    }\n",
       "\n",
       "    .dataframe tbody tr th {\n",
       "        vertical-align: top;\n",
       "    }\n",
       "\n",
       "    .dataframe thead th {\n",
       "        text-align: right;\n",
       "    }\n",
       "</style>\n",
       "<table border=\"1\" class=\"dataframe\">\n",
       "  <thead>\n",
       "    <tr style=\"text-align: right;\">\n",
       "      <th></th>\n",
       "      <th>Survived</th>\n",
       "      <th>Name</th>\n",
       "      <th>Sex</th>\n",
       "      <th>Age</th>\n",
       "      <th>Ticket</th>\n",
       "      <th>Pclass</th>\n",
       "    </tr>\n",
       "  </thead>\n",
       "  <tbody>\n",
       "    <tr>\n",
       "      <th>0</th>\n",
       "      <td>0</td>\n",
       "      <td>Braund, Mr. Owen Harris</td>\n",
       "      <td>male</td>\n",
       "      <td>22.0</td>\n",
       "      <td>A/5 21171</td>\n",
       "      <td>3</td>\n",
       "    </tr>\n",
       "    <tr>\n",
       "      <th>1</th>\n",
       "      <td>1</td>\n",
       "      <td>Cumings, Mrs. John Bradley (Florence Briggs Th...</td>\n",
       "      <td>female</td>\n",
       "      <td>38.0</td>\n",
       "      <td>PC 17599</td>\n",
       "      <td>1</td>\n",
       "    </tr>\n",
       "    <tr>\n",
       "      <th>3</th>\n",
       "      <td>1</td>\n",
       "      <td>Futrelle, Mrs. Jacques Heath (Lily May Peel)</td>\n",
       "      <td>female</td>\n",
       "      <td>35.0</td>\n",
       "      <td>113803</td>\n",
       "      <td>1</td>\n",
       "    </tr>\n",
       "    <tr>\n",
       "      <th>7</th>\n",
       "      <td>0</td>\n",
       "      <td>Palsson, Master. Gosta Leonard</td>\n",
       "      <td>male</td>\n",
       "      <td>2.0</td>\n",
       "      <td>349909</td>\n",
       "      <td>3</td>\n",
       "    </tr>\n",
       "    <tr>\n",
       "      <th>8</th>\n",
       "      <td>1</td>\n",
       "      <td>Johnson, Mrs. Oscar W (Elisabeth Vilhelmina Berg)</td>\n",
       "      <td>female</td>\n",
       "      <td>27.0</td>\n",
       "      <td>347742</td>\n",
       "      <td>3</td>\n",
       "    </tr>\n",
       "    <tr>\n",
       "      <th>...</th>\n",
       "      <td>...</td>\n",
       "      <td>...</td>\n",
       "      <td>...</td>\n",
       "      <td>...</td>\n",
       "      <td>...</td>\n",
       "      <td>...</td>\n",
       "    </tr>\n",
       "    <tr>\n",
       "      <th>1297</th>\n",
       "      <td>0</td>\n",
       "      <td>Ware, Mr. William Jeffery</td>\n",
       "      <td>male</td>\n",
       "      <td>23.0</td>\n",
       "      <td>28666</td>\n",
       "      <td>2</td>\n",
       "    </tr>\n",
       "    <tr>\n",
       "      <th>1298</th>\n",
       "      <td>0</td>\n",
       "      <td>Widener, Mr. George Dunton</td>\n",
       "      <td>male</td>\n",
       "      <td>50.0</td>\n",
       "      <td>113503</td>\n",
       "      <td>1</td>\n",
       "    </tr>\n",
       "    <tr>\n",
       "      <th>1300</th>\n",
       "      <td>1</td>\n",
       "      <td>Peacock, Miss. Treasteall</td>\n",
       "      <td>female</td>\n",
       "      <td>3.0</td>\n",
       "      <td>SOTON/O.Q. 3101315</td>\n",
       "      <td>3</td>\n",
       "    </tr>\n",
       "    <tr>\n",
       "      <th>1302</th>\n",
       "      <td>1</td>\n",
       "      <td>Minahan, Mrs. William Edward (Lillian E Thorpe)</td>\n",
       "      <td>female</td>\n",
       "      <td>37.0</td>\n",
       "      <td>19928</td>\n",
       "      <td>1</td>\n",
       "    </tr>\n",
       "    <tr>\n",
       "      <th>1308</th>\n",
       "      <td>0</td>\n",
       "      <td>Peter, Master. Michael J</td>\n",
       "      <td>male</td>\n",
       "      <td>30.0</td>\n",
       "      <td>2668</td>\n",
       "      <td>3</td>\n",
       "    </tr>\n",
       "  </tbody>\n",
       "</table>\n",
       "<p>519 rows × 6 columns</p>\n",
       "</div>"
      ],
      "text/plain": [
       "      Survived                                               Name     Sex  \\\n",
       "0            0                            Braund, Mr. Owen Harris    male   \n",
       "1            1  Cumings, Mrs. John Bradley (Florence Briggs Th...  female   \n",
       "3            1       Futrelle, Mrs. Jacques Heath (Lily May Peel)  female   \n",
       "7            0                     Palsson, Master. Gosta Leonard    male   \n",
       "8            1  Johnson, Mrs. Oscar W (Elisabeth Vilhelmina Berg)  female   \n",
       "...        ...                                                ...     ...   \n",
       "1297         0                          Ware, Mr. William Jeffery    male   \n",
       "1298         0                         Widener, Mr. George Dunton    male   \n",
       "1300         1                          Peacock, Miss. Treasteall  female   \n",
       "1302         1    Minahan, Mrs. William Edward (Lillian E Thorpe)  female   \n",
       "1308         0                           Peter, Master. Michael J    male   \n",
       "\n",
       "       Age              Ticket  Pclass  \n",
       "0     22.0           A/5 21171       3  \n",
       "1     38.0            PC 17599       1  \n",
       "3     35.0              113803       1  \n",
       "7      2.0              349909       3  \n",
       "8     27.0              347742       3  \n",
       "...    ...                 ...     ...  \n",
       "1297  23.0               28666       2  \n",
       "1298  50.0              113503       1  \n",
       "1300   3.0  SOTON/O.Q. 3101315       3  \n",
       "1302  37.0               19928       1  \n",
       "1308  30.0                2668       3  \n",
       "\n",
       "[519 rows x 6 columns]"
      ]
     },
     "execution_count": 613,
     "metadata": {},
     "output_type": "execute_result"
    }
   ],
   "source": [
    "# Get pasengers who travel with family (either siblings,spouse, childre or parents)\n",
    "# Copy rows which has values for either SibSp column or Parch\n",
    "train_data_families = df_train.loc[(train_df['SibSp'] > 0) | (train_df['Parch'] > 0)][['Survived', 'Name', 'Sex', 'Age', 'Ticket', 'Pclass']]\n",
    "train_data_families\n"
   ]
  },
  {
   "cell_type": "code",
   "execution_count": 614,
   "metadata": {},
   "outputs": [],
   "source": [
    "def extract_last_name(x):\n",
    "    # String x will split by ',' and take the first element in the resulting list.\n",
    "    # Then any whitespaces at the front and end of the first element will be truncated and returned\n",
    "    return x.split(\",\")[0].strip()\n"
   ]
  },
  {
   "cell_type": "code",
   "execution_count": 619,
   "metadata": {},
   "outputs": [
    {
     "data": {
      "text/html": [
       "<div>\n",
       "<style scoped>\n",
       "    .dataframe tbody tr th:only-of-type {\n",
       "        vertical-align: middle;\n",
       "    }\n",
       "\n",
       "    .dataframe tbody tr th {\n",
       "        vertical-align: top;\n",
       "    }\n",
       "\n",
       "    .dataframe thead th {\n",
       "        text-align: right;\n",
       "    }\n",
       "</style>\n",
       "<table border=\"1\" class=\"dataframe\">\n",
       "  <thead>\n",
       "    <tr style=\"text-align: right;\">\n",
       "      <th></th>\n",
       "      <th>Survived</th>\n",
       "      <th>Name</th>\n",
       "      <th>Sex</th>\n",
       "      <th>Age</th>\n",
       "      <th>Ticket</th>\n",
       "      <th>Pclass</th>\n",
       "      <th>LastName</th>\n",
       "    </tr>\n",
       "  </thead>\n",
       "  <tbody>\n",
       "    <tr>\n",
       "      <th>0</th>\n",
       "      <td>0</td>\n",
       "      <td>Braund, Mr. Owen Harris</td>\n",
       "      <td>male</td>\n",
       "      <td>22.0</td>\n",
       "      <td>A/5 21171</td>\n",
       "      <td>3</td>\n",
       "      <td>Braund</td>\n",
       "    </tr>\n",
       "    <tr>\n",
       "      <th>1</th>\n",
       "      <td>1</td>\n",
       "      <td>Cumings, Mrs. John Bradley (Florence Briggs Th...</td>\n",
       "      <td>female</td>\n",
       "      <td>38.0</td>\n",
       "      <td>PC 17599</td>\n",
       "      <td>1</td>\n",
       "      <td>Cumings</td>\n",
       "    </tr>\n",
       "    <tr>\n",
       "      <th>3</th>\n",
       "      <td>1</td>\n",
       "      <td>Futrelle, Mrs. Jacques Heath (Lily May Peel)</td>\n",
       "      <td>female</td>\n",
       "      <td>35.0</td>\n",
       "      <td>113803</td>\n",
       "      <td>1</td>\n",
       "      <td>Futrelle</td>\n",
       "    </tr>\n",
       "    <tr>\n",
       "      <th>7</th>\n",
       "      <td>0</td>\n",
       "      <td>Palsson, Master. Gosta Leonard</td>\n",
       "      <td>male</td>\n",
       "      <td>2.0</td>\n",
       "      <td>349909</td>\n",
       "      <td>3</td>\n",
       "      <td>Palsson</td>\n",
       "    </tr>\n",
       "    <tr>\n",
       "      <th>8</th>\n",
       "      <td>1</td>\n",
       "      <td>Johnson, Mrs. Oscar W (Elisabeth Vilhelmina Berg)</td>\n",
       "      <td>female</td>\n",
       "      <td>27.0</td>\n",
       "      <td>347742</td>\n",
       "      <td>3</td>\n",
       "      <td>Johnson</td>\n",
       "    </tr>\n",
       "    <tr>\n",
       "      <th>...</th>\n",
       "      <td>...</td>\n",
       "      <td>...</td>\n",
       "      <td>...</td>\n",
       "      <td>...</td>\n",
       "      <td>...</td>\n",
       "      <td>...</td>\n",
       "      <td>...</td>\n",
       "    </tr>\n",
       "    <tr>\n",
       "      <th>1297</th>\n",
       "      <td>0</td>\n",
       "      <td>Ware, Mr. William Jeffery</td>\n",
       "      <td>male</td>\n",
       "      <td>23.0</td>\n",
       "      <td>28666</td>\n",
       "      <td>2</td>\n",
       "      <td>Ware</td>\n",
       "    </tr>\n",
       "    <tr>\n",
       "      <th>1298</th>\n",
       "      <td>0</td>\n",
       "      <td>Widener, Mr. George Dunton</td>\n",
       "      <td>male</td>\n",
       "      <td>50.0</td>\n",
       "      <td>113503</td>\n",
       "      <td>1</td>\n",
       "      <td>Widener</td>\n",
       "    </tr>\n",
       "    <tr>\n",
       "      <th>1300</th>\n",
       "      <td>1</td>\n",
       "      <td>Peacock, Miss. Treasteall</td>\n",
       "      <td>female</td>\n",
       "      <td>3.0</td>\n",
       "      <td>SOTON/O.Q. 3101315</td>\n",
       "      <td>3</td>\n",
       "      <td>Peacock</td>\n",
       "    </tr>\n",
       "    <tr>\n",
       "      <th>1302</th>\n",
       "      <td>1</td>\n",
       "      <td>Minahan, Mrs. William Edward (Lillian E Thorpe)</td>\n",
       "      <td>female</td>\n",
       "      <td>37.0</td>\n",
       "      <td>19928</td>\n",
       "      <td>1</td>\n",
       "      <td>Minahan</td>\n",
       "    </tr>\n",
       "    <tr>\n",
       "      <th>1308</th>\n",
       "      <td>0</td>\n",
       "      <td>Peter, Master. Michael J</td>\n",
       "      <td>male</td>\n",
       "      <td>30.0</td>\n",
       "      <td>2668</td>\n",
       "      <td>3</td>\n",
       "      <td>Peter</td>\n",
       "    </tr>\n",
       "  </tbody>\n",
       "</table>\n",
       "<p>519 rows × 7 columns</p>\n",
       "</div>"
      ],
      "text/plain": [
       "      Survived                                               Name     Sex  \\\n",
       "0            0                            Braund, Mr. Owen Harris    male   \n",
       "1            1  Cumings, Mrs. John Bradley (Florence Briggs Th...  female   \n",
       "3            1       Futrelle, Mrs. Jacques Heath (Lily May Peel)  female   \n",
       "7            0                     Palsson, Master. Gosta Leonard    male   \n",
       "8            1  Johnson, Mrs. Oscar W (Elisabeth Vilhelmina Berg)  female   \n",
       "...        ...                                                ...     ...   \n",
       "1297         0                          Ware, Mr. William Jeffery    male   \n",
       "1298         0                         Widener, Mr. George Dunton    male   \n",
       "1300         1                          Peacock, Miss. Treasteall  female   \n",
       "1302         1    Minahan, Mrs. William Edward (Lillian E Thorpe)  female   \n",
       "1308         0                           Peter, Master. Michael J    male   \n",
       "\n",
       "       Age              Ticket  Pclass  LastName  \n",
       "0     22.0           A/5 21171       3    Braund  \n",
       "1     38.0            PC 17599       1   Cumings  \n",
       "3     35.0              113803       1  Futrelle  \n",
       "7      2.0              349909       3   Palsson  \n",
       "8     27.0              347742       3   Johnson  \n",
       "...    ...                 ...     ...       ...  \n",
       "1297  23.0               28666       2      Ware  \n",
       "1298  50.0              113503       1   Widener  \n",
       "1300   3.0  SOTON/O.Q. 3101315       3   Peacock  \n",
       "1302  37.0               19928       1   Minahan  \n",
       "1308  30.0                2668       3     Peter  \n",
       "\n",
       "[519 rows x 7 columns]"
      ]
     },
     "execution_count": 619,
     "metadata": {},
     "output_type": "execute_result"
    }
   ],
   "source": [
    "# For each value in Name colum, extract_last_name function will apply and create a new column LastName \n",
    "train_data_families['LastName'] = train_data_families.Name.apply(\n",
    "    extract_last_name)"
   ]
  },
  {
   "cell_type": "markdown",
   "metadata": {},
   "source": [
    "### Person Class\n",
    "\n",
    "Creating a Person class to store pasengers traveling with family.Using the dataset created by filtering rows with non-zero values for variables SibSp(number of siblings/spouse) and Parch(number of childre/parents)."
   ]
  },
  {
   "cell_type": "code",
   "execution_count": 616,
   "metadata": {},
   "outputs": [],
   "source": [
    "class Person:\n",
    "\n",
    "    def __init__(self, survival, full_name, sex, age, ticket, last_name):\n",
    "        self.last_name = last_name\n",
    "        self.ticket = ticket\n",
    "        self.full_name = full_name\n",
    "        self.survival = survival\n",
    "        self.age = age\n",
    "        self.sex = sex\n"
   ]
  },
  {
   "cell_type": "code",
   "execution_count": 631,
   "metadata": {},
   "outputs": [
    {
     "name": "stdout",
     "output_type": "stream",
     "text": [
      "last_name Sandstrom\n",
      "full_name Sandstrom, Miss. Marguerite Rut\n",
      "ticket PP 9549\n",
      "survival 1\n",
      "sex female\n",
      "age 4.0\n"
     ]
    }
   ],
   "source": [
    "# Create a list to hold person objects\n",
    "list_of_pasengers = []\n",
    "'''\n",
    "This code is written by us. However, as DataFrame object alredy has a similar method, desided to use it to improve performance.\n",
    "# Create list of tuples with selected column data\n",
    "with_family_list = list(zip(train_data_families[\"Survived\"], train_data_families[\"Name\"], train_data_families[\"Sex\"],\n",
    "train_data_families[\"Age\"], train_data_families[\"Ticket\"], train_data_families[\"LastName\"]))\n",
    "\n",
    "for item in with_family_list:\n",
    "    p = Person(item[6], item[1], item[2], item[3], item[4], item[5])\n",
    "    list_of_pasengers.append(p)\n",
    "'''\n",
    "\n",
    "for row in train_data_families.itertuples():\n",
    "    p = Person(row[1], row[2], row[3], row[4], row[5], row[7])\n",
    "    list_of_pasengers.append(p)\n",
    "\n",
    "# Just a test\n",
    "print('last_name',list_of_pasengers[6].last_name)\n",
    "print('full_name',list_of_pasengers[6].full_name)\n",
    "print('ticket',list_of_pasengers[6].ticket)\n",
    "print('survival',list_of_pasengers[6].survival)\n",
    "print('sex',list_of_pasengers[6].sex)\n",
    "print('age',list_of_pasengers[6].age)\n",
    "#Timing graph Pandas 0.23.4"
   ]
  },
  {
   "cell_type": "code",
   "execution_count": 632,
   "metadata": {},
   "outputs": [
    {
     "name": "stdout",
     "output_type": "stream",
     "text": [
      "Number of pasengers who have listed parent/child or spouse/sibling 519\n"
     ]
    }
   ],
   "source": [
    "print('Number of pasengers who have listed parent/child or spouse/sibling', len(list_of_pasengers))\n"
   ]
  },
  {
   "cell_type": "markdown",
   "metadata": {},
   "source": [
    "When only last names are match to group families, there can be different families with same last names.\n",
    "Therefore, a variable created with ticket number  and last name used to identify families traveling together."
   ]
  },
  {
   "cell_type": "code",
   "execution_count": 633,
   "metadata": {},
   "outputs": [],
   "source": [
    "# Creating a dictionary to store family members\n",
    "families_dict = {}\n",
    "for p in list_of_pasengers:\n",
    "    # variable containing lastname and ticket number passed as key to the dictionary\n",
    "    key = f'{p.last_name}_{p.ticket}'\n",
    "    # If there is already an entry for a family person object will append to the family members list\n",
    "    # Otherwise new list created with the person object\n",
    "    if (key in families_dict):\n",
    "        families_dict[key].append(p)\n",
    "    else:\n",
    "        families_dict[key] = [p]\n"
   ]
  },
  {
   "cell_type": "code",
   "execution_count": 634,
   "metadata": {},
   "outputs": [
    {
     "name": "stdout",
     "output_type": "stream",
     "text": [
      "Number of families are 240\n"
     ]
    }
   ],
   "source": [
    "print(f'Number of families are {len(families_dict)}')\n"
   ]
  },
  {
   "cell_type": "code",
   "execution_count": 635,
   "metadata": {},
   "outputs": [
    {
     "name": "stdout",
     "output_type": "stream",
     "text": [
      "Number of families traveled together is 170\n"
     ]
    }
   ],
   "source": [
    "# create a dictionary for family who traveled as a group\n",
    "family_group_dict = {}\n",
    "# If the family has more than one member in the dataset, they are added to another dictionary\n",
    "for key, value in families_dict.items():\n",
    "    if len(value) > 1:\n",
    "        family_group_dict[key] = value\n",
    "\n",
    "print(f'Number of families traveled together is {len(family_group_dict)}')\n"
   ]
  },
  {
   "cell_type": "code",
   "execution_count": null,
   "metadata": {},
   "outputs": [],
   "source": [
    "class Family:\n",
    "\n",
    "    def __init__(self, survival_adult_male, survival_adult_female,last_name,survival_child):\n",
    "        self.last_name = last_name\n",
    "        self.ticket = survival_adult_male\n",
    "        self.full_name = survival_adult_female\n",
    "        self.full_name = survival_child"
   ]
  },
  {
   "cell_type": "markdown",
   "metadata": {},
   "source": [
    "Calculate the percentage of adult males and females survived in families"
   ]
  },
  {
   "cell_type": "code",
   "execution_count": 638,
   "metadata": {},
   "outputs": [
    {
     "name": "stdout",
     "output_type": "stream",
     "text": [
      "When a pasenger traveled as a family\n",
      "percentage of females survived 81%\n",
      "percentage of males survived 13%\n",
      "percentage of children survived 55%\n"
     ]
    }
   ],
   "source": [
    "total_male = 0\n",
    "total_female = 0\n",
    "total_children = 0\n",
    "number_f_adult_s = 0\n",
    "number_m_adult_s = 0\n",
    "number_child_s = 0\n",
    "# Each key value pair represent a family\n",
    "# Each value in the families_dict is a list family members\n",
    "for key in family_group_dict:\n",
    "\n",
    "    for person in family_group_dict[key]:\n",
    "        # Adults and children have separated based on age,\n",
    "        # Age less than 18 are children, others adults \n",
    "        if person.age < 18:\n",
    "            total_children += 1\n",
    "            if person.survival == 1:\n",
    "                number_child_s += 1\n",
    "        else:\n",
    "            # Adult group further devided to male and female\n",
    "            if (person.sex == \"male\"):\n",
    "                total_male += 1\n",
    "                if(person.survival == 1):\n",
    "                    number_m_adult_s += 1\n",
    "            else:\n",
    "                total_female += 1\n",
    "                if(person.survival == 1):\n",
    "                    number_f_adult_s += 1\n",
    "\n",
    "print('When a pasenger traveled as a family')\n",
    "print(\"percentage of females survived \" +\n",
    "      str(round(100 * number_f_adult_s/total_female)) + '%')\n",
    "print(\"percentage of males survived \" +\n",
    "      str(round(100 * number_m_adult_s/total_male)) + '%')\n",
    "print(\"percentage of children survived \" +\n",
    "      str(round(100 * number_child_s/total_children)) + '%')\n"
   ]
  },
  {
   "cell_type": "markdown",
   "metadata": {},
   "source": [
    "## Building a Random Forest Classifier\n",
    "Reference: https://www.freecodecamp.org/news/how-to-use-the-tree-based-algorithm-for-machine-learning/"
   ]
  },
  {
   "cell_type": "markdown",
   "metadata": {},
   "source": [
    "### Random Forest Classifier with variables\n",
    "- Pclass\n",
    "- Sex\n",
    "- SibSp\n",
    "- Parch\n",
    "- mean_age"
   ]
  },
  {
   "cell_type": "code",
   "execution_count": null,
   "metadata": {},
   "outputs": [],
   "source": [
    "# Create a copy of the dataset because some columns are transforming to numeric\n",
    "rf_df = train_df\n",
    "# Convert variables to numeric values\n",
    "rf_df['Sex'] = rf_df['Sex'].replace(['female', 'male'], [0, 1])\n",
    "\n",
    "train_df.loc[train_df['Survived'] == 'Deceased', 'Survived'] = 0\n",
    "train_df.loc[train_df['Survived'] == 'Survived', 'Survived'] = 1\n",
    "\n",
    "train_df.loc[train_df['Pclass'] == 'First Class', 'Pclass'] = 1\n",
    "train_df.loc[train_df['Pclass'] == 'Second Class', 'Pclass'] = 2\n",
    "train_df.loc[train_df['Pclass'] == 'Third Class', 'Pclass'] = 3\n",
    "\n",
    "rf_df['Survived'] = rf_df['Survived'].astype('int')\n",
    "rf_df['Pclass'] = rf_df['Pclass'].astype('int')\n",
    "rf_df['mean_age'] = rf_df['mean_age'].astype('int')\n"
   ]
  },
  {
   "cell_type": "code",
   "execution_count": null,
   "metadata": {},
   "outputs": [],
   "source": [
    "# split data into input and taget variable(s)\n",
    "X = rf_df.drop([\"Survived\", 'Name', 'Age', 'Ticket', 'Fare', 'PassengerId',\n",
    "               'Cabin', 'Embarked', 'age_group', 'child_adult', 'binned_fare'], axis=1)\n",
    "y = rf_df[\"Survived\"]\n",
    "X\n"
   ]
  },
  {
   "cell_type": "code",
   "execution_count": null,
   "metadata": {},
   "outputs": [],
   "source": [
    "# standardize the dataset\n",
    "scaler = StandardScaler()\n",
    "X_scaled = scaler.fit_transform(X)\n"
   ]
  },
  {
   "cell_type": "code",
   "execution_count": null,
   "metadata": {},
   "outputs": [],
   "source": [
    "# split into train and test set\n",
    "X_train, X_test, y_train, y_test = train_test_split(\n",
    "    X_scaled, y, stratify=y, test_size=0.20, random_state=42\n",
    ")\n",
    "#data_train, data_test= train_test_split(train_df, test_size=0.4, random_state = 0)\n"
   ]
  },
  {
   "cell_type": "code",
   "execution_count": null,
   "metadata": {},
   "outputs": [],
   "source": [
    "# create the classifier\n",
    "classifier = RandomForestClassifier(n_estimators=100)\n",
    "\n",
    "# Train the model using the training sets\n",
    "classifier.fit(X_train, y_train)\n"
   ]
  },
  {
   "cell_type": "code",
   "execution_count": null,
   "metadata": {},
   "outputs": [],
   "source": [
    "# predictin on the test set\n",
    "y_pred = classifier.predict(X_test)\n"
   ]
  },
  {
   "cell_type": "code",
   "execution_count": null,
   "metadata": {},
   "outputs": [],
   "source": [
    "# Calculate Model Accuracy\n",
    "print(\"Accuracy:\", accuracy_score(y_test, y_pred))\n"
   ]
  },
  {
   "cell_type": "code",
   "execution_count": null,
   "metadata": {},
   "outputs": [],
   "source": [
    "train_data_clean_embarked\n"
   ]
  }
 ],
 "metadata": {
  "interpreter": {
   "hash": "024b0ec20e0d15234e64dcdb6e92be1c0d04982ef803d66a55eaacbdf0b91525"
  },
  "kernelspec": {
   "display_name": "Python 3.9.7 ('HelloWorld': conda)",
   "language": "python",
   "name": "python3"
  },
  "language_info": {
   "codemirror_mode": {
    "name": "ipython",
    "version": 3
   },
   "file_extension": ".py",
   "mimetype": "text/x-python",
   "name": "python",
   "nbconvert_exporter": "python",
   "pygments_lexer": "ipython3",
   "version": "3.9.7"
  },
  "orig_nbformat": 4
 },
 "nbformat": 4,
 "nbformat_minor": 2
}
