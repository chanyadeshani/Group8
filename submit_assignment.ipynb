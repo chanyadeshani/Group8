{
 "cells": [
  {
   "cell_type": "code",
   "execution_count": 14,
   "metadata": {},
   "outputs": [],
   "source": [
    "# Importing the important libraries needed for Data Manipulation, classification and Analysis\n",
    "from sklearn.preprocessing import LabelEncoder\n",
    "from sklearn import set_config\n",
    "from sklearn.compose import make_column_transformer\n",
    "from sklearn.pipeline import make_pipeline\n",
    "from sklearn.neighbors import KNeighborsClassifier\n",
    "from sklearn.ensemble import RandomForestClassifier\n",
    "from sklearn.preprocessing import StandardScaler\n",
    "import seaborn as sns\n",
    "from sklearn.datasets import load_digits\n",
    "from sklearn.model_selection import train_test_split\n",
    "from sklearn.metrics import accuracy_score\n",
    "import pandas as pd\n",
    "import numpy as np\n",
    "from math import isnan\n",
    "import matplotlib.pyplot as plt\n",
    "\n",
    "%matplotlib inline\n",
    "\n",
    "digits = load_digits()\n"
   ]
  },
  {
   "cell_type": "markdown",
   "metadata": {},
   "source": [
    "# Importing and merging data"
   ]
  },
  {
   "cell_type": "code",
   "execution_count": 132,
   "metadata": {},
   "outputs": [],
   "source": [
    "# Importing data from github repository\n",
    "# From pandas, read_csv method is used and url to the file in git repository is provided.\n",
    "# Index = 1 is used so the dataframe will have a index column\n",
    "url_test = 'https://raw.githubusercontent.com/chanyadeshani/data/main/test.csv'\n",
    "df_test = pd.read_csv(url_test, index_col=0)\n",
    "url_target = 'https://raw.githubusercontent.com/chanyadeshani/data/main/gender_submission.csv'\n",
    "df_target = pd.read_csv(url_target, index_col=0)\n",
    "url_train = 'https://raw.githubusercontent.com/chanyadeshani/data/main/train.csv'\n",
    "df_train = pd.read_csv(url_train, index_col=0)\n",
    "df1_train= pd.read_csv('titanic3.csv')\n"
   ]
  },
  {
   "cell_type": "code",
   "execution_count": 16,
   "metadata": {},
   "outputs": [
    {
     "data": {
      "text/html": [
       "<div>\n",
       "<style scoped>\n",
       "    .dataframe tbody tr th:only-of-type {\n",
       "        vertical-align: middle;\n",
       "    }\n",
       "\n",
       "    .dataframe tbody tr th {\n",
       "        vertical-align: top;\n",
       "    }\n",
       "\n",
       "    .dataframe thead th {\n",
       "        text-align: right;\n",
       "    }\n",
       "</style>\n",
       "<table border=\"1\" class=\"dataframe\">\n",
       "  <thead>\n",
       "    <tr style=\"text-align: right;\">\n",
       "      <th></th>\n",
       "      <th>survived</th>\n",
       "      <th>name</th>\n",
       "      <th>sex</th>\n",
       "      <th>age</th>\n",
       "      <th>sibsp</th>\n",
       "      <th>parch</th>\n",
       "      <th>ticket</th>\n",
       "      <th>fare</th>\n",
       "      <th>cabin</th>\n",
       "      <th>embarked</th>\n",
       "      <th>boat</th>\n",
       "      <th>body</th>\n",
       "      <th>home.dest</th>\n",
       "    </tr>\n",
       "    <tr>\n",
       "      <th>pclass</th>\n",
       "      <th></th>\n",
       "      <th></th>\n",
       "      <th></th>\n",
       "      <th></th>\n",
       "      <th></th>\n",
       "      <th></th>\n",
       "      <th></th>\n",
       "      <th></th>\n",
       "      <th></th>\n",
       "      <th></th>\n",
       "      <th></th>\n",
       "      <th></th>\n",
       "      <th></th>\n",
       "    </tr>\n",
       "  </thead>\n",
       "  <tbody>\n",
       "    <tr>\n",
       "      <th>1.0</th>\n",
       "      <td>1.0</td>\n",
       "      <td>Allen, Miss. Elisabeth Walton</td>\n",
       "      <td>female</td>\n",
       "      <td>29.0000</td>\n",
       "      <td>0.0</td>\n",
       "      <td>0.0</td>\n",
       "      <td>24160</td>\n",
       "      <td>211.3375</td>\n",
       "      <td>B5</td>\n",
       "      <td>S</td>\n",
       "      <td>2</td>\n",
       "      <td>NaN</td>\n",
       "      <td>St Louis, MO</td>\n",
       "    </tr>\n",
       "    <tr>\n",
       "      <th>1.0</th>\n",
       "      <td>1.0</td>\n",
       "      <td>Allison, Master. Hudson Trevor</td>\n",
       "      <td>male</td>\n",
       "      <td>0.9167</td>\n",
       "      <td>1.0</td>\n",
       "      <td>2.0</td>\n",
       "      <td>113781</td>\n",
       "      <td>151.5500</td>\n",
       "      <td>C22 C26</td>\n",
       "      <td>S</td>\n",
       "      <td>11</td>\n",
       "      <td>NaN</td>\n",
       "      <td>Montreal, PQ / Chesterville, ON</td>\n",
       "    </tr>\n",
       "    <tr>\n",
       "      <th>1.0</th>\n",
       "      <td>0.0</td>\n",
       "      <td>Allison, Miss. Helen Loraine</td>\n",
       "      <td>female</td>\n",
       "      <td>2.0000</td>\n",
       "      <td>1.0</td>\n",
       "      <td>2.0</td>\n",
       "      <td>113781</td>\n",
       "      <td>151.5500</td>\n",
       "      <td>C22 C26</td>\n",
       "      <td>S</td>\n",
       "      <td>NaN</td>\n",
       "      <td>NaN</td>\n",
       "      <td>Montreal, PQ / Chesterville, ON</td>\n",
       "    </tr>\n",
       "    <tr>\n",
       "      <th>1.0</th>\n",
       "      <td>0.0</td>\n",
       "      <td>Allison, Mr. Hudson Joshua Creighton</td>\n",
       "      <td>male</td>\n",
       "      <td>30.0000</td>\n",
       "      <td>1.0</td>\n",
       "      <td>2.0</td>\n",
       "      <td>113781</td>\n",
       "      <td>151.5500</td>\n",
       "      <td>C22 C26</td>\n",
       "      <td>S</td>\n",
       "      <td>NaN</td>\n",
       "      <td>135.0</td>\n",
       "      <td>Montreal, PQ / Chesterville, ON</td>\n",
       "    </tr>\n",
       "    <tr>\n",
       "      <th>1.0</th>\n",
       "      <td>0.0</td>\n",
       "      <td>Allison, Mrs. Hudson J C (Bessie Waldo Daniels)</td>\n",
       "      <td>female</td>\n",
       "      <td>25.0000</td>\n",
       "      <td>1.0</td>\n",
       "      <td>2.0</td>\n",
       "      <td>113781</td>\n",
       "      <td>151.5500</td>\n",
       "      <td>C22 C26</td>\n",
       "      <td>S</td>\n",
       "      <td>NaN</td>\n",
       "      <td>NaN</td>\n",
       "      <td>Montreal, PQ / Chesterville, ON</td>\n",
       "    </tr>\n",
       "    <tr>\n",
       "      <th>...</th>\n",
       "      <td>...</td>\n",
       "      <td>...</td>\n",
       "      <td>...</td>\n",
       "      <td>...</td>\n",
       "      <td>...</td>\n",
       "      <td>...</td>\n",
       "      <td>...</td>\n",
       "      <td>...</td>\n",
       "      <td>...</td>\n",
       "      <td>...</td>\n",
       "      <td>...</td>\n",
       "      <td>...</td>\n",
       "      <td>...</td>\n",
       "    </tr>\n",
       "    <tr>\n",
       "      <th>3.0</th>\n",
       "      <td>0.0</td>\n",
       "      <td>Zabour, Miss. Thamine</td>\n",
       "      <td>female</td>\n",
       "      <td>NaN</td>\n",
       "      <td>1.0</td>\n",
       "      <td>0.0</td>\n",
       "      <td>2665</td>\n",
       "      <td>14.4542</td>\n",
       "      <td>NaN</td>\n",
       "      <td>C</td>\n",
       "      <td>NaN</td>\n",
       "      <td>NaN</td>\n",
       "      <td>NaN</td>\n",
       "    </tr>\n",
       "    <tr>\n",
       "      <th>3.0</th>\n",
       "      <td>0.0</td>\n",
       "      <td>Zakarian, Mr. Mapriededer</td>\n",
       "      <td>male</td>\n",
       "      <td>26.5000</td>\n",
       "      <td>0.0</td>\n",
       "      <td>0.0</td>\n",
       "      <td>2656</td>\n",
       "      <td>7.2250</td>\n",
       "      <td>NaN</td>\n",
       "      <td>C</td>\n",
       "      <td>NaN</td>\n",
       "      <td>304.0</td>\n",
       "      <td>NaN</td>\n",
       "    </tr>\n",
       "    <tr>\n",
       "      <th>3.0</th>\n",
       "      <td>0.0</td>\n",
       "      <td>Zakarian, Mr. Ortin</td>\n",
       "      <td>male</td>\n",
       "      <td>27.0000</td>\n",
       "      <td>0.0</td>\n",
       "      <td>0.0</td>\n",
       "      <td>2670</td>\n",
       "      <td>7.2250</td>\n",
       "      <td>NaN</td>\n",
       "      <td>C</td>\n",
       "      <td>NaN</td>\n",
       "      <td>NaN</td>\n",
       "      <td>NaN</td>\n",
       "    </tr>\n",
       "    <tr>\n",
       "      <th>3.0</th>\n",
       "      <td>0.0</td>\n",
       "      <td>Zimmerman, Mr. Leo</td>\n",
       "      <td>male</td>\n",
       "      <td>29.0000</td>\n",
       "      <td>0.0</td>\n",
       "      <td>0.0</td>\n",
       "      <td>315082</td>\n",
       "      <td>7.8750</td>\n",
       "      <td>NaN</td>\n",
       "      <td>S</td>\n",
       "      <td>NaN</td>\n",
       "      <td>NaN</td>\n",
       "      <td>NaN</td>\n",
       "    </tr>\n",
       "    <tr>\n",
       "      <th>NaN</th>\n",
       "      <td>NaN</td>\n",
       "      <td>NaN</td>\n",
       "      <td>NaN</td>\n",
       "      <td>NaN</td>\n",
       "      <td>NaN</td>\n",
       "      <td>NaN</td>\n",
       "      <td>NaN</td>\n",
       "      <td>NaN</td>\n",
       "      <td>NaN</td>\n",
       "      <td>NaN</td>\n",
       "      <td>NaN</td>\n",
       "      <td>NaN</td>\n",
       "      <td>NaN</td>\n",
       "    </tr>\n",
       "  </tbody>\n",
       "</table>\n",
       "<p>1310 rows × 13 columns</p>\n",
       "</div>"
      ],
      "text/plain": [
       "        survived                                             name     sex  \\\n",
       "pclass                                                                      \n",
       "1.0          1.0                    Allen, Miss. Elisabeth Walton  female   \n",
       "1.0          1.0                   Allison, Master. Hudson Trevor    male   \n",
       "1.0          0.0                     Allison, Miss. Helen Loraine  female   \n",
       "1.0          0.0             Allison, Mr. Hudson Joshua Creighton    male   \n",
       "1.0          0.0  Allison, Mrs. Hudson J C (Bessie Waldo Daniels)  female   \n",
       "...          ...                                              ...     ...   \n",
       "3.0          0.0                            Zabour, Miss. Thamine  female   \n",
       "3.0          0.0                        Zakarian, Mr. Mapriededer    male   \n",
       "3.0          0.0                              Zakarian, Mr. Ortin    male   \n",
       "3.0          0.0                               Zimmerman, Mr. Leo    male   \n",
       "NaN          NaN                                              NaN     NaN   \n",
       "\n",
       "            age  sibsp  parch  ticket      fare    cabin embarked boat   body  \\\n",
       "pclass                                                                          \n",
       "1.0     29.0000    0.0    0.0   24160  211.3375       B5        S    2    NaN   \n",
       "1.0      0.9167    1.0    2.0  113781  151.5500  C22 C26        S   11    NaN   \n",
       "1.0      2.0000    1.0    2.0  113781  151.5500  C22 C26        S  NaN    NaN   \n",
       "1.0     30.0000    1.0    2.0  113781  151.5500  C22 C26        S  NaN  135.0   \n",
       "1.0     25.0000    1.0    2.0  113781  151.5500  C22 C26        S  NaN    NaN   \n",
       "...         ...    ...    ...     ...       ...      ...      ...  ...    ...   \n",
       "3.0         NaN    1.0    0.0    2665   14.4542      NaN        C  NaN    NaN   \n",
       "3.0     26.5000    0.0    0.0    2656    7.2250      NaN        C  NaN  304.0   \n",
       "3.0     27.0000    0.0    0.0    2670    7.2250      NaN        C  NaN    NaN   \n",
       "3.0     29.0000    0.0    0.0  315082    7.8750      NaN        S  NaN    NaN   \n",
       "NaN         NaN    NaN    NaN     NaN       NaN      NaN      NaN  NaN    NaN   \n",
       "\n",
       "                              home.dest  \n",
       "pclass                                   \n",
       "1.0                        St Louis, MO  \n",
       "1.0     Montreal, PQ / Chesterville, ON  \n",
       "1.0     Montreal, PQ / Chesterville, ON  \n",
       "1.0     Montreal, PQ / Chesterville, ON  \n",
       "1.0     Montreal, PQ / Chesterville, ON  \n",
       "...                                 ...  \n",
       "3.0                                 NaN  \n",
       "3.0                                 NaN  \n",
       "3.0                                 NaN  \n",
       "3.0                                 NaN  \n",
       "NaN                                 NaN  \n",
       "\n",
       "[1310 rows x 13 columns]"
      ]
     },
     "execution_count": 16,
     "metadata": {},
     "output_type": "execute_result"
    }
   ],
   "source": [
    "url_titanic = 'https://raw.githubusercontent.com/chanyadeshani/data/main/titanic3.csv'\n",
    "df_titanic = pd.read_csv(url_titanic, index_col=0)\n",
    "df_titanic\n"
   ]
  },
  {
   "cell_type": "code",
   "execution_count": 17,
   "metadata": {},
   "outputs": [
    {
     "name": "stdout",
     "output_type": "stream",
     "text": [
      "survived: 0.0763%\n",
      "name: 0.0763%\n",
      "sex: 0.0763%\n",
      "age: 20.1527%\n",
      "sibsp: 0.0763%\n",
      "parch: 0.0763%\n",
      "ticket: 0.0763%\n",
      "fare: 0.1527%\n",
      "cabin: 77.4809%\n",
      "embarked: 0.229%\n",
      "boat: 62.9008%\n",
      "body: 90.7634%\n",
      "home.dest: 43.1298%\n"
     ]
    }
   ],
   "source": [
    "# Percentage of rows missing in each column\n",
    "for column in df_titanic.columns:\n",
    "    percentage = df_titanic[column].isnull().mean()\n",
    "    print(f'{column}: {round(percentage*100,4)}%')"
   ]
  },
  {
   "cell_type": "code",
   "execution_count": 18,
   "metadata": {},
   "outputs": [
    {
     "data": {
      "text/plain": [
       "(1310, 14)"
      ]
     },
     "execution_count": 18,
     "metadata": {},
     "output_type": "execute_result"
    }
   ],
   "source": [
    "# Print number of rows and columns\n",
    "df1_train.shape"
   ]
  },
  {
   "cell_type": "code",
   "execution_count": 19,
   "metadata": {},
   "outputs": [],
   "source": [
    "# Merge the dataset using PassengerId as a key and using right join\n",
    "# (all the rows from df_gender_submission and only matching rows from df_test)\n",
    "result = pd.merge(df_target, df_test, how='right', on=['PassengerId'])\n",
    "# Concatenating df_train and result dataframe\n",
    "train_df = pd.concat([df_train, result], ignore_index=True)\n"
   ]
  },
  {
   "cell_type": "code",
   "execution_count": 20,
   "metadata": {},
   "outputs": [
    {
     "data": {
      "text/html": [
       "<div>\n",
       "<style scoped>\n",
       "    .dataframe tbody tr th:only-of-type {\n",
       "        vertical-align: middle;\n",
       "    }\n",
       "\n",
       "    .dataframe tbody tr th {\n",
       "        vertical-align: top;\n",
       "    }\n",
       "\n",
       "    .dataframe thead th {\n",
       "        text-align: right;\n",
       "    }\n",
       "</style>\n",
       "<table border=\"1\" class=\"dataframe\">\n",
       "  <thead>\n",
       "    <tr style=\"text-align: right;\">\n",
       "      <th></th>\n",
       "      <th>Survived</th>\n",
       "      <th>Pclass</th>\n",
       "      <th>Name</th>\n",
       "      <th>Sex</th>\n",
       "      <th>Age</th>\n",
       "      <th>SibSp</th>\n",
       "      <th>Parch</th>\n",
       "      <th>Ticket</th>\n",
       "      <th>Fare</th>\n",
       "      <th>Cabin</th>\n",
       "      <th>Embarked</th>\n",
       "    </tr>\n",
       "  </thead>\n",
       "  <tbody>\n",
       "    <tr>\n",
       "      <th>0</th>\n",
       "      <td>0</td>\n",
       "      <td>3</td>\n",
       "      <td>Braund, Mr. Owen Harris</td>\n",
       "      <td>male</td>\n",
       "      <td>22.0</td>\n",
       "      <td>1</td>\n",
       "      <td>0</td>\n",
       "      <td>A/5 21171</td>\n",
       "      <td>7.2500</td>\n",
       "      <td>NaN</td>\n",
       "      <td>S</td>\n",
       "    </tr>\n",
       "    <tr>\n",
       "      <th>1</th>\n",
       "      <td>1</td>\n",
       "      <td>1</td>\n",
       "      <td>Cumings, Mrs. John Bradley (Florence Briggs Th...</td>\n",
       "      <td>female</td>\n",
       "      <td>38.0</td>\n",
       "      <td>1</td>\n",
       "      <td>0</td>\n",
       "      <td>PC 17599</td>\n",
       "      <td>71.2833</td>\n",
       "      <td>C85</td>\n",
       "      <td>C</td>\n",
       "    </tr>\n",
       "    <tr>\n",
       "      <th>2</th>\n",
       "      <td>1</td>\n",
       "      <td>3</td>\n",
       "      <td>Heikkinen, Miss. Laina</td>\n",
       "      <td>female</td>\n",
       "      <td>26.0</td>\n",
       "      <td>0</td>\n",
       "      <td>0</td>\n",
       "      <td>STON/O2. 3101282</td>\n",
       "      <td>7.9250</td>\n",
       "      <td>NaN</td>\n",
       "      <td>S</td>\n",
       "    </tr>\n",
       "    <tr>\n",
       "      <th>3</th>\n",
       "      <td>1</td>\n",
       "      <td>1</td>\n",
       "      <td>Futrelle, Mrs. Jacques Heath (Lily May Peel)</td>\n",
       "      <td>female</td>\n",
       "      <td>35.0</td>\n",
       "      <td>1</td>\n",
       "      <td>0</td>\n",
       "      <td>113803</td>\n",
       "      <td>53.1000</td>\n",
       "      <td>C123</td>\n",
       "      <td>S</td>\n",
       "    </tr>\n",
       "    <tr>\n",
       "      <th>4</th>\n",
       "      <td>0</td>\n",
       "      <td>3</td>\n",
       "      <td>Allen, Mr. William Henry</td>\n",
       "      <td>male</td>\n",
       "      <td>35.0</td>\n",
       "      <td>0</td>\n",
       "      <td>0</td>\n",
       "      <td>373450</td>\n",
       "      <td>8.0500</td>\n",
       "      <td>NaN</td>\n",
       "      <td>S</td>\n",
       "    </tr>\n",
       "    <tr>\n",
       "      <th>...</th>\n",
       "      <td>...</td>\n",
       "      <td>...</td>\n",
       "      <td>...</td>\n",
       "      <td>...</td>\n",
       "      <td>...</td>\n",
       "      <td>...</td>\n",
       "      <td>...</td>\n",
       "      <td>...</td>\n",
       "      <td>...</td>\n",
       "      <td>...</td>\n",
       "      <td>...</td>\n",
       "    </tr>\n",
       "    <tr>\n",
       "      <th>1304</th>\n",
       "      <td>0</td>\n",
       "      <td>3</td>\n",
       "      <td>Spector, Mr. Woolf</td>\n",
       "      <td>male</td>\n",
       "      <td>NaN</td>\n",
       "      <td>0</td>\n",
       "      <td>0</td>\n",
       "      <td>A.5. 3236</td>\n",
       "      <td>8.0500</td>\n",
       "      <td>NaN</td>\n",
       "      <td>S</td>\n",
       "    </tr>\n",
       "    <tr>\n",
       "      <th>1305</th>\n",
       "      <td>1</td>\n",
       "      <td>1</td>\n",
       "      <td>Oliva y Ocana, Dona. Fermina</td>\n",
       "      <td>female</td>\n",
       "      <td>39.0</td>\n",
       "      <td>0</td>\n",
       "      <td>0</td>\n",
       "      <td>PC 17758</td>\n",
       "      <td>108.9000</td>\n",
       "      <td>C105</td>\n",
       "      <td>C</td>\n",
       "    </tr>\n",
       "    <tr>\n",
       "      <th>1306</th>\n",
       "      <td>0</td>\n",
       "      <td>3</td>\n",
       "      <td>Saether, Mr. Simon Sivertsen</td>\n",
       "      <td>male</td>\n",
       "      <td>38.5</td>\n",
       "      <td>0</td>\n",
       "      <td>0</td>\n",
       "      <td>SOTON/O.Q. 3101262</td>\n",
       "      <td>7.2500</td>\n",
       "      <td>NaN</td>\n",
       "      <td>S</td>\n",
       "    </tr>\n",
       "    <tr>\n",
       "      <th>1307</th>\n",
       "      <td>0</td>\n",
       "      <td>3</td>\n",
       "      <td>Ware, Mr. Frederick</td>\n",
       "      <td>male</td>\n",
       "      <td>NaN</td>\n",
       "      <td>0</td>\n",
       "      <td>0</td>\n",
       "      <td>359309</td>\n",
       "      <td>8.0500</td>\n",
       "      <td>NaN</td>\n",
       "      <td>S</td>\n",
       "    </tr>\n",
       "    <tr>\n",
       "      <th>1308</th>\n",
       "      <td>0</td>\n",
       "      <td>3</td>\n",
       "      <td>Peter, Master. Michael J</td>\n",
       "      <td>male</td>\n",
       "      <td>NaN</td>\n",
       "      <td>1</td>\n",
       "      <td>1</td>\n",
       "      <td>2668</td>\n",
       "      <td>22.3583</td>\n",
       "      <td>NaN</td>\n",
       "      <td>C</td>\n",
       "    </tr>\n",
       "  </tbody>\n",
       "</table>\n",
       "<p>1309 rows × 11 columns</p>\n",
       "</div>"
      ],
      "text/plain": [
       "      Survived  Pclass                                               Name  \\\n",
       "0            0       3                            Braund, Mr. Owen Harris   \n",
       "1            1       1  Cumings, Mrs. John Bradley (Florence Briggs Th...   \n",
       "2            1       3                             Heikkinen, Miss. Laina   \n",
       "3            1       1       Futrelle, Mrs. Jacques Heath (Lily May Peel)   \n",
       "4            0       3                           Allen, Mr. William Henry   \n",
       "...        ...     ...                                                ...   \n",
       "1304         0       3                                 Spector, Mr. Woolf   \n",
       "1305         1       1                       Oliva y Ocana, Dona. Fermina   \n",
       "1306         0       3                       Saether, Mr. Simon Sivertsen   \n",
       "1307         0       3                                Ware, Mr. Frederick   \n",
       "1308         0       3                           Peter, Master. Michael J   \n",
       "\n",
       "         Sex   Age  SibSp  Parch              Ticket      Fare Cabin Embarked  \n",
       "0       male  22.0      1      0           A/5 21171    7.2500   NaN        S  \n",
       "1     female  38.0      1      0            PC 17599   71.2833   C85        C  \n",
       "2     female  26.0      0      0    STON/O2. 3101282    7.9250   NaN        S  \n",
       "3     female  35.0      1      0              113803   53.1000  C123        S  \n",
       "4       male  35.0      0      0              373450    8.0500   NaN        S  \n",
       "...      ...   ...    ...    ...                 ...       ...   ...      ...  \n",
       "1304    male   NaN      0      0           A.5. 3236    8.0500   NaN        S  \n",
       "1305  female  39.0      0      0            PC 17758  108.9000  C105        C  \n",
       "1306    male  38.5      0      0  SOTON/O.Q. 3101262    7.2500   NaN        S  \n",
       "1307    male   NaN      0      0              359309    8.0500   NaN        S  \n",
       "1308    male   NaN      1      1                2668   22.3583   NaN        C  \n",
       "\n",
       "[1309 rows x 11 columns]"
      ]
     },
     "execution_count": 20,
     "metadata": {},
     "output_type": "execute_result"
    }
   ],
   "source": [
    "train_df\n"
   ]
  },
  {
   "cell_type": "markdown",
   "metadata": {},
   "source": [
    "# Initial exploration"
   ]
  },
  {
   "cell_type": "code",
   "execution_count": 21,
   "metadata": {},
   "outputs": [
    {
     "data": {
      "text/html": [
       "<div>\n",
       "<style scoped>\n",
       "    .dataframe tbody tr th:only-of-type {\n",
       "        vertical-align: middle;\n",
       "    }\n",
       "\n",
       "    .dataframe tbody tr th {\n",
       "        vertical-align: top;\n",
       "    }\n",
       "\n",
       "    .dataframe thead th {\n",
       "        text-align: right;\n",
       "    }\n",
       "</style>\n",
       "<table border=\"1\" class=\"dataframe\">\n",
       "  <thead>\n",
       "    <tr style=\"text-align: right;\">\n",
       "      <th></th>\n",
       "      <th>Survived</th>\n",
       "      <th>Pclass</th>\n",
       "      <th>Name</th>\n",
       "      <th>Sex</th>\n",
       "      <th>Age</th>\n",
       "      <th>SibSp</th>\n",
       "      <th>Parch</th>\n",
       "      <th>Ticket</th>\n",
       "      <th>Fare</th>\n",
       "      <th>Cabin</th>\n",
       "      <th>Embarked</th>\n",
       "    </tr>\n",
       "  </thead>\n",
       "  <tbody>\n",
       "    <tr>\n",
       "      <th>0</th>\n",
       "      <td>0</td>\n",
       "      <td>3</td>\n",
       "      <td>Braund, Mr. Owen Harris</td>\n",
       "      <td>male</td>\n",
       "      <td>22.0</td>\n",
       "      <td>1</td>\n",
       "      <td>0</td>\n",
       "      <td>A/5 21171</td>\n",
       "      <td>7.2500</td>\n",
       "      <td>NaN</td>\n",
       "      <td>S</td>\n",
       "    </tr>\n",
       "    <tr>\n",
       "      <th>1</th>\n",
       "      <td>1</td>\n",
       "      <td>1</td>\n",
       "      <td>Cumings, Mrs. John Bradley (Florence Briggs Th...</td>\n",
       "      <td>female</td>\n",
       "      <td>38.0</td>\n",
       "      <td>1</td>\n",
       "      <td>0</td>\n",
       "      <td>PC 17599</td>\n",
       "      <td>71.2833</td>\n",
       "      <td>C85</td>\n",
       "      <td>C</td>\n",
       "    </tr>\n",
       "    <tr>\n",
       "      <th>2</th>\n",
       "      <td>1</td>\n",
       "      <td>3</td>\n",
       "      <td>Heikkinen, Miss. Laina</td>\n",
       "      <td>female</td>\n",
       "      <td>26.0</td>\n",
       "      <td>0</td>\n",
       "      <td>0</td>\n",
       "      <td>STON/O2. 3101282</td>\n",
       "      <td>7.9250</td>\n",
       "      <td>NaN</td>\n",
       "      <td>S</td>\n",
       "    </tr>\n",
       "  </tbody>\n",
       "</table>\n",
       "</div>"
      ],
      "text/plain": [
       "   Survived  Pclass                                               Name  \\\n",
       "0         0       3                            Braund, Mr. Owen Harris   \n",
       "1         1       1  Cumings, Mrs. John Bradley (Florence Briggs Th...   \n",
       "2         1       3                             Heikkinen, Miss. Laina   \n",
       "\n",
       "      Sex   Age  SibSp  Parch            Ticket     Fare Cabin Embarked  \n",
       "0    male  22.0      1      0         A/5 21171   7.2500   NaN        S  \n",
       "1  female  38.0      1      0          PC 17599  71.2833   C85        C  \n",
       "2  female  26.0      0      0  STON/O2. 3101282   7.9250   NaN        S  "
      ]
     },
     "execution_count": 21,
     "metadata": {},
     "output_type": "execute_result"
    }
   ],
   "source": [
    "# Check first 3 rows of the data\n",
    "train_df.head(3)\n"
   ]
  },
  {
   "cell_type": "code",
   "execution_count": 22,
   "metadata": {},
   "outputs": [
    {
     "data": {
      "text/html": [
       "<div>\n",
       "<style scoped>\n",
       "    .dataframe tbody tr th:only-of-type {\n",
       "        vertical-align: middle;\n",
       "    }\n",
       "\n",
       "    .dataframe tbody tr th {\n",
       "        vertical-align: top;\n",
       "    }\n",
       "\n",
       "    .dataframe thead th {\n",
       "        text-align: right;\n",
       "    }\n",
       "</style>\n",
       "<table border=\"1\" class=\"dataframe\">\n",
       "  <thead>\n",
       "    <tr style=\"text-align: right;\">\n",
       "      <th></th>\n",
       "      <th>Survived</th>\n",
       "      <th>Pclass</th>\n",
       "      <th>Name</th>\n",
       "      <th>Sex</th>\n",
       "      <th>Age</th>\n",
       "      <th>SibSp</th>\n",
       "      <th>Parch</th>\n",
       "      <th>Ticket</th>\n",
       "      <th>Fare</th>\n",
       "      <th>Cabin</th>\n",
       "      <th>Embarked</th>\n",
       "    </tr>\n",
       "  </thead>\n",
       "  <tbody>\n",
       "    <tr>\n",
       "      <th>0</th>\n",
       "      <td>0</td>\n",
       "      <td>3</td>\n",
       "      <td>Braund, Mr. Owen Harris</td>\n",
       "      <td>male</td>\n",
       "      <td>22.0</td>\n",
       "      <td>1</td>\n",
       "      <td>0</td>\n",
       "      <td>A/5 21171</td>\n",
       "      <td>7.2500</td>\n",
       "      <td>NaN</td>\n",
       "      <td>S</td>\n",
       "    </tr>\n",
       "    <tr>\n",
       "      <th>1</th>\n",
       "      <td>1</td>\n",
       "      <td>1</td>\n",
       "      <td>Cumings, Mrs. John Bradley (Florence Briggs Th...</td>\n",
       "      <td>female</td>\n",
       "      <td>38.0</td>\n",
       "      <td>1</td>\n",
       "      <td>0</td>\n",
       "      <td>PC 17599</td>\n",
       "      <td>71.2833</td>\n",
       "      <td>C85</td>\n",
       "      <td>C</td>\n",
       "    </tr>\n",
       "    <tr>\n",
       "      <th>2</th>\n",
       "      <td>1</td>\n",
       "      <td>3</td>\n",
       "      <td>Heikkinen, Miss. Laina</td>\n",
       "      <td>female</td>\n",
       "      <td>26.0</td>\n",
       "      <td>0</td>\n",
       "      <td>0</td>\n",
       "      <td>STON/O2. 3101282</td>\n",
       "      <td>7.9250</td>\n",
       "      <td>NaN</td>\n",
       "      <td>S</td>\n",
       "    </tr>\n",
       "    <tr>\n",
       "      <th>3</th>\n",
       "      <td>1</td>\n",
       "      <td>1</td>\n",
       "      <td>Futrelle, Mrs. Jacques Heath (Lily May Peel)</td>\n",
       "      <td>female</td>\n",
       "      <td>35.0</td>\n",
       "      <td>1</td>\n",
       "      <td>0</td>\n",
       "      <td>113803</td>\n",
       "      <td>53.1000</td>\n",
       "      <td>C123</td>\n",
       "      <td>S</td>\n",
       "    </tr>\n",
       "    <tr>\n",
       "      <th>4</th>\n",
       "      <td>0</td>\n",
       "      <td>3</td>\n",
       "      <td>Allen, Mr. William Henry</td>\n",
       "      <td>male</td>\n",
       "      <td>35.0</td>\n",
       "      <td>0</td>\n",
       "      <td>0</td>\n",
       "      <td>373450</td>\n",
       "      <td>8.0500</td>\n",
       "      <td>NaN</td>\n",
       "      <td>S</td>\n",
       "    </tr>\n",
       "    <tr>\n",
       "      <th>...</th>\n",
       "      <td>...</td>\n",
       "      <td>...</td>\n",
       "      <td>...</td>\n",
       "      <td>...</td>\n",
       "      <td>...</td>\n",
       "      <td>...</td>\n",
       "      <td>...</td>\n",
       "      <td>...</td>\n",
       "      <td>...</td>\n",
       "      <td>...</td>\n",
       "      <td>...</td>\n",
       "    </tr>\n",
       "    <tr>\n",
       "      <th>1304</th>\n",
       "      <td>0</td>\n",
       "      <td>3</td>\n",
       "      <td>Spector, Mr. Woolf</td>\n",
       "      <td>male</td>\n",
       "      <td>NaN</td>\n",
       "      <td>0</td>\n",
       "      <td>0</td>\n",
       "      <td>A.5. 3236</td>\n",
       "      <td>8.0500</td>\n",
       "      <td>NaN</td>\n",
       "      <td>S</td>\n",
       "    </tr>\n",
       "    <tr>\n",
       "      <th>1305</th>\n",
       "      <td>1</td>\n",
       "      <td>1</td>\n",
       "      <td>Oliva y Ocana, Dona. Fermina</td>\n",
       "      <td>female</td>\n",
       "      <td>39.0</td>\n",
       "      <td>0</td>\n",
       "      <td>0</td>\n",
       "      <td>PC 17758</td>\n",
       "      <td>108.9000</td>\n",
       "      <td>C105</td>\n",
       "      <td>C</td>\n",
       "    </tr>\n",
       "    <tr>\n",
       "      <th>1306</th>\n",
       "      <td>0</td>\n",
       "      <td>3</td>\n",
       "      <td>Saether, Mr. Simon Sivertsen</td>\n",
       "      <td>male</td>\n",
       "      <td>38.5</td>\n",
       "      <td>0</td>\n",
       "      <td>0</td>\n",
       "      <td>SOTON/O.Q. 3101262</td>\n",
       "      <td>7.2500</td>\n",
       "      <td>NaN</td>\n",
       "      <td>S</td>\n",
       "    </tr>\n",
       "    <tr>\n",
       "      <th>1307</th>\n",
       "      <td>0</td>\n",
       "      <td>3</td>\n",
       "      <td>Ware, Mr. Frederick</td>\n",
       "      <td>male</td>\n",
       "      <td>NaN</td>\n",
       "      <td>0</td>\n",
       "      <td>0</td>\n",
       "      <td>359309</td>\n",
       "      <td>8.0500</td>\n",
       "      <td>NaN</td>\n",
       "      <td>S</td>\n",
       "    </tr>\n",
       "    <tr>\n",
       "      <th>1308</th>\n",
       "      <td>0</td>\n",
       "      <td>3</td>\n",
       "      <td>Peter, Master. Michael J</td>\n",
       "      <td>male</td>\n",
       "      <td>NaN</td>\n",
       "      <td>1</td>\n",
       "      <td>1</td>\n",
       "      <td>2668</td>\n",
       "      <td>22.3583</td>\n",
       "      <td>NaN</td>\n",
       "      <td>C</td>\n",
       "    </tr>\n",
       "  </tbody>\n",
       "</table>\n",
       "<p>1309 rows × 11 columns</p>\n",
       "</div>"
      ],
      "text/plain": [
       "      Survived  Pclass                                               Name  \\\n",
       "0            0       3                            Braund, Mr. Owen Harris   \n",
       "1            1       1  Cumings, Mrs. John Bradley (Florence Briggs Th...   \n",
       "2            1       3                             Heikkinen, Miss. Laina   \n",
       "3            1       1       Futrelle, Mrs. Jacques Heath (Lily May Peel)   \n",
       "4            0       3                           Allen, Mr. William Henry   \n",
       "...        ...     ...                                                ...   \n",
       "1304         0       3                                 Spector, Mr. Woolf   \n",
       "1305         1       1                       Oliva y Ocana, Dona. Fermina   \n",
       "1306         0       3                       Saether, Mr. Simon Sivertsen   \n",
       "1307         0       3                                Ware, Mr. Frederick   \n",
       "1308         0       3                           Peter, Master. Michael J   \n",
       "\n",
       "         Sex   Age  SibSp  Parch              Ticket      Fare Cabin Embarked  \n",
       "0       male  22.0      1      0           A/5 21171    7.2500   NaN        S  \n",
       "1     female  38.0      1      0            PC 17599   71.2833   C85        C  \n",
       "2     female  26.0      0      0    STON/O2. 3101282    7.9250   NaN        S  \n",
       "3     female  35.0      1      0              113803   53.1000  C123        S  \n",
       "4       male  35.0      0      0              373450    8.0500   NaN        S  \n",
       "...      ...   ...    ...    ...                 ...       ...   ...      ...  \n",
       "1304    male   NaN      0      0           A.5. 3236    8.0500   NaN        S  \n",
       "1305  female  39.0      0      0            PC 17758  108.9000  C105        C  \n",
       "1306    male  38.5      0      0  SOTON/O.Q. 3101262    7.2500   NaN        S  \n",
       "1307    male   NaN      0      0              359309    8.0500   NaN        S  \n",
       "1308    male   NaN      1      1                2668   22.3583   NaN        C  \n",
       "\n",
       "[1309 rows x 11 columns]"
      ]
     },
     "execution_count": 22,
     "metadata": {},
     "output_type": "execute_result"
    }
   ],
   "source": [
    "# Print first few rows and last few rows\n",
    "train_df\n"
   ]
  },
  {
   "cell_type": "code",
   "execution_count": 23,
   "metadata": {},
   "outputs": [
    {
     "data": {
      "text/plain": [
       "Survived      int64\n",
       "Pclass        int64\n",
       "Name         object\n",
       "Sex          object\n",
       "Age         float64\n",
       "SibSp         int64\n",
       "Parch         int64\n",
       "Ticket       object\n",
       "Fare        float64\n",
       "Cabin        object\n",
       "Embarked     object\n",
       "dtype: object"
      ]
     },
     "execution_count": 23,
     "metadata": {},
     "output_type": "execute_result"
    }
   ],
   "source": [
    "# Check data types\n",
    "train_df.dtypes\n"
   ]
  },
  {
   "cell_type": "markdown",
   "metadata": {},
   "source": [
    "Combining the result from the previous step, when using *head* method of the Dataframe class,\n",
    "it is clear that all the *object* data types are *Strings*"
   ]
  },
  {
   "cell_type": "code",
   "execution_count": 24,
   "metadata": {},
   "outputs": [
    {
     "data": {
      "text/plain": [
       "(1309, 11)"
      ]
     },
     "execution_count": 24,
     "metadata": {},
     "output_type": "execute_result"
    }
   ],
   "source": [
    "# Print number of rows and columns\n",
    "train_df.shape\n"
   ]
  },
  {
   "cell_type": "code",
   "execution_count": 25,
   "metadata": {},
   "outputs": [
    {
     "name": "stdout",
     "output_type": "stream",
     "text": [
      "\tData description\n",
      "*****************************************\n",
      "•\tPassengerId: Id of every passenger.\n",
      "•\tSurvived: This feature have value 0 and 1. 0 for not survived and 1 for survived.\n",
      "•\tPclass: There are 3 classes: Class 1, Class 2 and Class 3.\n",
      "•\tName: Name of passenger.\n",
      "•\tSex: Gender of passenger.\n",
      "•\tAge: Age of passenger.\n",
      "•\tSibSp: Indication that passenger have siblings and spouse.\n",
      "•\tParch: Whether a passenger is alone or have family.\n",
      "•\tTicket: Ticket number of passenger.\n",
      "•\tFare: Indicating the fare.\n",
      "•\tCabin: The cabin of passenger.\n",
      "•\tEmbarked: The embarked category\n"
     ]
    }
   ],
   "source": [
    "print('\\tData description')\n",
    "print('*****************************************')\n",
    "\n",
    "''' Within the three quatition (i.e ''' '''), it is posible to display a pragraph as it is.\n",
    "Therefore new line can be enter typing a sentence in a new line or using \\n'''\n",
    "print('''•\\tPassengerId: Id of every passenger.\\n•\\tSurvived: This feature have value 0 and 1. 0 for not survived and 1 for survived.\n",
    "•\\tPclass: There are 3 classes: Class 1, Class 2 and Class 3.\\n•\\tName: Name of passenger.\\n•\\tSex: Gender of passenger.\n",
    "•\\tAge: Age of passenger.\\n•\\tSibSp: Indication that passenger have siblings and spouse.\\n•\\tParch: Whether a passenger is alone or have family.\n",
    "•\\tTicket: Ticket number of passenger.\\n•\\tFare: Indicating the fare.\\n•\\tCabin: The cabin of passenger.\\n•\\tEmbarked: The embarked category''')\n"
   ]
  },
  {
   "cell_type": "markdown",
   "metadata": {},
   "source": [
    "## Exploring data to identify Anomalies/ Missing Data\n"
   ]
  },
  {
   "cell_type": "code",
   "execution_count": 26,
   "metadata": {},
   "outputs": [
    {
     "name": "stdout",
     "output_type": "stream",
     "text": [
      "Number of unique values in each columns\n",
      "Survived   2\n",
      "Pclass   3\n",
      "Name   1307\n",
      "Sex   2\n",
      "Age   98\n",
      "SibSp   7\n",
      "Parch   8\n",
      "Ticket   929\n",
      "Fare   281\n",
      "Cabin   186\n",
      "Embarked   3\n",
      "It is clear when look at the number of unique values, that there are 1309 rows in the dataframe. However, only 1307 unique values in the Name column. This raise the suspision that there may be duplicate entries in the data set\n"
     ]
    }
   ],
   "source": [
    "# check the unique values count\n",
    "print('Number of unique values in each columns')\n",
    "for col in train_df.columns:\n",
    "    print(str(col) + '   ' + str(train_df[col].nunique()))\n",
    "print(\n",
    "    f'It is clear when look at the number of unique values, that there are {len(train_df)} rows in the dataframe. However, only {train_df.Name.nunique()} unique values in the Name column. This raise the suspision that there may be duplicate entries in the data set')\n"
   ]
  },
  {
   "cell_type": "code",
   "execution_count": 27,
   "metadata": {},
   "outputs": [
    {
     "name": "stdout",
     "output_type": "stream",
     "text": [
      "Empty DataFrame\n",
      "Columns: [Survived, Pclass, Name, Sex, Age, SibSp, Parch, Ticket, Fare, Cabin, Embarked]\n",
      "Index: []\n",
      "The empty data frame shows that there are no duplicate rows\n"
     ]
    }
   ],
   "source": [
    "# Print if there is any duplicated entries\n",
    "print(train_df[train_df.duplicated()])\n",
    "print(\"The empty data frame shows that there are no duplicate rows\")\n"
   ]
  },
  {
   "cell_type": "code",
   "execution_count": 28,
   "metadata": {},
   "outputs": [
    {
     "data": {
      "image/png": "[encoded data removed]",
      "text/plain": [
       "<Figure size 720x432 with 1 Axes>"
      ]
     },
     "metadata": {
      "needs_background": "light"
     },
     "output_type": "display_data"
    }
   ],
   "source": [
    "# This is a graphical presentation of the variable where there is missing data in the data set\n",
    "\n",
    "# the figsize help zoom our plot to give a better visible view\n",
    "plt.subplots(figsize=(10, 6))\n",
    "sns.heatmap(train_df.isnull(), cbar=False, cmap=\"YlGnBu_r\")\n",
    "\n",
    "categorical_variable = ['Survived', 'Sex',\n",
    "                        'Pclass', 'SibSp', 'Parch', 'Embarked']\n"
   ]
  },
  {
   "cell_type": "code",
   "execution_count": 29,
   "metadata": {},
   "outputs": [
    {
     "data": {
      "text/plain": [
       "Text(0.5, 1.0, 'Total Missing Value (%)')"
      ]
     },
     "execution_count": 29,
     "metadata": {},
     "output_type": "execute_result"
    },
    {
     "data": {
      "image/png": "[encoded data removed]",
      "text/plain": [
       "<Figure size 576x432 with 1 Axes>"
      ]
     },
     "metadata": {
      "needs_background": "light"
     },
     "output_type": "display_data"
    }
   ],
   "source": [
    "# Plotting the missing values of the Title column\n",
    "# Can use semicolan to avoid printing unnecessry lines in the output\n",
    "total = df_train.isnull().sum().sort_values(ascending=False)\n",
    "percent = (df_train.isnull().sum()/df_train.isnull().count()\n",
    "           ).sort_values(ascending=False)\n",
    "missing_data = pd.concat([total, percent], axis=1, keys=['Total', 'Percent'])\n",
    "percent_data = percent.head(20)\n",
    "percent_data.plot(kind=\"bar\", figsize=(8, 6), fontsize=10)\n",
    "plt.xlabel(\"\", fontsize=20)\n",
    "plt.ylabel(\"\", fontsize=20)\n",
    "plt.title(\"Total Missing Value (%)\", fontsize=20)\n"
   ]
  },
  {
   "cell_type": "code",
   "execution_count": 30,
   "metadata": {},
   "outputs": [
    {
     "name": "stdout",
     "output_type": "stream",
     "text": [
      "Survived: 0.0%\n",
      "Pclass: 0.0%\n",
      "Name: 0.0%\n",
      "Sex: 0.0%\n",
      "Age: 20.0917%\n",
      "SibSp: 0.0%\n",
      "Parch: 0.0%\n",
      "Ticket: 0.0%\n",
      "Fare: 0.0764%\n",
      "Cabin: 77.4637%\n",
      "Embarked: 0.1528%\n"
     ]
    }
   ],
   "source": [
    "# Percentage of rows missing in each column\n",
    "for column in train_df.columns:\n",
    "    percentage = train_df[column].isnull().mean()\n",
    "    print(f'{column}: {round(percentage*100,4)}%')\n"
   ]
  },
  {
   "cell_type": "code",
   "execution_count": 31,
   "metadata": {},
   "outputs": [
    {
     "data": {
      "image/png": "[encoded data removed]",
      "text/plain": [
       "<Figure size 756x432 with 6 Axes>"
      ]
     },
     "metadata": {
      "needs_background": "light"
     },
     "output_type": "display_data"
    }
   ],
   "source": [
    "'Our desired number of plot row and column size'\n",
    "categorical_plot_nrows = 2\n",
    "categorical_plot_ncols = 3\n",
    "\n",
    "fig, axs = plt.subplots(categorical_plot_nrows, categorical_plot_ncols, figsize=(\n",
    "    categorical_plot_ncols*3.5, categorical_plot_nrows*3))\n",
    "\n",
    "for r in range(0, categorical_plot_nrows):\n",
    "    for c in range(0, categorical_plot_ncols):\n",
    "        i = r*categorical_plot_ncols+c\n",
    "        ax = axs[r][c]\n",
    "        sns.countplot(x=train_df[categorical_variable[i]],\n",
    "                      hue=train_df[\"Survived\"], ax=ax)\n",
    "        ax.set_title(categorical_variable[i], fontsize=12, fontweight=\"bold\")\n",
    "        ax.legend(title=\"Survived\", loc='upper center')\n",
    "\n",
    "plt.tight_layout()\n"
   ]
  },
  {
   "cell_type": "code",
   "execution_count": 32,
   "metadata": {},
   "outputs": [
    {
     "data": {
      "image/png": "[encoded data removed]",
      "text/plain": [
       "<Figure size 360x360 with 1 Axes>"
      ]
     },
     "metadata": {
      "needs_background": "light"
     },
     "output_type": "display_data"
    }
   ],
   "source": [
    "sns.displot(train_df['Age'], kde=False, bins=10).set(\n",
    "    title=\"Distribution of Age\");\n"
   ]
  },
  {
   "cell_type": "code",
   "execution_count": 33,
   "metadata": {},
   "outputs": [
    {
     "data": {
      "image/png": "[encoded data removed]",
      "text/plain": [
       "<Figure size 360x360 with 1 Axes>"
      ]
     },
     "metadata": {
      "needs_background": "light"
     },
     "output_type": "display_data"
    }
   ],
   "source": [
    "sns.displot(train_df['Fare'], kde=False, bins=10).set(\n",
    "    title=\"Distribution of Fare\");"
   ]
  },
  {
   "cell_type": "code",
   "execution_count": 137,
   "metadata": {},
   "outputs": [
    {
     "data": {
      "image/png": "[encoded data removed]",
      "text/plain": [
       "<Figure size 432x288 with 1 Axes>"
      ]
     },
     "metadata": {
      "needs_background": "light"
     },
     "output_type": "display_data"
    }
   ],
   "source": [
    "sns.barplot(x='Pclass', y='Survived', data=df_train,ci = None)\n",
    "plt.ylabel(\"Survival Rate\")\n",
    "plt.title(\"Survival as function of Pclass\")\n",
    "plt.show()\n"
   ]
  },
  {
   "cell_type": "code",
   "execution_count": 35,
   "metadata": {},
   "outputs": [
    {
     "data": {
      "text/plain": [
       "Pclass\n",
       "1    0.629630\n",
       "2    0.472826\n",
       "3    0.242363\n",
       "Name: Survived, dtype: float64"
      ]
     },
     "execution_count": 35,
     "metadata": {},
     "output_type": "execute_result"
    }
   ],
   "source": [
    "survived_by_class = df_train.groupby('Pclass')['Survived'].mean()\n",
    "\n",
    "survived_by_class"
   ]
  },
  {
   "cell_type": "code",
   "execution_count": 36,
   "metadata": {},
   "outputs": [
    {
     "data": {
      "image/png": "[encoded data removed]",
      "text/plain": [
       "<Figure size 432x288 with 1 Axes>"
      ]
     },
     "metadata": {},
     "output_type": "display_data"
    }
   ],
   "source": [
    "y = np.array([0.629,0.472,0.244])\n",
    "\n",
    "mylabels = [\"Pclass1\", \"Pclass2\", \"Pclass3\"]\n",
    "\n",
    "plt.pie(y, labels = mylabels, startangle = 90)\n",
    "\n",
    "plt.show()"
   ]
  },
  {
   "cell_type": "code",
   "execution_count": 37,
   "metadata": {},
   "outputs": [
    {
     "data": {
      "image/png": "[encoded data removed]",
      "text/plain": [
       "<Figure size 1008x504 with 1 Axes>"
      ]
     },
     "metadata": {
      "needs_background": "light"
     },
     "output_type": "display_data"
    }
   ],
   "source": [
    "swarm_color = [\"red\", \"green\"]\n",
    "fig, ax = plt.subplots(figsize=(14, 7))\n",
    "sns.swarmplot(x='Pclass', y='Age', hue='Survived', dodge=True,\n",
    "              data=train_df, palette=swarm_color, size=5, ax=ax)\n",
    "plt.title('Survivals for Age and Pclass ')\n",
    "plt.show()\n"
   ]
  },
  {
   "cell_type": "code",
   "execution_count": 38,
   "metadata": {},
   "outputs": [
    {
     "data": {
      "image/png": "[encoded data removed]",
      "text/plain": [
       "<Figure size 936x504 with 1 Axes>"
      ]
     },
     "metadata": {
      "needs_background": "light"
     },
     "output_type": "display_data"
    }
   ],
   "source": [
    "\n",
    "fig, ax = plt.subplots(figsize=(13, 7))\n",
    "sns.violinplot(x=\"Pclass\", y=\"Age\", hue='Survived', data=train_df,\n",
    "               split=True, bw=0.05, palette=swarm_color, ax=ax)\n",
    "plt.title('Survivals for Age and Pclass ')\n",
    "plt.show()\n"
   ]
  },
  {
   "cell_type": "code",
   "execution_count": 39,
   "metadata": {},
   "outputs": [
    {
     "data": {
      "image/png": "[encoded data removed]",
      "text/plain": [
       "<Figure size 959.075x504 with 2 Axes>"
      ]
     },
     "metadata": {
      "needs_background": "light"
     },
     "output_type": "display_data"
    }
   ],
   "source": [
    "g = sns.catplot(x=\"Pclass\", y=\"Age\", hue=\"Survived\", col=\"Sex\", data=train_df,\n",
    "                kind=\"swarm\", dodge=True, palette=swarm_color, height=7, aspect=.9, s=3)\n",
    "plt.title('Survivals for Age and Pclass ')\n",
    "plt.show()\n"
   ]
  },
  {
   "cell_type": "code",
   "execution_count": 40,
   "metadata": {},
   "outputs": [
    {
     "data": {
      "image/png": "[encoded data removed]",
      "text/plain": [
       "<Figure size 936x504 with 1 Axes>"
      ]
     },
     "metadata": {
      "needs_background": "light"
     },
     "output_type": "display_data"
    }
   ],
   "source": [
    "# TODO Check with Bassey\n",
    "fig, ax = plt.subplots(figsize=(13, 7))\n",
    "sns.violinplot(y=\"Age\", hue=\"Survived\", col=\"Sex\", data=train_df, kind=\"violin\",\n",
    "               split=True, bw=0.05, palette=swarm_color, size=7, aspect=.9, s=7)\n",
    "plt.title('Survivals for Age and Sex ')\n",
    "plt.show()\n"
   ]
  },
  {
   "cell_type": "code",
   "execution_count": 41,
   "metadata": {},
   "outputs": [
    {
     "data": {
      "image/png": "[encoded data removed]",
      "text/plain": [
       "<Figure size 432x288 with 1 Axes>"
      ]
     },
     "metadata": {
      "needs_background": "light"
     },
     "output_type": "display_data"
    }
   ],
   "source": [
    "sns.boxplot(x='Embarked', y='Fare', data=train_df)\n",
    "plt.title(\"Fare distribution as function of Embarked Port\")\n",
    "plt.show()\n"
   ]
  },
  {
   "cell_type": "code",
   "execution_count": 42,
   "metadata": {},
   "outputs": [
    {
     "data": {
      "image/png": "[encoded data removed]",
      "text/plain": [
       "<Figure size 432x288 with 1 Axes>"
      ]
     },
     "metadata": {
      "needs_background": "light"
     },
     "output_type": "display_data"
    }
   ],
   "source": [
    "sns.boxplot(x='Embarked', y='Fare', data=train_df)\n",
    "plt.title(\"Fare distribution as function of Embarked Port\")\n",
    "plt.show()\n"
   ]
  },
  {
   "cell_type": "code",
   "execution_count": 43,
   "metadata": {},
   "outputs": [
    {
     "data": {
      "image/png": "[encoded data removed]",
      "text/plain": [
       "<Figure size 432x288 with 1 Axes>"
      ]
     },
     "metadata": {
      "needs_background": "light"
     },
     "output_type": "display_data"
    }
   ],
   "source": [
    "sns.boxplot(x='Embarked', y='Age', data=train_df)\n",
    "plt.title(\"Age distribution as function of Embarked Port\")\n",
    "plt.show()\n"
   ]
  },
  {
   "cell_type": "code",
   "execution_count": 44,
   "metadata": {},
   "outputs": [
    {
     "data": {
      "image/png": "[encoded data removed]",
      "text/plain": [
       "<Figure size 432x288 with 1 Axes>"
      ]
     },
     "metadata": {
      "needs_background": "light"
     },
     "output_type": "display_data"
    }
   ],
   "source": [
    "sns.countplot(x='Embarked', hue='Pclass', data=train_df)\n",
    "plt.title(\"Count of Passengers as function of Embarked Port\")\n",
    "plt.show()\n"
   ]
  },
  {
   "cell_type": "code",
   "execution_count": 138,
   "metadata": {},
   "outputs": [
    {
     "data": {
      "image/png": "[encoded data removed]",
      "text/plain": [
       "<Figure size 432x288 with 1 Axes>"
      ]
     },
     "metadata": {
      "needs_background": "light"
     },
     "output_type": "display_data"
    }
   ],
   "source": [
    "sns.barplot(x='Embarked', y='Survived', hue='Pclass', data=df_train,ci = None)\n",
    "plt.ylabel(\"Survival Rate\")\n",
    "plt.title(\"Survival as function of Embarked Port & Class\")\n",
    "plt.show()\n"
   ]
  },
  {
   "cell_type": "code",
   "execution_count": 139,
   "metadata": {},
   "outputs": [
    {
     "data": {
      "image/png": "[encoded data removed]",
      "text/plain": [
       "<Figure size 432x288 with 1 Axes>"
      ]
     },
     "metadata": {
      "needs_background": "light"
     },
     "output_type": "display_data"
    }
   ],
   "source": [
    "sns.barplot(x='Embarked', y='Survived', data=df_train,ci = None)\n",
    "plt.ylabel(\"Survival Rate\")\n",
    "plt.title(\"Survival as function of Embarked Port\")\n",
    "plt.show()\n"
   ]
  },
  {
   "cell_type": "code",
   "execution_count": 140,
   "metadata": {},
   "outputs": [
    {
     "data": {
      "image/png": "[encoded data removed]",
      "text/plain": [
       "<Figure size 432x288 with 1 Axes>"
      ]
     },
     "metadata": {
      "needs_background": "light"
     },
     "output_type": "display_data"
    }
   ],
   "source": [
    "sns.barplot(x='Sex', y='Survived', hue='Pclass', data=df_train,ci = None)\n",
    "plt.ylabel(\"Survival Rate\")\n",
    "plt.title(\"Survival as function of Pclass and Sex\")\n",
    "plt.show()\n"
   ]
  },
  {
   "cell_type": "markdown",
   "metadata": {},
   "source": [
    "## Basic statistics before fixing data for missing values"
   ]
  },
  {
   "cell_type": "code",
   "execution_count": 48,
   "metadata": {},
   "outputs": [
    {
     "data": {
      "text/plain": [
       "29.881137667304014"
      ]
     },
     "execution_count": 48,
     "metadata": {},
     "output_type": "execute_result"
    }
   ],
   "source": [
    "# The average age of passengers?\n",
    "train_df['Age'].mean()\n"
   ]
  },
  {
   "cell_type": "code",
   "execution_count": 49,
   "metadata": {},
   "outputs": [
    {
     "data": {
      "text/html": [
       "<div>\n",
       "<style scoped>\n",
       "    .dataframe tbody tr th:only-of-type {\n",
       "        vertical-align: middle;\n",
       "    }\n",
       "\n",
       "    .dataframe tbody tr th {\n",
       "        vertical-align: top;\n",
       "    }\n",
       "\n",
       "    .dataframe thead th {\n",
       "        text-align: right;\n",
       "    }\n",
       "</style>\n",
       "<table border=\"1\" class=\"dataframe\">\n",
       "  <thead>\n",
       "    <tr style=\"text-align: right;\">\n",
       "      <th></th>\n",
       "      <th>Age</th>\n",
       "      <th>Fare</th>\n",
       "    </tr>\n",
       "  </thead>\n",
       "  <tbody>\n",
       "    <tr>\n",
       "      <th>min</th>\n",
       "      <td>0.170000</td>\n",
       "      <td>0.000000</td>\n",
       "    </tr>\n",
       "    <tr>\n",
       "      <th>max</th>\n",
       "      <td>80.000000</td>\n",
       "      <td>512.329200</td>\n",
       "    </tr>\n",
       "    <tr>\n",
       "      <th>mean</th>\n",
       "      <td>29.881138</td>\n",
       "      <td>33.295479</td>\n",
       "    </tr>\n",
       "    <tr>\n",
       "      <th>median</th>\n",
       "      <td>28.000000</td>\n",
       "      <td>14.454200</td>\n",
       "    </tr>\n",
       "    <tr>\n",
       "      <th>skew</th>\n",
       "      <td>0.407675</td>\n",
       "      <td>4.367709</td>\n",
       "    </tr>\n",
       "  </tbody>\n",
       "</table>\n",
       "</div>"
      ],
      "text/plain": [
       "              Age        Fare\n",
       "min      0.170000    0.000000\n",
       "max     80.000000  512.329200\n",
       "mean    29.881138   33.295479\n",
       "median  28.000000   14.454200\n",
       "skew     0.407675    4.367709"
      ]
     },
     "execution_count": 49,
     "metadata": {},
     "output_type": "execute_result"
    }
   ],
   "source": [
    "# TODO%%%%%%%%%%%% WE NEED CHECH THIS @Bassey\n",
    "# Median Age and Ticket fare price of Pax\n",
    "#train_df[['Age', 'Fare']].median()\n",
    "# train_df.describe(include='all')\n",
    "\n",
    "# instead of using above predifined 'describe function' we can combined aggregating statistics\n",
    "train_df.agg(\n",
    "    {\n",
    "        'Age': ['min', 'max', 'mean', 'median', 'skew'],\n",
    "        'Fare': ['min', 'max', 'mean', 'median', 'skew'],\n",
    "    })\n"
   ]
  },
  {
   "cell_type": "code",
   "execution_count": 50,
   "metadata": {},
   "outputs": [
    {
     "data": {
      "text/plain": [
       "Pclass\n",
       "1    323\n",
       "2    277\n",
       "3    709\n",
       "Name: Pclass, dtype: int64"
      ]
     },
     "execution_count": 50,
     "metadata": {},
     "output_type": "execute_result"
    }
   ],
   "source": [
    "# counting by group\n",
    "train_df.groupby('Pclass')['Pclass'].count()\n"
   ]
  },
  {
   "cell_type": "code",
   "execution_count": 51,
   "metadata": {},
   "outputs": [
    {
     "name": "stdout",
     "output_type": "stream",
     "text": [
      "maximum null values in a row :  2 . \n",
      "Therefore, dropping rows containing missing values are disadvantageous\n",
      "\n"
     ]
    }
   ],
   "source": [
    "# TODO Do we want all of the below code for our final report@ Bassey\n",
    "train_df.isnull()  # is any missing values in dataframe\n",
    "train_df.isnull().any()  # is any missing values across columns\n",
    "train_df.isnull().sum().sum()   # count of missing values of the entire dataframe\n",
    "# count of missing values across columns\n",
    "count_NAN = len(train_df) - train_df.count()\n",
    "count_NAN\n",
    "\n",
    "max_missing = 0\n",
    "for i in range(len(train_df.index)):  # count of missing values across rows\n",
    "    #print('NAN in row ', i , ' : ', train_df.iloc[i].isnull().sum())\n",
    "    missing_current_row = train_df.iloc[i].isnull().sum()\n",
    "    if(max_missing < missing_current_row):\n",
    "        max_missing = missing_current_row\n",
    "\n",
    "print('maximum null values in a row : ', max_missing, '.',\n",
    "      '\\nTherefore, dropping rows containing missing values are disadvantageous')\n",
    "print()\n"
   ]
  },
  {
   "cell_type": "code",
   "execution_count": 52,
   "metadata": {},
   "outputs": [
    {
     "data": {
      "text/plain": [
       "263"
      ]
     },
     "execution_count": 52,
     "metadata": {},
     "output_type": "execute_result"
    }
   ],
   "source": [
    "# Counting of missing values of a particular column\n",
    "train_df.Age.isnull().sum()\n"
   ]
  },
  {
   "cell_type": "code",
   "execution_count": 53,
   "metadata": {},
   "outputs": [
    {
     "data": {
      "text/plain": [
       "Sex\n",
       "female     78\n",
       "male      185\n",
       "Name: Age, dtype: int64"
      ]
     },
     "execution_count": 53,
     "metadata": {},
     "output_type": "execute_result"
    }
   ],
   "source": [
    "# Count of missing values of column by group\n",
    "'''count of missing values of column by group\n",
    " Because we dont havve missing values in sex all the missing values is coming from Age'''\n",
    "train_df.groupby(['Sex'])['Age'].apply(lambda x: x.isnull().sum())\n"
   ]
  },
  {
   "cell_type": "markdown",
   "metadata": {},
   "source": [
    "## Fixing missing values"
   ]
  },
  {
   "cell_type": "code",
   "execution_count": 54,
   "metadata": {},
   "outputs": [
    {
     "name": "stdout",
     "output_type": "stream",
     "text": [
      "Number of missing values remaining in Age column is 0\n",
      "Number of missing values remaining in Fare column is 0\n"
     ]
    }
   ],
   "source": [
    "# Replacing the na in age and Fare column with mean\n",
    "train_df['Age'] = train_df['Age'].fillna(round(train_df['Age'].mean()))\n",
    "train_df['Fare'] = train_df['Fare'].fillna(round(train_df['Fare'].mean()))\n",
    "\n",
    "# checking if there are any remaining missing value\n",
    "print('Number of missing values remaining in Age column is',\n",
    "      train_df.Age.isnull().sum())\n",
    "print('Number of missing values remaining in Fare column is',\n",
    "      train_df.Fare.isnull().sum())\n"
   ]
  },
  {
   "cell_type": "code",
   "execution_count": 55,
   "metadata": {},
   "outputs": [
    {
     "data": {
      "text/plain": [
       "array([28.907, 30.457])"
      ]
     },
     "execution_count": 55,
     "metadata": {},
     "output_type": "execute_result"
    }
   ],
   "source": [
    "train_df.groupby(['Sex'])['Age'].mean().round(3).values\n"
   ]
  },
  {
   "cell_type": "code",
   "execution_count": 56,
   "metadata": {},
   "outputs": [
    {
     "name": "stdout",
     "output_type": "stream",
     "text": [
      "Number of missing values remaining in Embarked column is 0\n"
     ]
    }
   ],
   "source": [
    "# Replace missing values with mode of the Embarked column\n",
    "train_df['Embarked'] = train_df['Embarked'].fillna(\n",
    "    train_df['Embarked'].mode()[0])\n",
    "print('Number of missing values remaining in Embarked column is',\n",
    "      train_df.Fare.isnull().sum())\n"
   ]
  },
  {
   "cell_type": "code",
   "execution_count": 57,
   "metadata": {},
   "outputs": [
    {
     "name": "stdout",
     "output_type": "stream",
     "text": [
      "Missing value remaining in the dataset 1014\n",
      "Missing values of the Cabin column 1014\n",
      "It is clear that all the remaining missing values are from Cabin column. At his point, not going to impute missing values in Cabin variable as there are more than 60% of the values are missing.\n"
     ]
    }
   ],
   "source": [
    "# See if there is still any missing data in train dataset\n",
    "print('Missing value remaining in the dataset', train_df.isna().sum().max())\n",
    "print('Missing values of the Cabin column', train_df.Cabin.isnull().sum())\n",
    "print('It is clear that all the remaining missing values are from Cabin column. At his point, not going to impute missing values in Cabin variable as there are more than 60% of the values are missing.')\n"
   ]
  },
  {
   "cell_type": "markdown",
   "metadata": {},
   "source": [
    "## Transforming the column values\n",
    "### Transforming Survived and Pclass columns from integer to String\n",
    "Values are transformed form numerical values to categotical values as it is easier to understand the data in the exploratary analysis.\n",
    "Also, after the transformation, graph lables become more discriptive and easier to understand.\n",
    "\n",
    "### Renaming Embarked column values to their proper Embarcation port\n",
    "This will make data more understandable in data exploration."
   ]
  },
  {
   "cell_type": "code",
   "execution_count": 58,
   "metadata": {},
   "outputs": [
    {
     "data": {
      "text/html": [
       "<div>\n",
       "<style scoped>\n",
       "    .dataframe tbody tr th:only-of-type {\n",
       "        vertical-align: middle;\n",
       "    }\n",
       "\n",
       "    .dataframe tbody tr th {\n",
       "        vertical-align: top;\n",
       "    }\n",
       "\n",
       "    .dataframe thead th {\n",
       "        text-align: right;\n",
       "    }\n",
       "</style>\n",
       "<table border=\"1\" class=\"dataframe\">\n",
       "  <thead>\n",
       "    <tr style=\"text-align: right;\">\n",
       "      <th></th>\n",
       "      <th>Survived</th>\n",
       "      <th>Pclass</th>\n",
       "      <th>Name</th>\n",
       "      <th>Sex</th>\n",
       "      <th>Age</th>\n",
       "      <th>SibSp</th>\n",
       "      <th>Parch</th>\n",
       "      <th>Ticket</th>\n",
       "      <th>Fare</th>\n",
       "      <th>Cabin</th>\n",
       "      <th>Embarked</th>\n",
       "    </tr>\n",
       "  </thead>\n",
       "  <tbody>\n",
       "    <tr>\n",
       "      <th>0</th>\n",
       "      <td>0</td>\n",
       "      <td>3</td>\n",
       "      <td>Braund, Mr. Owen Harris</td>\n",
       "      <td>male</td>\n",
       "      <td>22.0</td>\n",
       "      <td>1</td>\n",
       "      <td>0</td>\n",
       "      <td>A/5 21171</td>\n",
       "      <td>7.2500</td>\n",
       "      <td>NaN</td>\n",
       "      <td>Southampton</td>\n",
       "    </tr>\n",
       "    <tr>\n",
       "      <th>1</th>\n",
       "      <td>1</td>\n",
       "      <td>1</td>\n",
       "      <td>Cumings, Mrs. John Bradley (Florence Briggs Th...</td>\n",
       "      <td>female</td>\n",
       "      <td>38.0</td>\n",
       "      <td>1</td>\n",
       "      <td>0</td>\n",
       "      <td>PC 17599</td>\n",
       "      <td>71.2833</td>\n",
       "      <td>C85</td>\n",
       "      <td>Cherbourg</td>\n",
       "    </tr>\n",
       "    <tr>\n",
       "      <th>2</th>\n",
       "      <td>1</td>\n",
       "      <td>3</td>\n",
       "      <td>Heikkinen, Miss. Laina</td>\n",
       "      <td>female</td>\n",
       "      <td>26.0</td>\n",
       "      <td>0</td>\n",
       "      <td>0</td>\n",
       "      <td>STON/O2. 3101282</td>\n",
       "      <td>7.9250</td>\n",
       "      <td>NaN</td>\n",
       "      <td>Southampton</td>\n",
       "    </tr>\n",
       "    <tr>\n",
       "      <th>3</th>\n",
       "      <td>1</td>\n",
       "      <td>1</td>\n",
       "      <td>Futrelle, Mrs. Jacques Heath (Lily May Peel)</td>\n",
       "      <td>female</td>\n",
       "      <td>35.0</td>\n",
       "      <td>1</td>\n",
       "      <td>0</td>\n",
       "      <td>113803</td>\n",
       "      <td>53.1000</td>\n",
       "      <td>C123</td>\n",
       "      <td>Southampton</td>\n",
       "    </tr>\n",
       "    <tr>\n",
       "      <th>4</th>\n",
       "      <td>0</td>\n",
       "      <td>3</td>\n",
       "      <td>Allen, Mr. William Henry</td>\n",
       "      <td>male</td>\n",
       "      <td>35.0</td>\n",
       "      <td>0</td>\n",
       "      <td>0</td>\n",
       "      <td>373450</td>\n",
       "      <td>8.0500</td>\n",
       "      <td>NaN</td>\n",
       "      <td>Southampton</td>\n",
       "    </tr>\n",
       "  </tbody>\n",
       "</table>\n",
       "</div>"
      ],
      "text/plain": [
       "   Survived  Pclass                                               Name  \\\n",
       "0         0       3                            Braund, Mr. Owen Harris   \n",
       "1         1       1  Cumings, Mrs. John Bradley (Florence Briggs Th...   \n",
       "2         1       3                             Heikkinen, Miss. Laina   \n",
       "3         1       1       Futrelle, Mrs. Jacques Heath (Lily May Peel)   \n",
       "4         0       3                           Allen, Mr. William Henry   \n",
       "\n",
       "      Sex   Age  SibSp  Parch            Ticket     Fare Cabin     Embarked  \n",
       "0    male  22.0      1      0         A/5 21171   7.2500   NaN  Southampton  \n",
       "1  female  38.0      1      0          PC 17599  71.2833   C85    Cherbourg  \n",
       "2  female  26.0      0      0  STON/O2. 3101282   7.9250   NaN  Southampton  \n",
       "3  female  35.0      1      0            113803  53.1000  C123  Southampton  \n",
       "4    male  35.0      0      0            373450   8.0500   NaN  Southampton  "
      ]
     },
     "execution_count": 58,
     "metadata": {},
     "output_type": "execute_result"
    }
   ],
   "source": [
    "# Embarked column values: maped C -> Cherbourg, Q -> Queenstown and S -> Southampton\n",
    "train_df.loc[train_df['Embarked'] == 'C', 'Embarked'] = 'Cherbourg'\n",
    "train_df.loc[train_df['Embarked'] == 'Q', 'Embarked'] = 'Queenstown'\n",
    "train_df.loc[train_df['Embarked'] == 'S', 'Embarked'] = 'Southampton'\n",
    "train_df.head()\n"
   ]
  },
  {
   "cell_type": "code",
   "execution_count": 59,
   "metadata": {},
   "outputs": [],
   "source": [
    "# Create copies of dataframe before transforming numeric values to categorical values\n",
    "df_train = train_df.copy()\n",
    "data = train_df.copy()\n"
   ]
  },
  {
   "cell_type": "code",
   "execution_count": 60,
   "metadata": {},
   "outputs": [
    {
     "data": {
      "text/plain": [
       "0    Deceased\n",
       "1    Survived\n",
       "2    Survived\n",
       "3    Survived\n",
       "4    Deceased\n",
       "Name: Survived, dtype: object"
      ]
     },
     "execution_count": 60,
     "metadata": {},
     "output_type": "execute_result"
    }
   ],
   "source": [
    "# Survived column values: maped 1 -> Survived and 0 -> Deceased\n",
    "train_df.loc[train_df['Survived'] == 0, 'Survived'] = 'Deceased'\n",
    "train_df.loc[train_df['Survived'] == 1, 'Survived'] = 'Survived'\n",
    "train_df['Survived'].head()\n"
   ]
  },
  {
   "cell_type": "code",
   "execution_count": 61,
   "metadata": {},
   "outputs": [
    {
     "data": {
      "text/plain": [
       "0    Third Class\n",
       "1    First Class\n",
       "2    Third Class\n",
       "3    First Class\n",
       "4    Third Class\n",
       "Name: Pclass, dtype: object"
      ]
     },
     "execution_count": 61,
     "metadata": {},
     "output_type": "execute_result"
    }
   ],
   "source": [
    "# Pclass column values: maped 1 -> First Class, 2 -> Second Class and 3 -> Third Class\n",
    "train_df.loc[train_df['Pclass'] == 1, 'Pclass'] = 'First Class'\n",
    "train_df.loc[train_df['Pclass'] == 2, 'Pclass'] = 'Second Class'\n",
    "train_df.loc[train_df['Pclass'] == 3, 'Pclass'] = 'Third Class'\n",
    "train_df['Pclass'].head()\n"
   ]
  },
  {
   "cell_type": "markdown",
   "metadata": {},
   "source": [
    "## Data visualisation"
   ]
  },
  {
   "cell_type": "code",
   "execution_count": 62,
   "metadata": {},
   "outputs": [
    {
     "data": {
      "image/png": "[encoded data removed]",
      "text/plain": [
       "<Figure size 360x360 with 1 Axes>"
      ]
     },
     "metadata": {
      "needs_background": "light"
     },
     "output_type": "display_data"
    }
   ],
   "source": [
    "plt.figure(figsize=(5, 5))\n",
    "survival_labels = [\"Survived\", \"Deceased\"]\n",
    "survival_counts = [train_df.Survived.value_counts(\n",
    ")[1], train_df.Survived.value_counts()[0]]\n",
    "sns.barplot(x=survival_labels, y=survival_counts)\n",
    "plt.show()\n"
   ]
  },
  {
   "cell_type": "code",
   "execution_count": 128,
   "metadata": {},
   "outputs": [
    {
     "data": {
      "text/plain": [
       "<AxesSubplot:xlabel='Survived', ylabel='Fare'>"
      ]
     },
     "execution_count": 128,
     "metadata": {},
     "output_type": "execute_result"
    },
    {
     "data": {
      "image/png": "[encoded data removed]",
      "text/plain": [
       "<Figure size 432x288 with 1 Axes>"
      ]
     },
     "metadata": {
      "needs_background": "light"
     },
     "output_type": "display_data"
    }
   ],
   "source": [
    "sns.barplot(x='Survived', y='Fare', data=train_df, palette='pastel',ci=None)\n"
   ]
  },
  {
   "cell_type": "code",
   "execution_count": 64,
   "metadata": {},
   "outputs": [
    {
     "data": {
      "text/plain": [
       "[Text(0.5, 1.0, 'Passengers Survived based on Sex'), Text(0, 0.5, 'Count')]"
      ]
     },
     "execution_count": 64,
     "metadata": {},
     "output_type": "execute_result"
    },
    {
     "data": {
      "image/png": "[encoded data removed]",
      "text/plain": [
       "<Figure size 432x288 with 1 Axes>"
      ]
     },
     "metadata": {
      "needs_background": "light"
     },
     "output_type": "display_data"
    }
   ],
   "source": [
    "sns.countplot(x='Survived', hue='Sex', data=df_train).set(\n",
    "    title=\"Passengers Survived based on Sex\", ylabel=\"Count\")\n"
   ]
  },
  {
   "cell_type": "code",
   "execution_count": 65,
   "metadata": {},
   "outputs": [
    {
     "data": {
      "text/plain": [
       "<AxesSubplot:xlabel='Embarked', ylabel='Survived'>"
      ]
     },
     "execution_count": 65,
     "metadata": {},
     "output_type": "execute_result"
    },
    {
     "data": {
      "image/png": "[encoded data removed]",
      "text/plain": [
       "<Figure size 1008x432 with 2 Axes>"
      ]
     },
     "metadata": {
      "needs_background": "light"
     },
     "output_type": "display_data"
    }
   ],
   "source": [
    "train_data_clean_embarked = df_train.dropna(subset=['Embarked'])\n",
    "embarked = train_data_clean_embarked.groupby('Embarked').mean()\n",
    "embarked['Count'] = train_data_clean_embarked['Embarked'].value_counts()\n",
    "embarked\n",
    "\n",
    "fig, (axis1, axis2) = plt.subplots(1, 2, figsize=(14, 6))\n",
    "\n",
    "sns.countplot(x='Embarked', data=train_data_clean_embarked, order=[\n",
    "              'Southampton', 'Cherbourg', 'Queenstown'], ax=axis1)\n",
    "sns.barplot(x=embarked.index, y='Survived', data=embarked, order=[\n",
    "            'Southampton', 'Cherbourg', 'Queenstown'], ax=axis2)\n"
   ]
  },
  {
   "cell_type": "code",
   "execution_count": 66,
   "metadata": {},
   "outputs": [
    {
     "data": {
      "text/html": [
       "<div>\n",
       "<style scoped>\n",
       "    .dataframe tbody tr th:only-of-type {\n",
       "        vertical-align: middle;\n",
       "    }\n",
       "\n",
       "    .dataframe tbody tr th {\n",
       "        vertical-align: top;\n",
       "    }\n",
       "\n",
       "    .dataframe thead th {\n",
       "        text-align: right;\n",
       "    }\n",
       "</style>\n",
       "<table border=\"1\" class=\"dataframe\">\n",
       "  <thead>\n",
       "    <tr style=\"text-align: right;\">\n",
       "      <th></th>\n",
       "      <th>Survived</th>\n",
       "      <th>Pclass</th>\n",
       "      <th>Name</th>\n",
       "      <th>Sex</th>\n",
       "      <th>Age</th>\n",
       "      <th>SibSp</th>\n",
       "      <th>Parch</th>\n",
       "      <th>Ticket</th>\n",
       "      <th>Fare</th>\n",
       "      <th>Cabin</th>\n",
       "      <th>Embarked</th>\n",
       "    </tr>\n",
       "  </thead>\n",
       "  <tbody>\n",
       "    <tr>\n",
       "      <th>0</th>\n",
       "      <td>0</td>\n",
       "      <td>3</td>\n",
       "      <td>Braund, Mr. Owen Harris</td>\n",
       "      <td>male</td>\n",
       "      <td>22.0</td>\n",
       "      <td>1</td>\n",
       "      <td>0</td>\n",
       "      <td>A/5 21171</td>\n",
       "      <td>7.2500</td>\n",
       "      <td>NaN</td>\n",
       "      <td>Southampton</td>\n",
       "    </tr>\n",
       "    <tr>\n",
       "      <th>1</th>\n",
       "      <td>1</td>\n",
       "      <td>1</td>\n",
       "      <td>Cumings, Mrs. John Bradley (Florence Briggs Th...</td>\n",
       "      <td>female</td>\n",
       "      <td>38.0</td>\n",
       "      <td>1</td>\n",
       "      <td>0</td>\n",
       "      <td>PC 17599</td>\n",
       "      <td>71.2833</td>\n",
       "      <td>C85</td>\n",
       "      <td>Cherbourg</td>\n",
       "    </tr>\n",
       "    <tr>\n",
       "      <th>2</th>\n",
       "      <td>1</td>\n",
       "      <td>3</td>\n",
       "      <td>Heikkinen, Miss. Laina</td>\n",
       "      <td>female</td>\n",
       "      <td>26.0</td>\n",
       "      <td>0</td>\n",
       "      <td>0</td>\n",
       "      <td>STON/O2. 3101282</td>\n",
       "      <td>7.9250</td>\n",
       "      <td>NaN</td>\n",
       "      <td>Southampton</td>\n",
       "    </tr>\n",
       "    <tr>\n",
       "      <th>3</th>\n",
       "      <td>1</td>\n",
       "      <td>1</td>\n",
       "      <td>Futrelle, Mrs. Jacques Heath (Lily May Peel)</td>\n",
       "      <td>female</td>\n",
       "      <td>35.0</td>\n",
       "      <td>1</td>\n",
       "      <td>0</td>\n",
       "      <td>113803</td>\n",
       "      <td>53.1000</td>\n",
       "      <td>C123</td>\n",
       "      <td>Southampton</td>\n",
       "    </tr>\n",
       "    <tr>\n",
       "      <th>4</th>\n",
       "      <td>0</td>\n",
       "      <td>3</td>\n",
       "      <td>Allen, Mr. William Henry</td>\n",
       "      <td>male</td>\n",
       "      <td>35.0</td>\n",
       "      <td>0</td>\n",
       "      <td>0</td>\n",
       "      <td>373450</td>\n",
       "      <td>8.0500</td>\n",
       "      <td>NaN</td>\n",
       "      <td>Southampton</td>\n",
       "    </tr>\n",
       "    <tr>\n",
       "      <th>...</th>\n",
       "      <td>...</td>\n",
       "      <td>...</td>\n",
       "      <td>...</td>\n",
       "      <td>...</td>\n",
       "      <td>...</td>\n",
       "      <td>...</td>\n",
       "      <td>...</td>\n",
       "      <td>...</td>\n",
       "      <td>...</td>\n",
       "      <td>...</td>\n",
       "      <td>...</td>\n",
       "    </tr>\n",
       "    <tr>\n",
       "      <th>1304</th>\n",
       "      <td>0</td>\n",
       "      <td>3</td>\n",
       "      <td>Spector, Mr. Woolf</td>\n",
       "      <td>male</td>\n",
       "      <td>30.0</td>\n",
       "      <td>0</td>\n",
       "      <td>0</td>\n",
       "      <td>A.5. 3236</td>\n",
       "      <td>8.0500</td>\n",
       "      <td>NaN</td>\n",
       "      <td>Southampton</td>\n",
       "    </tr>\n",
       "    <tr>\n",
       "      <th>1305</th>\n",
       "      <td>1</td>\n",
       "      <td>1</td>\n",
       "      <td>Oliva y Ocana, Dona. Fermina</td>\n",
       "      <td>female</td>\n",
       "      <td>39.0</td>\n",
       "      <td>0</td>\n",
       "      <td>0</td>\n",
       "      <td>PC 17758</td>\n",
       "      <td>108.9000</td>\n",
       "      <td>C105</td>\n",
       "      <td>Cherbourg</td>\n",
       "    </tr>\n",
       "    <tr>\n",
       "      <th>1306</th>\n",
       "      <td>0</td>\n",
       "      <td>3</td>\n",
       "      <td>Saether, Mr. Simon Sivertsen</td>\n",
       "      <td>male</td>\n",
       "      <td>38.5</td>\n",
       "      <td>0</td>\n",
       "      <td>0</td>\n",
       "      <td>SOTON/O.Q. 3101262</td>\n",
       "      <td>7.2500</td>\n",
       "      <td>NaN</td>\n",
       "      <td>Southampton</td>\n",
       "    </tr>\n",
       "    <tr>\n",
       "      <th>1307</th>\n",
       "      <td>0</td>\n",
       "      <td>3</td>\n",
       "      <td>Ware, Mr. Frederick</td>\n",
       "      <td>male</td>\n",
       "      <td>30.0</td>\n",
       "      <td>0</td>\n",
       "      <td>0</td>\n",
       "      <td>359309</td>\n",
       "      <td>8.0500</td>\n",
       "      <td>NaN</td>\n",
       "      <td>Southampton</td>\n",
       "    </tr>\n",
       "    <tr>\n",
       "      <th>1308</th>\n",
       "      <td>0</td>\n",
       "      <td>3</td>\n",
       "      <td>Peter, Master. Michael J</td>\n",
       "      <td>male</td>\n",
       "      <td>30.0</td>\n",
       "      <td>1</td>\n",
       "      <td>1</td>\n",
       "      <td>2668</td>\n",
       "      <td>22.3583</td>\n",
       "      <td>NaN</td>\n",
       "      <td>Cherbourg</td>\n",
       "    </tr>\n",
       "  </tbody>\n",
       "</table>\n",
       "<p>1309 rows × 11 columns</p>\n",
       "</div>"
      ],
      "text/plain": [
       "      Survived  Pclass                                               Name  \\\n",
       "0            0       3                            Braund, Mr. Owen Harris   \n",
       "1            1       1  Cumings, Mrs. John Bradley (Florence Briggs Th...   \n",
       "2            1       3                             Heikkinen, Miss. Laina   \n",
       "3            1       1       Futrelle, Mrs. Jacques Heath (Lily May Peel)   \n",
       "4            0       3                           Allen, Mr. William Henry   \n",
       "...        ...     ...                                                ...   \n",
       "1304         0       3                                 Spector, Mr. Woolf   \n",
       "1305         1       1                       Oliva y Ocana, Dona. Fermina   \n",
       "1306         0       3                       Saether, Mr. Simon Sivertsen   \n",
       "1307         0       3                                Ware, Mr. Frederick   \n",
       "1308         0       3                           Peter, Master. Michael J   \n",
       "\n",
       "         Sex   Age  SibSp  Parch              Ticket      Fare Cabin  \\\n",
       "0       male  22.0      1      0           A/5 21171    7.2500   NaN   \n",
       "1     female  38.0      1      0            PC 17599   71.2833   C85   \n",
       "2     female  26.0      0      0    STON/O2. 3101282    7.9250   NaN   \n",
       "3     female  35.0      1      0              113803   53.1000  C123   \n",
       "4       male  35.0      0      0              373450    8.0500   NaN   \n",
       "...      ...   ...    ...    ...                 ...       ...   ...   \n",
       "1304    male  30.0      0      0           A.5. 3236    8.0500   NaN   \n",
       "1305  female  39.0      0      0            PC 17758  108.9000  C105   \n",
       "1306    male  38.5      0      0  SOTON/O.Q. 3101262    7.2500   NaN   \n",
       "1307    male  30.0      0      0              359309    8.0500   NaN   \n",
       "1308    male  30.0      1      1                2668   22.3583   NaN   \n",
       "\n",
       "         Embarked  \n",
       "0     Southampton  \n",
       "1       Cherbourg  \n",
       "2     Southampton  \n",
       "3     Southampton  \n",
       "4     Southampton  \n",
       "...           ...  \n",
       "1304  Southampton  \n",
       "1305    Cherbourg  \n",
       "1306  Southampton  \n",
       "1307  Southampton  \n",
       "1308    Cherbourg  \n",
       "\n",
       "[1309 rows x 11 columns]"
      ]
     },
     "execution_count": 66,
     "metadata": {},
     "output_type": "execute_result"
    }
   ],
   "source": [
    "train_data_clean_embarked\n",
    "df_train\n",
    "data\n"
   ]
  },
  {
   "cell_type": "markdown",
   "metadata": {},
   "source": [
    "## Analysing familysize\n",
    "\n",
    "### Visusalise surviving families using title"
   ]
  },
  {
   "cell_type": "code",
   "execution_count": 67,
   "metadata": {},
   "outputs": [
    {
     "data": {
      "text/html": [
       "<div>\n",
       "<style scoped>\n",
       "    .dataframe tbody tr th:only-of-type {\n",
       "        vertical-align: middle;\n",
       "    }\n",
       "\n",
       "    .dataframe tbody tr th {\n",
       "        vertical-align: top;\n",
       "    }\n",
       "\n",
       "    .dataframe thead th {\n",
       "        text-align: right;\n",
       "    }\n",
       "</style>\n",
       "<table border=\"1\" class=\"dataframe\">\n",
       "  <thead>\n",
       "    <tr style=\"text-align: right;\">\n",
       "      <th></th>\n",
       "      <th>Survived</th>\n",
       "      <th>Pclass</th>\n",
       "      <th>Sex</th>\n",
       "      <th>Age</th>\n",
       "      <th>SibSp</th>\n",
       "      <th>Parch</th>\n",
       "      <th>Fare</th>\n",
       "      <th>Embarked</th>\n",
       "    </tr>\n",
       "  </thead>\n",
       "  <tbody>\n",
       "    <tr>\n",
       "      <th>1304</th>\n",
       "      <td>0</td>\n",
       "      <td>3</td>\n",
       "      <td>male</td>\n",
       "      <td>30.0</td>\n",
       "      <td>0</td>\n",
       "      <td>0</td>\n",
       "      <td>8.0500</td>\n",
       "      <td>Southampton</td>\n",
       "    </tr>\n",
       "    <tr>\n",
       "      <th>1305</th>\n",
       "      <td>1</td>\n",
       "      <td>1</td>\n",
       "      <td>female</td>\n",
       "      <td>39.0</td>\n",
       "      <td>0</td>\n",
       "      <td>0</td>\n",
       "      <td>108.9000</td>\n",
       "      <td>Cherbourg</td>\n",
       "    </tr>\n",
       "    <tr>\n",
       "      <th>1306</th>\n",
       "      <td>0</td>\n",
       "      <td>3</td>\n",
       "      <td>male</td>\n",
       "      <td>38.5</td>\n",
       "      <td>0</td>\n",
       "      <td>0</td>\n",
       "      <td>7.2500</td>\n",
       "      <td>Southampton</td>\n",
       "    </tr>\n",
       "    <tr>\n",
       "      <th>1307</th>\n",
       "      <td>0</td>\n",
       "      <td>3</td>\n",
       "      <td>male</td>\n",
       "      <td>30.0</td>\n",
       "      <td>0</td>\n",
       "      <td>0</td>\n",
       "      <td>8.0500</td>\n",
       "      <td>Southampton</td>\n",
       "    </tr>\n",
       "    <tr>\n",
       "      <th>1308</th>\n",
       "      <td>0</td>\n",
       "      <td>3</td>\n",
       "      <td>male</td>\n",
       "      <td>30.0</td>\n",
       "      <td>1</td>\n",
       "      <td>1</td>\n",
       "      <td>22.3583</td>\n",
       "      <td>Cherbourg</td>\n",
       "    </tr>\n",
       "  </tbody>\n",
       "</table>\n",
       "</div>"
      ],
      "text/plain": [
       "      Survived  Pclass     Sex   Age  SibSp  Parch      Fare     Embarked\n",
       "1304         0       3    male  30.0      0      0    8.0500  Southampton\n",
       "1305         1       1  female  39.0      0      0  108.9000    Cherbourg\n",
       "1306         0       3    male  38.5      0      0    7.2500  Southampton\n",
       "1307         0       3    male  30.0      0      0    8.0500  Southampton\n",
       "1308         0       3    male  30.0      1      1   22.3583    Cherbourg"
      ]
     },
     "execution_count": 67,
     "metadata": {},
     "output_type": "execute_result"
    }
   ],
   "source": [
    "data = data.drop(columns=['Name', 'Ticket', 'Cabin'])\n",
    "data.tail()\n"
   ]
  },
  {
   "cell_type": "code",
   "execution_count": 68,
   "metadata": {},
   "outputs": [],
   "source": [
    "data['Sex'].replace('female', 0, inplace=True)\n",
    "data['Sex'].replace('male', 1, inplace=True)\n",
    "\n",
    "data['Embarked_S'] = data['Embarked'].replace(\n",
    "    'Queenstown', 0).replace('Cherbourg', 0).replace('Southampton', 1)\n",
    "data['Embarked_C'] = data['Embarked'].replace(\n",
    "    'Queenstown', 0).replace('Southampton', 0).replace('Cherbourg', 1)\n",
    "data['Embarked_Q'] = data['Embarked'].replace(\n",
    "    'Southampton', 0).replace('Cherbourg', 0).replace('Queenstown', 1)\n"
   ]
  },
  {
   "cell_type": "code",
   "execution_count": 69,
   "metadata": {},
   "outputs": [],
   "source": [
    "data = data.drop(columns=['Embarked'])\n"
   ]
  },
  {
   "cell_type": "code",
   "execution_count": 70,
   "metadata": {},
   "outputs": [],
   "source": [
    "x = data.iloc[:, 0:12]\n"
   ]
  },
  {
   "cell_type": "code",
   "execution_count": 71,
   "metadata": {},
   "outputs": [
    {
     "data": {
      "text/html": [
       "<div>\n",
       "<style scoped>\n",
       "    .dataframe tbody tr th:only-of-type {\n",
       "        vertical-align: middle;\n",
       "    }\n",
       "\n",
       "    .dataframe tbody tr th {\n",
       "        vertical-align: top;\n",
       "    }\n",
       "\n",
       "    .dataframe thead th {\n",
       "        text-align: right;\n",
       "    }\n",
       "</style>\n",
       "<table border=\"1\" class=\"dataframe\">\n",
       "  <thead>\n",
       "    <tr style=\"text-align: right;\">\n",
       "      <th></th>\n",
       "      <th>Pclass</th>\n",
       "      <th>Sex</th>\n",
       "      <th>Age</th>\n",
       "      <th>SibSp</th>\n",
       "      <th>Parch</th>\n",
       "      <th>Fare</th>\n",
       "      <th>Embarked_S</th>\n",
       "      <th>Embarked_C</th>\n",
       "      <th>Embarked_Q</th>\n",
       "    </tr>\n",
       "  </thead>\n",
       "  <tbody>\n",
       "    <tr>\n",
       "      <th>0</th>\n",
       "      <td>3</td>\n",
       "      <td>1</td>\n",
       "      <td>22.0</td>\n",
       "      <td>1</td>\n",
       "      <td>0</td>\n",
       "      <td>7.2500</td>\n",
       "      <td>1</td>\n",
       "      <td>0</td>\n",
       "      <td>0</td>\n",
       "    </tr>\n",
       "    <tr>\n",
       "      <th>1</th>\n",
       "      <td>1</td>\n",
       "      <td>0</td>\n",
       "      <td>38.0</td>\n",
       "      <td>1</td>\n",
       "      <td>0</td>\n",
       "      <td>71.2833</td>\n",
       "      <td>0</td>\n",
       "      <td>1</td>\n",
       "      <td>0</td>\n",
       "    </tr>\n",
       "    <tr>\n",
       "      <th>2</th>\n",
       "      <td>3</td>\n",
       "      <td>0</td>\n",
       "      <td>26.0</td>\n",
       "      <td>0</td>\n",
       "      <td>0</td>\n",
       "      <td>7.9250</td>\n",
       "      <td>1</td>\n",
       "      <td>0</td>\n",
       "      <td>0</td>\n",
       "    </tr>\n",
       "    <tr>\n",
       "      <th>3</th>\n",
       "      <td>1</td>\n",
       "      <td>0</td>\n",
       "      <td>35.0</td>\n",
       "      <td>1</td>\n",
       "      <td>0</td>\n",
       "      <td>53.1000</td>\n",
       "      <td>1</td>\n",
       "      <td>0</td>\n",
       "      <td>0</td>\n",
       "    </tr>\n",
       "    <tr>\n",
       "      <th>4</th>\n",
       "      <td>3</td>\n",
       "      <td>1</td>\n",
       "      <td>35.0</td>\n",
       "      <td>0</td>\n",
       "      <td>0</td>\n",
       "      <td>8.0500</td>\n",
       "      <td>1</td>\n",
       "      <td>0</td>\n",
       "      <td>0</td>\n",
       "    </tr>\n",
       "    <tr>\n",
       "      <th>...</th>\n",
       "      <td>...</td>\n",
       "      <td>...</td>\n",
       "      <td>...</td>\n",
       "      <td>...</td>\n",
       "      <td>...</td>\n",
       "      <td>...</td>\n",
       "      <td>...</td>\n",
       "      <td>...</td>\n",
       "      <td>...</td>\n",
       "    </tr>\n",
       "    <tr>\n",
       "      <th>1304</th>\n",
       "      <td>3</td>\n",
       "      <td>1</td>\n",
       "      <td>30.0</td>\n",
       "      <td>0</td>\n",
       "      <td>0</td>\n",
       "      <td>8.0500</td>\n",
       "      <td>1</td>\n",
       "      <td>0</td>\n",
       "      <td>0</td>\n",
       "    </tr>\n",
       "    <tr>\n",
       "      <th>1305</th>\n",
       "      <td>1</td>\n",
       "      <td>0</td>\n",
       "      <td>39.0</td>\n",
       "      <td>0</td>\n",
       "      <td>0</td>\n",
       "      <td>108.9000</td>\n",
       "      <td>0</td>\n",
       "      <td>1</td>\n",
       "      <td>0</td>\n",
       "    </tr>\n",
       "    <tr>\n",
       "      <th>1306</th>\n",
       "      <td>3</td>\n",
       "      <td>1</td>\n",
       "      <td>38.5</td>\n",
       "      <td>0</td>\n",
       "      <td>0</td>\n",
       "      <td>7.2500</td>\n",
       "      <td>1</td>\n",
       "      <td>0</td>\n",
       "      <td>0</td>\n",
       "    </tr>\n",
       "    <tr>\n",
       "      <th>1307</th>\n",
       "      <td>3</td>\n",
       "      <td>1</td>\n",
       "      <td>30.0</td>\n",
       "      <td>0</td>\n",
       "      <td>0</td>\n",
       "      <td>8.0500</td>\n",
       "      <td>1</td>\n",
       "      <td>0</td>\n",
       "      <td>0</td>\n",
       "    </tr>\n",
       "    <tr>\n",
       "      <th>1308</th>\n",
       "      <td>3</td>\n",
       "      <td>1</td>\n",
       "      <td>30.0</td>\n",
       "      <td>1</td>\n",
       "      <td>1</td>\n",
       "      <td>22.3583</td>\n",
       "      <td>0</td>\n",
       "      <td>1</td>\n",
       "      <td>0</td>\n",
       "    </tr>\n",
       "  </tbody>\n",
       "</table>\n",
       "<p>1309 rows × 9 columns</p>\n",
       "</div>"
      ],
      "text/plain": [
       "      Pclass  Sex   Age  SibSp  Parch      Fare  Embarked_S  Embarked_C  \\\n",
       "0          3    1  22.0      1      0    7.2500           1           0   \n",
       "1          1    0  38.0      1      0   71.2833           0           1   \n",
       "2          3    0  26.0      0      0    7.9250           1           0   \n",
       "3          1    0  35.0      1      0   53.1000           1           0   \n",
       "4          3    1  35.0      0      0    8.0500           1           0   \n",
       "...      ...  ...   ...    ...    ...       ...         ...         ...   \n",
       "1304       3    1  30.0      0      0    8.0500           1           0   \n",
       "1305       1    0  39.0      0      0  108.9000           0           1   \n",
       "1306       3    1  38.5      0      0    7.2500           1           0   \n",
       "1307       3    1  30.0      0      0    8.0500           1           0   \n",
       "1308       3    1  30.0      1      1   22.3583           0           1   \n",
       "\n",
       "      Embarked_Q  \n",
       "0              0  \n",
       "1              0  \n",
       "2              0  \n",
       "3              0  \n",
       "4              0  \n",
       "...          ...  \n",
       "1304           0  \n",
       "1305           0  \n",
       "1306           0  \n",
       "1307           0  \n",
       "1308           0  \n",
       "\n",
       "[1309 rows x 9 columns]"
      ]
     },
     "execution_count": 71,
     "metadata": {},
     "output_type": "execute_result"
    }
   ],
   "source": [
    "x = data.drop(columns=['Survived'])\n",
    "y = data['Survived']\n",
    "x\n"
   ]
  },
  {
   "cell_type": "code",
   "execution_count": 72,
   "metadata": {},
   "outputs": [],
   "source": [
    "x_train, x_test, y_train, y_test = train_test_split(x, y, test_size=0.3)\n"
   ]
  },
  {
   "cell_type": "code",
   "execution_count": 73,
   "metadata": {},
   "outputs": [],
   "source": [
    "num_col = [0, 1, 2, 3, 4, 5, 6, 7, 8]\n"
   ]
  },
  {
   "cell_type": "code",
   "execution_count": 74,
   "metadata": {},
   "outputs": [
    {
     "data": {
      "text/html": [
       "<style>#sk-cb6149ef-af19-48aa-8de4-93205ad9f948 {color: black;background-color: white;}#sk-cb6149ef-af19-48aa-8de4-93205ad9f948 pre{padding: 0;}#sk-cb6149ef-af19-48aa-8de4-93205ad9f948 div.sk-toggleable {background-color: white;}#sk-cb6149ef-af19-48aa-8de4-93205ad9f948 label.sk-toggleable__label {cursor: pointer;display: block;width: 100%;margin-bottom: 0;padding: 0.3em;box-sizing: border-box;text-align: center;}#sk-cb6149ef-af19-48aa-8de4-93205ad9f948 label.sk-toggleable__label-arrow:before {content: \"▸\";float: left;margin-right: 0.25em;color: #696969;}#sk-cb6149ef-af19-48aa-8de4-93205ad9f948 label.sk-toggleable__label-arrow:hover:before {color: black;}#sk-cb6149ef-af19-48aa-8de4-93205ad9f948 div.sk-estimator:hover label.sk-toggleable__label-arrow:before {color: black;}#sk-cb6149ef-af19-48aa-8de4-93205ad9f948 div.sk-toggleable__content {max-height: 0;max-width: 0;overflow: hidden;text-align: left;background-color: #f0f8ff;}#sk-cb6149ef-af19-48aa-8de4-93205ad9f948 div.sk-toggleable__content pre {margin: 0.2em;color: black;border-radius: 0.25em;background-color: #f0f8ff;}#sk-cb6149ef-af19-48aa-8de4-93205ad9f948 input.sk-toggleable__control:checked~div.sk-toggleable__content {max-height: 200px;max-width: 100%;overflow: auto;}#sk-cb6149ef-af19-48aa-8de4-93205ad9f948 input.sk-toggleable__control:checked~label.sk-toggleable__label-arrow:before {content: \"▾\";}#sk-cb6149ef-af19-48aa-8de4-93205ad9f948 div.sk-estimator input.sk-toggleable__control:checked~label.sk-toggleable__label {background-color: #d4ebff;}#sk-cb6149ef-af19-48aa-8de4-93205ad9f948 div.sk-label input.sk-toggleable__control:checked~label.sk-toggleable__label {background-color: #d4ebff;}#sk-cb6149ef-af19-48aa-8de4-93205ad9f948 input.sk-hidden--visually {border: 0;clip: rect(1px 1px 1px 1px);clip: rect(1px, 1px, 1px, 1px);height: 1px;margin: -1px;overflow: hidden;padding: 0;position: absolute;width: 1px;}#sk-cb6149ef-af19-48aa-8de4-93205ad9f948 div.sk-estimator {font-family: monospace;background-color: #f0f8ff;border: 1px dotted black;border-radius: 0.25em;box-sizing: border-box;margin-bottom: 0.5em;}#sk-cb6149ef-af19-48aa-8de4-93205ad9f948 div.sk-estimator:hover {background-color: #d4ebff;}#sk-cb6149ef-af19-48aa-8de4-93205ad9f948 div.sk-parallel-item::after {content: \"\";width: 100%;border-bottom: 1px solid gray;flex-grow: 1;}#sk-cb6149ef-af19-48aa-8de4-93205ad9f948 div.sk-label:hover label.sk-toggleable__label {background-color: #d4ebff;}#sk-cb6149ef-af19-48aa-8de4-93205ad9f948 div.sk-serial::before {content: \"\";position: absolute;border-left: 1px solid gray;box-sizing: border-box;top: 2em;bottom: 0;left: 50%;}#sk-cb6149ef-af19-48aa-8de4-93205ad9f948 div.sk-serial {display: flex;flex-direction: column;align-items: center;background-color: white;padding-right: 0.2em;padding-left: 0.2em;}#sk-cb6149ef-af19-48aa-8de4-93205ad9f948 div.sk-item {z-index: 1;}#sk-cb6149ef-af19-48aa-8de4-93205ad9f948 div.sk-parallel {display: flex;align-items: stretch;justify-content: center;background-color: white;}#sk-cb6149ef-af19-48aa-8de4-93205ad9f948 div.sk-parallel::before {content: \"\";position: absolute;border-left: 1px solid gray;box-sizing: border-box;top: 2em;bottom: 0;left: 50%;}#sk-cb6149ef-af19-48aa-8de4-93205ad9f948 div.sk-parallel-item {display: flex;flex-direction: column;position: relative;background-color: white;}#sk-cb6149ef-af19-48aa-8de4-93205ad9f948 div.sk-parallel-item:first-child::after {align-self: flex-end;width: 50%;}#sk-cb6149ef-af19-48aa-8de4-93205ad9f948 div.sk-parallel-item:last-child::after {align-self: flex-start;width: 50%;}#sk-cb6149ef-af19-48aa-8de4-93205ad9f948 div.sk-parallel-item:only-child::after {width: 0;}#sk-cb6149ef-af19-48aa-8de4-93205ad9f948 div.sk-dashed-wrapped {border: 1px dashed gray;margin: 0 0.4em 0.5em 0.4em;box-sizing: border-box;padding-bottom: 0.4em;background-color: white;position: relative;}#sk-cb6149ef-af19-48aa-8de4-93205ad9f948 div.sk-label label {font-family: monospace;font-weight: bold;background-color: white;display: inline-block;line-height: 1.2em;}#sk-cb6149ef-af19-48aa-8de4-93205ad9f948 div.sk-label-container {position: relative;z-index: 2;text-align: center;}#sk-cb6149ef-af19-48aa-8de4-93205ad9f948 div.sk-container {/* jupyter's `normalize.less` sets `[hidden] { display: none; }` but bootstrap.min.css set `[hidden] { display: none !important; }` so we also need the `!important` here to be able to override the default hidden behavior on the sphinx rendered scikit-learn.org. See: https://github.com/scikit-learn/scikit-learn/issues/21755 */display: inline-block !important;position: relative;}#sk-cb6149ef-af19-48aa-8de4-93205ad9f948 div.sk-text-repr-fallback {display: none;}</style><div id=\"sk-cb6149ef-af19-48aa-8de4-93205ad9f948\" class=\"sk-top-container\"><div class=\"sk-text-repr-fallback\"><pre>ColumnTransformer(remainder=&#x27;passthrough&#x27;,\n",
       "                  transformers=[(&#x27;standardscaler&#x27;, StandardScaler(),\n",
       "                                 [0, 1, 2, 3, 4, 5, 6, 7, 8])])</pre><b>Please rerun this cell to show the HTML repr or trust the notebook.</b></div><div class=\"sk-container\" hidden><div class=\"sk-item sk-dashed-wrapped\"><div class=\"sk-label-container\"><div class=\"sk-label sk-toggleable\"><input class=\"sk-toggleable__control sk-hidden--visually\" id=\"9d2bc5b1-5876-4bdb-9534-2ea9f892ace6\" type=\"checkbox\" ><label for=\"9d2bc5b1-5876-4bdb-9534-2ea9f892ace6\" class=\"sk-toggleable__label sk-toggleable__label-arrow\">ColumnTransformer</label><div class=\"sk-toggleable__content\"><pre>ColumnTransformer(remainder=&#x27;passthrough&#x27;,\n",
       "                  transformers=[(&#x27;standardscaler&#x27;, StandardScaler(),\n",
       "                                 [0, 1, 2, 3, 4, 5, 6, 7, 8])])</pre></div></div></div><div class=\"sk-parallel\"><div class=\"sk-parallel-item\"><div class=\"sk-item\"><div class=\"sk-label-container\"><div class=\"sk-label sk-toggleable\"><input class=\"sk-toggleable__control sk-hidden--visually\" id=\"6b69f247-4929-4812-970b-c48759105487\" type=\"checkbox\" ><label for=\"6b69f247-4929-4812-970b-c48759105487\" class=\"sk-toggleable__label sk-toggleable__label-arrow\">standardscaler</label><div class=\"sk-toggleable__content\"><pre>[0, 1, 2, 3, 4, 5, 6, 7, 8]</pre></div></div></div><div class=\"sk-serial\"><div class=\"sk-item\"><div class=\"sk-estimator sk-toggleable\"><input class=\"sk-toggleable__control sk-hidden--visually\" id=\"6a0429d1-1b09-4fa7-8c98-a8cf8b329d23\" type=\"checkbox\" ><label for=\"6a0429d1-1b09-4fa7-8c98-a8cf8b329d23\" class=\"sk-toggleable__label sk-toggleable__label-arrow\">StandardScaler</label><div class=\"sk-toggleable__content\"><pre>StandardScaler()</pre></div></div></div></div></div></div><div class=\"sk-parallel-item\"><div class=\"sk-item\"><div class=\"sk-label-container\"><div class=\"sk-label sk-toggleable\"><input class=\"sk-toggleable__control sk-hidden--visually\" id=\"d3689729-1a31-40a9-bc0b-0bbbf3988c76\" type=\"checkbox\" ><label for=\"d3689729-1a31-40a9-bc0b-0bbbf3988c76\" class=\"sk-toggleable__label sk-toggleable__label-arrow\">remainder</label><div class=\"sk-toggleable__content\"><pre></pre></div></div></div><div class=\"sk-serial\"><div class=\"sk-item\"><div class=\"sk-estimator sk-toggleable\"><input class=\"sk-toggleable__control sk-hidden--visually\" id=\"b06c2c0b-3930-418c-8ce7-28d1da29f577\" type=\"checkbox\" ><label for=\"b06c2c0b-3930-418c-8ce7-28d1da29f577\" class=\"sk-toggleable__label sk-toggleable__label-arrow\">passthrough</label><div class=\"sk-toggleable__content\"><pre>passthrough</pre></div></div></div></div></div></div></div></div></div></div>"
      ],
      "text/plain": [
       "ColumnTransformer(remainder='passthrough',\n",
       "                  transformers=[('standardscaler', StandardScaler(),\n",
       "                                 [0, 1, 2, 3, 4, 5, 6, 7, 8])])"
      ]
     },
     "execution_count": 74,
     "metadata": {},
     "output_type": "execute_result"
    }
   ],
   "source": [
    "trans = make_column_transformer((StandardScaler(), num_col),\n",
    "                                remainder='passthrough')\n",
    "set_config(display='diagram')\n",
    "trans\n"
   ]
  },
  {
   "cell_type": "code",
   "execution_count": 75,
   "metadata": {},
   "outputs": [
    {
     "data": {
      "text/html": [
       "<style>#sk-2fb49286-f677-4f5c-8ee3-491d5608acda {color: black;background-color: white;}#sk-2fb49286-f677-4f5c-8ee3-491d5608acda pre{padding: 0;}#sk-2fb49286-f677-4f5c-8ee3-491d5608acda div.sk-toggleable {background-color: white;}#sk-2fb49286-f677-4f5c-8ee3-491d5608acda label.sk-toggleable__label {cursor: pointer;display: block;width: 100%;margin-bottom: 0;padding: 0.3em;box-sizing: border-box;text-align: center;}#sk-2fb49286-f677-4f5c-8ee3-491d5608acda label.sk-toggleable__label-arrow:before {content: \"▸\";float: left;margin-right: 0.25em;color: #696969;}#sk-2fb49286-f677-4f5c-8ee3-491d5608acda label.sk-toggleable__label-arrow:hover:before {color: black;}#sk-2fb49286-f677-4f5c-8ee3-491d5608acda div.sk-estimator:hover label.sk-toggleable__label-arrow:before {color: black;}#sk-2fb49286-f677-4f5c-8ee3-491d5608acda div.sk-toggleable__content {max-height: 0;max-width: 0;overflow: hidden;text-align: left;background-color: #f0f8ff;}#sk-2fb49286-f677-4f5c-8ee3-491d5608acda div.sk-toggleable__content pre {margin: 0.2em;color: black;border-radius: 0.25em;background-color: #f0f8ff;}#sk-2fb49286-f677-4f5c-8ee3-491d5608acda input.sk-toggleable__control:checked~div.sk-toggleable__content {max-height: 200px;max-width: 100%;overflow: auto;}#sk-2fb49286-f677-4f5c-8ee3-491d5608acda input.sk-toggleable__control:checked~label.sk-toggleable__label-arrow:before {content: \"▾\";}#sk-2fb49286-f677-4f5c-8ee3-491d5608acda div.sk-estimator input.sk-toggleable__control:checked~label.sk-toggleable__label {background-color: #d4ebff;}#sk-2fb49286-f677-4f5c-8ee3-491d5608acda div.sk-label input.sk-toggleable__control:checked~label.sk-toggleable__label {background-color: #d4ebff;}#sk-2fb49286-f677-4f5c-8ee3-491d5608acda input.sk-hidden--visually {border: 0;clip: rect(1px 1px 1px 1px);clip: rect(1px, 1px, 1px, 1px);height: 1px;margin: -1px;overflow: hidden;padding: 0;position: absolute;width: 1px;}#sk-2fb49286-f677-4f5c-8ee3-491d5608acda div.sk-estimator {font-family: monospace;background-color: #f0f8ff;border: 1px dotted black;border-radius: 0.25em;box-sizing: border-box;margin-bottom: 0.5em;}#sk-2fb49286-f677-4f5c-8ee3-491d5608acda div.sk-estimator:hover {background-color: #d4ebff;}#sk-2fb49286-f677-4f5c-8ee3-491d5608acda div.sk-parallel-item::after {content: \"\";width: 100%;border-bottom: 1px solid gray;flex-grow: 1;}#sk-2fb49286-f677-4f5c-8ee3-491d5608acda div.sk-label:hover label.sk-toggleable__label {background-color: #d4ebff;}#sk-2fb49286-f677-4f5c-8ee3-491d5608acda div.sk-serial::before {content: \"\";position: absolute;border-left: 1px solid gray;box-sizing: border-box;top: 2em;bottom: 0;left: 50%;}#sk-2fb49286-f677-4f5c-8ee3-491d5608acda div.sk-serial {display: flex;flex-direction: column;align-items: center;background-color: white;padding-right: 0.2em;padding-left: 0.2em;}#sk-2fb49286-f677-4f5c-8ee3-491d5608acda div.sk-item {z-index: 1;}#sk-2fb49286-f677-4f5c-8ee3-491d5608acda div.sk-parallel {display: flex;align-items: stretch;justify-content: center;background-color: white;}#sk-2fb49286-f677-4f5c-8ee3-491d5608acda div.sk-parallel::before {content: \"\";position: absolute;border-left: 1px solid gray;box-sizing: border-box;top: 2em;bottom: 0;left: 50%;}#sk-2fb49286-f677-4f5c-8ee3-491d5608acda div.sk-parallel-item {display: flex;flex-direction: column;position: relative;background-color: white;}#sk-2fb49286-f677-4f5c-8ee3-491d5608acda div.sk-parallel-item:first-child::after {align-self: flex-end;width: 50%;}#sk-2fb49286-f677-4f5c-8ee3-491d5608acda div.sk-parallel-item:last-child::after {align-self: flex-start;width: 50%;}#sk-2fb49286-f677-4f5c-8ee3-491d5608acda div.sk-parallel-item:only-child::after {width: 0;}#sk-2fb49286-f677-4f5c-8ee3-491d5608acda div.sk-dashed-wrapped {border: 1px dashed gray;margin: 0 0.4em 0.5em 0.4em;box-sizing: border-box;padding-bottom: 0.4em;background-color: white;position: relative;}#sk-2fb49286-f677-4f5c-8ee3-491d5608acda div.sk-label label {font-family: monospace;font-weight: bold;background-color: white;display: inline-block;line-height: 1.2em;}#sk-2fb49286-f677-4f5c-8ee3-491d5608acda div.sk-label-container {position: relative;z-index: 2;text-align: center;}#sk-2fb49286-f677-4f5c-8ee3-491d5608acda div.sk-container {/* jupyter's `normalize.less` sets `[hidden] { display: none; }` but bootstrap.min.css set `[hidden] { display: none !important; }` so we also need the `!important` here to be able to override the default hidden behavior on the sphinx rendered scikit-learn.org. See: https://github.com/scikit-learn/scikit-learn/issues/21755 */display: inline-block !important;position: relative;}#sk-2fb49286-f677-4f5c-8ee3-491d5608acda div.sk-text-repr-fallback {display: none;}</style><div id=\"sk-2fb49286-f677-4f5c-8ee3-491d5608acda\" class=\"sk-top-container\"><div class=\"sk-text-repr-fallback\"><pre>Pipeline(steps=[(&#x27;columntransformer&#x27;,\n",
       "                 ColumnTransformer(remainder=&#x27;passthrough&#x27;,\n",
       "                                   transformers=[(&#x27;standardscaler&#x27;,\n",
       "                                                  StandardScaler(),\n",
       "                                                  [0, 1, 2, 3, 4, 5, 6, 7,\n",
       "                                                   8])])),\n",
       "                (&#x27;kneighborsclassifier&#x27;, KNeighborsClassifier(n_neighbors=11))])</pre><b>Please rerun this cell to show the HTML repr or trust the notebook.</b></div><div class=\"sk-container\" hidden><div class=\"sk-item sk-dashed-wrapped\"><div class=\"sk-label-container\"><div class=\"sk-label sk-toggleable\"><input class=\"sk-toggleable__control sk-hidden--visually\" id=\"3a9cb7f4-24f1-44dd-9cfd-32f44e4d36c7\" type=\"checkbox\" ><label for=\"3a9cb7f4-24f1-44dd-9cfd-32f44e4d36c7\" class=\"sk-toggleable__label sk-toggleable__label-arrow\">Pipeline</label><div class=\"sk-toggleable__content\"><pre>Pipeline(steps=[(&#x27;columntransformer&#x27;,\n",
       "                 ColumnTransformer(remainder=&#x27;passthrough&#x27;,\n",
       "                                   transformers=[(&#x27;standardscaler&#x27;,\n",
       "                                                  StandardScaler(),\n",
       "                                                  [0, 1, 2, 3, 4, 5, 6, 7,\n",
       "                                                   8])])),\n",
       "                (&#x27;kneighborsclassifier&#x27;, KNeighborsClassifier(n_neighbors=11))])</pre></div></div></div><div class=\"sk-serial\"><div class=\"sk-item sk-dashed-wrapped\"><div class=\"sk-label-container\"><div class=\"sk-label sk-toggleable\"><input class=\"sk-toggleable__control sk-hidden--visually\" id=\"f629cfce-a8f7-46ac-a53c-5ff1161e4f31\" type=\"checkbox\" ><label for=\"f629cfce-a8f7-46ac-a53c-5ff1161e4f31\" class=\"sk-toggleable__label sk-toggleable__label-arrow\">columntransformer: ColumnTransformer</label><div class=\"sk-toggleable__content\"><pre>ColumnTransformer(remainder=&#x27;passthrough&#x27;,\n",
       "                  transformers=[(&#x27;standardscaler&#x27;, StandardScaler(),\n",
       "                                 [0, 1, 2, 3, 4, 5, 6, 7, 8])])</pre></div></div></div><div class=\"sk-parallel\"><div class=\"sk-parallel-item\"><div class=\"sk-item\"><div class=\"sk-label-container\"><div class=\"sk-label sk-toggleable\"><input class=\"sk-toggleable__control sk-hidden--visually\" id=\"8a1e49ed-5d70-415a-abae-8165d7dbc961\" type=\"checkbox\" ><label for=\"8a1e49ed-5d70-415a-abae-8165d7dbc961\" class=\"sk-toggleable__label sk-toggleable__label-arrow\">standardscaler</label><div class=\"sk-toggleable__content\"><pre>[0, 1, 2, 3, 4, 5, 6, 7, 8]</pre></div></div></div><div class=\"sk-serial\"><div class=\"sk-item\"><div class=\"sk-estimator sk-toggleable\"><input class=\"sk-toggleable__control sk-hidden--visually\" id=\"da40ceda-6fc6-4e9f-928b-8054f9f8ef15\" type=\"checkbox\" ><label for=\"da40ceda-6fc6-4e9f-928b-8054f9f8ef15\" class=\"sk-toggleable__label sk-toggleable__label-arrow\">StandardScaler</label><div class=\"sk-toggleable__content\"><pre>StandardScaler()</pre></div></div></div></div></div></div><div class=\"sk-parallel-item\"><div class=\"sk-item\"><div class=\"sk-label-container\"><div class=\"sk-label sk-toggleable\"><input class=\"sk-toggleable__control sk-hidden--visually\" id=\"add32ca1-a669-40f2-9275-71f710c4b4c9\" type=\"checkbox\" ><label for=\"add32ca1-a669-40f2-9275-71f710c4b4c9\" class=\"sk-toggleable__label sk-toggleable__label-arrow\">remainder</label><div class=\"sk-toggleable__content\"><pre></pre></div></div></div><div class=\"sk-serial\"><div class=\"sk-item\"><div class=\"sk-estimator sk-toggleable\"><input class=\"sk-toggleable__control sk-hidden--visually\" id=\"3f1a463b-b920-4195-a51b-f8dffb04b9ad\" type=\"checkbox\" ><label for=\"3f1a463b-b920-4195-a51b-f8dffb04b9ad\" class=\"sk-toggleable__label sk-toggleable__label-arrow\">passthrough</label><div class=\"sk-toggleable__content\"><pre>passthrough</pre></div></div></div></div></div></div></div></div><div class=\"sk-item\"><div class=\"sk-estimator sk-toggleable\"><input class=\"sk-toggleable__control sk-hidden--visually\" id=\"99455251-7176-45d4-b820-41639f1fd2fc\" type=\"checkbox\" ><label for=\"99455251-7176-45d4-b820-41639f1fd2fc\" class=\"sk-toggleable__label sk-toggleable__label-arrow\">KNeighborsClassifier</label><div class=\"sk-toggleable__content\"><pre>KNeighborsClassifier(n_neighbors=11)</pre></div></div></div></div></div></div></div>"
      ],
      "text/plain": [
       "Pipeline(steps=[('columntransformer',\n",
       "                 ColumnTransformer(remainder='passthrough',\n",
       "                                   transformers=[('standardscaler',\n",
       "                                                  StandardScaler(),\n",
       "                                                  [0, 1, 2, 3, 4, 5, 6, 7,\n",
       "                                                   8])])),\n",
       "                ('kneighborsclassifier', KNeighborsClassifier(n_neighbors=11))])"
      ]
     },
     "execution_count": 75,
     "metadata": {},
     "output_type": "execute_result"
    }
   ],
   "source": [
    "model = KNeighborsClassifier(11)\n",
    "pipe = make_pipeline(trans, model)\n",
    "pipe\n"
   ]
  },
  {
   "cell_type": "code",
   "execution_count": 76,
   "metadata": {},
   "outputs": [
    {
     "data": {
      "text/html": [
       "<style>#sk-6df58727-82c7-4ca3-bb69-1a65c4179b67 {color: black;background-color: white;}#sk-6df58727-82c7-4ca3-bb69-1a65c4179b67 pre{padding: 0;}#sk-6df58727-82c7-4ca3-bb69-1a65c4179b67 div.sk-toggleable {background-color: white;}#sk-6df58727-82c7-4ca3-bb69-1a65c4179b67 label.sk-toggleable__label {cursor: pointer;display: block;width: 100%;margin-bottom: 0;padding: 0.3em;box-sizing: border-box;text-align: center;}#sk-6df58727-82c7-4ca3-bb69-1a65c4179b67 label.sk-toggleable__label-arrow:before {content: \"▸\";float: left;margin-right: 0.25em;color: #696969;}#sk-6df58727-82c7-4ca3-bb69-1a65c4179b67 label.sk-toggleable__label-arrow:hover:before {color: black;}#sk-6df58727-82c7-4ca3-bb69-1a65c4179b67 div.sk-estimator:hover label.sk-toggleable__label-arrow:before {color: black;}#sk-6df58727-82c7-4ca3-bb69-1a65c4179b67 div.sk-toggleable__content {max-height: 0;max-width: 0;overflow: hidden;text-align: left;background-color: #f0f8ff;}#sk-6df58727-82c7-4ca3-bb69-1a65c4179b67 div.sk-toggleable__content pre {margin: 0.2em;color: black;border-radius: 0.25em;background-color: #f0f8ff;}#sk-6df58727-82c7-4ca3-bb69-1a65c4179b67 input.sk-toggleable__control:checked~div.sk-toggleable__content {max-height: 200px;max-width: 100%;overflow: auto;}#sk-6df58727-82c7-4ca3-bb69-1a65c4179b67 input.sk-toggleable__control:checked~label.sk-toggleable__label-arrow:before {content: \"▾\";}#sk-6df58727-82c7-4ca3-bb69-1a65c4179b67 div.sk-estimator input.sk-toggleable__control:checked~label.sk-toggleable__label {background-color: #d4ebff;}#sk-6df58727-82c7-4ca3-bb69-1a65c4179b67 div.sk-label input.sk-toggleable__control:checked~label.sk-toggleable__label {background-color: #d4ebff;}#sk-6df58727-82c7-4ca3-bb69-1a65c4179b67 input.sk-hidden--visually {border: 0;clip: rect(1px 1px 1px 1px);clip: rect(1px, 1px, 1px, 1px);height: 1px;margin: -1px;overflow: hidden;padding: 0;position: absolute;width: 1px;}#sk-6df58727-82c7-4ca3-bb69-1a65c4179b67 div.sk-estimator {font-family: monospace;background-color: #f0f8ff;border: 1px dotted black;border-radius: 0.25em;box-sizing: border-box;margin-bottom: 0.5em;}#sk-6df58727-82c7-4ca3-bb69-1a65c4179b67 div.sk-estimator:hover {background-color: #d4ebff;}#sk-6df58727-82c7-4ca3-bb69-1a65c4179b67 div.sk-parallel-item::after {content: \"\";width: 100%;border-bottom: 1px solid gray;flex-grow: 1;}#sk-6df58727-82c7-4ca3-bb69-1a65c4179b67 div.sk-label:hover label.sk-toggleable__label {background-color: #d4ebff;}#sk-6df58727-82c7-4ca3-bb69-1a65c4179b67 div.sk-serial::before {content: \"\";position: absolute;border-left: 1px solid gray;box-sizing: border-box;top: 2em;bottom: 0;left: 50%;}#sk-6df58727-82c7-4ca3-bb69-1a65c4179b67 div.sk-serial {display: flex;flex-direction: column;align-items: center;background-color: white;padding-right: 0.2em;padding-left: 0.2em;}#sk-6df58727-82c7-4ca3-bb69-1a65c4179b67 div.sk-item {z-index: 1;}#sk-6df58727-82c7-4ca3-bb69-1a65c4179b67 div.sk-parallel {display: flex;align-items: stretch;justify-content: center;background-color: white;}#sk-6df58727-82c7-4ca3-bb69-1a65c4179b67 div.sk-parallel::before {content: \"\";position: absolute;border-left: 1px solid gray;box-sizing: border-box;top: 2em;bottom: 0;left: 50%;}#sk-6df58727-82c7-4ca3-bb69-1a65c4179b67 div.sk-parallel-item {display: flex;flex-direction: column;position: relative;background-color: white;}#sk-6df58727-82c7-4ca3-bb69-1a65c4179b67 div.sk-parallel-item:first-child::after {align-self: flex-end;width: 50%;}#sk-6df58727-82c7-4ca3-bb69-1a65c4179b67 div.sk-parallel-item:last-child::after {align-self: flex-start;width: 50%;}#sk-6df58727-82c7-4ca3-bb69-1a65c4179b67 div.sk-parallel-item:only-child::after {width: 0;}#sk-6df58727-82c7-4ca3-bb69-1a65c4179b67 div.sk-dashed-wrapped {border: 1px dashed gray;margin: 0 0.4em 0.5em 0.4em;box-sizing: border-box;padding-bottom: 0.4em;background-color: white;position: relative;}#sk-6df58727-82c7-4ca3-bb69-1a65c4179b67 div.sk-label label {font-family: monospace;font-weight: bold;background-color: white;display: inline-block;line-height: 1.2em;}#sk-6df58727-82c7-4ca3-bb69-1a65c4179b67 div.sk-label-container {position: relative;z-index: 2;text-align: center;}#sk-6df58727-82c7-4ca3-bb69-1a65c4179b67 div.sk-container {/* jupyter's `normalize.less` sets `[hidden] { display: none; }` but bootstrap.min.css set `[hidden] { display: none !important; }` so we also need the `!important` here to be able to override the default hidden behavior on the sphinx rendered scikit-learn.org. See: https://github.com/scikit-learn/scikit-learn/issues/21755 */display: inline-block !important;position: relative;}#sk-6df58727-82c7-4ca3-bb69-1a65c4179b67 div.sk-text-repr-fallback {display: none;}</style><div id=\"sk-6df58727-82c7-4ca3-bb69-1a65c4179b67\" class=\"sk-top-container\"><div class=\"sk-text-repr-fallback\"><pre>KNeighborsClassifier(n_neighbors=11)</pre><b>Please rerun this cell to show the HTML repr or trust the notebook.</b></div><div class=\"sk-container\" hidden><div class=\"sk-item\"><div class=\"sk-estimator sk-toggleable\"><input class=\"sk-toggleable__control sk-hidden--visually\" id=\"d667da49-4c85-4e08-b664-f601182eab3d\" type=\"checkbox\" checked><label for=\"d667da49-4c85-4e08-b664-f601182eab3d\" class=\"sk-toggleable__label sk-toggleable__label-arrow\">KNeighborsClassifier</label><div class=\"sk-toggleable__content\"><pre>KNeighborsClassifier(n_neighbors=11)</pre></div></div></div></div></div>"
      ],
      "text/plain": [
       "KNeighborsClassifier(n_neighbors=11)"
      ]
     },
     "execution_count": 76,
     "metadata": {},
     "output_type": "execute_result"
    }
   ],
   "source": [
    "model\n"
   ]
  },
  {
   "cell_type": "code",
   "execution_count": 77,
   "metadata": {},
   "outputs": [
    {
     "data": {
      "text/html": [
       "<style>#sk-fce907ea-c172-47e0-963c-fca9243e682b {color: black;background-color: white;}#sk-fce907ea-c172-47e0-963c-fca9243e682b pre{padding: 0;}#sk-fce907ea-c172-47e0-963c-fca9243e682b div.sk-toggleable {background-color: white;}#sk-fce907ea-c172-47e0-963c-fca9243e682b label.sk-toggleable__label {cursor: pointer;display: block;width: 100%;margin-bottom: 0;padding: 0.3em;box-sizing: border-box;text-align: center;}#sk-fce907ea-c172-47e0-963c-fca9243e682b label.sk-toggleable__label-arrow:before {content: \"▸\";float: left;margin-right: 0.25em;color: #696969;}#sk-fce907ea-c172-47e0-963c-fca9243e682b label.sk-toggleable__label-arrow:hover:before {color: black;}#sk-fce907ea-c172-47e0-963c-fca9243e682b div.sk-estimator:hover label.sk-toggleable__label-arrow:before {color: black;}#sk-fce907ea-c172-47e0-963c-fca9243e682b div.sk-toggleable__content {max-height: 0;max-width: 0;overflow: hidden;text-align: left;background-color: #f0f8ff;}#sk-fce907ea-c172-47e0-963c-fca9243e682b div.sk-toggleable__content pre {margin: 0.2em;color: black;border-radius: 0.25em;background-color: #f0f8ff;}#sk-fce907ea-c172-47e0-963c-fca9243e682b input.sk-toggleable__control:checked~div.sk-toggleable__content {max-height: 200px;max-width: 100%;overflow: auto;}#sk-fce907ea-c172-47e0-963c-fca9243e682b input.sk-toggleable__control:checked~label.sk-toggleable__label-arrow:before {content: \"▾\";}#sk-fce907ea-c172-47e0-963c-fca9243e682b div.sk-estimator input.sk-toggleable__control:checked~label.sk-toggleable__label {background-color: #d4ebff;}#sk-fce907ea-c172-47e0-963c-fca9243e682b div.sk-label input.sk-toggleable__control:checked~label.sk-toggleable__label {background-color: #d4ebff;}#sk-fce907ea-c172-47e0-963c-fca9243e682b input.sk-hidden--visually {border: 0;clip: rect(1px 1px 1px 1px);clip: rect(1px, 1px, 1px, 1px);height: 1px;margin: -1px;overflow: hidden;padding: 0;position: absolute;width: 1px;}#sk-fce907ea-c172-47e0-963c-fca9243e682b div.sk-estimator {font-family: monospace;background-color: #f0f8ff;border: 1px dotted black;border-radius: 0.25em;box-sizing: border-box;margin-bottom: 0.5em;}#sk-fce907ea-c172-47e0-963c-fca9243e682b div.sk-estimator:hover {background-color: #d4ebff;}#sk-fce907ea-c172-47e0-963c-fca9243e682b div.sk-parallel-item::after {content: \"\";width: 100%;border-bottom: 1px solid gray;flex-grow: 1;}#sk-fce907ea-c172-47e0-963c-fca9243e682b div.sk-label:hover label.sk-toggleable__label {background-color: #d4ebff;}#sk-fce907ea-c172-47e0-963c-fca9243e682b div.sk-serial::before {content: \"\";position: absolute;border-left: 1px solid gray;box-sizing: border-box;top: 2em;bottom: 0;left: 50%;}#sk-fce907ea-c172-47e0-963c-fca9243e682b div.sk-serial {display: flex;flex-direction: column;align-items: center;background-color: white;padding-right: 0.2em;padding-left: 0.2em;}#sk-fce907ea-c172-47e0-963c-fca9243e682b div.sk-item {z-index: 1;}#sk-fce907ea-c172-47e0-963c-fca9243e682b div.sk-parallel {display: flex;align-items: stretch;justify-content: center;background-color: white;}#sk-fce907ea-c172-47e0-963c-fca9243e682b div.sk-parallel::before {content: \"\";position: absolute;border-left: 1px solid gray;box-sizing: border-box;top: 2em;bottom: 0;left: 50%;}#sk-fce907ea-c172-47e0-963c-fca9243e682b div.sk-parallel-item {display: flex;flex-direction: column;position: relative;background-color: white;}#sk-fce907ea-c172-47e0-963c-fca9243e682b div.sk-parallel-item:first-child::after {align-self: flex-end;width: 50%;}#sk-fce907ea-c172-47e0-963c-fca9243e682b div.sk-parallel-item:last-child::after {align-self: flex-start;width: 50%;}#sk-fce907ea-c172-47e0-963c-fca9243e682b div.sk-parallel-item:only-child::after {width: 0;}#sk-fce907ea-c172-47e0-963c-fca9243e682b div.sk-dashed-wrapped {border: 1px dashed gray;margin: 0 0.4em 0.5em 0.4em;box-sizing: border-box;padding-bottom: 0.4em;background-color: white;position: relative;}#sk-fce907ea-c172-47e0-963c-fca9243e682b div.sk-label label {font-family: monospace;font-weight: bold;background-color: white;display: inline-block;line-height: 1.2em;}#sk-fce907ea-c172-47e0-963c-fca9243e682b div.sk-label-container {position: relative;z-index: 2;text-align: center;}#sk-fce907ea-c172-47e0-963c-fca9243e682b div.sk-container {/* jupyter's `normalize.less` sets `[hidden] { display: none; }` but bootstrap.min.css set `[hidden] { display: none !important; }` so we also need the `!important` here to be able to override the default hidden behavior on the sphinx rendered scikit-learn.org. See: https://github.com/scikit-learn/scikit-learn/issues/21755 */display: inline-block !important;position: relative;}#sk-fce907ea-c172-47e0-963c-fca9243e682b div.sk-text-repr-fallback {display: none;}</style><div id=\"sk-fce907ea-c172-47e0-963c-fca9243e682b\" class=\"sk-top-container\"><div class=\"sk-text-repr-fallback\"><pre>Pipeline(steps=[(&#x27;columntransformer&#x27;,\n",
       "                 ColumnTransformer(remainder=&#x27;passthrough&#x27;,\n",
       "                                   transformers=[(&#x27;standardscaler&#x27;,\n",
       "                                                  StandardScaler(),\n",
       "                                                  [0, 1, 2, 3, 4, 5, 6, 7,\n",
       "                                                   8])])),\n",
       "                (&#x27;kneighborsclassifier&#x27;, KNeighborsClassifier(n_neighbors=11))])</pre><b>Please rerun this cell to show the HTML repr or trust the notebook.</b></div><div class=\"sk-container\" hidden><div class=\"sk-item sk-dashed-wrapped\"><div class=\"sk-label-container\"><div class=\"sk-label sk-toggleable\"><input class=\"sk-toggleable__control sk-hidden--visually\" id=\"b219af92-11b5-4266-b9ba-b124430309ca\" type=\"checkbox\" ><label for=\"b219af92-11b5-4266-b9ba-b124430309ca\" class=\"sk-toggleable__label sk-toggleable__label-arrow\">Pipeline</label><div class=\"sk-toggleable__content\"><pre>Pipeline(steps=[(&#x27;columntransformer&#x27;,\n",
       "                 ColumnTransformer(remainder=&#x27;passthrough&#x27;,\n",
       "                                   transformers=[(&#x27;standardscaler&#x27;,\n",
       "                                                  StandardScaler(),\n",
       "                                                  [0, 1, 2, 3, 4, 5, 6, 7,\n",
       "                                                   8])])),\n",
       "                (&#x27;kneighborsclassifier&#x27;, KNeighborsClassifier(n_neighbors=11))])</pre></div></div></div><div class=\"sk-serial\"><div class=\"sk-item sk-dashed-wrapped\"><div class=\"sk-label-container\"><div class=\"sk-label sk-toggleable\"><input class=\"sk-toggleable__control sk-hidden--visually\" id=\"7537a388-85ca-4ff5-8301-1c5fad18377f\" type=\"checkbox\" ><label for=\"7537a388-85ca-4ff5-8301-1c5fad18377f\" class=\"sk-toggleable__label sk-toggleable__label-arrow\">columntransformer: ColumnTransformer</label><div class=\"sk-toggleable__content\"><pre>ColumnTransformer(remainder=&#x27;passthrough&#x27;,\n",
       "                  transformers=[(&#x27;standardscaler&#x27;, StandardScaler(),\n",
       "                                 [0, 1, 2, 3, 4, 5, 6, 7, 8])])</pre></div></div></div><div class=\"sk-parallel\"><div class=\"sk-parallel-item\"><div class=\"sk-item\"><div class=\"sk-label-container\"><div class=\"sk-label sk-toggleable\"><input class=\"sk-toggleable__control sk-hidden--visually\" id=\"431c9654-4b99-4d08-aae7-23a853894db7\" type=\"checkbox\" ><label for=\"431c9654-4b99-4d08-aae7-23a853894db7\" class=\"sk-toggleable__label sk-toggleable__label-arrow\">standardscaler</label><div class=\"sk-toggleable__content\"><pre>[0, 1, 2, 3, 4, 5, 6, 7, 8]</pre></div></div></div><div class=\"sk-serial\"><div class=\"sk-item\"><div class=\"sk-estimator sk-toggleable\"><input class=\"sk-toggleable__control sk-hidden--visually\" id=\"19527f63-aa08-45ea-a86d-f1ffbfddc819\" type=\"checkbox\" ><label for=\"19527f63-aa08-45ea-a86d-f1ffbfddc819\" class=\"sk-toggleable__label sk-toggleable__label-arrow\">StandardScaler</label><div class=\"sk-toggleable__content\"><pre>StandardScaler()</pre></div></div></div></div></div></div><div class=\"sk-parallel-item\"><div class=\"sk-item\"><div class=\"sk-label-container\"><div class=\"sk-label sk-toggleable\"><input class=\"sk-toggleable__control sk-hidden--visually\" id=\"1df31b4c-ea3e-47e7-b5fd-a3cf15cfb5f1\" type=\"checkbox\" ><label for=\"1df31b4c-ea3e-47e7-b5fd-a3cf15cfb5f1\" class=\"sk-toggleable__label sk-toggleable__label-arrow\">remainder</label><div class=\"sk-toggleable__content\"><pre></pre></div></div></div><div class=\"sk-serial\"><div class=\"sk-item\"><div class=\"sk-estimator sk-toggleable\"><input class=\"sk-toggleable__control sk-hidden--visually\" id=\"33187aa6-68de-42f2-8b99-faf6cdfbfe1c\" type=\"checkbox\" ><label for=\"33187aa6-68de-42f2-8b99-faf6cdfbfe1c\" class=\"sk-toggleable__label sk-toggleable__label-arrow\">passthrough</label><div class=\"sk-toggleable__content\"><pre>passthrough</pre></div></div></div></div></div></div></div></div><div class=\"sk-item\"><div class=\"sk-estimator sk-toggleable\"><input class=\"sk-toggleable__control sk-hidden--visually\" id=\"3d84db6f-6c51-41ea-a8d2-267ec001e79b\" type=\"checkbox\" ><label for=\"3d84db6f-6c51-41ea-a8d2-267ec001e79b\" class=\"sk-toggleable__label sk-toggleable__label-arrow\">KNeighborsClassifier</label><div class=\"sk-toggleable__content\"><pre>KNeighborsClassifier(n_neighbors=11)</pre></div></div></div></div></div></div></div>"
      ],
      "text/plain": [
       "Pipeline(steps=[('columntransformer',\n",
       "                 ColumnTransformer(remainder='passthrough',\n",
       "                                   transformers=[('standardscaler',\n",
       "                                                  StandardScaler(),\n",
       "                                                  [0, 1, 2, 3, 4, 5, 6, 7,\n",
       "                                                   8])])),\n",
       "                ('kneighborsclassifier', KNeighborsClassifier(n_neighbors=11))])"
      ]
     },
     "execution_count": 77,
     "metadata": {},
     "output_type": "execute_result"
    }
   ],
   "source": [
    "pipe\n"
   ]
  },
  {
   "cell_type": "code",
   "execution_count": 78,
   "metadata": {},
   "outputs": [
    {
     "data": {
      "text/html": [
       "<style>#sk-ca415eef-8813-41c2-888b-b07c3e5b8d07 {color: black;background-color: white;}#sk-ca415eef-8813-41c2-888b-b07c3e5b8d07 pre{padding: 0;}#sk-ca415eef-8813-41c2-888b-b07c3e5b8d07 div.sk-toggleable {background-color: white;}#sk-ca415eef-8813-41c2-888b-b07c3e5b8d07 label.sk-toggleable__label {cursor: pointer;display: block;width: 100%;margin-bottom: 0;padding: 0.3em;box-sizing: border-box;text-align: center;}#sk-ca415eef-8813-41c2-888b-b07c3e5b8d07 label.sk-toggleable__label-arrow:before {content: \"▸\";float: left;margin-right: 0.25em;color: #696969;}#sk-ca415eef-8813-41c2-888b-b07c3e5b8d07 label.sk-toggleable__label-arrow:hover:before {color: black;}#sk-ca415eef-8813-41c2-888b-b07c3e5b8d07 div.sk-estimator:hover label.sk-toggleable__label-arrow:before {color: black;}#sk-ca415eef-8813-41c2-888b-b07c3e5b8d07 div.sk-toggleable__content {max-height: 0;max-width: 0;overflow: hidden;text-align: left;background-color: #f0f8ff;}#sk-ca415eef-8813-41c2-888b-b07c3e5b8d07 div.sk-toggleable__content pre {margin: 0.2em;color: black;border-radius: 0.25em;background-color: #f0f8ff;}#sk-ca415eef-8813-41c2-888b-b07c3e5b8d07 input.sk-toggleable__control:checked~div.sk-toggleable__content {max-height: 200px;max-width: 100%;overflow: auto;}#sk-ca415eef-8813-41c2-888b-b07c3e5b8d07 input.sk-toggleable__control:checked~label.sk-toggleable__label-arrow:before {content: \"▾\";}#sk-ca415eef-8813-41c2-888b-b07c3e5b8d07 div.sk-estimator input.sk-toggleable__control:checked~label.sk-toggleable__label {background-color: #d4ebff;}#sk-ca415eef-8813-41c2-888b-b07c3e5b8d07 div.sk-label input.sk-toggleable__control:checked~label.sk-toggleable__label {background-color: #d4ebff;}#sk-ca415eef-8813-41c2-888b-b07c3e5b8d07 input.sk-hidden--visually {border: 0;clip: rect(1px 1px 1px 1px);clip: rect(1px, 1px, 1px, 1px);height: 1px;margin: -1px;overflow: hidden;padding: 0;position: absolute;width: 1px;}#sk-ca415eef-8813-41c2-888b-b07c3e5b8d07 div.sk-estimator {font-family: monospace;background-color: #f0f8ff;border: 1px dotted black;border-radius: 0.25em;box-sizing: border-box;margin-bottom: 0.5em;}#sk-ca415eef-8813-41c2-888b-b07c3e5b8d07 div.sk-estimator:hover {background-color: #d4ebff;}#sk-ca415eef-8813-41c2-888b-b07c3e5b8d07 div.sk-parallel-item::after {content: \"\";width: 100%;border-bottom: 1px solid gray;flex-grow: 1;}#sk-ca415eef-8813-41c2-888b-b07c3e5b8d07 div.sk-label:hover label.sk-toggleable__label {background-color: #d4ebff;}#sk-ca415eef-8813-41c2-888b-b07c3e5b8d07 div.sk-serial::before {content: \"\";position: absolute;border-left: 1px solid gray;box-sizing: border-box;top: 2em;bottom: 0;left: 50%;}#sk-ca415eef-8813-41c2-888b-b07c3e5b8d07 div.sk-serial {display: flex;flex-direction: column;align-items: center;background-color: white;padding-right: 0.2em;padding-left: 0.2em;}#sk-ca415eef-8813-41c2-888b-b07c3e5b8d07 div.sk-item {z-index: 1;}#sk-ca415eef-8813-41c2-888b-b07c3e5b8d07 div.sk-parallel {display: flex;align-items: stretch;justify-content: center;background-color: white;}#sk-ca415eef-8813-41c2-888b-b07c3e5b8d07 div.sk-parallel::before {content: \"\";position: absolute;border-left: 1px solid gray;box-sizing: border-box;top: 2em;bottom: 0;left: 50%;}#sk-ca415eef-8813-41c2-888b-b07c3e5b8d07 div.sk-parallel-item {display: flex;flex-direction: column;position: relative;background-color: white;}#sk-ca415eef-8813-41c2-888b-b07c3e5b8d07 div.sk-parallel-item:first-child::after {align-self: flex-end;width: 50%;}#sk-ca415eef-8813-41c2-888b-b07c3e5b8d07 div.sk-parallel-item:last-child::after {align-self: flex-start;width: 50%;}#sk-ca415eef-8813-41c2-888b-b07c3e5b8d07 div.sk-parallel-item:only-child::after {width: 0;}#sk-ca415eef-8813-41c2-888b-b07c3e5b8d07 div.sk-dashed-wrapped {border: 1px dashed gray;margin: 0 0.4em 0.5em 0.4em;box-sizing: border-box;padding-bottom: 0.4em;background-color: white;position: relative;}#sk-ca415eef-8813-41c2-888b-b07c3e5b8d07 div.sk-label label {font-family: monospace;font-weight: bold;background-color: white;display: inline-block;line-height: 1.2em;}#sk-ca415eef-8813-41c2-888b-b07c3e5b8d07 div.sk-label-container {position: relative;z-index: 2;text-align: center;}#sk-ca415eef-8813-41c2-888b-b07c3e5b8d07 div.sk-container {/* jupyter's `normalize.less` sets `[hidden] { display: none; }` but bootstrap.min.css set `[hidden] { display: none !important; }` so we also need the `!important` here to be able to override the default hidden behavior on the sphinx rendered scikit-learn.org. See: https://github.com/scikit-learn/scikit-learn/issues/21755 */display: inline-block !important;position: relative;}#sk-ca415eef-8813-41c2-888b-b07c3e5b8d07 div.sk-text-repr-fallback {display: none;}</style><div id=\"sk-ca415eef-8813-41c2-888b-b07c3e5b8d07\" class=\"sk-top-container\"><div class=\"sk-text-repr-fallback\"><pre>Pipeline(steps=[(&#x27;columntransformer&#x27;,\n",
       "                 ColumnTransformer(remainder=&#x27;passthrough&#x27;,\n",
       "                                   transformers=[(&#x27;standardscaler&#x27;,\n",
       "                                                  StandardScaler(),\n",
       "                                                  [0, 1, 2, 3, 4, 5, 6, 7,\n",
       "                                                   8])])),\n",
       "                (&#x27;kneighborsclassifier&#x27;, KNeighborsClassifier(n_neighbors=11))])</pre><b>Please rerun this cell to show the HTML repr or trust the notebook.</b></div><div class=\"sk-container\" hidden><div class=\"sk-item sk-dashed-wrapped\"><div class=\"sk-label-container\"><div class=\"sk-label sk-toggleable\"><input class=\"sk-toggleable__control sk-hidden--visually\" id=\"c2a0537a-3846-4d51-8eb1-126fbbf00c9b\" type=\"checkbox\" ><label for=\"c2a0537a-3846-4d51-8eb1-126fbbf00c9b\" class=\"sk-toggleable__label sk-toggleable__label-arrow\">Pipeline</label><div class=\"sk-toggleable__content\"><pre>Pipeline(steps=[(&#x27;columntransformer&#x27;,\n",
       "                 ColumnTransformer(remainder=&#x27;passthrough&#x27;,\n",
       "                                   transformers=[(&#x27;standardscaler&#x27;,\n",
       "                                                  StandardScaler(),\n",
       "                                                  [0, 1, 2, 3, 4, 5, 6, 7,\n",
       "                                                   8])])),\n",
       "                (&#x27;kneighborsclassifier&#x27;, KNeighborsClassifier(n_neighbors=11))])</pre></div></div></div><div class=\"sk-serial\"><div class=\"sk-item sk-dashed-wrapped\"><div class=\"sk-label-container\"><div class=\"sk-label sk-toggleable\"><input class=\"sk-toggleable__control sk-hidden--visually\" id=\"cd592d80-38bf-4b84-8cf8-398e44738a07\" type=\"checkbox\" ><label for=\"cd592d80-38bf-4b84-8cf8-398e44738a07\" class=\"sk-toggleable__label sk-toggleable__label-arrow\">columntransformer: ColumnTransformer</label><div class=\"sk-toggleable__content\"><pre>ColumnTransformer(remainder=&#x27;passthrough&#x27;,\n",
       "                  transformers=[(&#x27;standardscaler&#x27;, StandardScaler(),\n",
       "                                 [0, 1, 2, 3, 4, 5, 6, 7, 8])])</pre></div></div></div><div class=\"sk-parallel\"><div class=\"sk-parallel-item\"><div class=\"sk-item\"><div class=\"sk-label-container\"><div class=\"sk-label sk-toggleable\"><input class=\"sk-toggleable__control sk-hidden--visually\" id=\"63aff30e-7058-453d-a1c7-5e600b066dcd\" type=\"checkbox\" ><label for=\"63aff30e-7058-453d-a1c7-5e600b066dcd\" class=\"sk-toggleable__label sk-toggleable__label-arrow\">standardscaler</label><div class=\"sk-toggleable__content\"><pre>[0, 1, 2, 3, 4, 5, 6, 7, 8]</pre></div></div></div><div class=\"sk-serial\"><div class=\"sk-item\"><div class=\"sk-estimator sk-toggleable\"><input class=\"sk-toggleable__control sk-hidden--visually\" id=\"6e2fe4b8-3466-44f1-8090-3f85dfec9c74\" type=\"checkbox\" ><label for=\"6e2fe4b8-3466-44f1-8090-3f85dfec9c74\" class=\"sk-toggleable__label sk-toggleable__label-arrow\">StandardScaler</label><div class=\"sk-toggleable__content\"><pre>StandardScaler()</pre></div></div></div></div></div></div><div class=\"sk-parallel-item\"><div class=\"sk-item\"><div class=\"sk-label-container\"><div class=\"sk-label sk-toggleable\"><input class=\"sk-toggleable__control sk-hidden--visually\" id=\"a5086b23-d6fb-4a1a-a378-e5cca17f5a3c\" type=\"checkbox\" ><label for=\"a5086b23-d6fb-4a1a-a378-e5cca17f5a3c\" class=\"sk-toggleable__label sk-toggleable__label-arrow\">remainder</label><div class=\"sk-toggleable__content\"><pre>[]</pre></div></div></div><div class=\"sk-serial\"><div class=\"sk-item\"><div class=\"sk-estimator sk-toggleable\"><input class=\"sk-toggleable__control sk-hidden--visually\" id=\"16579aa1-0356-4d01-accc-f3eb97fc1bbd\" type=\"checkbox\" ><label for=\"16579aa1-0356-4d01-accc-f3eb97fc1bbd\" class=\"sk-toggleable__label sk-toggleable__label-arrow\">passthrough</label><div class=\"sk-toggleable__content\"><pre>passthrough</pre></div></div></div></div></div></div></div></div><div class=\"sk-item\"><div class=\"sk-estimator sk-toggleable\"><input class=\"sk-toggleable__control sk-hidden--visually\" id=\"482c3919-c25e-466d-a8a4-c2f690cdff12\" type=\"checkbox\" ><label for=\"482c3919-c25e-466d-a8a4-c2f690cdff12\" class=\"sk-toggleable__label sk-toggleable__label-arrow\">KNeighborsClassifier</label><div class=\"sk-toggleable__content\"><pre>KNeighborsClassifier(n_neighbors=11)</pre></div></div></div></div></div></div></div>"
      ],
      "text/plain": [
       "Pipeline(steps=[('columntransformer',\n",
       "                 ColumnTransformer(remainder='passthrough',\n",
       "                                   transformers=[('standardscaler',\n",
       "                                                  StandardScaler(),\n",
       "                                                  [0, 1, 2, 3, 4, 5, 6, 7,\n",
       "                                                   8])])),\n",
       "                ('kneighborsclassifier', KNeighborsClassifier(n_neighbors=11))])"
      ]
     },
     "execution_count": 78,
     "metadata": {},
     "output_type": "execute_result"
    }
   ],
   "source": [
    "pipe.fit(x_train, y_train)\n"
   ]
  },
  {
   "cell_type": "code",
   "execution_count": 79,
   "metadata": {},
   "outputs": [
    {
     "data": {
      "text/plain": [
       "88.29516539440203"
      ]
     },
     "execution_count": 79,
     "metadata": {},
     "output_type": "execute_result"
    }
   ],
   "source": [
    "pred = pipe.predict(x_test)\n",
    "accuracy_score(pred, y_test)*100\n"
   ]
  },
  {
   "cell_type": "markdown",
   "metadata": {},
   "source": [
    "### Extract title from name"
   ]
  },
  {
   "cell_type": "code",
   "execution_count": 80,
   "metadata": {},
   "outputs": [
    {
     "name": "stderr",
     "output_type": "stream",
     "text": [
      "/Users/prasad/opt/anaconda3/envs/HelloWorld/lib/python3.9/site-packages/seaborn/categorical.py:3717: UserWarning: The `factorplot` function has been renamed to `catplot`. The original name will be removed in a future release. Please update your code. Note that the default `kind` in `factorplot` (`'point'`) has changed `'strip'` in `catplot`.\n",
      "  warnings.warn(msg)\n"
     ]
    },
    {
     "data": {
      "image/png": "[encoded data removed]",
      "text/plain": [
       "<Figure size 360x360 with 1 Axes>"
      ]
     },
     "metadata": {
      "needs_background": "light"
     },
     "output_type": "display_data"
    }
   ],
   "source": [
    "df_train['Family_Size'] = df_train['SibSp']+df_train['Parch']+1\n",
    "g = sns.factorplot(data=df_train, x='Family_Size', y='Survived')\n"
   ]
  },
  {
   "cell_type": "code",
   "execution_count": 142,
   "metadata": {},
   "outputs": [
    {
     "data": {
      "image/png": "[encoded data removed]",
      "text/plain": [
       "<Figure size 360x360 with 1 Axes>"
      ]
     },
     "metadata": {
      "needs_background": "light"
     },
     "output_type": "display_data"
    }
   ],
   "source": [
    "df_train['Family_Size'] = df_train['SibSp']+df_train['Parch']+1\n",
    "g = sns.relplot(data=df_train, x='Family_Size', y='Survived',kind='line',ci=None)"
   ]
  },
  {
   "cell_type": "code",
   "execution_count": 81,
   "metadata": {},
   "outputs": [
    {
     "data": {
      "text/html": [
       "<div>\n",
       "<style scoped>\n",
       "    .dataframe tbody tr th:only-of-type {\n",
       "        vertical-align: middle;\n",
       "    }\n",
       "\n",
       "    .dataframe tbody tr th {\n",
       "        vertical-align: top;\n",
       "    }\n",
       "\n",
       "    .dataframe thead th {\n",
       "        text-align: right;\n",
       "    }\n",
       "</style>\n",
       "<table border=\"1\" class=\"dataframe\">\n",
       "  <thead>\n",
       "    <tr style=\"text-align: right;\">\n",
       "      <th></th>\n",
       "      <th>Survived</th>\n",
       "      <th>Pclass</th>\n",
       "      <th>Name</th>\n",
       "      <th>Sex</th>\n",
       "      <th>Age</th>\n",
       "      <th>SibSp</th>\n",
       "      <th>Parch</th>\n",
       "      <th>Ticket</th>\n",
       "      <th>Fare</th>\n",
       "      <th>Cabin</th>\n",
       "      <th>Embarked</th>\n",
       "      <th>Family_Size</th>\n",
       "    </tr>\n",
       "  </thead>\n",
       "  <tbody>\n",
       "    <tr>\n",
       "      <th>0</th>\n",
       "      <td>0</td>\n",
       "      <td>3</td>\n",
       "      <td>Braund, Mr. Owen Harris</td>\n",
       "      <td>male</td>\n",
       "      <td>22.0</td>\n",
       "      <td>1</td>\n",
       "      <td>0</td>\n",
       "      <td>A/5 21171</td>\n",
       "      <td>7.2500</td>\n",
       "      <td>NaN</td>\n",
       "      <td>Southampton</td>\n",
       "      <td>2</td>\n",
       "    </tr>\n",
       "    <tr>\n",
       "      <th>1</th>\n",
       "      <td>1</td>\n",
       "      <td>1</td>\n",
       "      <td>Cumings, Mrs. John Bradley (Florence Briggs Th...</td>\n",
       "      <td>female</td>\n",
       "      <td>38.0</td>\n",
       "      <td>1</td>\n",
       "      <td>0</td>\n",
       "      <td>PC 17599</td>\n",
       "      <td>71.2833</td>\n",
       "      <td>C85</td>\n",
       "      <td>Cherbourg</td>\n",
       "      <td>2</td>\n",
       "    </tr>\n",
       "    <tr>\n",
       "      <th>2</th>\n",
       "      <td>1</td>\n",
       "      <td>3</td>\n",
       "      <td>Heikkinen, Miss. Laina</td>\n",
       "      <td>female</td>\n",
       "      <td>26.0</td>\n",
       "      <td>0</td>\n",
       "      <td>0</td>\n",
       "      <td>STON/O2. 3101282</td>\n",
       "      <td>7.9250</td>\n",
       "      <td>NaN</td>\n",
       "      <td>Southampton</td>\n",
       "      <td>1</td>\n",
       "    </tr>\n",
       "    <tr>\n",
       "      <th>3</th>\n",
       "      <td>1</td>\n",
       "      <td>1</td>\n",
       "      <td>Futrelle, Mrs. Jacques Heath (Lily May Peel)</td>\n",
       "      <td>female</td>\n",
       "      <td>35.0</td>\n",
       "      <td>1</td>\n",
       "      <td>0</td>\n",
       "      <td>113803</td>\n",
       "      <td>53.1000</td>\n",
       "      <td>C123</td>\n",
       "      <td>Southampton</td>\n",
       "      <td>2</td>\n",
       "    </tr>\n",
       "    <tr>\n",
       "      <th>4</th>\n",
       "      <td>0</td>\n",
       "      <td>3</td>\n",
       "      <td>Allen, Mr. William Henry</td>\n",
       "      <td>male</td>\n",
       "      <td>35.0</td>\n",
       "      <td>0</td>\n",
       "      <td>0</td>\n",
       "      <td>373450</td>\n",
       "      <td>8.0500</td>\n",
       "      <td>NaN</td>\n",
       "      <td>Southampton</td>\n",
       "      <td>1</td>\n",
       "    </tr>\n",
       "    <tr>\n",
       "      <th>...</th>\n",
       "      <td>...</td>\n",
       "      <td>...</td>\n",
       "      <td>...</td>\n",
       "      <td>...</td>\n",
       "      <td>...</td>\n",
       "      <td>...</td>\n",
       "      <td>...</td>\n",
       "      <td>...</td>\n",
       "      <td>...</td>\n",
       "      <td>...</td>\n",
       "      <td>...</td>\n",
       "      <td>...</td>\n",
       "    </tr>\n",
       "    <tr>\n",
       "      <th>1304</th>\n",
       "      <td>0</td>\n",
       "      <td>3</td>\n",
       "      <td>Spector, Mr. Woolf</td>\n",
       "      <td>male</td>\n",
       "      <td>30.0</td>\n",
       "      <td>0</td>\n",
       "      <td>0</td>\n",
       "      <td>A.5. 3236</td>\n",
       "      <td>8.0500</td>\n",
       "      <td>NaN</td>\n",
       "      <td>Southampton</td>\n",
       "      <td>1</td>\n",
       "    </tr>\n",
       "    <tr>\n",
       "      <th>1305</th>\n",
       "      <td>1</td>\n",
       "      <td>1</td>\n",
       "      <td>Oliva y Ocana, Dona. Fermina</td>\n",
       "      <td>female</td>\n",
       "      <td>39.0</td>\n",
       "      <td>0</td>\n",
       "      <td>0</td>\n",
       "      <td>PC 17758</td>\n",
       "      <td>108.9000</td>\n",
       "      <td>C105</td>\n",
       "      <td>Cherbourg</td>\n",
       "      <td>1</td>\n",
       "    </tr>\n",
       "    <tr>\n",
       "      <th>1306</th>\n",
       "      <td>0</td>\n",
       "      <td>3</td>\n",
       "      <td>Saether, Mr. Simon Sivertsen</td>\n",
       "      <td>male</td>\n",
       "      <td>38.5</td>\n",
       "      <td>0</td>\n",
       "      <td>0</td>\n",
       "      <td>SOTON/O.Q. 3101262</td>\n",
       "      <td>7.2500</td>\n",
       "      <td>NaN</td>\n",
       "      <td>Southampton</td>\n",
       "      <td>1</td>\n",
       "    </tr>\n",
       "    <tr>\n",
       "      <th>1307</th>\n",
       "      <td>0</td>\n",
       "      <td>3</td>\n",
       "      <td>Ware, Mr. Frederick</td>\n",
       "      <td>male</td>\n",
       "      <td>30.0</td>\n",
       "      <td>0</td>\n",
       "      <td>0</td>\n",
       "      <td>359309</td>\n",
       "      <td>8.0500</td>\n",
       "      <td>NaN</td>\n",
       "      <td>Southampton</td>\n",
       "      <td>1</td>\n",
       "    </tr>\n",
       "    <tr>\n",
       "      <th>1308</th>\n",
       "      <td>0</td>\n",
       "      <td>3</td>\n",
       "      <td>Peter, Master. Michael J</td>\n",
       "      <td>male</td>\n",
       "      <td>30.0</td>\n",
       "      <td>1</td>\n",
       "      <td>1</td>\n",
       "      <td>2668</td>\n",
       "      <td>22.3583</td>\n",
       "      <td>NaN</td>\n",
       "      <td>Cherbourg</td>\n",
       "      <td>3</td>\n",
       "    </tr>\n",
       "  </tbody>\n",
       "</table>\n",
       "<p>1309 rows × 12 columns</p>\n",
       "</div>"
      ],
      "text/plain": [
       "      Survived  Pclass                                               Name  \\\n",
       "0            0       3                            Braund, Mr. Owen Harris   \n",
       "1            1       1  Cumings, Mrs. John Bradley (Florence Briggs Th...   \n",
       "2            1       3                             Heikkinen, Miss. Laina   \n",
       "3            1       1       Futrelle, Mrs. Jacques Heath (Lily May Peel)   \n",
       "4            0       3                           Allen, Mr. William Henry   \n",
       "...        ...     ...                                                ...   \n",
       "1304         0       3                                 Spector, Mr. Woolf   \n",
       "1305         1       1                       Oliva y Ocana, Dona. Fermina   \n",
       "1306         0       3                       Saether, Mr. Simon Sivertsen   \n",
       "1307         0       3                                Ware, Mr. Frederick   \n",
       "1308         0       3                           Peter, Master. Michael J   \n",
       "\n",
       "         Sex   Age  SibSp  Parch              Ticket      Fare Cabin  \\\n",
       "0       male  22.0      1      0           A/5 21171    7.2500   NaN   \n",
       "1     female  38.0      1      0            PC 17599   71.2833   C85   \n",
       "2     female  26.0      0      0    STON/O2. 3101282    7.9250   NaN   \n",
       "3     female  35.0      1      0              113803   53.1000  C123   \n",
       "4       male  35.0      0      0              373450    8.0500   NaN   \n",
       "...      ...   ...    ...    ...                 ...       ...   ...   \n",
       "1304    male  30.0      0      0           A.5. 3236    8.0500   NaN   \n",
       "1305  female  39.0      0      0            PC 17758  108.9000  C105   \n",
       "1306    male  38.5      0      0  SOTON/O.Q. 3101262    7.2500   NaN   \n",
       "1307    male  30.0      0      0              359309    8.0500   NaN   \n",
       "1308    male  30.0      1      1                2668   22.3583   NaN   \n",
       "\n",
       "         Embarked  Family_Size  \n",
       "0     Southampton            2  \n",
       "1       Cherbourg            2  \n",
       "2     Southampton            1  \n",
       "3     Southampton            2  \n",
       "4     Southampton            1  \n",
       "...           ...          ...  \n",
       "1304  Southampton            1  \n",
       "1305    Cherbourg            1  \n",
       "1306  Southampton            1  \n",
       "1307  Southampton            1  \n",
       "1308    Cherbourg            3  \n",
       "\n",
       "[1309 rows x 12 columns]"
      ]
     },
     "execution_count": 81,
     "metadata": {},
     "output_type": "execute_result"
    }
   ],
   "source": [
    "df_data = df_train.copy()\n",
    "df_data\n"
   ]
  },
  {
   "cell_type": "code",
   "execution_count": 82,
   "metadata": {},
   "outputs": [
    {
     "data": {
      "text/html": [
       "<div>\n",
       "<style scoped>\n",
       "    .dataframe tbody tr th:only-of-type {\n",
       "        vertical-align: middle;\n",
       "    }\n",
       "\n",
       "    .dataframe tbody tr th {\n",
       "        vertical-align: top;\n",
       "    }\n",
       "\n",
       "    .dataframe thead th {\n",
       "        text-align: right;\n",
       "    }\n",
       "</style>\n",
       "<table border=\"1\" class=\"dataframe\">\n",
       "  <thead>\n",
       "    <tr style=\"text-align: right;\">\n",
       "      <th>Title</th>\n",
       "      <th>Capt</th>\n",
       "      <th>Col</th>\n",
       "      <th>Countess</th>\n",
       "      <th>Don</th>\n",
       "      <th>Dona</th>\n",
       "      <th>Dr</th>\n",
       "      <th>Jonkheer</th>\n",
       "      <th>Lady</th>\n",
       "      <th>Major</th>\n",
       "      <th>Master</th>\n",
       "      <th>Miss</th>\n",
       "      <th>Mlle</th>\n",
       "      <th>Mme</th>\n",
       "      <th>Mr</th>\n",
       "      <th>Mrs</th>\n",
       "      <th>Ms</th>\n",
       "      <th>Rev</th>\n",
       "      <th>Sir</th>\n",
       "    </tr>\n",
       "    <tr>\n",
       "      <th>Sex</th>\n",
       "      <th></th>\n",
       "      <th></th>\n",
       "      <th></th>\n",
       "      <th></th>\n",
       "      <th></th>\n",
       "      <th></th>\n",
       "      <th></th>\n",
       "      <th></th>\n",
       "      <th></th>\n",
       "      <th></th>\n",
       "      <th></th>\n",
       "      <th></th>\n",
       "      <th></th>\n",
       "      <th></th>\n",
       "      <th></th>\n",
       "      <th></th>\n",
       "      <th></th>\n",
       "      <th></th>\n",
       "    </tr>\n",
       "  </thead>\n",
       "  <tbody>\n",
       "    <tr>\n",
       "      <th>female</th>\n",
       "      <td>0</td>\n",
       "      <td>0</td>\n",
       "      <td>1</td>\n",
       "      <td>0</td>\n",
       "      <td>1</td>\n",
       "      <td>1</td>\n",
       "      <td>0</td>\n",
       "      <td>1</td>\n",
       "      <td>0</td>\n",
       "      <td>0</td>\n",
       "      <td>260</td>\n",
       "      <td>2</td>\n",
       "      <td>1</td>\n",
       "      <td>0</td>\n",
       "      <td>197</td>\n",
       "      <td>2</td>\n",
       "      <td>0</td>\n",
       "      <td>0</td>\n",
       "    </tr>\n",
       "    <tr>\n",
       "      <th>male</th>\n",
       "      <td>1</td>\n",
       "      <td>4</td>\n",
       "      <td>0</td>\n",
       "      <td>1</td>\n",
       "      <td>0</td>\n",
       "      <td>7</td>\n",
       "      <td>1</td>\n",
       "      <td>0</td>\n",
       "      <td>2</td>\n",
       "      <td>61</td>\n",
       "      <td>0</td>\n",
       "      <td>0</td>\n",
       "      <td>0</td>\n",
       "      <td>757</td>\n",
       "      <td>0</td>\n",
       "      <td>0</td>\n",
       "      <td>8</td>\n",
       "      <td>1</td>\n",
       "    </tr>\n",
       "  </tbody>\n",
       "</table>\n",
       "</div>"
      ],
      "text/plain": [
       "Title   Capt  Col  Countess  Don  Dona  Dr  Jonkheer  Lady  Major  Master  \\\n",
       "Sex                                                                         \n",
       "female     0    0         1    0     1   1         0     1      0       0   \n",
       "male       1    4         0    1     0   7         1     0      2      61   \n",
       "\n",
       "Title   Miss  Mlle  Mme   Mr  Mrs  Ms  Rev  Sir  \n",
       "Sex                                              \n",
       "female   260     2    1    0  197   2    0    0  \n",
       "male       0     0    0  757    0   0    8    1  "
      ]
     },
     "execution_count": 82,
     "metadata": {},
     "output_type": "execute_result"
    }
   ],
   "source": [
    "df_data['Title'] = df_data.Name.str.extract(' ([A-Za-z]+)\\.', expand=False)\n",
    "pd.crosstab(df_data['Title'], df_data['Sex']).T\n"
   ]
  },
  {
   "cell_type": "code",
   "execution_count": 83,
   "metadata": {},
   "outputs": [
    {
     "data": {
      "text/html": [
       "<div>\n",
       "<style scoped>\n",
       "    .dataframe tbody tr th:only-of-type {\n",
       "        vertical-align: middle;\n",
       "    }\n",
       "\n",
       "    .dataframe tbody tr th {\n",
       "        vertical-align: top;\n",
       "    }\n",
       "\n",
       "    .dataframe thead th {\n",
       "        text-align: right;\n",
       "    }\n",
       "</style>\n",
       "<table border=\"1\" class=\"dataframe\">\n",
       "  <thead>\n",
       "    <tr style=\"text-align: right;\">\n",
       "      <th></th>\n",
       "      <th>Title</th>\n",
       "      <th>Survived</th>\n",
       "    </tr>\n",
       "  </thead>\n",
       "  <tbody>\n",
       "    <tr>\n",
       "      <th>0</th>\n",
       "      <td>Master</td>\n",
       "      <td>0.377</td>\n",
       "    </tr>\n",
       "    <tr>\n",
       "      <th>1</th>\n",
       "      <td>Miss</td>\n",
       "      <td>0.788</td>\n",
       "    </tr>\n",
       "    <tr>\n",
       "      <th>2</th>\n",
       "      <td>Mr</td>\n",
       "      <td>0.107</td>\n",
       "    </tr>\n",
       "    <tr>\n",
       "      <th>3</th>\n",
       "      <td>Mrs</td>\n",
       "      <td>0.868</td>\n",
       "    </tr>\n",
       "    <tr>\n",
       "      <th>4</th>\n",
       "      <td>Rare</td>\n",
       "      <td>0.412</td>\n",
       "    </tr>\n",
       "  </tbody>\n",
       "</table>\n",
       "</div>"
      ],
      "text/plain": [
       "    Title  Survived\n",
       "0  Master     0.377\n",
       "1    Miss     0.788\n",
       "2      Mr     0.107\n",
       "3     Mrs     0.868\n",
       "4    Rare     0.412"
      ]
     },
     "execution_count": 83,
     "metadata": {},
     "output_type": "execute_result"
    }
   ],
   "source": [
    "df_data['Title'] = df_data['Title'].replace(['Mlle', 'Mme', 'Ms', 'Dr', 'Major', 'Lady',\n",
    "                                             'Countess', 'Jonkheer', 'Col', 'Rev', 'Capt', 'Sir', 'Don', 'Dona'], 'Rare')\n",
    "\n",
    "df_data[['Title', 'Survived']].groupby(\n",
    "    ['Title'], as_index=False).mean().round(3)\n"
   ]
  },
  {
   "cell_type": "code",
   "execution_count": 84,
   "metadata": {},
   "outputs": [
    {
     "data": {
      "text/plain": [
       "array([ 8.698, 23.356, 31.729, 36.036, 41.912])"
      ]
     },
     "execution_count": 84,
     "metadata": {},
     "output_type": "execute_result"
    }
   ],
   "source": [
    "T = df_data.groupby(['Title'])['Age'].mean().round(3).values\n",
    "T\n"
   ]
  },
  {
   "cell_type": "code",
   "execution_count": 85,
   "metadata": {},
   "outputs": [
    {
     "data": {
      "text/html": [
       "<div>\n",
       "<style scoped>\n",
       "    .dataframe tbody tr th:only-of-type {\n",
       "        vertical-align: middle;\n",
       "    }\n",
       "\n",
       "    .dataframe tbody tr th {\n",
       "        vertical-align: top;\n",
       "    }\n",
       "\n",
       "    .dataframe thead th {\n",
       "        text-align: right;\n",
       "    }\n",
       "</style>\n",
       "<table border=\"1\" class=\"dataframe\">\n",
       "  <thead>\n",
       "    <tr style=\"text-align: right;\">\n",
       "      <th></th>\n",
       "      <th>Title</th>\n",
       "      <th>Survived</th>\n",
       "    </tr>\n",
       "  </thead>\n",
       "  <tbody>\n",
       "    <tr>\n",
       "      <th>0</th>\n",
       "      <td>Master</td>\n",
       "      <td>0.377</td>\n",
       "    </tr>\n",
       "    <tr>\n",
       "      <th>1</th>\n",
       "      <td>Miss</td>\n",
       "      <td>0.788</td>\n",
       "    </tr>\n",
       "    <tr>\n",
       "      <th>2</th>\n",
       "      <td>Mr</td>\n",
       "      <td>0.107</td>\n",
       "    </tr>\n",
       "    <tr>\n",
       "      <th>3</th>\n",
       "      <td>Mrs</td>\n",
       "      <td>0.868</td>\n",
       "    </tr>\n",
       "    <tr>\n",
       "      <th>4</th>\n",
       "      <td>Rare</td>\n",
       "      <td>0.412</td>\n",
       "    </tr>\n",
       "  </tbody>\n",
       "</table>\n",
       "</div>"
      ],
      "text/plain": [
       "    Title  Survived\n",
       "0  Master     0.377\n",
       "1    Miss     0.788\n",
       "2      Mr     0.107\n",
       "3     Mrs     0.868\n",
       "4    Rare     0.412"
      ]
     },
     "execution_count": 85,
     "metadata": {},
     "output_type": "execute_result"
    }
   ],
   "source": [
    "df_data['Title'] = df_data['Title'].replace(['Mlle', 'Mme', 'Ms', 'Dr', 'Major', 'Lady',\n",
    "                                             'Countess', 'Jonkheer', 'Col', 'Rev', 'Capt', 'Sir', 'Don', 'Dona'], 'Rare')\n",
    "\n",
    "df_data[['Title', 'Survived']].groupby(\n",
    "    ['Title'], as_index=False).mean().round(3)\n"
   ]
  },
  {
   "cell_type": "code",
   "execution_count": 86,
   "metadata": {},
   "outputs": [],
   "source": [
    "df_data['Title_Code'] = df_data['Title'].astype('category').cat.codes\n"
   ]
  },
  {
   "cell_type": "code",
   "execution_count": 87,
   "metadata": {},
   "outputs": [],
   "source": [
    "Ti_pred = df_data.groupby('Title')['Age'].mean().values\n",
    "df_data['Ti_Age'] = df_data['Age']\n",
    "\n",
    "for i in range(len(df_data['Title_Code'].unique())):\n",
    "    df_data.loc[(df_data.Age.isnull()) & (\n",
    "        df_data.Title_Code == i), 'Ti_Age'] = Ti_pred[i]\n",
    "\n",
    "df_data['Ti_Age'] = df_data['Ti_Age'].astype('int')\n",
    "\n",
    "df_data['Ti_Minor'] = ((df_data['Ti_Age']) < 18.0) * 1\n"
   ]
  },
  {
   "cell_type": "markdown",
   "metadata": {},
   "source": [
    "Interprit the graph"
   ]
  },
  {
   "cell_type": "markdown",
   "metadata": {},
   "source": [
    "### Random Classifier for family size\n"
   ]
  },
  {
   "cell_type": "code",
   "execution_count": 88,
   "metadata": {},
   "outputs": [
    {
     "data": {
      "text/html": [
       "<div>\n",
       "<style scoped>\n",
       "    .dataframe tbody tr th:only-of-type {\n",
       "        vertical-align: middle;\n",
       "    }\n",
       "\n",
       "    .dataframe tbody tr th {\n",
       "        vertical-align: top;\n",
       "    }\n",
       "\n",
       "    .dataframe thead th {\n",
       "        text-align: right;\n",
       "    }\n",
       "</style>\n",
       "<table border=\"1\" class=\"dataframe\">\n",
       "  <thead>\n",
       "    <tr style=\"text-align: right;\">\n",
       "      <th></th>\n",
       "      <th>Survived</th>\n",
       "      <th>Pclass</th>\n",
       "      <th>Name</th>\n",
       "      <th>Sex</th>\n",
       "      <th>Age</th>\n",
       "      <th>SibSp</th>\n",
       "      <th>Parch</th>\n",
       "      <th>Ticket</th>\n",
       "      <th>Fare</th>\n",
       "      <th>Cabin</th>\n",
       "      <th>Embarked</th>\n",
       "      <th>Family_Size</th>\n",
       "      <th>Title</th>\n",
       "      <th>Title_Code</th>\n",
       "      <th>Ti_Age</th>\n",
       "      <th>Ti_Minor</th>\n",
       "    </tr>\n",
       "  </thead>\n",
       "  <tbody>\n",
       "    <tr>\n",
       "      <th>0</th>\n",
       "      <td>0</td>\n",
       "      <td>3</td>\n",
       "      <td>Braund, Mr. Owen Harris</td>\n",
       "      <td>1</td>\n",
       "      <td>22.0</td>\n",
       "      <td>1</td>\n",
       "      <td>0</td>\n",
       "      <td>A/5 21171</td>\n",
       "      <td>7.2500</td>\n",
       "      <td>NaN</td>\n",
       "      <td>Southampton</td>\n",
       "      <td>2</td>\n",
       "      <td>Mr</td>\n",
       "      <td>2</td>\n",
       "      <td>22</td>\n",
       "      <td>0</td>\n",
       "    </tr>\n",
       "    <tr>\n",
       "      <th>1</th>\n",
       "      <td>1</td>\n",
       "      <td>1</td>\n",
       "      <td>Cumings, Mrs. John Bradley (Florence Briggs Th...</td>\n",
       "      <td>0</td>\n",
       "      <td>38.0</td>\n",
       "      <td>1</td>\n",
       "      <td>0</td>\n",
       "      <td>PC 17599</td>\n",
       "      <td>71.2833</td>\n",
       "      <td>C85</td>\n",
       "      <td>Cherbourg</td>\n",
       "      <td>2</td>\n",
       "      <td>Mrs</td>\n",
       "      <td>3</td>\n",
       "      <td>38</td>\n",
       "      <td>0</td>\n",
       "    </tr>\n",
       "    <tr>\n",
       "      <th>2</th>\n",
       "      <td>1</td>\n",
       "      <td>3</td>\n",
       "      <td>Heikkinen, Miss. Laina</td>\n",
       "      <td>0</td>\n",
       "      <td>26.0</td>\n",
       "      <td>0</td>\n",
       "      <td>0</td>\n",
       "      <td>STON/O2. 3101282</td>\n",
       "      <td>7.9250</td>\n",
       "      <td>NaN</td>\n",
       "      <td>Southampton</td>\n",
       "      <td>1</td>\n",
       "      <td>Miss</td>\n",
       "      <td>1</td>\n",
       "      <td>26</td>\n",
       "      <td>0</td>\n",
       "    </tr>\n",
       "    <tr>\n",
       "      <th>3</th>\n",
       "      <td>1</td>\n",
       "      <td>1</td>\n",
       "      <td>Futrelle, Mrs. Jacques Heath (Lily May Peel)</td>\n",
       "      <td>0</td>\n",
       "      <td>35.0</td>\n",
       "      <td>1</td>\n",
       "      <td>0</td>\n",
       "      <td>113803</td>\n",
       "      <td>53.1000</td>\n",
       "      <td>C123</td>\n",
       "      <td>Southampton</td>\n",
       "      <td>2</td>\n",
       "      <td>Mrs</td>\n",
       "      <td>3</td>\n",
       "      <td>35</td>\n",
       "      <td>0</td>\n",
       "    </tr>\n",
       "    <tr>\n",
       "      <th>4</th>\n",
       "      <td>0</td>\n",
       "      <td>3</td>\n",
       "      <td>Allen, Mr. William Henry</td>\n",
       "      <td>1</td>\n",
       "      <td>35.0</td>\n",
       "      <td>0</td>\n",
       "      <td>0</td>\n",
       "      <td>373450</td>\n",
       "      <td>8.0500</td>\n",
       "      <td>NaN</td>\n",
       "      <td>Southampton</td>\n",
       "      <td>1</td>\n",
       "      <td>Mr</td>\n",
       "      <td>2</td>\n",
       "      <td>35</td>\n",
       "      <td>0</td>\n",
       "    </tr>\n",
       "    <tr>\n",
       "      <th>...</th>\n",
       "      <td>...</td>\n",
       "      <td>...</td>\n",
       "      <td>...</td>\n",
       "      <td>...</td>\n",
       "      <td>...</td>\n",
       "      <td>...</td>\n",
       "      <td>...</td>\n",
       "      <td>...</td>\n",
       "      <td>...</td>\n",
       "      <td>...</td>\n",
       "      <td>...</td>\n",
       "      <td>...</td>\n",
       "      <td>...</td>\n",
       "      <td>...</td>\n",
       "      <td>...</td>\n",
       "      <td>...</td>\n",
       "    </tr>\n",
       "    <tr>\n",
       "      <th>1304</th>\n",
       "      <td>0</td>\n",
       "      <td>3</td>\n",
       "      <td>Spector, Mr. Woolf</td>\n",
       "      <td>1</td>\n",
       "      <td>30.0</td>\n",
       "      <td>0</td>\n",
       "      <td>0</td>\n",
       "      <td>A.5. 3236</td>\n",
       "      <td>8.0500</td>\n",
       "      <td>NaN</td>\n",
       "      <td>Southampton</td>\n",
       "      <td>1</td>\n",
       "      <td>Mr</td>\n",
       "      <td>2</td>\n",
       "      <td>30</td>\n",
       "      <td>0</td>\n",
       "    </tr>\n",
       "    <tr>\n",
       "      <th>1305</th>\n",
       "      <td>1</td>\n",
       "      <td>1</td>\n",
       "      <td>Oliva y Ocana, Dona. Fermina</td>\n",
       "      <td>0</td>\n",
       "      <td>39.0</td>\n",
       "      <td>0</td>\n",
       "      <td>0</td>\n",
       "      <td>PC 17758</td>\n",
       "      <td>108.9000</td>\n",
       "      <td>C105</td>\n",
       "      <td>Cherbourg</td>\n",
       "      <td>1</td>\n",
       "      <td>Rare</td>\n",
       "      <td>4</td>\n",
       "      <td>39</td>\n",
       "      <td>0</td>\n",
       "    </tr>\n",
       "    <tr>\n",
       "      <th>1306</th>\n",
       "      <td>0</td>\n",
       "      <td>3</td>\n",
       "      <td>Saether, Mr. Simon Sivertsen</td>\n",
       "      <td>1</td>\n",
       "      <td>38.5</td>\n",
       "      <td>0</td>\n",
       "      <td>0</td>\n",
       "      <td>SOTON/O.Q. 3101262</td>\n",
       "      <td>7.2500</td>\n",
       "      <td>NaN</td>\n",
       "      <td>Southampton</td>\n",
       "      <td>1</td>\n",
       "      <td>Mr</td>\n",
       "      <td>2</td>\n",
       "      <td>38</td>\n",
       "      <td>0</td>\n",
       "    </tr>\n",
       "    <tr>\n",
       "      <th>1307</th>\n",
       "      <td>0</td>\n",
       "      <td>3</td>\n",
       "      <td>Ware, Mr. Frederick</td>\n",
       "      <td>1</td>\n",
       "      <td>30.0</td>\n",
       "      <td>0</td>\n",
       "      <td>0</td>\n",
       "      <td>359309</td>\n",
       "      <td>8.0500</td>\n",
       "      <td>NaN</td>\n",
       "      <td>Southampton</td>\n",
       "      <td>1</td>\n",
       "      <td>Mr</td>\n",
       "      <td>2</td>\n",
       "      <td>30</td>\n",
       "      <td>0</td>\n",
       "    </tr>\n",
       "    <tr>\n",
       "      <th>1308</th>\n",
       "      <td>0</td>\n",
       "      <td>3</td>\n",
       "      <td>Peter, Master. Michael J</td>\n",
       "      <td>1</td>\n",
       "      <td>30.0</td>\n",
       "      <td>1</td>\n",
       "      <td>1</td>\n",
       "      <td>2668</td>\n",
       "      <td>22.3583</td>\n",
       "      <td>NaN</td>\n",
       "      <td>Cherbourg</td>\n",
       "      <td>3</td>\n",
       "      <td>Master</td>\n",
       "      <td>0</td>\n",
       "      <td>30</td>\n",
       "      <td>0</td>\n",
       "    </tr>\n",
       "  </tbody>\n",
       "</table>\n",
       "<p>1309 rows × 16 columns</p>\n",
       "</div>"
      ],
      "text/plain": [
       "      Survived  Pclass                                               Name  \\\n",
       "0            0       3                            Braund, Mr. Owen Harris   \n",
       "1            1       1  Cumings, Mrs. John Bradley (Florence Briggs Th...   \n",
       "2            1       3                             Heikkinen, Miss. Laina   \n",
       "3            1       1       Futrelle, Mrs. Jacques Heath (Lily May Peel)   \n",
       "4            0       3                           Allen, Mr. William Henry   \n",
       "...        ...     ...                                                ...   \n",
       "1304         0       3                                 Spector, Mr. Woolf   \n",
       "1305         1       1                       Oliva y Ocana, Dona. Fermina   \n",
       "1306         0       3                       Saether, Mr. Simon Sivertsen   \n",
       "1307         0       3                                Ware, Mr. Frederick   \n",
       "1308         0       3                           Peter, Master. Michael J   \n",
       "\n",
       "      Sex   Age  SibSp  Parch              Ticket      Fare Cabin  \\\n",
       "0       1  22.0      1      0           A/5 21171    7.2500   NaN   \n",
       "1       0  38.0      1      0            PC 17599   71.2833   C85   \n",
       "2       0  26.0      0      0    STON/O2. 3101282    7.9250   NaN   \n",
       "3       0  35.0      1      0              113803   53.1000  C123   \n",
       "4       1  35.0      0      0              373450    8.0500   NaN   \n",
       "...   ...   ...    ...    ...                 ...       ...   ...   \n",
       "1304    1  30.0      0      0           A.5. 3236    8.0500   NaN   \n",
       "1305    0  39.0      0      0            PC 17758  108.9000  C105   \n",
       "1306    1  38.5      0      0  SOTON/O.Q. 3101262    7.2500   NaN   \n",
       "1307    1  30.0      0      0              359309    8.0500   NaN   \n",
       "1308    1  30.0      1      1                2668   22.3583   NaN   \n",
       "\n",
       "         Embarked  Family_Size   Title  Title_Code  Ti_Age  Ti_Minor  \n",
       "0     Southampton            2      Mr           2      22         0  \n",
       "1       Cherbourg            2     Mrs           3      38         0  \n",
       "2     Southampton            1    Miss           1      26         0  \n",
       "3     Southampton            2     Mrs           3      35         0  \n",
       "4     Southampton            1      Mr           2      35         0  \n",
       "...           ...          ...     ...         ...     ...       ...  \n",
       "1304  Southampton            1      Mr           2      30         0  \n",
       "1305    Cherbourg            1    Rare           4      39         0  \n",
       "1306  Southampton            1      Mr           2      38         0  \n",
       "1307  Southampton            1      Mr           2      30         0  \n",
       "1308    Cherbourg            3  Master           0      30         0  \n",
       "\n",
       "[1309 rows x 16 columns]"
      ]
     },
     "execution_count": 88,
     "metadata": {},
     "output_type": "execute_result"
    }
   ],
   "source": [
    "df_data['Sex'].replace('female', 0, inplace=True)\n",
    "df_data['Sex'].replace('male', 1, inplace=True)\n",
    "df_data\n"
   ]
  },
  {
   "cell_type": "code",
   "execution_count": 89,
   "metadata": {},
   "outputs": [],
   "source": [
    "X1 = df_data.drop(labels=['Survived', 'Name', 'Ticket',\n",
    "                  'Cabin', 'Title', 'Embarked'], axis=1)\n",
    "Y1 = df_data['Survived']\n"
   ]
  },
  {
   "cell_type": "code",
   "execution_count": 90,
   "metadata": {},
   "outputs": [],
   "source": [
    "x1 = df_data.drop(['Survived', 'Name', 'Ticket',\n",
    "                  'Cabin', 'Title', 'Embarked'], axis=1)\n",
    "y1 = df_data['Survived']\n",
    "x1_train, x1_test, y1_train, y1_test = train_test_split(\n",
    "    x1, y1, test_size=0.33, random_state=3)\n"
   ]
  },
  {
   "cell_type": "code",
   "execution_count": 91,
   "metadata": {},
   "outputs": [],
   "source": [
    "num_col = [0, 1, 2, 3, 4, 5, 6, 7, 8]\n"
   ]
  },
  {
   "cell_type": "code",
   "execution_count": 92,
   "metadata": {},
   "outputs": [
    {
     "data": {
      "text/html": [
       "<style>#sk-87b25f29-b66a-4ec6-8bff-0d8d36b8aac2 {color: black;background-color: white;}#sk-87b25f29-b66a-4ec6-8bff-0d8d36b8aac2 pre{padding: 0;}#sk-87b25f29-b66a-4ec6-8bff-0d8d36b8aac2 div.sk-toggleable {background-color: white;}#sk-87b25f29-b66a-4ec6-8bff-0d8d36b8aac2 label.sk-toggleable__label {cursor: pointer;display: block;width: 100%;margin-bottom: 0;padding: 0.3em;box-sizing: border-box;text-align: center;}#sk-87b25f29-b66a-4ec6-8bff-0d8d36b8aac2 label.sk-toggleable__label-arrow:before {content: \"▸\";float: left;margin-right: 0.25em;color: #696969;}#sk-87b25f29-b66a-4ec6-8bff-0d8d36b8aac2 label.sk-toggleable__label-arrow:hover:before {color: black;}#sk-87b25f29-b66a-4ec6-8bff-0d8d36b8aac2 div.sk-estimator:hover label.sk-toggleable__label-arrow:before {color: black;}#sk-87b25f29-b66a-4ec6-8bff-0d8d36b8aac2 div.sk-toggleable__content {max-height: 0;max-width: 0;overflow: hidden;text-align: left;background-color: #f0f8ff;}#sk-87b25f29-b66a-4ec6-8bff-0d8d36b8aac2 div.sk-toggleable__content pre {margin: 0.2em;color: black;border-radius: 0.25em;background-color: #f0f8ff;}#sk-87b25f29-b66a-4ec6-8bff-0d8d36b8aac2 input.sk-toggleable__control:checked~div.sk-toggleable__content {max-height: 200px;max-width: 100%;overflow: auto;}#sk-87b25f29-b66a-4ec6-8bff-0d8d36b8aac2 input.sk-toggleable__control:checked~label.sk-toggleable__label-arrow:before {content: \"▾\";}#sk-87b25f29-b66a-4ec6-8bff-0d8d36b8aac2 div.sk-estimator input.sk-toggleable__control:checked~label.sk-toggleable__label {background-color: #d4ebff;}#sk-87b25f29-b66a-4ec6-8bff-0d8d36b8aac2 div.sk-label input.sk-toggleable__control:checked~label.sk-toggleable__label {background-color: #d4ebff;}#sk-87b25f29-b66a-4ec6-8bff-0d8d36b8aac2 input.sk-hidden--visually {border: 0;clip: rect(1px 1px 1px 1px);clip: rect(1px, 1px, 1px, 1px);height: 1px;margin: -1px;overflow: hidden;padding: 0;position: absolute;width: 1px;}#sk-87b25f29-b66a-4ec6-8bff-0d8d36b8aac2 div.sk-estimator {font-family: monospace;background-color: #f0f8ff;border: 1px dotted black;border-radius: 0.25em;box-sizing: border-box;margin-bottom: 0.5em;}#sk-87b25f29-b66a-4ec6-8bff-0d8d36b8aac2 div.sk-estimator:hover {background-color: #d4ebff;}#sk-87b25f29-b66a-4ec6-8bff-0d8d36b8aac2 div.sk-parallel-item::after {content: \"\";width: 100%;border-bottom: 1px solid gray;flex-grow: 1;}#sk-87b25f29-b66a-4ec6-8bff-0d8d36b8aac2 div.sk-label:hover label.sk-toggleable__label {background-color: #d4ebff;}#sk-87b25f29-b66a-4ec6-8bff-0d8d36b8aac2 div.sk-serial::before {content: \"\";position: absolute;border-left: 1px solid gray;box-sizing: border-box;top: 2em;bottom: 0;left: 50%;}#sk-87b25f29-b66a-4ec6-8bff-0d8d36b8aac2 div.sk-serial {display: flex;flex-direction: column;align-items: center;background-color: white;padding-right: 0.2em;padding-left: 0.2em;}#sk-87b25f29-b66a-4ec6-8bff-0d8d36b8aac2 div.sk-item {z-index: 1;}#sk-87b25f29-b66a-4ec6-8bff-0d8d36b8aac2 div.sk-parallel {display: flex;align-items: stretch;justify-content: center;background-color: white;}#sk-87b25f29-b66a-4ec6-8bff-0d8d36b8aac2 div.sk-parallel::before {content: \"\";position: absolute;border-left: 1px solid gray;box-sizing: border-box;top: 2em;bottom: 0;left: 50%;}#sk-87b25f29-b66a-4ec6-8bff-0d8d36b8aac2 div.sk-parallel-item {display: flex;flex-direction: column;position: relative;background-color: white;}#sk-87b25f29-b66a-4ec6-8bff-0d8d36b8aac2 div.sk-parallel-item:first-child::after {align-self: flex-end;width: 50%;}#sk-87b25f29-b66a-4ec6-8bff-0d8d36b8aac2 div.sk-parallel-item:last-child::after {align-self: flex-start;width: 50%;}#sk-87b25f29-b66a-4ec6-8bff-0d8d36b8aac2 div.sk-parallel-item:only-child::after {width: 0;}#sk-87b25f29-b66a-4ec6-8bff-0d8d36b8aac2 div.sk-dashed-wrapped {border: 1px dashed gray;margin: 0 0.4em 0.5em 0.4em;box-sizing: border-box;padding-bottom: 0.4em;background-color: white;position: relative;}#sk-87b25f29-b66a-4ec6-8bff-0d8d36b8aac2 div.sk-label label {font-family: monospace;font-weight: bold;background-color: white;display: inline-block;line-height: 1.2em;}#sk-87b25f29-b66a-4ec6-8bff-0d8d36b8aac2 div.sk-label-container {position: relative;z-index: 2;text-align: center;}#sk-87b25f29-b66a-4ec6-8bff-0d8d36b8aac2 div.sk-container {/* jupyter's `normalize.less` sets `[hidden] { display: none; }` but bootstrap.min.css set `[hidden] { display: none !important; }` so we also need the `!important` here to be able to override the default hidden behavior on the sphinx rendered scikit-learn.org. See: https://github.com/scikit-learn/scikit-learn/issues/21755 */display: inline-block !important;position: relative;}#sk-87b25f29-b66a-4ec6-8bff-0d8d36b8aac2 div.sk-text-repr-fallback {display: none;}</style><div id=\"sk-87b25f29-b66a-4ec6-8bff-0d8d36b8aac2\" class=\"sk-top-container\"><div class=\"sk-text-repr-fallback\"><pre>ColumnTransformer(remainder=&#x27;passthrough&#x27;,\n",
       "                  transformers=[(&#x27;standardscaler&#x27;, StandardScaler(),\n",
       "                                 [0, 1, 2, 3, 4, 5, 6, 7, 8])])</pre><b>Please rerun this cell to show the HTML repr or trust the notebook.</b></div><div class=\"sk-container\" hidden><div class=\"sk-item sk-dashed-wrapped\"><div class=\"sk-label-container\"><div class=\"sk-label sk-toggleable\"><input class=\"sk-toggleable__control sk-hidden--visually\" id=\"3fa86342-c5e8-4bd6-b0af-5f4c9c35e940\" type=\"checkbox\" ><label for=\"3fa86342-c5e8-4bd6-b0af-5f4c9c35e940\" class=\"sk-toggleable__label sk-toggleable__label-arrow\">ColumnTransformer</label><div class=\"sk-toggleable__content\"><pre>ColumnTransformer(remainder=&#x27;passthrough&#x27;,\n",
       "                  transformers=[(&#x27;standardscaler&#x27;, StandardScaler(),\n",
       "                                 [0, 1, 2, 3, 4, 5, 6, 7, 8])])</pre></div></div></div><div class=\"sk-parallel\"><div class=\"sk-parallel-item\"><div class=\"sk-item\"><div class=\"sk-label-container\"><div class=\"sk-label sk-toggleable\"><input class=\"sk-toggleable__control sk-hidden--visually\" id=\"8c82795f-e4ba-4c22-9c02-3b5a7b182581\" type=\"checkbox\" ><label for=\"8c82795f-e4ba-4c22-9c02-3b5a7b182581\" class=\"sk-toggleable__label sk-toggleable__label-arrow\">standardscaler</label><div class=\"sk-toggleable__content\"><pre>[0, 1, 2, 3, 4, 5, 6, 7, 8]</pre></div></div></div><div class=\"sk-serial\"><div class=\"sk-item\"><div class=\"sk-estimator sk-toggleable\"><input class=\"sk-toggleable__control sk-hidden--visually\" id=\"6a3aaadf-8052-41a2-889f-ab27fa52c5b2\" type=\"checkbox\" ><label for=\"6a3aaadf-8052-41a2-889f-ab27fa52c5b2\" class=\"sk-toggleable__label sk-toggleable__label-arrow\">StandardScaler</label><div class=\"sk-toggleable__content\"><pre>StandardScaler()</pre></div></div></div></div></div></div><div class=\"sk-parallel-item\"><div class=\"sk-item\"><div class=\"sk-label-container\"><div class=\"sk-label sk-toggleable\"><input class=\"sk-toggleable__control sk-hidden--visually\" id=\"b83856bf-43d2-4c56-999d-954a5af63eb2\" type=\"checkbox\" ><label for=\"b83856bf-43d2-4c56-999d-954a5af63eb2\" class=\"sk-toggleable__label sk-toggleable__label-arrow\">remainder</label><div class=\"sk-toggleable__content\"><pre></pre></div></div></div><div class=\"sk-serial\"><div class=\"sk-item\"><div class=\"sk-estimator sk-toggleable\"><input class=\"sk-toggleable__control sk-hidden--visually\" id=\"6207fc35-0a91-4776-b139-1ae2d637a660\" type=\"checkbox\" ><label for=\"6207fc35-0a91-4776-b139-1ae2d637a660\" class=\"sk-toggleable__label sk-toggleable__label-arrow\">passthrough</label><div class=\"sk-toggleable__content\"><pre>passthrough</pre></div></div></div></div></div></div></div></div></div></div>"
      ],
      "text/plain": [
       "ColumnTransformer(remainder='passthrough',\n",
       "                  transformers=[('standardscaler', StandardScaler(),\n",
       "                                 [0, 1, 2, 3, 4, 5, 6, 7, 8])])"
      ]
     },
     "execution_count": 92,
     "metadata": {},
     "output_type": "execute_result"
    }
   ],
   "source": [
    "trans = make_column_transformer((StandardScaler(), num_col),\n",
    "                                remainder='passthrough')\n",
    "set_config(display='diagram')\n",
    "trans\n"
   ]
  },
  {
   "cell_type": "code",
   "execution_count": 93,
   "metadata": {},
   "outputs": [
    {
     "data": {
      "text/html": [
       "<style>#sk-fdfe9fdb-f7ce-4b20-8a03-8c30fdd0614c {color: black;background-color: white;}#sk-fdfe9fdb-f7ce-4b20-8a03-8c30fdd0614c pre{padding: 0;}#sk-fdfe9fdb-f7ce-4b20-8a03-8c30fdd0614c div.sk-toggleable {background-color: white;}#sk-fdfe9fdb-f7ce-4b20-8a03-8c30fdd0614c label.sk-toggleable__label {cursor: pointer;display: block;width: 100%;margin-bottom: 0;padding: 0.3em;box-sizing: border-box;text-align: center;}#sk-fdfe9fdb-f7ce-4b20-8a03-8c30fdd0614c label.sk-toggleable__label-arrow:before {content: \"▸\";float: left;margin-right: 0.25em;color: #696969;}#sk-fdfe9fdb-f7ce-4b20-8a03-8c30fdd0614c label.sk-toggleable__label-arrow:hover:before {color: black;}#sk-fdfe9fdb-f7ce-4b20-8a03-8c30fdd0614c div.sk-estimator:hover label.sk-toggleable__label-arrow:before {color: black;}#sk-fdfe9fdb-f7ce-4b20-8a03-8c30fdd0614c div.sk-toggleable__content {max-height: 0;max-width: 0;overflow: hidden;text-align: left;background-color: #f0f8ff;}#sk-fdfe9fdb-f7ce-4b20-8a03-8c30fdd0614c div.sk-toggleable__content pre {margin: 0.2em;color: black;border-radius: 0.25em;background-color: #f0f8ff;}#sk-fdfe9fdb-f7ce-4b20-8a03-8c30fdd0614c input.sk-toggleable__control:checked~div.sk-toggleable__content {max-height: 200px;max-width: 100%;overflow: auto;}#sk-fdfe9fdb-f7ce-4b20-8a03-8c30fdd0614c input.sk-toggleable__control:checked~label.sk-toggleable__label-arrow:before {content: \"▾\";}#sk-fdfe9fdb-f7ce-4b20-8a03-8c30fdd0614c div.sk-estimator input.sk-toggleable__control:checked~label.sk-toggleable__label {background-color: #d4ebff;}#sk-fdfe9fdb-f7ce-4b20-8a03-8c30fdd0614c div.sk-label input.sk-toggleable__control:checked~label.sk-toggleable__label {background-color: #d4ebff;}#sk-fdfe9fdb-f7ce-4b20-8a03-8c30fdd0614c input.sk-hidden--visually {border: 0;clip: rect(1px 1px 1px 1px);clip: rect(1px, 1px, 1px, 1px);height: 1px;margin: -1px;overflow: hidden;padding: 0;position: absolute;width: 1px;}#sk-fdfe9fdb-f7ce-4b20-8a03-8c30fdd0614c div.sk-estimator {font-family: monospace;background-color: #f0f8ff;border: 1px dotted black;border-radius: 0.25em;box-sizing: border-box;margin-bottom: 0.5em;}#sk-fdfe9fdb-f7ce-4b20-8a03-8c30fdd0614c div.sk-estimator:hover {background-color: #d4ebff;}#sk-fdfe9fdb-f7ce-4b20-8a03-8c30fdd0614c div.sk-parallel-item::after {content: \"\";width: 100%;border-bottom: 1px solid gray;flex-grow: 1;}#sk-fdfe9fdb-f7ce-4b20-8a03-8c30fdd0614c div.sk-label:hover label.sk-toggleable__label {background-color: #d4ebff;}#sk-fdfe9fdb-f7ce-4b20-8a03-8c30fdd0614c div.sk-serial::before {content: \"\";position: absolute;border-left: 1px solid gray;box-sizing: border-box;top: 2em;bottom: 0;left: 50%;}#sk-fdfe9fdb-f7ce-4b20-8a03-8c30fdd0614c div.sk-serial {display: flex;flex-direction: column;align-items: center;background-color: white;padding-right: 0.2em;padding-left: 0.2em;}#sk-fdfe9fdb-f7ce-4b20-8a03-8c30fdd0614c div.sk-item {z-index: 1;}#sk-fdfe9fdb-f7ce-4b20-8a03-8c30fdd0614c div.sk-parallel {display: flex;align-items: stretch;justify-content: center;background-color: white;}#sk-fdfe9fdb-f7ce-4b20-8a03-8c30fdd0614c div.sk-parallel::before {content: \"\";position: absolute;border-left: 1px solid gray;box-sizing: border-box;top: 2em;bottom: 0;left: 50%;}#sk-fdfe9fdb-f7ce-4b20-8a03-8c30fdd0614c div.sk-parallel-item {display: flex;flex-direction: column;position: relative;background-color: white;}#sk-fdfe9fdb-f7ce-4b20-8a03-8c30fdd0614c div.sk-parallel-item:first-child::after {align-self: flex-end;width: 50%;}#sk-fdfe9fdb-f7ce-4b20-8a03-8c30fdd0614c div.sk-parallel-item:last-child::after {align-self: flex-start;width: 50%;}#sk-fdfe9fdb-f7ce-4b20-8a03-8c30fdd0614c div.sk-parallel-item:only-child::after {width: 0;}#sk-fdfe9fdb-f7ce-4b20-8a03-8c30fdd0614c div.sk-dashed-wrapped {border: 1px dashed gray;margin: 0 0.4em 0.5em 0.4em;box-sizing: border-box;padding-bottom: 0.4em;background-color: white;position: relative;}#sk-fdfe9fdb-f7ce-4b20-8a03-8c30fdd0614c div.sk-label label {font-family: monospace;font-weight: bold;background-color: white;display: inline-block;line-height: 1.2em;}#sk-fdfe9fdb-f7ce-4b20-8a03-8c30fdd0614c div.sk-label-container {position: relative;z-index: 2;text-align: center;}#sk-fdfe9fdb-f7ce-4b20-8a03-8c30fdd0614c div.sk-container {/* jupyter's `normalize.less` sets `[hidden] { display: none; }` but bootstrap.min.css set `[hidden] { display: none !important; }` so we also need the `!important` here to be able to override the default hidden behavior on the sphinx rendered scikit-learn.org. See: https://github.com/scikit-learn/scikit-learn/issues/21755 */display: inline-block !important;position: relative;}#sk-fdfe9fdb-f7ce-4b20-8a03-8c30fdd0614c div.sk-text-repr-fallback {display: none;}</style><div id=\"sk-fdfe9fdb-f7ce-4b20-8a03-8c30fdd0614c\" class=\"sk-top-container\"><div class=\"sk-text-repr-fallback\"><pre>Pipeline(steps=[(&#x27;columntransformer&#x27;,\n",
       "                 ColumnTransformer(remainder=&#x27;passthrough&#x27;,\n",
       "                                   transformers=[(&#x27;standardscaler&#x27;,\n",
       "                                                  StandardScaler(),\n",
       "                                                  [0, 1, 2, 3, 4, 5, 6, 7,\n",
       "                                                   8])])),\n",
       "                (&#x27;kneighborsclassifier&#x27;, KNeighborsClassifier(n_neighbors=11))])</pre><b>Please rerun this cell to show the HTML repr or trust the notebook.</b></div><div class=\"sk-container\" hidden><div class=\"sk-item sk-dashed-wrapped\"><div class=\"sk-label-container\"><div class=\"sk-label sk-toggleable\"><input class=\"sk-toggleable__control sk-hidden--visually\" id=\"e88c9021-25b4-4075-b5dc-a162d840746b\" type=\"checkbox\" ><label for=\"e88c9021-25b4-4075-b5dc-a162d840746b\" class=\"sk-toggleable__label sk-toggleable__label-arrow\">Pipeline</label><div class=\"sk-toggleable__content\"><pre>Pipeline(steps=[(&#x27;columntransformer&#x27;,\n",
       "                 ColumnTransformer(remainder=&#x27;passthrough&#x27;,\n",
       "                                   transformers=[(&#x27;standardscaler&#x27;,\n",
       "                                                  StandardScaler(),\n",
       "                                                  [0, 1, 2, 3, 4, 5, 6, 7,\n",
       "                                                   8])])),\n",
       "                (&#x27;kneighborsclassifier&#x27;, KNeighborsClassifier(n_neighbors=11))])</pre></div></div></div><div class=\"sk-serial\"><div class=\"sk-item sk-dashed-wrapped\"><div class=\"sk-label-container\"><div class=\"sk-label sk-toggleable\"><input class=\"sk-toggleable__control sk-hidden--visually\" id=\"a89c8cd9-b8f3-4871-95e0-92b6c6b241e3\" type=\"checkbox\" ><label for=\"a89c8cd9-b8f3-4871-95e0-92b6c6b241e3\" class=\"sk-toggleable__label sk-toggleable__label-arrow\">columntransformer: ColumnTransformer</label><div class=\"sk-toggleable__content\"><pre>ColumnTransformer(remainder=&#x27;passthrough&#x27;,\n",
       "                  transformers=[(&#x27;standardscaler&#x27;, StandardScaler(),\n",
       "                                 [0, 1, 2, 3, 4, 5, 6, 7, 8])])</pre></div></div></div><div class=\"sk-parallel\"><div class=\"sk-parallel-item\"><div class=\"sk-item\"><div class=\"sk-label-container\"><div class=\"sk-label sk-toggleable\"><input class=\"sk-toggleable__control sk-hidden--visually\" id=\"0d96975d-58b6-400b-9dd4-77f5aeed3a5f\" type=\"checkbox\" ><label for=\"0d96975d-58b6-400b-9dd4-77f5aeed3a5f\" class=\"sk-toggleable__label sk-toggleable__label-arrow\">standardscaler</label><div class=\"sk-toggleable__content\"><pre>[0, 1, 2, 3, 4, 5, 6, 7, 8]</pre></div></div></div><div class=\"sk-serial\"><div class=\"sk-item\"><div class=\"sk-estimator sk-toggleable\"><input class=\"sk-toggleable__control sk-hidden--visually\" id=\"5bdb75d0-a16d-42c6-9ab4-278ac0c423b4\" type=\"checkbox\" ><label for=\"5bdb75d0-a16d-42c6-9ab4-278ac0c423b4\" class=\"sk-toggleable__label sk-toggleable__label-arrow\">StandardScaler</label><div class=\"sk-toggleable__content\"><pre>StandardScaler()</pre></div></div></div></div></div></div><div class=\"sk-parallel-item\"><div class=\"sk-item\"><div class=\"sk-label-container\"><div class=\"sk-label sk-toggleable\"><input class=\"sk-toggleable__control sk-hidden--visually\" id=\"36fd08f8-3134-42c9-925b-a1e983746c7f\" type=\"checkbox\" ><label for=\"36fd08f8-3134-42c9-925b-a1e983746c7f\" class=\"sk-toggleable__label sk-toggleable__label-arrow\">remainder</label><div class=\"sk-toggleable__content\"><pre></pre></div></div></div><div class=\"sk-serial\"><div class=\"sk-item\"><div class=\"sk-estimator sk-toggleable\"><input class=\"sk-toggleable__control sk-hidden--visually\" id=\"47719970-a46d-4121-a9f6-5d27209cd3bb\" type=\"checkbox\" ><label for=\"47719970-a46d-4121-a9f6-5d27209cd3bb\" class=\"sk-toggleable__label sk-toggleable__label-arrow\">passthrough</label><div class=\"sk-toggleable__content\"><pre>passthrough</pre></div></div></div></div></div></div></div></div><div class=\"sk-item\"><div class=\"sk-estimator sk-toggleable\"><input class=\"sk-toggleable__control sk-hidden--visually\" id=\"9f1ace37-d617-4f20-91f9-ea710e612a58\" type=\"checkbox\" ><label for=\"9f1ace37-d617-4f20-91f9-ea710e612a58\" class=\"sk-toggleable__label sk-toggleable__label-arrow\">KNeighborsClassifier</label><div class=\"sk-toggleable__content\"><pre>KNeighborsClassifier(n_neighbors=11)</pre></div></div></div></div></div></div></div>"
      ],
      "text/plain": [
       "Pipeline(steps=[('columntransformer',\n",
       "                 ColumnTransformer(remainder='passthrough',\n",
       "                                   transformers=[('standardscaler',\n",
       "                                                  StandardScaler(),\n",
       "                                                  [0, 1, 2, 3, 4, 5, 6, 7,\n",
       "                                                   8])])),\n",
       "                ('kneighborsclassifier', KNeighborsClassifier(n_neighbors=11))])"
      ]
     },
     "execution_count": 93,
     "metadata": {},
     "output_type": "execute_result"
    }
   ],
   "source": [
    "model = KNeighborsClassifier(11)\n",
    "pipe = make_pipeline(trans, model)\n",
    "pipe\n"
   ]
  },
  {
   "cell_type": "code",
   "execution_count": 94,
   "metadata": {},
   "outputs": [
    {
     "data": {
      "text/html": [
       "<style>#sk-8129e140-92ea-489b-8b1e-a472bb2a2841 {color: black;background-color: white;}#sk-8129e140-92ea-489b-8b1e-a472bb2a2841 pre{padding: 0;}#sk-8129e140-92ea-489b-8b1e-a472bb2a2841 div.sk-toggleable {background-color: white;}#sk-8129e140-92ea-489b-8b1e-a472bb2a2841 label.sk-toggleable__label {cursor: pointer;display: block;width: 100%;margin-bottom: 0;padding: 0.3em;box-sizing: border-box;text-align: center;}#sk-8129e140-92ea-489b-8b1e-a472bb2a2841 label.sk-toggleable__label-arrow:before {content: \"▸\";float: left;margin-right: 0.25em;color: #696969;}#sk-8129e140-92ea-489b-8b1e-a472bb2a2841 label.sk-toggleable__label-arrow:hover:before {color: black;}#sk-8129e140-92ea-489b-8b1e-a472bb2a2841 div.sk-estimator:hover label.sk-toggleable__label-arrow:before {color: black;}#sk-8129e140-92ea-489b-8b1e-a472bb2a2841 div.sk-toggleable__content {max-height: 0;max-width: 0;overflow: hidden;text-align: left;background-color: #f0f8ff;}#sk-8129e140-92ea-489b-8b1e-a472bb2a2841 div.sk-toggleable__content pre {margin: 0.2em;color: black;border-radius: 0.25em;background-color: #f0f8ff;}#sk-8129e140-92ea-489b-8b1e-a472bb2a2841 input.sk-toggleable__control:checked~div.sk-toggleable__content {max-height: 200px;max-width: 100%;overflow: auto;}#sk-8129e140-92ea-489b-8b1e-a472bb2a2841 input.sk-toggleable__control:checked~label.sk-toggleable__label-arrow:before {content: \"▾\";}#sk-8129e140-92ea-489b-8b1e-a472bb2a2841 div.sk-estimator input.sk-toggleable__control:checked~label.sk-toggleable__label {background-color: #d4ebff;}#sk-8129e140-92ea-489b-8b1e-a472bb2a2841 div.sk-label input.sk-toggleable__control:checked~label.sk-toggleable__label {background-color: #d4ebff;}#sk-8129e140-92ea-489b-8b1e-a472bb2a2841 input.sk-hidden--visually {border: 0;clip: rect(1px 1px 1px 1px);clip: rect(1px, 1px, 1px, 1px);height: 1px;margin: -1px;overflow: hidden;padding: 0;position: absolute;width: 1px;}#sk-8129e140-92ea-489b-8b1e-a472bb2a2841 div.sk-estimator {font-family: monospace;background-color: #f0f8ff;border: 1px dotted black;border-radius: 0.25em;box-sizing: border-box;margin-bottom: 0.5em;}#sk-8129e140-92ea-489b-8b1e-a472bb2a2841 div.sk-estimator:hover {background-color: #d4ebff;}#sk-8129e140-92ea-489b-8b1e-a472bb2a2841 div.sk-parallel-item::after {content: \"\";width: 100%;border-bottom: 1px solid gray;flex-grow: 1;}#sk-8129e140-92ea-489b-8b1e-a472bb2a2841 div.sk-label:hover label.sk-toggleable__label {background-color: #d4ebff;}#sk-8129e140-92ea-489b-8b1e-a472bb2a2841 div.sk-serial::before {content: \"\";position: absolute;border-left: 1px solid gray;box-sizing: border-box;top: 2em;bottom: 0;left: 50%;}#sk-8129e140-92ea-489b-8b1e-a472bb2a2841 div.sk-serial {display: flex;flex-direction: column;align-items: center;background-color: white;padding-right: 0.2em;padding-left: 0.2em;}#sk-8129e140-92ea-489b-8b1e-a472bb2a2841 div.sk-item {z-index: 1;}#sk-8129e140-92ea-489b-8b1e-a472bb2a2841 div.sk-parallel {display: flex;align-items: stretch;justify-content: center;background-color: white;}#sk-8129e140-92ea-489b-8b1e-a472bb2a2841 div.sk-parallel::before {content: \"\";position: absolute;border-left: 1px solid gray;box-sizing: border-box;top: 2em;bottom: 0;left: 50%;}#sk-8129e140-92ea-489b-8b1e-a472bb2a2841 div.sk-parallel-item {display: flex;flex-direction: column;position: relative;background-color: white;}#sk-8129e140-92ea-489b-8b1e-a472bb2a2841 div.sk-parallel-item:first-child::after {align-self: flex-end;width: 50%;}#sk-8129e140-92ea-489b-8b1e-a472bb2a2841 div.sk-parallel-item:last-child::after {align-self: flex-start;width: 50%;}#sk-8129e140-92ea-489b-8b1e-a472bb2a2841 div.sk-parallel-item:only-child::after {width: 0;}#sk-8129e140-92ea-489b-8b1e-a472bb2a2841 div.sk-dashed-wrapped {border: 1px dashed gray;margin: 0 0.4em 0.5em 0.4em;box-sizing: border-box;padding-bottom: 0.4em;background-color: white;position: relative;}#sk-8129e140-92ea-489b-8b1e-a472bb2a2841 div.sk-label label {font-family: monospace;font-weight: bold;background-color: white;display: inline-block;line-height: 1.2em;}#sk-8129e140-92ea-489b-8b1e-a472bb2a2841 div.sk-label-container {position: relative;z-index: 2;text-align: center;}#sk-8129e140-92ea-489b-8b1e-a472bb2a2841 div.sk-container {/* jupyter's `normalize.less` sets `[hidden] { display: none; }` but bootstrap.min.css set `[hidden] { display: none !important; }` so we also need the `!important` here to be able to override the default hidden behavior on the sphinx rendered scikit-learn.org. See: https://github.com/scikit-learn/scikit-learn/issues/21755 */display: inline-block !important;position: relative;}#sk-8129e140-92ea-489b-8b1e-a472bb2a2841 div.sk-text-repr-fallback {display: none;}</style><div id=\"sk-8129e140-92ea-489b-8b1e-a472bb2a2841\" class=\"sk-top-container\"><div class=\"sk-text-repr-fallback\"><pre>Pipeline(steps=[(&#x27;columntransformer&#x27;,\n",
       "                 ColumnTransformer(remainder=&#x27;passthrough&#x27;,\n",
       "                                   transformers=[(&#x27;standardscaler&#x27;,\n",
       "                                                  StandardScaler(),\n",
       "                                                  [0, 1, 2, 3, 4, 5, 6, 7,\n",
       "                                                   8])])),\n",
       "                (&#x27;kneighborsclassifier&#x27;, KNeighborsClassifier(n_neighbors=11))])</pre><b>Please rerun this cell to show the HTML repr or trust the notebook.</b></div><div class=\"sk-container\" hidden><div class=\"sk-item sk-dashed-wrapped\"><div class=\"sk-label-container\"><div class=\"sk-label sk-toggleable\"><input class=\"sk-toggleable__control sk-hidden--visually\" id=\"6dcf8741-106c-41f6-9864-ef9bacf58167\" type=\"checkbox\" ><label for=\"6dcf8741-106c-41f6-9864-ef9bacf58167\" class=\"sk-toggleable__label sk-toggleable__label-arrow\">Pipeline</label><div class=\"sk-toggleable__content\"><pre>Pipeline(steps=[(&#x27;columntransformer&#x27;,\n",
       "                 ColumnTransformer(remainder=&#x27;passthrough&#x27;,\n",
       "                                   transformers=[(&#x27;standardscaler&#x27;,\n",
       "                                                  StandardScaler(),\n",
       "                                                  [0, 1, 2, 3, 4, 5, 6, 7,\n",
       "                                                   8])])),\n",
       "                (&#x27;kneighborsclassifier&#x27;, KNeighborsClassifier(n_neighbors=11))])</pre></div></div></div><div class=\"sk-serial\"><div class=\"sk-item sk-dashed-wrapped\"><div class=\"sk-label-container\"><div class=\"sk-label sk-toggleable\"><input class=\"sk-toggleable__control sk-hidden--visually\" id=\"38f7b3e3-b633-45a1-8881-adf5bd5ee496\" type=\"checkbox\" ><label for=\"38f7b3e3-b633-45a1-8881-adf5bd5ee496\" class=\"sk-toggleable__label sk-toggleable__label-arrow\">columntransformer: ColumnTransformer</label><div class=\"sk-toggleable__content\"><pre>ColumnTransformer(remainder=&#x27;passthrough&#x27;,\n",
       "                  transformers=[(&#x27;standardscaler&#x27;, StandardScaler(),\n",
       "                                 [0, 1, 2, 3, 4, 5, 6, 7, 8])])</pre></div></div></div><div class=\"sk-parallel\"><div class=\"sk-parallel-item\"><div class=\"sk-item\"><div class=\"sk-label-container\"><div class=\"sk-label sk-toggleable\"><input class=\"sk-toggleable__control sk-hidden--visually\" id=\"588badd3-4769-44aa-a726-f522b7547eac\" type=\"checkbox\" ><label for=\"588badd3-4769-44aa-a726-f522b7547eac\" class=\"sk-toggleable__label sk-toggleable__label-arrow\">standardscaler</label><div class=\"sk-toggleable__content\"><pre>[0, 1, 2, 3, 4, 5, 6, 7, 8]</pre></div></div></div><div class=\"sk-serial\"><div class=\"sk-item\"><div class=\"sk-estimator sk-toggleable\"><input class=\"sk-toggleable__control sk-hidden--visually\" id=\"a034a380-fe45-4fd7-9cc7-6cca8751f89c\" type=\"checkbox\" ><label for=\"a034a380-fe45-4fd7-9cc7-6cca8751f89c\" class=\"sk-toggleable__label sk-toggleable__label-arrow\">StandardScaler</label><div class=\"sk-toggleable__content\"><pre>StandardScaler()</pre></div></div></div></div></div></div><div class=\"sk-parallel-item\"><div class=\"sk-item\"><div class=\"sk-label-container\"><div class=\"sk-label sk-toggleable\"><input class=\"sk-toggleable__control sk-hidden--visually\" id=\"cfb6d9a6-9ac5-47c3-bc7e-c37f0d55d3b2\" type=\"checkbox\" ><label for=\"cfb6d9a6-9ac5-47c3-bc7e-c37f0d55d3b2\" class=\"sk-toggleable__label sk-toggleable__label-arrow\">remainder</label><div class=\"sk-toggleable__content\"><pre>[&#x27;Ti_Minor&#x27;]</pre></div></div></div><div class=\"sk-serial\"><div class=\"sk-item\"><div class=\"sk-estimator sk-toggleable\"><input class=\"sk-toggleable__control sk-hidden--visually\" id=\"878be35c-bac5-469e-b79f-c4a4333d9253\" type=\"checkbox\" ><label for=\"878be35c-bac5-469e-b79f-c4a4333d9253\" class=\"sk-toggleable__label sk-toggleable__label-arrow\">passthrough</label><div class=\"sk-toggleable__content\"><pre>passthrough</pre></div></div></div></div></div></div></div></div><div class=\"sk-item\"><div class=\"sk-estimator sk-toggleable\"><input class=\"sk-toggleable__control sk-hidden--visually\" id=\"6c746a7a-45bf-4431-83f2-1903dab34f6f\" type=\"checkbox\" ><label for=\"6c746a7a-45bf-4431-83f2-1903dab34f6f\" class=\"sk-toggleable__label sk-toggleable__label-arrow\">KNeighborsClassifier</label><div class=\"sk-toggleable__content\"><pre>KNeighborsClassifier(n_neighbors=11)</pre></div></div></div></div></div></div></div>"
      ],
      "text/plain": [
       "Pipeline(steps=[('columntransformer',\n",
       "                 ColumnTransformer(remainder='passthrough',\n",
       "                                   transformers=[('standardscaler',\n",
       "                                                  StandardScaler(),\n",
       "                                                  [0, 1, 2, 3, 4, 5, 6, 7,\n",
       "                                                   8])])),\n",
       "                ('kneighborsclassifier', KNeighborsClassifier(n_neighbors=11))])"
      ]
     },
     "execution_count": 94,
     "metadata": {},
     "output_type": "execute_result"
    }
   ],
   "source": [
    "model = KNeighborsClassifier(11)\n",
    "pipe = make_pipeline(trans, model)\n",
    "pipe\n",
    "pipe.fit(x1_train, y1_train)\n"
   ]
  },
  {
   "cell_type": "code",
   "execution_count": 95,
   "metadata": {},
   "outputs": [],
   "source": [
    "df_train['Embarked_Code'] = df_train['Embarked'].astype('category').cat.codes\n"
   ]
  },
  {
   "cell_type": "code",
   "execution_count": 96,
   "metadata": {},
   "outputs": [],
   "source": [
    "df_train['Sex_Code'] = df_train['Sex'].astype('category').cat.codes\n"
   ]
  },
  {
   "cell_type": "code",
   "execution_count": 97,
   "metadata": {},
   "outputs": [
    {
     "data": {
      "text/html": [
       "<div>\n",
       "<style scoped>\n",
       "    .dataframe tbody tr th:only-of-type {\n",
       "        vertical-align: middle;\n",
       "    }\n",
       "\n",
       "    .dataframe tbody tr th {\n",
       "        vertical-align: top;\n",
       "    }\n",
       "\n",
       "    .dataframe thead th {\n",
       "        text-align: right;\n",
       "    }\n",
       "</style>\n",
       "<table border=\"1\" class=\"dataframe\">\n",
       "  <thead>\n",
       "    <tr style=\"text-align: right;\">\n",
       "      <th>Pclass</th>\n",
       "      <th>1</th>\n",
       "      <th>2</th>\n",
       "      <th>3</th>\n",
       "    </tr>\n",
       "    <tr>\n",
       "      <th>Fare_Code</th>\n",
       "      <th></th>\n",
       "      <th></th>\n",
       "      <th></th>\n",
       "    </tr>\n",
       "  </thead>\n",
       "  <tbody>\n",
       "    <tr>\n",
       "      <th>0</th>\n",
       "      <td>8</td>\n",
       "      <td>6</td>\n",
       "      <td>261</td>\n",
       "    </tr>\n",
       "    <tr>\n",
       "      <th>1</th>\n",
       "      <td>0</td>\n",
       "      <td>36</td>\n",
       "      <td>218</td>\n",
       "    </tr>\n",
       "    <tr>\n",
       "      <th>2</th>\n",
       "      <td>0</td>\n",
       "      <td>124</td>\n",
       "      <td>134</td>\n",
       "    </tr>\n",
       "    <tr>\n",
       "      <th>3</th>\n",
       "      <td>95</td>\n",
       "      <td>99</td>\n",
       "      <td>69</td>\n",
       "    </tr>\n",
       "    <tr>\n",
       "      <th>4</th>\n",
       "      <td>220</td>\n",
       "      <td>12</td>\n",
       "      <td>27</td>\n",
       "    </tr>\n",
       "  </tbody>\n",
       "</table>\n",
       "</div>"
      ],
      "text/plain": [
       "Pclass       1    2    3\n",
       "Fare_Code               \n",
       "0            8    6  261\n",
       "1            0   36  218\n",
       "2            0  124  134\n",
       "3           95   99   69\n",
       "4          220   12   27"
      ]
     },
     "execution_count": 97,
     "metadata": {},
     "output_type": "execute_result"
    }
   ],
   "source": [
    "df_train['Fare_Code'] = pd.qcut(df_train['Fare'], 5)\n",
    "label = LabelEncoder()\n",
    "df_train['Fare_Code'] = label.fit_transform(df_train['Fare_Code'])\n",
    "pd.crosstab(df_train['Fare_Code'], df_train['Pclass'])\n"
   ]
  },
  {
   "cell_type": "code",
   "execution_count": 98,
   "metadata": {},
   "outputs": [],
   "source": [
    "Ti_pred = df_data.groupby('Title')['Age'].mean().values\n",
    "df_train['Ti_Age'] = df_data['Age']\n",
    "\n",
    "for i in range(len(df_data['Title_Code'].unique())):\n",
    "    df_data.loc[(df_data.Age.isnull()) & (\n",
    "        df_data.Title_Code == i), 'Ti_Age'] = Ti_pred[i]\n",
    "\n",
    "df_train['Ti_Age'] = df_data['Ti_Age'].astype('int')\n",
    "\n",
    "df_train['Ti_Minor'] = ((df_data['Ti_Age']) < 18.0) * 1\n"
   ]
  },
  {
   "cell_type": "code",
   "execution_count": 99,
   "metadata": {},
   "outputs": [
    {
     "data": {
      "text/plain": [
       "Index(['Pclass', 'Name', 'Sex', 'Age', 'SibSp', 'Parch', 'Ticket', 'Fare',\n",
       "       'Cabin', 'Embarked', 'Family_Size', 'Embarked_Code', 'Sex_Code',\n",
       "       'Fare_Code', 'Ti_Age', 'Ti_Minor'],\n",
       "      dtype='object')"
      ]
     },
     "execution_count": 99,
     "metadata": {},
     "output_type": "execute_result"
    }
   ],
   "source": [
    "df_train = df_train[:len(df_train)]\n",
    "df_test = df_train[len(df_train):]\n",
    "X1 = df_train.drop(labels=['Survived'], axis=1)\n",
    "Y1 = df_train['Survived']\n",
    "X1.columns\n"
   ]
  },
  {
   "cell_type": "code",
   "execution_count": 100,
   "metadata": {},
   "outputs": [
    {
     "name": "stdout",
     "output_type": "stream",
     "text": [
      "oob_score: 0.86784\n"
     ]
    }
   ],
   "source": [
    "Features = ['Pclass', 'Sex_Code', 'Fare_Code', 'Embarked_Code', 'Ti_Minor']\n",
    "Model = RandomForestClassifier(\n",
    "    random_state=2, n_estimators=250, min_samples_split=20, oob_score=True)\n",
    "Model.fit(X1[Features], Y1)\n",
    "print(\"oob_score: %.5f\" % (Model.oob_score_))\n"
   ]
  },
  {
   "cell_type": "code",
   "execution_count": 101,
   "metadata": {},
   "outputs": [],
   "source": [
    "# data transformation on Age column\n",
    "# Grouping age values\n",
    "\n",
    "train_df.loc[train_df['Age'].round() <= 10, 'age_group'] = 'children'\n",
    "train_df.loc[train_df['Age'].round().between(11, 18), 'age_group'] = 'teenage'\n",
    "train_df.loc[train_df['Age'].round().between(18, 60), 'age_group'] = 'adult'\n",
    "train_df.loc[train_df['Age'].round() > 60, 'age_group'] = 'elder'\n",
    "\n",
    "\n",
    "# Age grouping using mean values\n",
    "train_df.loc[train_df['Age'].round() <= 10, 'mean_age'] = 5\n",
    "train_df.loc[train_df['Age'].round().between(11, 20), 'mean_age'] = 15\n",
    "train_df.loc[train_df['Age'].round().between(21, 30), 'mean_age'] = 25\n",
    "train_df.loc[train_df['Age'].round().between(31, 40), 'mean_age'] = 35\n",
    "train_df.loc[train_df['Age'].round().between(41, 50), 'mean_age'] = 45\n",
    "train_df.loc[train_df['Age'].round().between(51, 60), 'mean_age'] = 55\n",
    "train_df.loc[train_df['Age'].round().between(61, 70), 'mean_age'] = 65\n",
    "train_df.loc[train_df['Age'] > 70, 'mean_age'] = 75\n"
   ]
  },
  {
   "cell_type": "code",
   "execution_count": 102,
   "metadata": {},
   "outputs": [
    {
     "name": "stdout",
     "output_type": "stream",
     "text": [
      "Maximum of Fare:  512.3292\n",
      "Minimum of Fare:  0.0\n",
      "Mean of the Fare:  33.29525355233006\n"
     ]
    }
   ],
   "source": [
    "print('Maximum of Fare: ', df_train['Fare'].max())\n",
    "print('Minimum of Fare: ', df_train['Fare'].min())\n",
    "print('Mean of the Fare: ', train_df['Fare'].mean())\n",
    "\n",
    "# Fare grouping using mean values of the range\n",
    "train_df.loc[train_df['Fare'].round() <= 100, 'binned_fare'] = 50\n",
    "train_df.loc[train_df['Fare'].round().between(101, 200), 'binned_fare'] = 150\n",
    "train_df.loc[train_df['Fare'].round().between(201, 300), 'binned_fare'] = 250\n",
    "train_df.loc[train_df['Fare'].round().between(301, 400), 'binned_fare'] = 350\n",
    "train_df.loc[train_df['Fare'].round().between(401, 500), 'binned_fare'] = 450\n",
    "train_df.loc[train_df['Fare'] > 500, 'binned_fare'] = 550\n"
   ]
  },
  {
   "cell_type": "code",
   "execution_count": 103,
   "metadata": {},
   "outputs": [
    {
     "data": {
      "text/html": [
       "<div>\n",
       "<style scoped>\n",
       "    .dataframe tbody tr th:only-of-type {\n",
       "        vertical-align: middle;\n",
       "    }\n",
       "\n",
       "    .dataframe tbody tr th {\n",
       "        vertical-align: top;\n",
       "    }\n",
       "\n",
       "    .dataframe thead th {\n",
       "        text-align: right;\n",
       "    }\n",
       "</style>\n",
       "<table border=\"1\" class=\"dataframe\">\n",
       "  <thead>\n",
       "    <tr style=\"text-align: right;\">\n",
       "      <th></th>\n",
       "      <th>Survived</th>\n",
       "      <th>Pclass</th>\n",
       "      <th>Name</th>\n",
       "      <th>Sex</th>\n",
       "      <th>Age</th>\n",
       "      <th>SibSp</th>\n",
       "      <th>Parch</th>\n",
       "      <th>Ticket</th>\n",
       "      <th>Fare</th>\n",
       "      <th>Cabin</th>\n",
       "      <th>Embarked</th>\n",
       "      <th>age_group</th>\n",
       "      <th>mean_age</th>\n",
       "      <th>binned_fare</th>\n",
       "    </tr>\n",
       "  </thead>\n",
       "  <tbody>\n",
       "    <tr>\n",
       "      <th>0</th>\n",
       "      <td>Deceased</td>\n",
       "      <td>Third Class</td>\n",
       "      <td>Braund, Mr. Owen Harris</td>\n",
       "      <td>male</td>\n",
       "      <td>22.0</td>\n",
       "      <td>1</td>\n",
       "      <td>0</td>\n",
       "      <td>A/5 21171</td>\n",
       "      <td>7.2500</td>\n",
       "      <td>NaN</td>\n",
       "      <td>Southampton</td>\n",
       "      <td>adult</td>\n",
       "      <td>25.0</td>\n",
       "      <td>50.0</td>\n",
       "    </tr>\n",
       "    <tr>\n",
       "      <th>1</th>\n",
       "      <td>Survived</td>\n",
       "      <td>First Class</td>\n",
       "      <td>Cumings, Mrs. John Bradley (Florence Briggs Th...</td>\n",
       "      <td>female</td>\n",
       "      <td>38.0</td>\n",
       "      <td>1</td>\n",
       "      <td>0</td>\n",
       "      <td>PC 17599</td>\n",
       "      <td>71.2833</td>\n",
       "      <td>C85</td>\n",
       "      <td>Cherbourg</td>\n",
       "      <td>adult</td>\n",
       "      <td>35.0</td>\n",
       "      <td>50.0</td>\n",
       "    </tr>\n",
       "    <tr>\n",
       "      <th>2</th>\n",
       "      <td>Survived</td>\n",
       "      <td>Third Class</td>\n",
       "      <td>Heikkinen, Miss. Laina</td>\n",
       "      <td>female</td>\n",
       "      <td>26.0</td>\n",
       "      <td>0</td>\n",
       "      <td>0</td>\n",
       "      <td>STON/O2. 3101282</td>\n",
       "      <td>7.9250</td>\n",
       "      <td>NaN</td>\n",
       "      <td>Southampton</td>\n",
       "      <td>adult</td>\n",
       "      <td>25.0</td>\n",
       "      <td>50.0</td>\n",
       "    </tr>\n",
       "    <tr>\n",
       "      <th>3</th>\n",
       "      <td>Survived</td>\n",
       "      <td>First Class</td>\n",
       "      <td>Futrelle, Mrs. Jacques Heath (Lily May Peel)</td>\n",
       "      <td>female</td>\n",
       "      <td>35.0</td>\n",
       "      <td>1</td>\n",
       "      <td>0</td>\n",
       "      <td>113803</td>\n",
       "      <td>53.1000</td>\n",
       "      <td>C123</td>\n",
       "      <td>Southampton</td>\n",
       "      <td>adult</td>\n",
       "      <td>35.0</td>\n",
       "      <td>50.0</td>\n",
       "    </tr>\n",
       "    <tr>\n",
       "      <th>4</th>\n",
       "      <td>Deceased</td>\n",
       "      <td>Third Class</td>\n",
       "      <td>Allen, Mr. William Henry</td>\n",
       "      <td>male</td>\n",
       "      <td>35.0</td>\n",
       "      <td>0</td>\n",
       "      <td>0</td>\n",
       "      <td>373450</td>\n",
       "      <td>8.0500</td>\n",
       "      <td>NaN</td>\n",
       "      <td>Southampton</td>\n",
       "      <td>adult</td>\n",
       "      <td>35.0</td>\n",
       "      <td>50.0</td>\n",
       "    </tr>\n",
       "    <tr>\n",
       "      <th>...</th>\n",
       "      <td>...</td>\n",
       "      <td>...</td>\n",
       "      <td>...</td>\n",
       "      <td>...</td>\n",
       "      <td>...</td>\n",
       "      <td>...</td>\n",
       "      <td>...</td>\n",
       "      <td>...</td>\n",
       "      <td>...</td>\n",
       "      <td>...</td>\n",
       "      <td>...</td>\n",
       "      <td>...</td>\n",
       "      <td>...</td>\n",
       "      <td>...</td>\n",
       "    </tr>\n",
       "    <tr>\n",
       "      <th>1304</th>\n",
       "      <td>Deceased</td>\n",
       "      <td>Third Class</td>\n",
       "      <td>Spector, Mr. Woolf</td>\n",
       "      <td>male</td>\n",
       "      <td>30.0</td>\n",
       "      <td>0</td>\n",
       "      <td>0</td>\n",
       "      <td>A.5. 3236</td>\n",
       "      <td>8.0500</td>\n",
       "      <td>NaN</td>\n",
       "      <td>Southampton</td>\n",
       "      <td>adult</td>\n",
       "      <td>25.0</td>\n",
       "      <td>50.0</td>\n",
       "    </tr>\n",
       "    <tr>\n",
       "      <th>1305</th>\n",
       "      <td>Survived</td>\n",
       "      <td>First Class</td>\n",
       "      <td>Oliva y Ocana, Dona. Fermina</td>\n",
       "      <td>female</td>\n",
       "      <td>39.0</td>\n",
       "      <td>0</td>\n",
       "      <td>0</td>\n",
       "      <td>PC 17758</td>\n",
       "      <td>108.9000</td>\n",
       "      <td>C105</td>\n",
       "      <td>Cherbourg</td>\n",
       "      <td>adult</td>\n",
       "      <td>35.0</td>\n",
       "      <td>150.0</td>\n",
       "    </tr>\n",
       "    <tr>\n",
       "      <th>1306</th>\n",
       "      <td>Deceased</td>\n",
       "      <td>Third Class</td>\n",
       "      <td>Saether, Mr. Simon Sivertsen</td>\n",
       "      <td>male</td>\n",
       "      <td>38.5</td>\n",
       "      <td>0</td>\n",
       "      <td>0</td>\n",
       "      <td>SOTON/O.Q. 3101262</td>\n",
       "      <td>7.2500</td>\n",
       "      <td>NaN</td>\n",
       "      <td>Southampton</td>\n",
       "      <td>adult</td>\n",
       "      <td>35.0</td>\n",
       "      <td>50.0</td>\n",
       "    </tr>\n",
       "    <tr>\n",
       "      <th>1307</th>\n",
       "      <td>Deceased</td>\n",
       "      <td>Third Class</td>\n",
       "      <td>Ware, Mr. Frederick</td>\n",
       "      <td>male</td>\n",
       "      <td>30.0</td>\n",
       "      <td>0</td>\n",
       "      <td>0</td>\n",
       "      <td>359309</td>\n",
       "      <td>8.0500</td>\n",
       "      <td>NaN</td>\n",
       "      <td>Southampton</td>\n",
       "      <td>adult</td>\n",
       "      <td>25.0</td>\n",
       "      <td>50.0</td>\n",
       "    </tr>\n",
       "    <tr>\n",
       "      <th>1308</th>\n",
       "      <td>Deceased</td>\n",
       "      <td>Third Class</td>\n",
       "      <td>Peter, Master. Michael J</td>\n",
       "      <td>male</td>\n",
       "      <td>30.0</td>\n",
       "      <td>1</td>\n",
       "      <td>1</td>\n",
       "      <td>2668</td>\n",
       "      <td>22.3583</td>\n",
       "      <td>NaN</td>\n",
       "      <td>Cherbourg</td>\n",
       "      <td>adult</td>\n",
       "      <td>25.0</td>\n",
       "      <td>50.0</td>\n",
       "    </tr>\n",
       "  </tbody>\n",
       "</table>\n",
       "<p>1309 rows × 14 columns</p>\n",
       "</div>"
      ],
      "text/plain": [
       "      Survived       Pclass  \\\n",
       "0     Deceased  Third Class   \n",
       "1     Survived  First Class   \n",
       "2     Survived  Third Class   \n",
       "3     Survived  First Class   \n",
       "4     Deceased  Third Class   \n",
       "...        ...          ...   \n",
       "1304  Deceased  Third Class   \n",
       "1305  Survived  First Class   \n",
       "1306  Deceased  Third Class   \n",
       "1307  Deceased  Third Class   \n",
       "1308  Deceased  Third Class   \n",
       "\n",
       "                                                   Name     Sex   Age  SibSp  \\\n",
       "0                               Braund, Mr. Owen Harris    male  22.0      1   \n",
       "1     Cumings, Mrs. John Bradley (Florence Briggs Th...  female  38.0      1   \n",
       "2                                Heikkinen, Miss. Laina  female  26.0      0   \n",
       "3          Futrelle, Mrs. Jacques Heath (Lily May Peel)  female  35.0      1   \n",
       "4                              Allen, Mr. William Henry    male  35.0      0   \n",
       "...                                                 ...     ...   ...    ...   \n",
       "1304                                 Spector, Mr. Woolf    male  30.0      0   \n",
       "1305                       Oliva y Ocana, Dona. Fermina  female  39.0      0   \n",
       "1306                       Saether, Mr. Simon Sivertsen    male  38.5      0   \n",
       "1307                                Ware, Mr. Frederick    male  30.0      0   \n",
       "1308                           Peter, Master. Michael J    male  30.0      1   \n",
       "\n",
       "      Parch              Ticket      Fare Cabin     Embarked age_group  \\\n",
       "0         0           A/5 21171    7.2500   NaN  Southampton     adult   \n",
       "1         0            PC 17599   71.2833   C85    Cherbourg     adult   \n",
       "2         0    STON/O2. 3101282    7.9250   NaN  Southampton     adult   \n",
       "3         0              113803   53.1000  C123  Southampton     adult   \n",
       "4         0              373450    8.0500   NaN  Southampton     adult   \n",
       "...     ...                 ...       ...   ...          ...       ...   \n",
       "1304      0           A.5. 3236    8.0500   NaN  Southampton     adult   \n",
       "1305      0            PC 17758  108.9000  C105    Cherbourg     adult   \n",
       "1306      0  SOTON/O.Q. 3101262    7.2500   NaN  Southampton     adult   \n",
       "1307      0              359309    8.0500   NaN  Southampton     adult   \n",
       "1308      1                2668   22.3583   NaN    Cherbourg     adult   \n",
       "\n",
       "      mean_age  binned_fare  \n",
       "0         25.0         50.0  \n",
       "1         35.0         50.0  \n",
       "2         25.0         50.0  \n",
       "3         35.0         50.0  \n",
       "4         35.0         50.0  \n",
       "...        ...          ...  \n",
       "1304      25.0         50.0  \n",
       "1305      35.0        150.0  \n",
       "1306      35.0         50.0  \n",
       "1307      25.0         50.0  \n",
       "1308      25.0         50.0  \n",
       "\n",
       "[1309 rows x 14 columns]"
      ]
     },
     "execution_count": 103,
     "metadata": {},
     "output_type": "execute_result"
    }
   ],
   "source": [
    "train_df\n"
   ]
  },
  {
   "cell_type": "code",
   "execution_count": 104,
   "metadata": {},
   "outputs": [],
   "source": [
    "# Calculate variance using a function\n",
    "\n",
    "def variance_calculator(df_variable):\n",
    "    sum_variable = 0\n",
    "    for value in df_variable:\n",
    "        if (isnan(value) != True):\n",
    "            sum_variable += value\n",
    "    mean = sum_variable/len(df_variable)\n",
    "\n",
    "    sum_of_squares = 0\n",
    "    for value in df_variable:\n",
    "        if (isnan(value) != True):\n",
    "            sum_of_squares += value ** 2\n",
    "    mean_squares = sum_of_squares/len(df_variable)\n",
    "\n",
    "    return mean_squares - mean**2\n",
    "\n",
    "# The above calculation can also be done using the method numpy.var\n",
    "# np.var(df_variable)\n"
   ]
  },
  {
   "cell_type": "code",
   "execution_count": 105,
   "metadata": {},
   "outputs": [
    {
     "name": "stdout",
     "output_type": "stream",
     "text": [
      "Variance of Fare calculated using the defined function 2674.87\n",
      "Variance of Fare calculated using numpy function 2674.87\n"
     ]
    }
   ],
   "source": [
    "print(\n",
    "    f'Variance of Fare calculated using the defined function {round(variance_calculator(train_df.Fare),2)}')\n",
    "print(\n",
    "    f'Variance of Fare calculated using numpy function {round(np.var(train_df.Fare),2)}')\n"
   ]
  },
  {
   "cell_type": "markdown",
   "metadata": {},
   "source": [
    "Family class with parent and children\n",
    "\n",
    "SibSp: number of siblings/spouse\n",
    "\n",
    "Parch: number of childre/parents\n",
    "\n",
    "With the number of siblings or spouse and the number of children or parents we can create new class called Family."
   ]
  },
  {
   "cell_type": "code",
   "execution_count": 106,
   "metadata": {},
   "outputs": [
    {
     "data": {
      "text/html": [
       "<div>\n",
       "<style scoped>\n",
       "    .dataframe tbody tr th:only-of-type {\n",
       "        vertical-align: middle;\n",
       "    }\n",
       "\n",
       "    .dataframe tbody tr th {\n",
       "        vertical-align: top;\n",
       "    }\n",
       "\n",
       "    .dataframe thead th {\n",
       "        text-align: right;\n",
       "    }\n",
       "</style>\n",
       "<table border=\"1\" class=\"dataframe\">\n",
       "  <thead>\n",
       "    <tr style=\"text-align: right;\">\n",
       "      <th></th>\n",
       "      <th>Survived</th>\n",
       "      <th>Name</th>\n",
       "      <th>Sex</th>\n",
       "      <th>Age</th>\n",
       "      <th>Ticket</th>\n",
       "      <th>Pclass</th>\n",
       "    </tr>\n",
       "  </thead>\n",
       "  <tbody>\n",
       "    <tr>\n",
       "      <th>0</th>\n",
       "      <td>0</td>\n",
       "      <td>Braund, Mr. Owen Harris</td>\n",
       "      <td>male</td>\n",
       "      <td>22.0</td>\n",
       "      <td>A/5 21171</td>\n",
       "      <td>3</td>\n",
       "    </tr>\n",
       "    <tr>\n",
       "      <th>1</th>\n",
       "      <td>1</td>\n",
       "      <td>Cumings, Mrs. John Bradley (Florence Briggs Th...</td>\n",
       "      <td>female</td>\n",
       "      <td>38.0</td>\n",
       "      <td>PC 17599</td>\n",
       "      <td>1</td>\n",
       "    </tr>\n",
       "    <tr>\n",
       "      <th>3</th>\n",
       "      <td>1</td>\n",
       "      <td>Futrelle, Mrs. Jacques Heath (Lily May Peel)</td>\n",
       "      <td>female</td>\n",
       "      <td>35.0</td>\n",
       "      <td>113803</td>\n",
       "      <td>1</td>\n",
       "    </tr>\n",
       "    <tr>\n",
       "      <th>7</th>\n",
       "      <td>0</td>\n",
       "      <td>Palsson, Master. Gosta Leonard</td>\n",
       "      <td>male</td>\n",
       "      <td>2.0</td>\n",
       "      <td>349909</td>\n",
       "      <td>3</td>\n",
       "    </tr>\n",
       "    <tr>\n",
       "      <th>8</th>\n",
       "      <td>1</td>\n",
       "      <td>Johnson, Mrs. Oscar W (Elisabeth Vilhelmina Berg)</td>\n",
       "      <td>female</td>\n",
       "      <td>27.0</td>\n",
       "      <td>347742</td>\n",
       "      <td>3</td>\n",
       "    </tr>\n",
       "    <tr>\n",
       "      <th>...</th>\n",
       "      <td>...</td>\n",
       "      <td>...</td>\n",
       "      <td>...</td>\n",
       "      <td>...</td>\n",
       "      <td>...</td>\n",
       "      <td>...</td>\n",
       "    </tr>\n",
       "    <tr>\n",
       "      <th>1297</th>\n",
       "      <td>0</td>\n",
       "      <td>Ware, Mr. William Jeffery</td>\n",
       "      <td>male</td>\n",
       "      <td>23.0</td>\n",
       "      <td>28666</td>\n",
       "      <td>2</td>\n",
       "    </tr>\n",
       "    <tr>\n",
       "      <th>1298</th>\n",
       "      <td>0</td>\n",
       "      <td>Widener, Mr. George Dunton</td>\n",
       "      <td>male</td>\n",
       "      <td>50.0</td>\n",
       "      <td>113503</td>\n",
       "      <td>1</td>\n",
       "    </tr>\n",
       "    <tr>\n",
       "      <th>1300</th>\n",
       "      <td>1</td>\n",
       "      <td>Peacock, Miss. Treasteall</td>\n",
       "      <td>female</td>\n",
       "      <td>3.0</td>\n",
       "      <td>SOTON/O.Q. 3101315</td>\n",
       "      <td>3</td>\n",
       "    </tr>\n",
       "    <tr>\n",
       "      <th>1302</th>\n",
       "      <td>1</td>\n",
       "      <td>Minahan, Mrs. William Edward (Lillian E Thorpe)</td>\n",
       "      <td>female</td>\n",
       "      <td>37.0</td>\n",
       "      <td>19928</td>\n",
       "      <td>1</td>\n",
       "    </tr>\n",
       "    <tr>\n",
       "      <th>1308</th>\n",
       "      <td>0</td>\n",
       "      <td>Peter, Master. Michael J</td>\n",
       "      <td>male</td>\n",
       "      <td>30.0</td>\n",
       "      <td>2668</td>\n",
       "      <td>3</td>\n",
       "    </tr>\n",
       "  </tbody>\n",
       "</table>\n",
       "<p>519 rows × 6 columns</p>\n",
       "</div>"
      ],
      "text/plain": [
       "      Survived                                               Name     Sex  \\\n",
       "0            0                            Braund, Mr. Owen Harris    male   \n",
       "1            1  Cumings, Mrs. John Bradley (Florence Briggs Th...  female   \n",
       "3            1       Futrelle, Mrs. Jacques Heath (Lily May Peel)  female   \n",
       "7            0                     Palsson, Master. Gosta Leonard    male   \n",
       "8            1  Johnson, Mrs. Oscar W (Elisabeth Vilhelmina Berg)  female   \n",
       "...        ...                                                ...     ...   \n",
       "1297         0                          Ware, Mr. William Jeffery    male   \n",
       "1298         0                         Widener, Mr. George Dunton    male   \n",
       "1300         1                          Peacock, Miss. Treasteall  female   \n",
       "1302         1    Minahan, Mrs. William Edward (Lillian E Thorpe)  female   \n",
       "1308         0                           Peter, Master. Michael J    male   \n",
       "\n",
       "       Age              Ticket  Pclass  \n",
       "0     22.0           A/5 21171       3  \n",
       "1     38.0            PC 17599       1  \n",
       "3     35.0              113803       1  \n",
       "7      2.0              349909       3  \n",
       "8     27.0              347742       3  \n",
       "...    ...                 ...     ...  \n",
       "1297  23.0               28666       2  \n",
       "1298  50.0              113503       1  \n",
       "1300   3.0  SOTON/O.Q. 3101315       3  \n",
       "1302  37.0               19928       1  \n",
       "1308  30.0                2668       3  \n",
       "\n",
       "[519 rows x 6 columns]"
      ]
     },
     "execution_count": 106,
     "metadata": {},
     "output_type": "execute_result"
    }
   ],
   "source": [
    "# Get pasengers who travel with family (either siblings,spouse, childre or parents)\n",
    "# Copy rows which has values for either SibSp column or Parch\n",
    "train_data_families = df_train.loc[(train_df['SibSp'] > 0) | (\n",
    "    train_df['Parch'] > 0)][['Survived', 'Name', 'Sex', 'Age', 'Ticket', 'Pclass']]\n",
    "train_data_families"
   ]
  },
  {
   "cell_type": "code",
   "execution_count": 107,
   "metadata": {},
   "outputs": [],
   "source": [
    "def extract_last_name(x):\n",
    "    # String x will split by ',' and take the first element in the resulting list.\n",
    "    # Then any whitespaces at the front and end of the first element will be truncated and returned\n",
    "    return x.split(\",\")[0].strip()\n"
   ]
  },
  {
   "cell_type": "code",
   "execution_count": 108,
   "metadata": {},
   "outputs": [],
   "source": [
    "# For each value in Name colum, extract_last_name function will apply and create a new column LastName\n",
    "train_data_families['LastName'] = train_data_families.Name.apply(\n",
    "    extract_last_name)\n"
   ]
  },
  {
   "cell_type": "markdown",
   "metadata": {},
   "source": [
    "### Person Class\n",
    "\n",
    "Creating a Person class to store pasengers traveling with family.Using the dataset created by filtering rows with non-zero values for variables SibSp(number of siblings/spouse) and Parch(number of childre/parents)."
   ]
  },
  {
   "cell_type": "code",
   "execution_count": 109,
   "metadata": {},
   "outputs": [],
   "source": [
    "class Person:\n",
    "\n",
    "    def __init__(self, survival, full_name, sex, age, ticket, last_name):\n",
    "        self.last_name = last_name\n",
    "        self.ticket = ticket\n",
    "        self.full_name = full_name\n",
    "        self.survival = survival\n",
    "        self.age = age\n",
    "        self.sex = sex\n"
   ]
  },
  {
   "cell_type": "code",
   "execution_count": 110,
   "metadata": {},
   "outputs": [
    {
     "name": "stdout",
     "output_type": "stream",
     "text": [
      "last_name Sandstrom\n",
      "full_name Sandstrom, Miss. Marguerite Rut\n",
      "ticket PP 9549\n",
      "survival 1\n",
      "sex female\n",
      "age 4.0\n"
     ]
    }
   ],
   "source": [
    "# Create a list to hold person objects\n",
    "list_of_pasengers = []\n",
    "'''\n",
    "This code is written by us. However, as DataFrame object alredy has a similar method, desided to use it to improve performance.\n",
    "# Create list of tuples with selected column data\n",
    "with_family_list = list(zip(train_data_families[\"Survived\"], train_data_families[\"Name\"], train_data_families[\"Sex\"],\n",
    "train_data_families[\"Age\"], train_data_families[\"Ticket\"], train_data_families[\"LastName\"]))\n",
    "\n",
    "for item in with_family_list:\n",
    "    p = Person(item[6], item[1], item[2], item[3], item[4], item[5])\n",
    "    list_of_pasengers.append(p)\n",
    "'''\n",
    "\n",
    "for row in train_data_families.itertuples():\n",
    "    p = Person(row[1], row[2], row[3], row[4], row[5], row[7])\n",
    "    list_of_pasengers.append(p)\n",
    "\n",
    "# Just a test\n",
    "print('last_name', list_of_pasengers[6].last_name)\n",
    "print('full_name', list_of_pasengers[6].full_name)\n",
    "print('ticket', list_of_pasengers[6].ticket)\n",
    "print('survival', list_of_pasengers[6].survival)\n",
    "print('sex', list_of_pasengers[6].sex)\n",
    "print('age', list_of_pasengers[6].age)\n",
    "# Timing graph Pandas 0.23.4\n"
   ]
  },
  {
   "cell_type": "markdown",
   "metadata": {},
   "source": [
    "If only last names are considers to group families, result could be errorness as there can be different families with same last names.\n",
    "Therefore, a variable created with ticket number  and last name used to identify families traveling together."
   ]
  },
  {
   "cell_type": "code",
   "execution_count": 111,
   "metadata": {},
   "outputs": [],
   "source": [
    "# Creating a dictionary to store family members\n",
    "families_dict = {}\n",
    "for p in list_of_pasengers:\n",
    "    # variable containing lastname and ticket number passed as key to the dictionary\n",
    "    key = f'{p.last_name}_{p.ticket}'\n",
    "    # If there is already an entry for a family person object will append to the family members list\n",
    "    # Otherwise new list created with the person object\n",
    "    if (key in families_dict):\n",
    "        families_dict[key].append(p)\n",
    "    else:\n",
    "        families_dict[key] = [p]\n"
   ]
  },
  {
   "cell_type": "code",
   "execution_count": 112,
   "metadata": {},
   "outputs": [
    {
     "name": "stdout",
     "output_type": "stream",
     "text": [
      "From 1309 of total pasengers, number of pasengers who have listed parent/child or spouse/sibling are 519\n",
      "Among the 519 pasengers who listed family, data set only had more than one family member for 240 . They are identified as family group\n"
     ]
    }
   ],
   "source": [
    "print(f'From {len(df_train)} of total pasengers, number of pasengers who have listed parent/child or spouse/sibling are {len(list_of_pasengers)}')\n",
    "print(f'Among the {len(list_of_pasengers)} pasengers who listed family, data set only had more than one family member for {len(families_dict)} . They are identified as family group')\n"
   ]
  },
  {
   "cell_type": "code",
   "execution_count": 113,
   "metadata": {},
   "outputs": [
    {
     "name": "stdout",
     "output_type": "stream",
     "text": [
      "Number of families traveled together is 170\n"
     ]
    }
   ],
   "source": [
    "# create a dictionary for family who traveled as a group\n",
    "family_group_dict = {}\n",
    "# If the family has more than one member in the dataset, they are added to another dictionary\n",
    "for key, value in families_dict.items():\n",
    "    if len(value) > 1:\n",
    "        family_group_dict[key] = value\n",
    "\n",
    "print(f'Number of families traveled together is {len(family_group_dict)}')\n"
   ]
  },
  {
   "cell_type": "code",
   "execution_count": 114,
   "metadata": {},
   "outputs": [],
   "source": [
    "class Family:\n",
    "    # Number of family members\n",
    "    no_of_members = 0\n",
    "    # Percentage of survived female over 18 years\n",
    "    s_f_adult_percentage = None\n",
    "    # Percentage of survived male over 18 years\n",
    "    s_m_adult_percentage = None\n",
    "    # Percentage of survived children who are less than 10 years\n",
    "    s_child_percentage = None\n",
    "    # Percentage of survived female between 10 and 18 years\n",
    "    s_f_child_percentage = None\n",
    "    # Percentage of survived male between 10 and 18 years\n",
    "    s_m_child_percentage = None\n",
    "\n",
    "    def __init__(self, last_name,):\n",
    "        self.last_name = last_name\n",
    "\n",
    "    def set_no_of_members(self, n):\n",
    "        self.no_of_members = n\n",
    "\n",
    "    def set_survival_percent(self, gender, age, n, sn):\n",
    "        if n != 0:\n",
    "            if age == 'over18' and gender == 'female':\n",
    "                self.s_f_adult_percentage = sn/n\n",
    "            elif age == 'over18' and gender == 'male':\n",
    "                self.s_m_adult_percentage = sn/n\n",
    "            elif age == 'teen' and gender == 'female':\n",
    "                self.s_f_child_percentage = sn/n\n",
    "            elif age == 'teen' and gender == 'male':\n",
    "                self.s_m_child_percentage = sn/n\n",
    "            else:\n",
    "                self.s_child_percentage = sn/n\n"
   ]
  },
  {
   "cell_type": "markdown",
   "metadata": {},
   "source": [
    "Calculate the percentage of adult males and females survived in families"
   ]
  },
  {
   "cell_type": "code",
   "execution_count": 115,
   "metadata": {},
   "outputs": [
    {
     "name": "stdout",
     "output_type": "stream",
     "text": [
      "From  1309 number of pasenger in the ship,\n",
      "180  females over 18. traveled as family\n",
      "154  males over 18. traveled as family\n",
      "18  females under 18 and over 10. traveled as family\n",
      "17  males under 18 and over 10. traveled as family\n",
      "80  children under 10 traveled as family\n"
     ]
    }
   ],
   "source": [
    "# Total numbe of pasengers\n",
    "total_male = 0\n",
    "total_female = 0\n",
    "total_f_children = 0\n",
    "total_m_children = 0\n",
    "total_small_children = 0\n",
    "# Number of pasengers survived\n",
    "number_f_adult_s = 0\n",
    "number_m_adult_s = 0\n",
    "number_f_child_s = 0\n",
    "number_m_child_s = 0\n",
    "number_small_child_s = 0\n",
    "# Storing family objects in a list\n",
    "family_list = []\n",
    "\n",
    "# Each key value pair represent a family\n",
    "# Each value in the families_dict is a list family members\n",
    "for key in family_group_dict:\n",
    "    family = Family(key.split('_')[0])\n",
    "    family.set_no_of_members(len(families_dict[key]))\n",
    "    # Total numbe of pasengers\n",
    "    family_total_male = 0\n",
    "    family_total_female = 0\n",
    "    family_total_f_children = 0\n",
    "    family_total_m_children = 0\n",
    "    family_t_small_children = 0\n",
    "\n",
    "    # Number of pasengers survived\n",
    "    family_number_f_adult_s = 0\n",
    "    family_number_m_adult_s = 0\n",
    "    family_number_f_child_s = 0\n",
    "    family_number_m_child_s = 0\n",
    "    family_n_small_child_s = 0\n",
    "\n",
    "    for person in family_group_dict[key]:\n",
    "        # Adults and children have separated based on age,\n",
    "        # Age less than 18 are children, others adults\n",
    "\n",
    "        if person.age < 10:\n",
    "            family_t_small_children += 1\n",
    "            if(person.survival == 1):\n",
    "                family_n_small_child_s += 1\n",
    "        elif person.age < 18:\n",
    "            if (person.sex == \"male\"):\n",
    "                family_total_m_children += 1\n",
    "                if(person.survival == 1):\n",
    "                    family_number_m_child_s += 1\n",
    "            else:\n",
    "                family_total_f_children += 1\n",
    "                if(person.survival == 1):\n",
    "                    family_number_f_child_s += 1\n",
    "        else:\n",
    "            # Adult group further devided to male and female\n",
    "            if (person.sex == \"male\"):\n",
    "                family_total_male += 1\n",
    "                if(person.survival == 1):\n",
    "                    family_number_m_adult_s += 1\n",
    "            else:\n",
    "                family_total_female += 1\n",
    "                if(person.survival == 1):\n",
    "                    family_number_f_adult_s += 1\n",
    "\n",
    "    # Set values for family object\n",
    "    family.set_survival_percent(\n",
    "        'female', 'over18', family_total_female, family_number_f_adult_s)\n",
    "    family.set_survival_percent(\n",
    "        'male', 'over18', family_total_male, family_number_m_adult_s)\n",
    "    family.set_survival_percent(\n",
    "        'female', 'teen', family_total_f_children, family_number_f_child_s)\n",
    "    family.set_survival_percent(\n",
    "        'male', 'teen', family_total_m_children, family_number_m_child_s)\n",
    "    family.set_survival_percent(\n",
    "        'none', 'child', family_t_small_children, family_n_small_child_s)\n",
    "    family_list.append(family)\n",
    "\n",
    "    # Add family values to total\n",
    "    total_male += family_total_male\n",
    "    total_female += family_total_female\n",
    "    total_f_children += family_total_f_children\n",
    "    total_m_children += family_total_m_children\n",
    "    total_small_children += family_t_small_children\n",
    "\n",
    "    number_f_adult_s += family_number_f_adult_s\n",
    "    number_m_adult_s += family_number_m_adult_s\n",
    "    number_f_child_s += family_number_f_child_s\n",
    "    number_m_child_s += family_number_m_child_s\n",
    "    number_small_child_s += family_n_small_child_s\n",
    "\n",
    "print('From ',len(df_train),'number of pasenger in the ship,')\n",
    "print( total_female, ' females over 18. traveled as family')\n",
    "print(total_male, ' males over 18. traveled as family')\n",
    "print(total_f_children, ' females under 18 and over 10. traveled as family')\n",
    "print(total_m_children, ' males under 18 and over 10. traveled as family')\n",
    "print(total_small_children, ' children under 10 traveled as family')"
   ]
  },
  {
   "cell_type": "code",
   "execution_count": 116,
   "metadata": {},
   "outputs": [
    {
     "name": "stdout",
     "output_type": "stream",
     "text": [
      "When a pasenger traveled as a family;\n",
      "Percentage of females survived 81%\n",
      "Percentage of males survived 13%\n",
      "Percentage of female aged between 10 and 18 years survived 78%\n",
      "Percentage of male aged between 10 and 18 years survived 18%\n",
      "Percentage of children less than 10 years old survived 58%\n"
     ]
    }
   ],
   "source": [
    "print('When a pasenger traveled as a family;')\n",
    "print(\"Percentage of females survived \" +\n",
    "      str(round(100 * number_f_adult_s/total_female)) + '%')\n",
    "print(\"Percentage of males survived \" +\n",
    "      str(round(100 * number_m_adult_s/total_male)) + '%')\n",
    "print(\"Percentage of female aged between 10 and 18 years survived \" +\n",
    "      str(round(100 * number_f_child_s/total_f_children)) + '%')\n",
    "print(\"Percentage of male aged between 10 and 18 years survived \" +\n",
    "      str(round(100 * number_m_child_s/total_m_children)) + '%')\n",
    "print(\"Percentage of children less than 10 years old survived \" +\n",
    "      str(round(100 * number_small_child_s/total_small_children)) + '%')\n"
   ]
  },
  {
   "cell_type": "code",
   "execution_count": 117,
   "metadata": {},
   "outputs": [
    {
     "name": "stdout",
     "output_type": "stream",
     "text": [
      "Cumings family has 2 members, from them;\n",
      "100.0% adult females are survived\n",
      "0.0% adult males are survived\n",
      "\n",
      "Futrelle family has 2 members, from them;\n",
      "100.0% adult females are survived\n",
      "0.0% adult males are survived\n",
      "\n",
      "Palsson family has 5 members, from them;\n",
      "0.0% adult females are survived\n",
      "0.0% under 10 children survived\n",
      "\n",
      "Johnson family has 3 members, from them;\n",
      "100.0% adult females are survived\n",
      "100.0% under 10 children survived\n",
      "\n",
      "Nasser family has 2 members, from them;\n",
      "0.0% adult males are survived\n",
      "100.0% over 10 years and under 18 females are survived\n",
      "\n",
      "Sandstrom family has 3 members, from them;\n",
      "100.0% adult females are survived\n",
      "100.0% under 10 children survived\n",
      "\n",
      "Andersson family has 7 members, from them;\n",
      "0.0% adult females are survived\n",
      "0.0% adult males are survived\n",
      "0.0% over 10 years and under 18 females are survived\n",
      "0.0% under 10 children survived\n",
      "\n",
      "Rice family has 6 members, from them;\n",
      "0.0% adult females are survived\n",
      "0.0% over 10 years and under 18 males are survived\n",
      "0.0% under 10 children survived\n",
      "\n",
      "Vander Planke family has 2 members, from them;\n",
      "0.0% adult females are survived\n",
      "0.0% adult males are survived\n",
      "\n",
      "Asplund family has 7 members, from them;\n",
      "100.0% adult females are survived\n",
      "0.0% adult males are survived\n",
      "0.0% over 10 years and under 18 males are survived\n",
      "50.0% under 10 children survived\n",
      "\n",
      "Fortune family has 6 members, from them;\n",
      "100.0% adult females are survived\n",
      "0.0% adult males are survived\n",
      "\n",
      "Spencer family has 2 members, from them;\n",
      "100.0% adult females are survived\n",
      "0.0% adult males are survived\n",
      "\n",
      "Meyer family has 2 members, from them;\n",
      "100.0% adult females are survived\n",
      "0.0% adult males are survived\n",
      "\n",
      "Holverson family has 2 members, from them;\n",
      "100.0% adult females are survived\n",
      "0.0% adult males are survived\n",
      "\n",
      "Vander Planke family has 2 members, from them;\n",
      "0.0% adult females are survived\n",
      "0.0% over 10 years and under 18 males are survived\n",
      "\n",
      "Nicola-Yarred family has 2 members, from them;\n",
      "100.0% over 10 years and under 18 females are survived\n",
      "100.0% over 10 years and under 18 males are survived\n",
      "\n",
      "Turpin family has 2 members, from them;\n",
      "0.0% adult females are survived\n",
      "0.0% adult males are survived\n",
      "\n",
      "Laroche family has 4 members, from them;\n",
      "100.0% adult females are survived\n",
      "0.0% adult males are survived\n",
      "100.0% under 10 children survived\n",
      "\n",
      "Lennon family has 2 members, from them;\n",
      "100.0% adult females are survived\n",
      "0.0% adult males are survived\n",
      "\n",
      "Samaan family has 3 members, from them;\n",
      "0.0% adult males are survived\n",
      "\n",
      "Arnold-Franchi family has 2 members, from them;\n",
      "0.0% adult females are survived\n",
      "0.0% adult males are survived\n",
      "\n",
      "Panula family has 6 members, from them;\n",
      "0.0% adult females are survived\n",
      "0.0% over 10 years and under 18 males are survived\n",
      "0.0% under 10 children survived\n",
      "\n",
      "Harper family has 2 members, from them;\n",
      "100.0% adult females are survived\n",
      "100.0% adult males are survived\n",
      "\n",
      "Faunthorpe family has 2 members, from them;\n",
      "100.0% adult females are survived\n",
      "0.0% adult males are survived\n",
      "\n",
      "Ostby family has 2 members, from them;\n",
      "100.0% adult females are survived\n",
      "0.0% adult males are survived\n",
      "\n",
      "West family has 4 members, from them;\n",
      "100.0% adult females are survived\n",
      "0.0% adult males are survived\n",
      "100.0% under 10 children survived\n",
      "\n",
      "Goodwin family has 8 members, from them;\n",
      "0.0% adult females are survived\n",
      "0.0% adult males are survived\n",
      "50.0% over 10 years and under 18 females are survived\n",
      "0.0% over 10 years and under 18 males are survived\n",
      "0.0% under 10 children survived\n",
      "\n",
      "Harris family has 2 members, from them;\n",
      "100.0% adult females are survived\n",
      "0.0% adult males are survived\n",
      "\n",
      "Skoog family has 6 members, from them;\n",
      "0.0% adult females are survived\n",
      "0.0% adult males are survived\n",
      "0.0% over 10 years and under 18 males are survived\n",
      "0.0% under 10 children survived\n",
      "\n",
      "Moubarek family has 3 members, from them;\n",
      "100.0% adult females are survived\n",
      "100.0% adult males are survived\n",
      "\n",
      "Chronopoulos family has 2 members, from them;\n",
      "0.0% adult males are survived\n",
      "\n",
      "Caldwell family has 3 members, from them;\n",
      "100.0% adult females are survived\n",
      "0.0% adult males are survived\n",
      "100.0% under 10 children survived\n",
      "\n",
      "Backstrom family has 2 members, from them;\n",
      "100.0% adult females are survived\n",
      "0.0% adult males are survived\n",
      "\n",
      "Ford family has 5 members, from them;\n",
      "0.0% adult females are survived\n",
      "0.0% adult males are survived\n",
      "0.0% over 10 years and under 18 males are survived\n",
      "0.0% under 10 children survived\n",
      "\n",
      "Chaffee family has 2 members, from them;\n",
      "100.0% adult females are survived\n",
      "0.0% adult males are survived\n",
      "\n",
      "Dean family has 4 members, from them;\n",
      "100.0% adult females are survived\n",
      "0.0% adult males are survived\n",
      "100.0% under 10 children survived\n",
      "\n",
      "Greenfield family has 2 members, from them;\n",
      "100.0% adult females are survived\n",
      "100.0% adult males are survived\n",
      "\n",
      "Doling family has 2 members, from them;\n",
      "100.0% adult females are survived\n",
      "\n",
      "Kantor family has 2 members, from them;\n",
      "100.0% adult females are survived\n",
      "0.0% adult males are survived\n",
      "\n",
      "White family has 2 members, from them;\n",
      "0.0% adult males are survived\n",
      "\n",
      "Moran family has 2 members, from them;\n",
      "100.0% adult females are survived\n",
      "0.0% adult males are survived\n",
      "\n",
      "Zabour family has 2 members, from them;\n",
      "0.0% adult females are survived\n",
      "0.0% over 10 years and under 18 females are survived\n",
      "\n",
      "Baxter family has 2 members, from them;\n",
      "100.0% adult females are survived\n",
      "0.0% adult males are survived\n",
      "\n",
      "Hickman family has 3 members, from them;\n",
      "0.0% adult males are survived\n",
      "\n",
      "Peter family has 3 members, from them;\n",
      "100.0% adult females are survived\n",
      "0.0% adult males are survived\n",
      "\n",
      "Robins family has 2 members, from them;\n",
      "0.0% adult females are survived\n",
      "0.0% adult males are survived\n",
      "\n",
      "Weisz family has 2 members, from them;\n",
      "100.0% adult females are survived\n",
      "0.0% adult males are survived\n",
      "\n",
      "Boulos family has 3 members, from them;\n",
      "0.0% adult females are survived\n",
      "0.0% under 10 children survived\n",
      "\n",
      "Hakkarainen family has 2 members, from them;\n",
      "100.0% adult females are survived\n",
      "0.0% adult males are survived\n",
      "\n",
      "Navratil family has 3 members, from them;\n",
      "0.0% adult males are survived\n",
      "100.0% under 10 children survived\n",
      "\n",
      "Pears family has 2 members, from them;\n",
      "100.0% adult females are survived\n",
      "0.0% adult males are survived\n",
      "\n",
      "van Billiard family has 3 members, from them;\n",
      "0.0% adult males are survived\n",
      "0.0% over 10 years and under 18 males are survived\n",
      "\n",
      "Williams family has 2 members, from them;\n",
      "0.0% adult males are survived\n",
      "\n",
      "Sage family has 11 members, from them;\n",
      "40.0% adult females are survived\n",
      "0.0% adult males are survived\n",
      "0.0% over 10 years and under 18 males are survived\n",
      "\n",
      "Cribb family has 2 members, from them;\n",
      "0.0% adult males are survived\n",
      "100.0% over 10 years and under 18 females are survived\n",
      "\n",
      "Goldsmith family has 3 members, from them;\n",
      "100.0% adult females are survived\n",
      "0.0% adult males are survived\n",
      "100.0% under 10 children survived\n",
      "\n",
      "Lefebre family has 5 members, from them;\n",
      "25.0% adult females are survived\n",
      "0.0% adult males are survived\n",
      "\n",
      "Becker family has 4 members, from them;\n",
      "100.0% adult females are survived\n",
      "100.0% over 10 years and under 18 females are survived\n",
      "100.0% under 10 children survived\n",
      "\n",
      "Kink-Heilmann family has 3 members, from them;\n",
      "100.0% adult females are survived\n",
      "0.0% adult males are survived\n",
      "100.0% under 10 children survived\n",
      "\n",
      "O'Brien family has 2 members, from them;\n",
      "100.0% adult females are survived\n",
      "0.0% adult males are survived\n",
      "\n",
      "Bourke family has 2 members, from them;\n",
      "0.0% adult females are survived\n",
      "0.0% adult males are survived\n",
      "\n",
      "Strom family has 2 members, from them;\n",
      "0.0% adult females are survived\n",
      "0.0% under 10 children survived\n",
      "\n",
      "Newell family has 3 members, from them;\n",
      "100.0% adult females are survived\n",
      "0.0% adult males are survived\n",
      "\n",
      "Jacobsohn family has 2 members, from them;\n",
      "100.0% adult females are survived\n",
      "0.0% adult males are survived\n",
      "\n",
      "Hoyt family has 2 members, from them;\n",
      "100.0% adult females are survived\n",
      "100.0% adult males are survived\n",
      "\n",
      "Hold family has 2 members, from them;\n",
      "100.0% adult females are survived\n",
      "0.0% adult males are survived\n",
      "\n",
      "Collyer family has 3 members, from them;\n",
      "100.0% adult females are survived\n",
      "0.0% adult males are survived\n",
      "100.0% under 10 children survived\n",
      "\n",
      "Murphy family has 2 members, from them;\n",
      "100.0% adult females are survived\n",
      "\n",
      "Minahan family has 3 members, from them;\n",
      "100.0% adult females are survived\n",
      "0.0% adult males are survived\n",
      "\n",
      "Hamalainen family has 2 members, from them;\n",
      "100.0% adult females are survived\n",
      "100.0% under 10 children survived\n",
      "\n",
      "Beckwith family has 2 members, from them;\n",
      "100.0% adult females are survived\n",
      "100.0% adult males are survived\n",
      "\n",
      "Carter family has 2 members, from them;\n",
      "0.0% adult females are survived\n",
      "0.0% adult males are survived\n",
      "\n",
      "Lobb family has 2 members, from them;\n",
      "0.0% adult females are survived\n",
      "0.0% adult males are survived\n",
      "\n",
      "Rosblom family has 3 members, from them;\n",
      "0.0% adult females are survived\n",
      "0.0% adult males are survived\n",
      "100.0% under 10 children survived\n",
      "\n",
      "Touma family has 3 members, from them;\n",
      "100.0% adult females are survived\n",
      "50.0% under 10 children survived\n",
      "\n",
      "Taussig family has 3 members, from them;\n",
      "100.0% adult females are survived\n",
      "0.0% adult males are survived\n",
      "\n",
      "Graham family has 2 members, from them;\n",
      "100.0% adult females are survived\n",
      "0.0% adult males are survived\n",
      "\n",
      "Mellinger family has 2 members, from them;\n",
      "100.0% adult females are survived\n",
      "100.0% over 10 years and under 18 females are survived\n",
      "\n",
      "Abbott family has 3 members, from them;\n",
      "100.0% adult females are survived\n",
      "0.0% over 10 years and under 18 males are survived\n",
      "\n",
      "Bishop family has 2 members, from them;\n",
      "100.0% adult females are survived\n",
      "100.0% adult males are survived\n",
      "\n",
      "Allison family has 4 members, from them;\n",
      "0.0% adult females are survived\n",
      "0.0% adult males are survived\n",
      "50.0% under 10 children survived\n",
      "\n",
      "McCoy family has 3 members, from them;\n",
      "100.0% adult females are survived\n",
      "100.0% adult males are survived\n",
      "\n",
      "Penasco y Castellana family has 2 members, from them;\n",
      "0.0% adult males are survived\n",
      "100.0% over 10 years and under 18 females are survived\n",
      "\n",
      "Abelson family has 2 members, from them;\n",
      "100.0% adult females are survived\n",
      "0.0% adult males are survived\n",
      "\n",
      "Ryerson family has 5 members, from them;\n",
      "100.0% adult females are survived\n",
      "0.0% adult males are survived\n",
      "0.0% over 10 years and under 18 males are survived\n",
      "\n",
      "Lahtinen family has 2 members, from them;\n",
      "0.0% adult females are survived\n",
      "0.0% adult males are survived\n",
      "\n",
      "Hart family has 3 members, from them;\n",
      "100.0% adult females are survived\n",
      "0.0% adult males are survived\n",
      "100.0% under 10 children survived\n",
      "\n",
      "Wick family has 3 members, from them;\n",
      "100.0% adult females are survived\n",
      "0.0% adult males are survived\n",
      "\n",
      "Spedden family has 3 members, from them;\n",
      "100.0% adult females are survived\n",
      "0.0% adult males are survived\n",
      "0.0% under 10 children survived\n",
      "\n",
      "Hippach family has 2 members, from them;\n",
      "100.0% adult females are survived\n",
      "100.0% over 10 years and under 18 females are survived\n",
      "\n",
      "Frauenthal family has 2 members, from them;\n",
      "100.0% adult females are survived\n",
      "100.0% adult males are survived\n",
      "\n",
      "Davison family has 2 members, from them;\n",
      "100.0% adult females are survived\n",
      "0.0% adult males are survived\n",
      "\n",
      "Coutts family has 3 members, from them;\n",
      "100.0% adult females are survived\n",
      "100.0% under 10 children survived\n",
      "\n",
      "del Carlo family has 2 members, from them;\n",
      "100.0% adult females are survived\n",
      "0.0% adult males are survived\n",
      "\n",
      "Barbara family has 2 members, from them;\n",
      "0.0% adult females are survived\n",
      "\n",
      "Warren family has 2 members, from them;\n",
      "100.0% adult females are survived\n",
      "0.0% adult males are survived\n",
      "\n",
      "Harder family has 2 members, from them;\n",
      "100.0% adult females are survived\n",
      "100.0% adult males are survived\n",
      "\n",
      "Widener family has 3 members, from them;\n",
      "100.0% adult females are survived\n",
      "0.0% adult males are survived\n",
      "\n",
      "Nakid family has 3 members, from them;\n",
      "100.0% adult females are survived\n",
      "100.0% adult males are survived\n",
      "100.0% under 10 children survived\n",
      "\n",
      "Carter family has 4 members, from them;\n",
      "100.0% adult females are survived\n",
      "100.0% adult males are survived\n",
      "100.0% over 10 years and under 18 females are survived\n",
      "100.0% over 10 years and under 18 males are survived\n",
      "\n",
      "Gale family has 2 members, from them;\n",
      "0.0% adult males are survived\n",
      "\n",
      "Richards family has 3 members, from them;\n",
      "100.0% adult females are survived\n",
      "100.0% under 10 children survived\n",
      "\n",
      "Drew family has 3 members, from them;\n",
      "100.0% adult females are survived\n",
      "0.0% adult males are survived\n",
      "0.0% under 10 children survived\n",
      "\n",
      "Van Impe family has 3 members, from them;\n",
      "0.0% adult females are survived\n",
      "0.0% adult males are survived\n",
      "0.0% over 10 years and under 18 females are survived\n",
      "\n",
      "Danbom family has 3 members, from them;\n",
      "0.0% adult females are survived\n",
      "0.0% adult males are survived\n",
      "0.0% under 10 children survived\n",
      "\n",
      "Clarke family has 2 members, from them;\n",
      "100.0% adult females are survived\n",
      "0.0% adult males are survived\n",
      "\n",
      "Thorneycroft family has 2 members, from them;\n",
      "100.0% adult females are survived\n",
      "0.0% adult males are survived\n",
      "\n",
      "Louch family has 2 members, from them;\n",
      "100.0% adult females are survived\n",
      "0.0% adult males are survived\n",
      "\n",
      "Silvey family has 2 members, from them;\n",
      "100.0% adult females are survived\n",
      "0.0% adult males are survived\n",
      "\n",
      "Dodge family has 3 members, from them;\n",
      "100.0% adult females are survived\n",
      "0.0% adult males are survived\n",
      "100.0% under 10 children survived\n",
      "\n",
      "Baclini family has 4 members, from them;\n",
      "100.0% adult females are survived\n",
      "100.0% under 10 children survived\n",
      "\n",
      "Goldenberg family has 2 members, from them;\n",
      "100.0% adult females are survived\n",
      "100.0% adult males are survived\n",
      "\n",
      "Kenyon family has 2 members, from them;\n",
      "100.0% adult females are survived\n",
      "0.0% adult males are survived\n",
      "\n",
      "Renouf family has 2 members, from them;\n",
      "100.0% adult females are survived\n",
      "0.0% adult males are survived\n",
      "\n",
      "Hirvonen family has 2 members, from them;\n",
      "100.0% adult females are survived\n",
      "100.0% under 10 children survived\n",
      "\n",
      "Quick family has 3 members, from them;\n",
      "100.0% adult females are survived\n",
      "100.0% under 10 children survived\n",
      "\n",
      "Rothschild family has 2 members, from them;\n",
      "100.0% adult females are survived\n",
      "0.0% adult males are survived\n",
      "\n",
      "Angle family has 2 members, from them;\n",
      "100.0% adult females are survived\n",
      "0.0% adult males are survived\n",
      "\n",
      "Crosby family has 2 members, from them;\n",
      "100.0% adult females are survived\n",
      "0.0% adult males are survived\n",
      "\n",
      "Beane family has 2 members, from them;\n",
      "100.0% adult females are survived\n",
      "100.0% adult males are survived\n",
      "\n",
      "Douglas family has 2 members, from them;\n",
      "100.0% adult females are survived\n",
      "0.0% adult males are survived\n",
      "\n",
      "Davies family has 2 members, from them;\n",
      "100.0% adult females are survived\n",
      "100.0% under 10 children survived\n",
      "\n",
      "Thayer family has 3 members, from them;\n",
      "100.0% adult females are survived\n",
      "0.0% adult males are survived\n",
      "100.0% over 10 years and under 18 males are survived\n",
      "\n",
      "de Messemaeker family has 2 members, from them;\n",
      "100.0% adult females are survived\n",
      "0.0% adult males are survived\n",
      "\n",
      "Davies family has 2 members, from them;\n",
      "0.0% adult males are survived\n",
      "\n",
      "Caram family has 2 members, from them;\n",
      "0.0% adult females are survived\n",
      "0.0% adult males are survived\n",
      "\n",
      "Christy family has 2 members, from them;\n",
      "100.0% adult females are survived\n",
      "\n",
      "Frolicher-Stehli family has 2 members, from them;\n",
      "100.0% adult females are survived\n",
      "100.0% adult males are survived\n",
      "\n",
      "Chapman family has 2 members, from them;\n",
      "100.0% adult females are survived\n",
      "0.0% adult males are survived\n",
      "\n",
      "Lindell family has 2 members, from them;\n",
      "100.0% adult females are survived\n",
      "0.0% adult males are survived\n",
      "\n",
      "Herman family has 4 members, from them;\n",
      "100.0% adult females are survived\n",
      "0.0% adult males are survived\n",
      "\n",
      "Yasbeck family has 2 members, from them;\n",
      "0.0% adult males are survived\n",
      "100.0% over 10 years and under 18 females are survived\n",
      "\n",
      "Kimball family has 2 members, from them;\n",
      "100.0% adult females are survived\n",
      "100.0% adult males are survived\n",
      "\n",
      "Taylor family has 2 members, from them;\n",
      "100.0% adult females are survived\n",
      "100.0% adult males are survived\n",
      "\n",
      "Brown family has 3 members, from them;\n",
      "100.0% adult females are survived\n",
      "0.0% adult males are survived\n",
      "100.0% over 10 years and under 18 females are survived\n",
      "\n",
      "Davidson family has 2 members, from them;\n",
      "100.0% adult females are survived\n",
      "0.0% adult males are survived\n",
      "\n",
      "Cardeza family has 2 members, from them;\n",
      "100.0% adult females are survived\n",
      "100.0% adult males are survived\n",
      "\n",
      "Dick family has 2 members, from them;\n",
      "100.0% adult males are survived\n",
      "100.0% over 10 years and under 18 females are survived\n",
      "\n",
      "Karun family has 2 members, from them;\n",
      "0.0% adult males are survived\n",
      "100.0% under 10 children survived\n",
      "\n",
      "Astor family has 2 members, from them;\n",
      "100.0% adult females are survived\n",
      "0.0% adult males are survived\n",
      "\n",
      "Harper family has 2 members, from them;\n",
      "0.0% adult males are survived\n",
      "100.0% under 10 children survived\n",
      "\n",
      "Chambers family has 2 members, from them;\n",
      "100.0% adult females are survived\n",
      "100.0% adult males are survived\n",
      "\n",
      "Bryhl family has 2 members, from them;\n",
      "100.0% adult females are survived\n",
      "0.0% adult males are survived\n",
      "\n",
      "Cavendish family has 2 members, from them;\n",
      "100.0% adult females are survived\n",
      "0.0% adult males are survived\n",
      "\n",
      "McNamee family has 2 members, from them;\n",
      "100.0% adult females are survived\n",
      "0.0% adult males are survived\n",
      "\n",
      "Marvin family has 2 members, from them;\n",
      "100.0% adult females are survived\n",
      "0.0% adult males are survived\n",
      "\n",
      "Wells family has 3 members, from them;\n",
      "100.0% adult females are survived\n",
      "50.0% under 10 children survived\n",
      "\n",
      "Moor family has 2 members, from them;\n",
      "100.0% adult females are survived\n",
      "100.0% under 10 children survived\n",
      "\n",
      "Hocking family has 2 members, from them;\n",
      "100.0% adult females are survived\n",
      "\n",
      "Johnston family has 4 members, from them;\n",
      "50.0% adult females are survived\n",
      "0.0% adult males are survived\n",
      "\n",
      "Thomas family has 2 members, from them;\n",
      "100.0% over 10 years and under 18 females are survived\n",
      "100.0% under 10 children survived\n",
      "\n",
      "Mallet family has 3 members, from them;\n",
      "100.0% adult females are survived\n",
      "0.0% adult males are survived\n",
      "100.0% under 10 children survived\n",
      "\n",
      "Hays family has 2 members, from them;\n",
      "100.0% adult females are survived\n",
      "0.0% adult males are survived\n",
      "\n",
      "Compton family has 3 members, from them;\n",
      "100.0% adult females are survived\n",
      "0.0% adult males are survived\n",
      "\n",
      "Lines family has 2 members, from them;\n",
      "100.0% adult females are survived\n",
      "100.0% over 10 years and under 18 females are survived\n",
      "\n",
      "Aks family has 2 members, from them;\n",
      "100.0% adult females are survived\n",
      "0.0% under 10 children survived\n",
      "\n",
      "Hansen family has 2 members, from them;\n",
      "100.0% adult females are survived\n",
      "0.0% adult males are survived\n",
      "\n",
      "Snyder family has 2 members, from them;\n",
      "100.0% adult females are survived\n",
      "0.0% adult males are survived\n",
      "\n",
      "Howard family has 2 members, from them;\n",
      "100.0% adult females are survived\n",
      "0.0% adult males are survived\n",
      "\n",
      "Jefferys family has 2 members, from them;\n",
      "0.0% adult males are survived\n",
      "\n",
      "Smith family has 2 members, from them;\n",
      "100.0% adult females are survived\n",
      "0.0% adult males are survived\n",
      "\n",
      "Straus family has 2 members, from them;\n",
      "100.0% adult females are survived\n",
      "0.0% adult males are survived\n",
      "\n",
      "Khalil family has 2 members, from them;\n",
      "100.0% adult females are survived\n",
      "0.0% adult males are survived\n",
      "\n",
      "Dyker family has 2 members, from them;\n",
      "100.0% adult females are survived\n",
      "0.0% adult males are survived\n",
      "\n",
      "Stengel family has 2 members, from them;\n",
      "100.0% adult females are survived\n",
      "0.0% adult males are survived\n",
      "\n",
      "Klasen family has 2 members, from them;\n",
      "100.0% adult females are survived\n",
      "100.0% under 10 children survived\n",
      "\n",
      "Peacock family has 3 members, from them;\n",
      "100.0% adult females are survived\n",
      "50.0% under 10 children survived\n",
      "\n",
      "Phillips family has 2 members, from them;\n",
      "100.0% adult females are survived\n",
      "0.0% adult males are survived\n",
      "\n",
      "Clark family has 2 members, from them;\n",
      "100.0% adult females are survived\n",
      "0.0% adult males are survived\n",
      "\n",
      "Gibson family has 2 members, from them;\n",
      "100.0% adult females are survived\n",
      "\n"
     ]
    }
   ],
   "source": [
    "for family in family_list:\n",
    "    print(f'{family.last_name} family has {family.no_of_members} members, from them;')\n",
    "    if(family.s_f_adult_percentage != None):\n",
    "        print(f'{family.s_f_adult_percentage*100}% adult females are survived')\n",
    "    if(family.s_m_adult_percentage != None):\n",
    "        print(f'{family.s_m_adult_percentage*100}% adult males are survived')\n",
    "    if(family.s_f_child_percentage != None):\n",
    "        print(f'{family.s_f_child_percentage*100}% over 10 years and under 18 females are survived')\n",
    "    if(family.s_m_child_percentage != None):\n",
    "        print(f'{family.s_m_child_percentage*100}% over 10 years and under 18 males are survived')\n",
    "    if(family.s_child_percentage != None):\n",
    "        print(f'{family.s_child_percentage*100}% under 10 children survived')\n",
    "    print()"
   ]
  },
  {
   "cell_type": "markdown",
   "metadata": {},
   "source": [
    "## Building a Random Forest Classifier\n",
    "Reference: https://www.freecodecamp.org/news/how-to-use-the-tree-based-algorithm-for-machine-learning/"
   ]
  },
  {
   "cell_type": "markdown",
   "metadata": {},
   "source": [
    "### Random Forest Classifier with variables\n",
    "- Pclass\n",
    "- Sex\n",
    "- SibSp\n",
    "- Parch\n",
    "- mean_age"
   ]
  },
  {
   "cell_type": "code",
   "execution_count": 118,
   "metadata": {},
   "outputs": [],
   "source": [
    "# Create a copy of the dataset because some columns are transforming to numeric\n",
    "rf_df = train_df.copy()\n",
    "# Convert variables to numeric values\n",
    "rf_df['Sex'] = rf_df['Sex'].replace(['female', 'male'], [0, 1])\n",
    "\n",
    "rf_df.loc[rf_df['Survived'] == 'Deceased', 'Survived'] = 0\n",
    "rf_df.loc[rf_df['Survived'] == 'Survived', 'Survived'] = 1\n",
    "\n",
    "rf_df.loc[rf_df['Pclass'] == 'First Class', 'Pclass'] = 1\n",
    "rf_df.loc[rf_df['Pclass'] == 'Second Class', 'Pclass'] = 2\n",
    "rf_df.loc[rf_df['Pclass'] == 'Third Class', 'Pclass'] = 3\n",
    "\n",
    "rf_df['Survived'] = rf_df['Survived'].astype('int')\n",
    "rf_df['Pclass'] = rf_df['Pclass'].astype('int')\n",
    "rf_df['mean_age'] = rf_df['mean_age'].astype('int')\n"
   ]
  },
  {
   "cell_type": "code",
   "execution_count": 119,
   "metadata": {},
   "outputs": [],
   "source": [
    "# split data into input and taget variable(s)\n",
    "X = rf_df.drop([\"Survived\", 'Name', 'Age', 'Ticket', 'Fare',\n",
    "               'Cabin', 'Embarked', 'age_group', 'binned_fare'], axis=1)\n",
    "y = rf_df[\"Survived\"]\n"
   ]
  },
  {
   "cell_type": "code",
   "execution_count": 120,
   "metadata": {},
   "outputs": [],
   "source": [
    "# standardize the dataset\n",
    "scaler = StandardScaler()\n",
    "X_scaled = scaler.fit_transform(X)\n"
   ]
  },
  {
   "cell_type": "code",
   "execution_count": 121,
   "metadata": {},
   "outputs": [],
   "source": [
    "# split into train and test set\n",
    "X_train, X_test, y_train, y_test = train_test_split(\n",
    "    X_scaled, y, stratify=y, test_size=0.20, random_state=42\n",
    ")\n",
    "#data_train, data_test= train_test_split(train_df, test_size=0.4, random_state = 0)\n"
   ]
  },
  {
   "cell_type": "code",
   "execution_count": 122,
   "metadata": {},
   "outputs": [
    {
     "data": {
      "text/html": [
       "<style>#sk-56a61597-b4cd-41f3-be6a-addd79dc2172 {color: black;background-color: white;}#sk-56a61597-b4cd-41f3-be6a-addd79dc2172 pre{padding: 0;}#sk-56a61597-b4cd-41f3-be6a-addd79dc2172 div.sk-toggleable {background-color: white;}#sk-56a61597-b4cd-41f3-be6a-addd79dc2172 label.sk-toggleable__label {cursor: pointer;display: block;width: 100%;margin-bottom: 0;padding: 0.3em;box-sizing: border-box;text-align: center;}#sk-56a61597-b4cd-41f3-be6a-addd79dc2172 label.sk-toggleable__label-arrow:before {content: \"▸\";float: left;margin-right: 0.25em;color: #696969;}#sk-56a61597-b4cd-41f3-be6a-addd79dc2172 label.sk-toggleable__label-arrow:hover:before {color: black;}#sk-56a61597-b4cd-41f3-be6a-addd79dc2172 div.sk-estimator:hover label.sk-toggleable__label-arrow:before {color: black;}#sk-56a61597-b4cd-41f3-be6a-addd79dc2172 div.sk-toggleable__content {max-height: 0;max-width: 0;overflow: hidden;text-align: left;background-color: #f0f8ff;}#sk-56a61597-b4cd-41f3-be6a-addd79dc2172 div.sk-toggleable__content pre {margin: 0.2em;color: black;border-radius: 0.25em;background-color: #f0f8ff;}#sk-56a61597-b4cd-41f3-be6a-addd79dc2172 input.sk-toggleable__control:checked~div.sk-toggleable__content {max-height: 200px;max-width: 100%;overflow: auto;}#sk-56a61597-b4cd-41f3-be6a-addd79dc2172 input.sk-toggleable__control:checked~label.sk-toggleable__label-arrow:before {content: \"▾\";}#sk-56a61597-b4cd-41f3-be6a-addd79dc2172 div.sk-estimator input.sk-toggleable__control:checked~label.sk-toggleable__label {background-color: #d4ebff;}#sk-56a61597-b4cd-41f3-be6a-addd79dc2172 div.sk-label input.sk-toggleable__control:checked~label.sk-toggleable__label {background-color: #d4ebff;}#sk-56a61597-b4cd-41f3-be6a-addd79dc2172 input.sk-hidden--visually {border: 0;clip: rect(1px 1px 1px 1px);clip: rect(1px, 1px, 1px, 1px);height: 1px;margin: -1px;overflow: hidden;padding: 0;position: absolute;width: 1px;}#sk-56a61597-b4cd-41f3-be6a-addd79dc2172 div.sk-estimator {font-family: monospace;background-color: #f0f8ff;border: 1px dotted black;border-radius: 0.25em;box-sizing: border-box;margin-bottom: 0.5em;}#sk-56a61597-b4cd-41f3-be6a-addd79dc2172 div.sk-estimator:hover {background-color: #d4ebff;}#sk-56a61597-b4cd-41f3-be6a-addd79dc2172 div.sk-parallel-item::after {content: \"\";width: 100%;border-bottom: 1px solid gray;flex-grow: 1;}#sk-56a61597-b4cd-41f3-be6a-addd79dc2172 div.sk-label:hover label.sk-toggleable__label {background-color: #d4ebff;}#sk-56a61597-b4cd-41f3-be6a-addd79dc2172 div.sk-serial::before {content: \"\";position: absolute;border-left: 1px solid gray;box-sizing: border-box;top: 2em;bottom: 0;left: 50%;}#sk-56a61597-b4cd-41f3-be6a-addd79dc2172 div.sk-serial {display: flex;flex-direction: column;align-items: center;background-color: white;padding-right: 0.2em;padding-left: 0.2em;}#sk-56a61597-b4cd-41f3-be6a-addd79dc2172 div.sk-item {z-index: 1;}#sk-56a61597-b4cd-41f3-be6a-addd79dc2172 div.sk-parallel {display: flex;align-items: stretch;justify-content: center;background-color: white;}#sk-56a61597-b4cd-41f3-be6a-addd79dc2172 div.sk-parallel::before {content: \"\";position: absolute;border-left: 1px solid gray;box-sizing: border-box;top: 2em;bottom: 0;left: 50%;}#sk-56a61597-b4cd-41f3-be6a-addd79dc2172 div.sk-parallel-item {display: flex;flex-direction: column;position: relative;background-color: white;}#sk-56a61597-b4cd-41f3-be6a-addd79dc2172 div.sk-parallel-item:first-child::after {align-self: flex-end;width: 50%;}#sk-56a61597-b4cd-41f3-be6a-addd79dc2172 div.sk-parallel-item:last-child::after {align-self: flex-start;width: 50%;}#sk-56a61597-b4cd-41f3-be6a-addd79dc2172 div.sk-parallel-item:only-child::after {width: 0;}#sk-56a61597-b4cd-41f3-be6a-addd79dc2172 div.sk-dashed-wrapped {border: 1px dashed gray;margin: 0 0.4em 0.5em 0.4em;box-sizing: border-box;padding-bottom: 0.4em;background-color: white;position: relative;}#sk-56a61597-b4cd-41f3-be6a-addd79dc2172 div.sk-label label {font-family: monospace;font-weight: bold;background-color: white;display: inline-block;line-height: 1.2em;}#sk-56a61597-b4cd-41f3-be6a-addd79dc2172 div.sk-label-container {position: relative;z-index: 2;text-align: center;}#sk-56a61597-b4cd-41f3-be6a-addd79dc2172 div.sk-container {/* jupyter's `normalize.less` sets `[hidden] { display: none; }` but bootstrap.min.css set `[hidden] { display: none !important; }` so we also need the `!important` here to be able to override the default hidden behavior on the sphinx rendered scikit-learn.org. See: https://github.com/scikit-learn/scikit-learn/issues/21755 */display: inline-block !important;position: relative;}#sk-56a61597-b4cd-41f3-be6a-addd79dc2172 div.sk-text-repr-fallback {display: none;}</style><div id=\"sk-56a61597-b4cd-41f3-be6a-addd79dc2172\" class=\"sk-top-container\"><div class=\"sk-text-repr-fallback\"><pre>RandomForestClassifier()</pre><b>Please rerun this cell to show the HTML repr or trust the notebook.</b></div><div class=\"sk-container\" hidden><div class=\"sk-item\"><div class=\"sk-estimator sk-toggleable\"><input class=\"sk-toggleable__control sk-hidden--visually\" id=\"bfb5d3bd-6333-4df2-a10f-82acc1830f37\" type=\"checkbox\" checked><label for=\"bfb5d3bd-6333-4df2-a10f-82acc1830f37\" class=\"sk-toggleable__label sk-toggleable__label-arrow\">RandomForestClassifier</label><div class=\"sk-toggleable__content\"><pre>RandomForestClassifier()</pre></div></div></div></div></div>"
      ],
      "text/plain": [
       "RandomForestClassifier()"
      ]
     },
     "execution_count": 122,
     "metadata": {},
     "output_type": "execute_result"
    }
   ],
   "source": [
    "# create the classifier\n",
    "classifier = RandomForestClassifier(n_estimators=100)\n",
    "\n",
    "# Train the model using the training sets\n",
    "classifier.fit(X_train, y_train)\n"
   ]
  },
  {
   "cell_type": "code",
   "execution_count": 123,
   "metadata": {},
   "outputs": [],
   "source": [
    "# predictin on the test set\n",
    "y_pred = classifier.predict(X_test)\n"
   ]
  },
  {
   "cell_type": "code",
   "execution_count": 124,
   "metadata": {},
   "outputs": [
    {
     "name": "stdout",
     "output_type": "stream",
     "text": [
      "Accuracy: 0.8396946564885496\n"
     ]
    }
   ],
   "source": [
    "# Calculate Model Accuracy\n",
    "print(\"Accuracy:\", accuracy_score(y_test, y_pred))\n"
   ]
  }
 ],
 "metadata": {
  "interpreter": {
   "hash": "024b0ec20e0d15234e64dcdb6e92be1c0d04982ef803d66a55eaacbdf0b91525"
  },
  "kernelspec": {
   "display_name": "Python 3.9.7 ('HelloWorld': conda)",
   "language": "python",
   "name": "python3"
  },
  "language_info": {
   "codemirror_mode": {
    "name": "ipython",
    "version": 3
   },
   "file_extension": ".py",
   "mimetype": "text/x-python",
   "name": "python",
   "nbconvert_exporter": "python",
   "pygments_lexer": "ipython3",
   "version": "3.9.7"
  },
  "orig_nbformat": 4
 },
 "nbformat": 4,
 "nbformat_minor": 2
}
